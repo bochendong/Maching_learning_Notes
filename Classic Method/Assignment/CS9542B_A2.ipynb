{
 "cells": [
  {
   "cell_type": "code",
   "execution_count": null,
   "source": [
    "import numpy as np"
   ],
   "outputs": [],
   "metadata": {}
  },
  {
   "cell_type": "code",
   "execution_count": null,
   "source": [
    "def kernel_1(x, z):\n",
    "    return (x.T@z) ** 2\n",
    "\n",
    "x = np.array([[1, 2], [2, 1]])\n",
    "\n",
    "z = np.array([[2, 3], [3, 2]])\n",
    "\n",
    "rtn = kernel_1(x,z)"
   ],
   "outputs": [],
   "metadata": {}
  }
 ],
 "metadata": {
  "orig_nbformat": 4,
  "language_info": {
   "name": "python"
  }
 },
 "nbformat": 4,
 "nbformat_minor": 2
}