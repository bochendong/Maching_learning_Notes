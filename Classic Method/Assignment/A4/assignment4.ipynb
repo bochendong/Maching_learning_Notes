{
 "cells": [
  {
   "cell_type": "code",
   "execution_count": 1,
   "metadata": {},
   "outputs": [],
   "source": [
    "import torch\n",
    "import pickle\n",
    "import numpy as np\n",
    "import matplotlib.pyplot as plt\n",
    "import torch.backends.cudnn as cudnn\n",
    "import torch.nn as nn\n",
    "from torch.autograd import Variable\n",
    "from torch.utils.data import TensorDataset, DataLoader\n",
    "\n",
    "from PIL import Image\n",
    "\n",
    "import load_data"
   ]
  },
  {
   "cell_type": "markdown",
   "metadata": {},
   "source": [
    "## Preprocess Data"
   ]
  },
  {
   "cell_type": "code",
   "execution_count": 2,
   "metadata": {},
   "outputs": [],
   "source": [
    "# https://www.cs.toronto.edu/~kriz/cifar-10-python.tar.gz\n",
    "train_file_lst = ['./cifar-10/data_batch_1', './cifar-10/data_batch_2', './cifar-10/data_batch_3', './cifar-10/data_batch_4']\n",
    "\n",
    "val_file_lst = ['./cifar-10/data_batch_5']\n",
    "\n",
    "test_file_lst = ['./cifar-10/test_batch']"
   ]
  },
  {
   "cell_type": "code",
   "execution_count": 3,
   "metadata": {},
   "outputs": [],
   "source": [
    "def unpickle(file):\n",
    "    with open(file, 'rb') as fo:\n",
    "        dict = pickle.load(fo, encoding='bytes')\n",
    "    return dict\n",
    "\n",
    "\n",
    "\n",
    "def get_data(file_lst):\n",
    "    data_lst, label_lst = [], []\n",
    "    for fname in file_lst:\n",
    "            dic = unpickle(fname)\n",
    "            label = np.array(dic[b'labels'])\n",
    "            data = np.array( dic[b'data'])\n",
    "\n",
    "            reconstructed_data = []\n",
    "            for pixel in data:\n",
    "                r, g, b = pixel[0:1024], pixel[1024:2048], pixel[2048:3072]\n",
    "                r, g, b = r.reshape(32, 32, 1), g.reshape(32, 32, 1),  b.reshape(32, 32, 1)\n",
    "\n",
    "                img = np.concatenate([r, g ,b], -1)\n",
    "                img = Image.fromarray(img)\n",
    "                img = img.resize((64, 64))\n",
    "                img = np.array(img)\n",
    "                img = img.reshape(3, 64, 64)\n",
    "                reconstructed_data.append(img)\n",
    "\n",
    "            data_lst.extend(reconstructed_data)\n",
    "            label_lst.extend(label)\n",
    "\n",
    "    return np.array(data_lst), np.array(label_lst)\n"
   ]
  },
  {
   "cell_type": "code",
   "execution_count": 4,
   "metadata": {},
   "outputs": [],
   "source": [
    "x_train, y_train = get_data(train_file_lst)\n",
    "x_test, y_test = get_data(test_file_lst)\n",
    "x_val, y_val = get_data(val_file_lst)"
   ]
  },
  {
   "cell_type": "code",
   "execution_count": 5,
   "metadata": {},
   "outputs": [],
   "source": [
    "x_train, x_test, x_val = torch.Tensor(x_train), torch.Tensor(x_test), torch.tensor(x_val)\n",
    "y_train, y_test, y_val = torch.Tensor(y_train), torch.Tensor(y_test), torch.tensor(y_val)"
   ]
  },
  {
   "cell_type": "code",
   "execution_count": 6,
   "metadata": {},
   "outputs": [],
   "source": [
    "train_dataset = TensorDataset(x_train, y_train)\n",
    "test_dataset = TensorDataset(x_test, y_test)\n",
    "val_dataset = TensorDataset(x_val, y_val)\n",
    "\n",
    "kwargs = {}\n",
    "\n",
    "train_dataLoader = DataLoader(train_dataset, shuffle = True, batch_size=128, **kwargs)\n",
    "test_dataLoader = DataLoader(test_dataset, shuffle = True, batch_size=128, **kwargs)\n",
    "val_dataLoader = DataLoader(val_dataset, shuffle = True, batch_size=128, **kwargs)"
   ]
  },
  {
   "cell_type": "code",
   "execution_count": 14,
   "metadata": {},
   "outputs": [
    {
     "name": "stdout",
     "output_type": "stream",
     "text": [
      "Files already downloaded and verified\n",
      "Files already downloaded and verified\n"
     ]
    }
   ],
   "source": [
    "train_loader, test_loader = load_data.get_data()"
   ]
  },
  {
   "cell_type": "markdown",
   "metadata": {},
   "source": [
    "## AlexNet model created"
   ]
  },
  {
   "cell_type": "code",
   "execution_count": 15,
   "metadata": {},
   "outputs": [
    {
     "name": "stderr",
     "output_type": "stream",
     "text": [
      "Using cache found in C:\\Users\\55366/.cache\\torch\\hub\\pytorch_vision_v0.10.0\n"
     ]
    }
   ],
   "source": [
    "model = torch.hub.load('pytorch/vision:v0.10.0', 'alexnet', pretrained=True)"
   ]
  },
  {
   "cell_type": "code",
   "execution_count": 16,
   "metadata": {},
   "outputs": [
    {
     "name": "stdout",
     "output_type": "stream",
     "text": [
      "activate cuda\n"
     ]
    }
   ],
   "source": [
    "cuda = False\n",
    "if (torch.cuda.is_available()):\n",
    "    print(\"activate cuda\")\n",
    "    cuda = True\n",
    "\n",
    "criterion = torch.nn.CrossEntropyLoss()\n",
    "optimizer = torch.optim.Adam(model.parameters(), lr=0.001)\n",
    "\n",
    "if (cuda):\n",
    "    torch.cuda.manual_seed_all(42)\n",
    "    cudnn.benchmark = True\n",
    "    model.cuda()\n",
    "    criterion.cuda()"
   ]
  },
  {
   "cell_type": "code",
   "execution_count": 25,
   "metadata": {},
   "outputs": [
    {
     "name": "stdout",
     "output_type": "stream",
     "text": [
      "[152 684 660 376 675 901 335 438 676 856 339 373  59 482 291 821 623 675\n",
      " 813 653 339 675 408  43 653 675 335 499  29  21 675 103 404 817 358 175\n",
      " 167 241 675 188 856 339 381  73 190 175 675 158   1 339 596 126  43 385\n",
      "  64 675 481 194 167 856 914 522 473 335 152 451 675 510 335 404 369 152\n",
      " 167 175  80 901 371 912  59 439 503  68 675 152 335   5 708 491 384 404\n",
      " 510 103  98 499 335  80 373 147 482 128 167 438 902 385 365 241 241 167\n",
      " 335 404  98 149 510 856 408 914 158 510 335 675 675 712 375 147  38 152\n",
      " 956 856]\n"
     ]
    }
   ],
   "source": [
    "total = 0\n",
    "predicted_label = []\n",
    "for batch_idx, (train_data, train_label) in enumerate(train_loader):\n",
    "    batch_size = train_data.size(0)\n",
    "    total += batch_size\n",
    "\n",
    "    train_label = train_label.type(torch.LongTensor)\n",
    "    if(cuda):\n",
    "        train_data, train_label = train_data.cuda(), train_label.cuda()\n",
    "\n",
    "    optimizer.zero_grad()\n",
    "    train_data, train_label = Variable(train_data), Variable(train_label)\n",
    "    output = model(train_data)\n",
    "\n",
    "    _, predicted = torch.max(output.data, 1)\n",
    "\n",
    "    print(predicted.cpu().numpy())\n",
    "\n",
    "    break\n"
   ]
  },
  {
   "cell_type": "code",
   "execution_count": 20,
   "metadata": {},
   "outputs": [
    {
     "ename": "AttributeError",
     "evalue": "'builtin_function_or_method' object has no attribute 'data'",
     "output_type": "error",
     "traceback": [
      "\u001b[1;31m---------------------------------------------------------------------------\u001b[0m",
      "\u001b[1;31mAttributeError\u001b[0m                            Traceback (most recent call last)",
      "\u001b[1;32mc:\\Users\\55366\\Documents\\GitHub\\Maching_learning_Notes\\Classic Method\\Assignment\\A4\\assignment4.ipynb Cell 13'\u001b[0m in \u001b[0;36m<cell line: 1>\u001b[1;34m()\u001b[0m\n\u001b[1;32m----> <a href='vscode-notebook-cell:/c%3A/Users/55366/Documents/GitHub/Maching_learning_Notes/Classic%20Method/Assignment/A4/assignment4.ipynb#ch0000018?line=0'>1</a>\u001b[0m \u001b[39mprint\u001b[39m(predicted_label[\u001b[39m0\u001b[39;49m]\u001b[39m.\u001b[39;49mdata)\n",
      "\u001b[1;31mAttributeError\u001b[0m: 'builtin_function_or_method' object has no attribute 'data'"
     ]
    }
   ],
   "source": [
    "print(predicted_label[0])"
   ]
  },
  {
   "cell_type": "code",
   "execution_count": 9,
   "metadata": {},
   "outputs": [
    {
     "data": {
      "text/plain": [
       "AlexNet(\n",
       "  (features): Sequential(\n",
       "    (0): Conv2d(3, 64, kernel_size=(11, 11), stride=(4, 4), padding=(2, 2))\n",
       "    (1): ReLU(inplace=True)\n",
       "    (2): MaxPool2d(kernel_size=3, stride=2, padding=0, dilation=1, ceil_mode=False)\n",
       "    (3): Conv2d(64, 192, kernel_size=(5, 5), stride=(1, 1), padding=(2, 2))\n",
       "    (4): ReLU(inplace=True)\n",
       "    (5): MaxPool2d(kernel_size=3, stride=2, padding=0, dilation=1, ceil_mode=False)\n",
       "    (6): Conv2d(192, 384, kernel_size=(3, 3), stride=(1, 1), padding=(1, 1))\n",
       "    (7): ReLU(inplace=True)\n",
       "    (8): Conv2d(384, 256, kernel_size=(3, 3), stride=(1, 1), padding=(1, 1))\n",
       "    (9): ReLU(inplace=True)\n",
       "    (10): Conv2d(256, 256, kernel_size=(3, 3), stride=(1, 1), padding=(1, 1))\n",
       "    (11): ReLU(inplace=True)\n",
       "    (12): MaxPool2d(kernel_size=3, stride=2, padding=0, dilation=1, ceil_mode=False)\n",
       "  )\n",
       "  (avgpool): AdaptiveAvgPool2d(output_size=(6, 6))\n",
       "  (classifier): Sequential(\n",
       "    (0): Dropout(p=0.5, inplace=False)\n",
       "    (1): Linear(in_features=9216, out_features=4096, bias=True)\n",
       "    (2): ReLU(inplace=True)\n",
       "    (3): Dropout(p=0.5, inplace=False)\n",
       "    (4): Linear(in_features=4096, out_features=4096, bias=True)\n",
       "    (5): ReLU(inplace=True)\n",
       "    (6): Linear(in_features=4096, out_features=1000, bias=True)\n",
       "  )\n",
       ")"
      ]
     },
     "execution_count": 9,
     "metadata": {},
     "output_type": "execute_result"
    }
   ],
   "source": [
    "model.eval()"
   ]
  },
  {
   "cell_type": "code",
   "execution_count": 10,
   "metadata": {},
   "outputs": [
    {
     "data": {
      "text/plain": [
       "'model.classifier[4] = nn.Linear(4096,1024)\\nmodel.classifier[6] = nn.Linear(1024,10)\\nmodel.eval()'"
      ]
     },
     "execution_count": 10,
     "metadata": {},
     "output_type": "execute_result"
    }
   ],
   "source": [
    "'''model.classifier[4] = nn.Linear(4096,1024)\n",
    "model.classifier[6] = nn.Linear(1024,10)\n",
    "model.eval()'''"
   ]
  },
  {
   "cell_type": "markdown",
   "metadata": {},
   "source": [
    "## Training"
   ]
  },
  {
   "cell_type": "code",
   "execution_count": 11,
   "metadata": {},
   "outputs": [],
   "source": [
    "def train(train, val, net, optimizer, criterion, cuda):\n",
    "    net.train()\n",
    "    total = 0\n",
    "\n",
    "    train_corrected = 0\n",
    "    total_loss = 0\n",
    "    validation_iter = iter(val)\n",
    "\n",
    "    for batch_idx, (train_data, train_label) in enumerate(train):\n",
    "        batch_size = train_data.size(0)\n",
    "        total += batch_size\n",
    "\n",
    "        train_label = train_label.type(torch.LongTensor)\n",
    "        if(cuda):\n",
    "            train_data, train_label = train_data.cuda(), train_label.cuda()\n",
    "\n",
    "        optimizer.zero_grad()\n",
    "        train_data, train_label = Variable(train_data), Variable(train_label)\n",
    "        output = net(train_data)\n",
    "\n",
    "        loss = criterion(output, train_label)\n",
    "        loss.backward()\n",
    "        optimizer.step()\n",
    "\n",
    "        _, predicted = torch.max(output.data, 1)\n",
    "        \n",
    "        train_corrected += predicted.eq(train_label.data).cpu().sum().item()\n",
    "\n",
    "        total_loss += loss.item() * batch_size\n",
    "\n",
    "    return total_loss/total, train_corrected/total"
   ]
  },
  {
   "cell_type": "code",
   "execution_count": 12,
   "metadata": {},
   "outputs": [
    {
     "name": "stdout",
     "output_type": "stream",
     "text": [
      "activate cuda\n"
     ]
    }
   ],
   "source": [
    "cuda = False\n",
    "if (torch.cuda.is_available()):\n",
    "    print(\"activate cuda\")\n",
    "    cuda = True\n",
    "\n",
    "criterion = torch.nn.CrossEntropyLoss()\n",
    "optimizer = torch.optim.Adam(model.parameters(), lr=0.001)\n",
    "\n",
    "if (cuda):\n",
    "    torch.cuda.manual_seed_all(42)\n",
    "    cudnn.benchmark = True\n",
    "    model.cuda()\n",
    "    criterion.cuda()\n"
   ]
  },
  {
   "cell_type": "code",
   "execution_count": 13,
   "metadata": {},
   "outputs": [
    {
     "name": "stdout",
     "output_type": "stream",
     "text": [
      "e: 0, train_loss: 1.826640, train_acc 0.356080\n",
      "e: 1, train_loss: 1.183505, train_acc 0.575160\n",
      "e: 2, train_loss: 0.936290, train_acc 0.673840\n",
      "e: 3, train_loss: 0.815422, train_acc 0.717340\n",
      "e: 4, train_loss: 0.723738, train_acc 0.749000\n",
      "e: 5, train_loss: 0.657227, train_acc 0.776200\n",
      "e: 6, train_loss: 0.599474, train_acc 0.795320\n",
      "e: 7, train_loss: 0.569995, train_acc 0.805500\n",
      "e: 8, train_loss: 0.539459, train_acc 0.817120\n",
      "e: 9, train_loss: 0.506625, train_acc 0.827500\n"
     ]
    }
   ],
   "source": [
    "for epoch in range(10):\n",
    "    loss, train_acc = train(train_loader,test_loader, model, optimizer, criterion, True)\n",
    "    print(\"e: %d, train_loss: %f, train_acc %f\" % (epoch, loss, train_acc))"
   ]
  }
 ],
 "metadata": {
  "interpreter": {
   "hash": "f4e5af365abde9565455761093e8e9bc7189c8b509b33061fd0f90eaa1b4d4cb"
  },
  "kernelspec": {
   "display_name": "Python 3.8.12 ('ml')",
   "language": "python",
   "name": "python3"
  },
  "language_info": {
   "codemirror_mode": {
    "name": "ipython",
    "version": 3
   },
   "file_extension": ".py",
   "mimetype": "text/x-python",
   "name": "python",
   "nbconvert_exporter": "python",
   "pygments_lexer": "ipython3",
   "version": "3.8.12"
  },
  "orig_nbformat": 4
 },
 "nbformat": 4,
 "nbformat_minor": 2
}
