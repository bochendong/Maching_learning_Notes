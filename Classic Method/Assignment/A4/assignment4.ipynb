{
 "cells": [
  {
   "cell_type": "code",
   "execution_count": 1,
   "source": [
    "import torch\n",
    "import pickle\n",
    "import numpy as np\n",
    "import matplotlib.pyplot as plt\n",
    "import torch.backends.cudnn as cudnn\n",
    "import torch.nn as nn\n",
    "from torch.autograd import Variable\n",
    "from torch.utils.data import TensorDataset, DataLoader\n",
    "\n",
    "from PIL import Image\n",
    "\n",
    "import load_data"
   ],
   "outputs": [],
   "metadata": {}
  },
  {
   "cell_type": "markdown",
   "source": [
    "## Preprocess Data"
   ],
   "metadata": {}
  },
  {
   "cell_type": "code",
   "execution_count": 2,
   "source": [
    "# https://www.cs.toronto.edu/~kriz/cifar-10-python.tar.gz\n",
    "train_file_lst = ['./cifar-10/data_batch_1', './cifar-10/data_batch_2', './cifar-10/data_batch_3', './cifar-10/data_batch_4']\n",
    "\n",
    "val_file_lst = ['./cifar-10/data_batch_5']\n",
    "\n",
    "test_file_lst = ['./cifar-10/test_batch']"
   ],
   "outputs": [],
   "metadata": {}
  },
  {
   "cell_type": "code",
   "execution_count": 3,
   "source": [
    "def unpickle(file):\n",
    "    with open(file, 'rb') as fo:\n",
    "        dict = pickle.load(fo, encoding='bytes')\n",
    "    return dict\n",
    "\n",
    "\n",
    "\n",
    "def get_data(file_lst):\n",
    "    data_lst, label_lst = [], []\n",
    "    for fname in file_lst:\n",
    "            dic = unpickle(fname)\n",
    "            label = np.array(dic[b'labels'])\n",
    "            data = np.array( dic[b'data'])\n",
    "\n",
    "            reconstructed_data = []\n",
    "            for pixel in data:\n",
    "                r, g, b = pixel[0:1024], pixel[1024:2048], pixel[2048:3072]\n",
    "                r, g, b = r.reshape(32, 32, 1), g.reshape(32, 32, 1),  b.reshape(32, 32, 1)\n",
    "\n",
    "                img = np.concatenate([r, g ,b], -1)\n",
    "                img = Image.fromarray(img)\n",
    "                img = img.resize((64, 64))\n",
    "                img = np.array(img)\n",
    "                img = img.reshape(3, 64, 64)\n",
    "                reconstructed_data.append(img)\n",
    "\n",
    "            data_lst.extend(reconstructed_data)\n",
    "            label_lst.extend(label)\n",
    "\n",
    "    return np.array(data_lst), np.array(label_lst)\n"
   ],
   "outputs": [],
   "metadata": {}
  },
  {
   "cell_type": "code",
   "execution_count": 4,
   "source": [
    "x_train, y_train = get_data(train_file_lst)\n",
    "x_test, y_test = get_data(test_file_lst)\n",
    "x_val, y_val = get_data(val_file_lst)"
   ],
   "outputs": [],
   "metadata": {}
  },
  {
   "cell_type": "code",
   "execution_count": 5,
   "source": [
    "x_train, x_test, x_val = torch.Tensor(x_train), torch.Tensor(x_test), torch.tensor(x_val)\n",
    "y_train, y_test, y_val = torch.Tensor(y_train), torch.Tensor(y_test), torch.tensor(y_val)"
   ],
   "outputs": [],
   "metadata": {}
  },
  {
   "cell_type": "code",
   "execution_count": 6,
   "source": [
    "train_dataset = TensorDataset(x_train, y_train)\n",
    "test_dataset = TensorDataset(x_test, y_test)\n",
    "val_dataset = TensorDataset(x_val, y_val)\n",
    "\n",
    "kwargs = {}\n",
    "\n",
    "train_dataLoader = DataLoader(train_dataset, shuffle = True, batch_size=128, **kwargs)\n",
    "test_dataLoader = DataLoader(test_dataset, shuffle = True, batch_size=128, **kwargs)\n",
    "val_dataLoader = DataLoader(val_dataset, shuffle = True, batch_size=128, **kwargs)"
   ],
   "outputs": [],
   "metadata": {}
  },
  {
   "cell_type": "code",
   "execution_count": 14,
   "source": [
    "train_loader, test_loader = load_data.get_data()"
   ],
   "outputs": [
    {
     "output_type": "stream",
     "name": "stdout",
     "text": [
      "Files already downloaded and verified\n",
      "Files already downloaded and verified\n"
     ]
    }
   ],
   "metadata": {}
  },
  {
   "cell_type": "markdown",
   "source": [
    "## AlexNet model created"
   ],
   "metadata": {}
  },
  {
   "cell_type": "code",
   "execution_count": 15,
   "source": [
    "model = torch.hub.load('pytorch/vision:v0.10.0', 'alexnet', pretrained=True)"
   ],
   "outputs": [
    {
     "output_type": "stream",
     "name": "stderr",
     "text": [
      "Using cache found in C:\\Users\\55366/.cache\\torch\\hub\\pytorch_vision_v0.10.0\n"
     ]
    }
   ],
   "metadata": {}
  },
  {
   "cell_type": "code",
   "execution_count": 16,
   "source": [
    "cuda = False\n",
    "if (torch.cuda.is_available()):\n",
    "    print(\"activate cuda\")\n",
    "    cuda = True\n",
    "\n",
    "criterion = torch.nn.CrossEntropyLoss()\n",
    "optimizer = torch.optim.Adam(model.parameters(), lr=0.001)\n",
    "\n",
    "if (cuda):\n",
    "    torch.cuda.manual_seed_all(42)\n",
    "    cudnn.benchmark = True\n",
    "    model.cuda()\n",
    "    criterion.cuda()"
   ],
   "outputs": [
    {
     "output_type": "stream",
     "name": "stdout",
     "text": [
      "activate cuda\n"
     ]
    }
   ],
   "metadata": {}
  },
  {
   "cell_type": "code",
   "execution_count": null,
   "source": [
    "predicted_label = []\n",
    "true_label = []\n",
    "\n",
    "def a4q1(train, net):\n",
    "    predicted_label = []\n",
    "    true_label = []\n",
    "    for batch_idx, (train_data, train_label) in enumerate(train):\n",
    "        train_label = train_label.type(torch.LongTensor)\n",
    "        if(cuda):\n",
    "            train_data, train_label = train_data.cuda(), train_label.cuda()\n",
    "        train_data, train_label = Variable(train_data), Variable(train_label)\n",
    "\n",
    "        output = net(train_data)\n",
    "\n",
    "        _, predicted = torch.max(output.data, 1)\n",
    "        \n",
    "        predicted_label.extend(predicted.cpu().numpy())\n",
    "        true_label.extend(train_label.cpu().numpy())"
   ],
   "outputs": [],
   "metadata": {}
  },
  {
   "cell_type": "code",
   "execution_count": 10,
   "source": [
    "'''model.classifier[4] = nn.Linear(4096,1024)\n",
    "model.classifier[6] = nn.Linear(1024,10)\n",
    "model.eval()'''"
   ],
   "outputs": [
    {
     "output_type": "execute_result",
     "data": {
      "text/plain": [
       "'model.classifier[4] = nn.Linear(4096,1024)\\nmodel.classifier[6] = nn.Linear(1024,10)\\nmodel.eval()'"
      ]
     },
     "metadata": {},
     "execution_count": 10
    }
   ],
   "metadata": {}
  },
  {
   "cell_type": "markdown",
   "source": [
    "## Training"
   ],
   "metadata": {}
  },
  {
   "cell_type": "code",
   "execution_count": 11,
   "source": [
    "def train(train, val, net, optimizer, criterion, cuda):\n",
    "    net.train()\n",
    "    total = 0\n",
    "\n",
    "    train_corrected = 0\n",
    "    total_loss = 0\n",
    "    validation_iter = iter(val)\n",
    "\n",
    "    for batch_idx, (train_data, train_label) in enumerate(train):\n",
    "        batch_size = train_data.size(0)\n",
    "        total += batch_size\n",
    "\n",
    "        train_label = train_label.type(torch.LongTensor)\n",
    "        if(cuda):\n",
    "            train_data, train_label = train_data.cuda(), train_label.cuda()\n",
    "\n",
    "        optimizer.zero_grad()\n",
    "        train_data, train_label = Variable(train_data), Variable(train_label)\n",
    "        output = net(train_data)\n",
    "\n",
    "        loss = criterion(output, train_label)\n",
    "        loss.backward()\n",
    "        optimizer.step()\n",
    "\n",
    "        _, predicted = torch.max(output.data, 1)\n",
    "        \n",
    "        train_corrected += predicted.eq(train_label.data).cpu().sum().item()\n",
    "\n",
    "        total_loss += loss.item() * batch_size\n",
    "\n",
    "    return total_loss/total, train_corrected/total"
   ],
   "outputs": [],
   "metadata": {}
  },
  {
   "cell_type": "code",
   "execution_count": 12,
   "source": [
    "cuda = False\n",
    "if (torch.cuda.is_available()):\n",
    "    print(\"activate cuda\")\n",
    "    cuda = True\n",
    "\n",
    "criterion = torch.nn.CrossEntropyLoss()\n",
    "optimizer = torch.optim.Adam(model.parameters(), lr=0.001)\n",
    "\n",
    "if (cuda):\n",
    "    torch.cuda.manual_seed_all(42)\n",
    "    cudnn.benchmark = True\n",
    "    model.cuda()\n",
    "    criterion.cuda()\n"
   ],
   "outputs": [
    {
     "output_type": "stream",
     "name": "stdout",
     "text": [
      "activate cuda\n"
     ]
    }
   ],
   "metadata": {}
  },
  {
   "cell_type": "code",
   "execution_count": 13,
   "source": [
    "for epoch in range(10):\n",
    "    loss, train_acc = train(train_loader,test_loader, model, optimizer, criterion, True)\n",
    "    print(\"e: %d, train_loss: %f, train_acc %f\" % (epoch, loss, train_acc))"
   ],
   "outputs": [
    {
     "output_type": "stream",
     "name": "stdout",
     "text": [
      "e: 0, train_loss: 1.826640, train_acc 0.356080\n",
      "e: 1, train_loss: 1.183505, train_acc 0.575160\n",
      "e: 2, train_loss: 0.936290, train_acc 0.673840\n",
      "e: 3, train_loss: 0.815422, train_acc 0.717340\n",
      "e: 4, train_loss: 0.723738, train_acc 0.749000\n",
      "e: 5, train_loss: 0.657227, train_acc 0.776200\n",
      "e: 6, train_loss: 0.599474, train_acc 0.795320\n",
      "e: 7, train_loss: 0.569995, train_acc 0.805500\n",
      "e: 8, train_loss: 0.539459, train_acc 0.817120\n",
      "e: 9, train_loss: 0.506625, train_acc 0.827500\n"
     ]
    }
   ],
   "metadata": {}
  }
 ],
 "metadata": {
  "interpreter": {
   "hash": "f4e5af365abde9565455761093e8e9bc7189c8b509b33061fd0f90eaa1b4d4cb"
  },
  "kernelspec": {
   "display_name": "Python 3.8.12 ('ml')",
   "language": "python",
   "name": "python3"
  },
  "language_info": {
   "codemirror_mode": {
    "name": "ipython",
    "version": 3
   },
   "file_extension": ".py",
   "mimetype": "text/x-python",
   "name": "python",
   "nbconvert_exporter": "python",
   "pygments_lexer": "ipython3",
   "version": "3.8.12"
  },
  "orig_nbformat": 4
 },
 "nbformat": 4,
 "nbformat_minor": 2
}