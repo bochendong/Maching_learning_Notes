{
 "cells": [
  {
   "cell_type": "code",
   "execution_count": 1,
   "metadata": {},
   "outputs": [],
   "source": [
    "import gym\n",
    "import numpy as np\n",
    "import pandas as pd\n",
    "import tqdm\n",
    "import matplotlib.pyplot as plt"
   ]
  },
  {
   "cell_type": "code",
   "execution_count": 2,
   "metadata": {},
   "outputs": [],
   "source": [
    "'''\n",
    "    The MountainCar env:\n",
    "        Observation Space: there are two observables - position and velocity\n",
    "        position of the car along the x-axis  in range [-1.2, 0.6]\n",
    "        velocity of the car  in range [-0.07, 0.07]\n",
    "'''\n",
    "class Agent:\n",
    "    def __init__(self, learning_rate, lr_min, gamma, epsilon, discrete_space):\n",
    "        self.lr = learning_rate\n",
    "        self.lr_min = lr_min\n",
    "        self.epsilon = epsilon\n",
    "        self.gamma = gamma\n",
    "        self.act_n = 3\n",
    "        self.q = np.zeros((discrete_space ** 2, self.act_n))\n",
    "\n",
    "    def predict(self, state):\n",
    "        return np.argmax(self.q[state])\n",
    "\n",
    "    def policy(self, state):\n",
    "        if np.random.uniform(0, 1) >= (1 - self.epsilon):\n",
    "            action = np.random.choice(self.act_n)\n",
    "        else:\n",
    "            action = np.argmax(self.q[state])\n",
    "\n",
    "        return action\n",
    "\n",
    "    def learn(self, state, state_prime, action, action_prime, reward, done):\n",
    "        predict_Q = self.q[state, action]\n",
    "        if (done):\n",
    "            target_Q = reward\n",
    "        else:\n",
    "            target_Q = reward + self.gamma * np.max(self.q[state_prime, :])\n",
    "\n",
    "        self.q[state, action] += self.lr * (target_Q - predict_Q)\n",
    "\n",
    "    def decay(self, epsilon_decay_rate, lr_decay_rate):\n",
    "        self.epsilon *= (1 - epsilon_decay_rate)\n",
    "        self.lr = max(self.lr_min, self.lr * (1 - lr_decay_rate))"
   ]
  },
  {
   "cell_type": "code",
   "execution_count": 3,
   "metadata": {},
   "outputs": [],
   "source": [
    "\n",
    "DISCRETE = 15\n",
    "def to_state(state):\n",
    "    discrete_states = [\n",
    "            np.linspace(-1.2, 0.6, num=(DISCRETE + 1))[1:-1],\n",
    "            np.linspace(-0.07, 0.07, num=(DISCRETE + 1))[1:-1],\n",
    "    ]\n",
    "\n",
    "    state = sum(np.digitize(feature, discrete_states[i]) * (DISCRETE ** i)\n",
    "                    for i, feature in enumerate(state))\n",
    "    return state\n",
    "\n",
    "def run_episode(env, agent):\n",
    "    state = to_state(env.reset())\n",
    "    action = agent.predict(state)\n",
    "    total_reward = 0\n",
    "\n",
    "    while True:\n",
    "        state_prime, reward, done, _ = env.step(action)\n",
    "        total_reward += reward\n",
    "\n",
    "        if(done):\n",
    "            break\n",
    "            \n",
    "        state_prime = to_state(state_prime)\n",
    "        next_action = agent.policy(state_prime)\n",
    "        agent.learn(state, state_prime, action, next_action, reward, done)\n",
    "\n",
    "        state = state_prime\n",
    "        action = next_action\n",
    "\n",
    "\n",
    "    agent.decay(epsilon_decay_rate=5e-3, lr_decay_rate=5e-4)\n",
    "    return total_reward\n",
    "\n",
    "def main():\n",
    "    env = gym.make(\"MountainCar-v0\")\n",
    "\n",
    "    env.seed(42)\n",
    "    np.random.seed(42)\n",
    "\n",
    "    agent = Agent(learning_rate=0.3, lr_min=1e-5, gamma=0.98, epsilon=0.9, discrete_space=DISCRETE)\n",
    "\n",
    "    reward_list = np.zeros(10000)\n",
    "    for i in range(10000):\n",
    "        total_reward= run_episode(env, agent)\n",
    "        reward_list[i] = total_reward\n",
    "\n",
    "    env.env.close()\n",
    "\n",
    "    return reward_list\n",
    "\n",
    "reward_list = main()"
   ]
  },
  {
   "cell_type": "code",
   "execution_count": 7,
   "metadata": {},
   "outputs": [
    {
     "data": {
      "text/plain": [
       "[<matplotlib.lines.Line2D at 0x116df8340>]"
      ]
     },
     "execution_count": 7,
     "metadata": {},
     "output_type": "execute_result"
    },
    {
     "data": {
      "image/png": "[encoded data removed]",
      "text/plain": [
       "<Figure size 432x288 with 1 Axes>"
      ]
     },
     "metadata": {
      "needs_background": "light"
     },
     "output_type": "display_data"
    }
   ],
   "source": [
    "smoothed = []\n",
    "for i in range(50):\n",
    "    smoothed.append(np.mean(reward_list[:i+1]))\n",
    "for i in range(50, 10000):\n",
    "    smoothed.append(np.mean(reward_list[i - 50:i]))\n",
    "\n",
    "\n",
    "plt.plot(range(0, 10000), smoothed)\n"
   ]
  }
 ],
 "metadata": {
  "interpreter": {
   "hash": "31f2aee4e71d21fbe5cf8b01ff0e069b9275f58929596ceb00d14d90e3e16cd6"
  },
  "kernelspec": {
   "display_name": "Python 3.8.2 64-bit",
   "name": "python3"
  },
  "language_info": {
   "codemirror_mode": {
    "name": "ipython",
    "version": 3
   },
   "file_extension": ".py",
   "mimetype": "text/x-python",
   "name": "python",
   "nbconvert_exporter": "python",
   "pygments_lexer": "ipython3",
   "version": "3.8.2"
  },
  "orig_nbformat": 4
 },
 "nbformat": 4,
 "nbformat_minor": 2
}
