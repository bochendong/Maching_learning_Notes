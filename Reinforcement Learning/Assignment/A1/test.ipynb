{
 "cells": [
  {
   "cell_type": "code",
   "execution_count": 13,
   "source": [
    "import numpy as np"
   ],
   "outputs": [],
   "metadata": {}
  },
  {
   "cell_type": "code",
   "execution_count": 18,
   "source": [
    "\n",
    "class BanditUCBPolicy():\n",
    "    \"\"\"\n",
    "    EXPLANATION OF UCB GOES HERE\n",
    "    \n",
    "    ALSO INCLUDE INPUT / OUTPUT DOCUMENTATION\n",
    "    \"\"\"\n",
    "    def __init__(self, c):\n",
    "        self.c = c\n",
    "\n",
    "    def __str__(self):\n",
    "      return \"UCB Policy, C = {c}\".format(c = self.c)\n",
    "    \n",
    "    def ucb_function(self, x):\n",
    "        t = 16\n",
    "        return x + self.c * np.sqrt(np.log(t) / x)\n",
    "\n",
    "    def argmax_with_random_tiebreaker(self, action_value_estimates):\n",
    "        \"\"\"\n",
    "        Chooses the maximum of the provided action-value estimates,\n",
    "        with ties broken randomly.\n",
    "\n",
    "        Args:\n",
    "            action_value_estimates: A numpy array containing action-value\n",
    "            estimates.\n",
    "        Returns:\n",
    "            The index of the max element.\n",
    "        \"\"\"\n",
    "        return np.random.choice(\n",
    "            np.where( action_value_estimates == action_value_estimates.max())[0]\n",
    "        )\n",
    "\n",
    "    def choose_action(self, agent_data):\n",
    "        \"\"\"\n",
    "        BRIEF NOTES ABOUT HOW THIS FUNCTION WORKS HERE\n",
    "        \"\"\"\n",
    "        \n",
    "        # CODE\n",
    "        action_value_estimates = agent_data[\"action_value_estimates\"]\n",
    "        ucb_value = self.ucb_function(action_value_estimates)\n",
    "        action = self.argmax_with_random_tiebreaker(ucb_value)\n",
    "        \n",
    "        return action"
   ],
   "outputs": [],
   "metadata": {}
  },
  {
   "cell_type": "code",
   "execution_count": 20,
   "source": [
    "ucb_agent = BanditUCBPolicy(0.1)\n",
    "\n",
    "ucb_value = ucb_agent.ucb_function(np.array([5, 3, 4, 2, 4, 2]))\n",
    "\n",
    "ucb_agent.argmax_with_random_tiebreaker(ucb_value)\n"
   ],
   "outputs": [
    {
     "output_type": "execute_result",
     "data": {
      "text/plain": [
       "0"
      ]
     },
     "metadata": {},
     "execution_count": 20
    }
   ],
   "metadata": {}
  }
 ],
 "metadata": {
  "orig_nbformat": 4,
  "language_info": {
   "name": "python",
   "version": "3.8.2",
   "mimetype": "text/x-python",
   "codemirror_mode": {
    "name": "ipython",
    "version": 3
   },
   "pygments_lexer": "ipython3",
   "nbconvert_exporter": "python",
   "file_extension": ".py"
  },
  "kernelspec": {
   "name": "python3",
   "display_name": "Python 3.8.2 64-bit"
  },
  "interpreter": {
   "hash": "31f2aee4e71d21fbe5cf8b01ff0e069b9275f58929596ceb00d14d90e3e16cd6"
  }
 },
 "nbformat": 4,
 "nbformat_minor": 2
}