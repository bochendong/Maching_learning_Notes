{
 "cells": [
  {
   "cell_type": "code",
   "execution_count": 1,
   "source": [
    "import gym\n",
    "import sys\n",
    "import numpy as np\n",
    "\n",
    "from gym import error, spaces, utils\n",
    "from copy import deepcopy\n",
    "\n",
    "import matplotlib.pyplot as plt\n",
    "\n",
    "from tqdm import tqdm\n",
    "\n",
    "from collections import defaultdict"
   ],
   "outputs": [
    {
     "output_type": "stream",
     "name": "stderr",
     "text": [
      "\n"
     ]
    }
   ],
   "metadata": {}
  },
  {
   "cell_type": "code",
   "execution_count": 2,
   "source": [
    "class Q_learning_agent(object):\n",
    "    def __init__(self, obs_n, act_n = 4, learning_rate=0.01, gamma=0.9, e_greed=0.1):\n",
    "        self.lr = learning_rate\n",
    "        self.gamma = gamma\n",
    "        self.epsilon = e_greed\n",
    "        self.act_n = act_n\n",
    "        self.Q = np.zeros((obs_n, act_n))\n",
    "        \n",
    "        info = \"Q_LearningAgent with state number = \" +  str(obs_n) + \", learning rate = \" + str(learning_rate) + \", gamma = \" + str(gamma) + \" created.\"\n",
    "        print(info)\n",
    "    \n",
    "    def sample(self, S):\n",
    "        if np.random.uniform(0, 1) < (1.0 - self.epsilon):\n",
    "            action = self.predict(S)\n",
    "        else:\n",
    "            action = np.random.choice(self.act_n)\n",
    "\n",
    "        return action\n",
    "\n",
    "    def predict(self, S):\n",
    "        Q_values = self.Q[S]\n",
    "        maxQ = np.max(self.Q[S])\n",
    "\n",
    "        action = np.random.choice(np.where(Q_values == maxQ)[0])\n",
    "        return action\n",
    "        \n",
    "    def learn(self, S, action, reward, S_prime, action_prime, done):\n",
    "        predit_Q = self.Q[S, action]\n",
    "\n",
    "        if (done):\n",
    "            target_Q = reward\n",
    "        else:\n",
    "            target_Q = reward + self.gamma * np.max(self.Q[S_prime])\n",
    "\n",
    "        self.Q[S, action] += self.lr * (target_Q - predit_Q)"
   ],
   "outputs": [],
   "metadata": {}
  },
  {
   "cell_type": "code",
   "execution_count": 3,
   "source": [
    "def run_episode(env, agent):\n",
    "    S = env.reset()\n",
    "    action = agent.sample(S)\n",
    "    \n",
    "    total_reward = 0\n",
    "    while (True):\n",
    "        S_prime, reward, done, _ = env.step(action)\n",
    "        action_prime = agent.sample(S_prime)\n",
    "\n",
    "        agent.learn(S, action, reward, S_prime, action_prime, done)\n",
    "\n",
    "        action = action_prime\n",
    "        S = S_prime\n",
    "        total_reward += reward\n",
    "\n",
    "        if done:\n",
    "            break\n",
    "    \n",
    "    return total_reward"
   ],
   "outputs": [],
   "metadata": {}
  },
  {
   "cell_type": "code",
   "execution_count": 4,
   "source": [
    "def main():\n",
    "    env = gym.make(\"MountainCar-v0\")\n",
    "\n",
    "    q_agent = Q_learning_agent(obs_n=env.observation_space.n,  act_n=env.action_space.n, \n",
    "        learning_rate=0.5, gamma = 0.9, e_greed=0.1)\n",
    "\n",
    "\n",
    "    q_reward_history = []\n",
    "\n",
    "    for i in range(20):\n",
    "        q_reward_list = []\n",
    "\n",
    "        for episode in range(500):\n",
    "            q_reward = run_episode(env, q_agent)\n",
    "            q_reward_list.append(q_reward)\n",
    "\n",
    "\n",
    "        q_reward_history.append(q_reward_list)\n",
    "\n",
    "\n",
    "    return q_reward_history"
   ],
   "outputs": [],
   "metadata": {}
  },
  {
   "cell_type": "code",
   "execution_count": null,
   "source": [
    "reward_history = main()"
   ],
   "outputs": [],
   "metadata": {}
  }
 ],
 "metadata": {
  "orig_nbformat": 4,
  "language_info": {
   "name": "python",
   "version": "3.8.2",
   "mimetype": "text/x-python",
   "codemirror_mode": {
    "name": "ipython",
    "version": 3
   },
   "pygments_lexer": "ipython3",
   "nbconvert_exporter": "python",
   "file_extension": ".py"
  },
  "kernelspec": {
   "name": "python3",
   "display_name": "Python 3.8.2 64-bit"
  },
  "interpreter": {
   "hash": "31f2aee4e71d21fbe5cf8b01ff0e069b9275f58929596ceb00d14d90e3e16cd6"
  }
 },
 "nbformat": 4,
 "nbformat_minor": 2
}