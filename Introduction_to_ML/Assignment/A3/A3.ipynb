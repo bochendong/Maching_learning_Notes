{
 "cells": [
  {
   "cell_type": "markdown",
   "source": [
    "# Assignment 3: Classification with Logistic Regression  [ __ /130  marks]\n",
    "\n",
    "<hr>\n",
    "<!-- <img src=https://www.tibco.com/sites/tibco/files/media_entity/2020-09/logistic-regression-diagram.svg width=600> -->\n",
    "<img src=https://miro.medium.com/max/1838/1*wWRGcsBwoXw-WNJi5UpoOw.png width=600>\n",
    "<hr>\n",
    "\n",
    "In this assignment we will consider the `diabetes` dataset from kaggle: https://www.kaggle.com/kandij/diabetes-dataset\n",
    "\n",
    "We will use logistic regression to classify subjects based on the input features; we will also evaluate our model with/without regularization."
   ],
   "metadata": {}
  },
  {
   "cell_type": "markdown",
   "source": [
    "## Before you start...\n",
    "* check out the relevant lecture code (L3_codeF.ipynb) for reference"
   ],
   "metadata": {}
  },
  {
   "cell_type": "markdown",
   "source": [
    "## Before you submit...\n",
    "* restart the kernel, then re-run the whole notebook to ensure no errors"
   ],
   "metadata": {}
  },
  {
   "cell_type": "code",
   "execution_count": 215,
   "source": [
    "import pandas as pd\n",
    "import seaborn as sns\n",
    "import numpy as np\n",
    "from sklearn.model_selection import train_test_split\n",
    "from sklearn.linear_model import LogisticRegression\n",
    "from sklearn.metrics import confusion_matrix, roc_curve, precision_recall_curve, auc\n",
    "\n",
    "import matplotlib.pyplot as plt\n",
    "%matplotlib inline"
   ],
   "outputs": [],
   "metadata": {}
  },
  {
   "cell_type": "markdown",
   "source": [
    "## Question 1.1 [ _ /4 marks]\n",
    "\n",
    "Read the file `diabetes.csv` into a pandas DataFrame. Display the first 5 rows of the DataFrame. "
   ],
   "metadata": {}
  },
  {
   "cell_type": "code",
   "execution_count": 216,
   "source": [
    "# ****** your code here ******\n",
    "df = pd.read_csv(\"diabetes.csv\")\n",
    "df.head()"
   ],
   "outputs": [
    {
     "output_type": "execute_result",
     "data": {
      "text/html": [
       "<div>\n",
       "<style scoped>\n",
       "    .dataframe tbody tr th:only-of-type {\n",
       "        vertical-align: middle;\n",
       "    }\n",
       "\n",
       "    .dataframe tbody tr th {\n",
       "        vertical-align: top;\n",
       "    }\n",
       "\n",
       "    .dataframe thead th {\n",
       "        text-align: right;\n",
       "    }\n",
       "</style>\n",
       "<table border=\"1\" class=\"dataframe\">\n",
       "  <thead>\n",
       "    <tr style=\"text-align: right;\">\n",
       "      <th></th>\n",
       "      <th>Pregnancies</th>\n",
       "      <th>Glucose</th>\n",
       "      <th>BloodPressure</th>\n",
       "      <th>SkinThickness</th>\n",
       "      <th>Insulin</th>\n",
       "      <th>BMI</th>\n",
       "      <th>DiabetesPedigreeFunction</th>\n",
       "      <th>Age</th>\n",
       "      <th>Outcome</th>\n",
       "    </tr>\n",
       "  </thead>\n",
       "  <tbody>\n",
       "    <tr>\n",
       "      <th>0</th>\n",
       "      <td>6</td>\n",
       "      <td>148</td>\n",
       "      <td>72</td>\n",
       "      <td>35</td>\n",
       "      <td>0</td>\n",
       "      <td>33.6</td>\n",
       "      <td>0.627</td>\n",
       "      <td>50</td>\n",
       "      <td>1</td>\n",
       "    </tr>\n",
       "    <tr>\n",
       "      <th>1</th>\n",
       "      <td>1</td>\n",
       "      <td>85</td>\n",
       "      <td>66</td>\n",
       "      <td>29</td>\n",
       "      <td>0</td>\n",
       "      <td>26.6</td>\n",
       "      <td>0.351</td>\n",
       "      <td>31</td>\n",
       "      <td>0</td>\n",
       "    </tr>\n",
       "    <tr>\n",
       "      <th>2</th>\n",
       "      <td>8</td>\n",
       "      <td>183</td>\n",
       "      <td>64</td>\n",
       "      <td>0</td>\n",
       "      <td>0</td>\n",
       "      <td>23.3</td>\n",
       "      <td>0.672</td>\n",
       "      <td>32</td>\n",
       "      <td>1</td>\n",
       "    </tr>\n",
       "    <tr>\n",
       "      <th>3</th>\n",
       "      <td>1</td>\n",
       "      <td>89</td>\n",
       "      <td>66</td>\n",
       "      <td>23</td>\n",
       "      <td>94</td>\n",
       "      <td>28.1</td>\n",
       "      <td>0.167</td>\n",
       "      <td>21</td>\n",
       "      <td>0</td>\n",
       "    </tr>\n",
       "    <tr>\n",
       "      <th>4</th>\n",
       "      <td>0</td>\n",
       "      <td>137</td>\n",
       "      <td>40</td>\n",
       "      <td>35</td>\n",
       "      <td>168</td>\n",
       "      <td>43.1</td>\n",
       "      <td>2.288</td>\n",
       "      <td>33</td>\n",
       "      <td>1</td>\n",
       "    </tr>\n",
       "  </tbody>\n",
       "</table>\n",
       "</div>"
      ],
      "text/plain": [
       "   Pregnancies  Glucose  BloodPressure  SkinThickness  Insulin   BMI  \\\n",
       "0            6      148             72             35        0  33.6   \n",
       "1            1       85             66             29        0  26.6   \n",
       "2            8      183             64              0        0  23.3   \n",
       "3            1       89             66             23       94  28.1   \n",
       "4            0      137             40             35      168  43.1   \n",
       "\n",
       "   DiabetesPedigreeFunction  Age  Outcome  \n",
       "0                     0.627   50        1  \n",
       "1                     0.351   31        0  \n",
       "2                     0.672   32        1  \n",
       "3                     0.167   21        0  \n",
       "4                     2.288   33        1  "
      ]
     },
     "metadata": {},
     "execution_count": 216
    }
   ],
   "metadata": {
    "scrolled": true
   }
  },
  {
   "cell_type": "markdown",
   "source": [
    "## Question 1.2 [ _ /10 marks]\n",
    "\n",
    "Please answer the following short-answer questions `(a-d)`. Your answer can be brief (a few words or a sentence)."
   ],
   "metadata": {}
  },
  {
   "cell_type": "markdown",
   "source": [
    "**(a) How many input features does this dataset have?**  "
   ],
   "metadata": {}
  },
  {
   "cell_type": "markdown",
   "source": [
    "Your answer: 8"
   ],
   "metadata": {}
  },
  {
   "cell_type": "markdown",
   "source": [
    "**(b) What is the dependent variable?** "
   ],
   "metadata": {}
  },
  {
   "cell_type": "markdown",
   "source": [
    "Your answer: Outcome"
   ],
   "metadata": {}
  },
  {
   "cell_type": "markdown",
   "source": [
    "**(c) How many classes are there?**"
   ],
   "metadata": {}
  },
  {
   "cell_type": "markdown",
   "source": [
    "Your answer: 2"
   ],
   "metadata": {}
  },
  {
   "cell_type": "markdown",
   "source": [
    "**(d) Is the dataset class-balanced? Check with some code.**"
   ],
   "metadata": {}
  },
  {
   "cell_type": "code",
   "execution_count": 217,
   "source": [
    "# ****** your code here ******\n",
    "df.Outcome.value_counts()"
   ],
   "outputs": [
    {
     "output_type": "execute_result",
     "data": {
      "text/plain": [
       "0    500\n",
       "1    268\n",
       "Name: Outcome, dtype: int64"
      ]
     },
     "metadata": {},
     "execution_count": 217
    }
   ],
   "metadata": {}
  },
  {
   "cell_type": "markdown",
   "source": [
    "Your answer: The data set is unbalanced since it has 500 0s and 268 1s."
   ],
   "metadata": {}
  },
  {
   "cell_type": "markdown",
   "source": [
    "## Question 1.3 [ _ /12 marks]\n",
    "\n",
    "Split the data into train and test sets: Use `train_test_split` with `random_state=0`. Use 50% of the data for training and 50% for testing."
   ],
   "metadata": {}
  },
  {
   "cell_type": "code",
   "execution_count": 218,
   "source": [
    "# Store the input values into a variable called \"X\" [ /4 marks]\n",
    "# ****** your code here ******\n",
    "X = df.iloc[:,0:8].values\n",
    "\n",
    "# Convert 0's and 1's to \"Pos\" and \"Neg\" class labels. Store the output class values into variable \"y\" [ /6 marks]\n",
    "# ****** your code here ******\n",
    "y_temp = df.Outcome.values\n",
    "y = []\n",
    "for output in y_temp:\n",
    "    if (output == 1):\n",
    "        y.append(\"Pos\")\n",
    "    else:\n",
    "        y.append(\"Neg\")\n",
    "y = np.array(y)\n",
    "\n",
    "\n",
    "# Split your X and y data using train_test_split [ /2 marks]\n",
    "# ****** your code here ******\n",
    "Xtrain, Xtest, ytrain, ytest = train_test_split(X, y, test_size=0.5, random_state=0)"
   ],
   "outputs": [],
   "metadata": {}
  },
  {
   "cell_type": "markdown",
   "source": [
    "## Question 1.4 [ _ /16 marks]\n",
    "\n",
    "Consider sklearn's `LogisticRegression` class. Create a `LogisticRegression` object with `penalty=none`. Train and test this classifier using \"Insulin\" as the independent variable and \"Outcome\" as the dependent variable. Make a scatter plot of the points. Plot your prediction on the same graph."
   ],
   "metadata": {}
  },
  {
   "cell_type": "code",
   "execution_count": 219,
   "source": [
    "# Create a LogisticRegression object without regularization [ /2 marks]\n",
    "# ****** your code here ******\n",
    "DIABETES_lr = LogisticRegression(penalty='none', max_iter=10000)\n",
    "\n",
    "# Create training data and test data for X [ /4 marks]\n",
    "# ****** your code here ******\n",
    "X_Insulin = df.Insulin.values\n",
    "\n",
    "Insulin_Xtrain, Insulin_Xtest, Insulin_ytrain, Insulin_ytest = train_test_split(X_Insulin, y, test_size=0.5, random_state=0)\n",
    "\n",
    "Insulin_Xtrain = Insulin_Xtrain.reshape(-1, 1)\n",
    "Insulin_Xtest = Insulin_Xtest.reshape(-1, 1)\n",
    "\n",
    "# Fit to your training data using Logistic Regression [ /2 marks]\n",
    "# ****** your code here ******\n",
    "DIABETES_lr.fit(Insulin_Xtrain, Insulin_ytrain)\n",
    "\n",
    "# Create a scatter plot of the test data. Also plot your prediction. [ /8 marks]\n",
    "# ****** your code here ******\n",
    "Xnew = np.linspace(0, 800,300)\n",
    "Xnew = Xnew.reshape(-1, 1)\n",
    "y_pred = DIABETES_lr.predict(Xnew)\n",
    "ytest_prob_one_feature = DIABETES_lr.predict_proba(Insulin_Xtest)\n",
    "\n",
    "plt.scatter(Insulin_Xtest, Insulin_ytest)\n",
    "plt.plot(Xnew, y_pred, color='red', linestyle='-')\n",
    "plt.title(\"Logistic Regression on diabetes (1.4)\")\n",
    "plt.show()\n",
    "\n",
    "print(f\"Intercepts: {DIABETES_lr.intercept_} \\nCoefficients: {DIABETES_lr.coef_}\")\n",
    "\n"
   ],
   "outputs": [
    {
     "output_type": "display_data",
     "data": {
      "image/png": "[encoded data removed]",
      "text/plain": [
       "<Figure size 432x288 with 1 Axes>"
      ]
     },
     "metadata": {
      "needs_background": "light"
     }
    },
    {
     "output_type": "stream",
     "name": "stdout",
     "text": [
      "Intercepts: [-0.79113624] \n",
      "Coefficients: [[0.00220983]]\n"
     ]
    }
   ],
   "metadata": {}
  },
  {
   "cell_type": "markdown",
   "source": [
    "## Question 1.5 [ _ /12 marks]\n",
    "\n",
    "How many True Positives (TP), True Negatives (TN), False Negatives (FN), and False Positives (FP) were there from your classification test results in question 1.4? What was the test accuracy of your classifier? You can use the following formula:\n",
    "\n",
    "$$Accuracy = \\frac{TP + TN}{TP + TN + FP + FN}$$"
   ],
   "metadata": {}
  },
  {
   "cell_type": "code",
   "execution_count": 220,
   "source": [
    "# Calculate tp, tn, fp, fn, and test accuracy\n",
    "# ****** your code here ******\n",
    "def compute_performance(yhat, y, classes):\n",
    "    tp = sum(np.logical_and(yhat == classes[1], y == classes[1]))\n",
    "    tn = sum(np.logical_and(yhat == classes[0], y == classes[0]))\n",
    "    fp = sum(np.logical_and(yhat == classes[1], y == classes[0]))\n",
    "    fn = sum(np.logical_and(yhat == classes[0], y == classes[1]))\n",
    "\n",
    "    print(f\"tp: {tp} tn: {tn} fp: {fp} fn: {fn}\")\n",
    "    \n",
    "    # Accuracy\n",
    "    acc = (tp + tn) / (tp + tn + fp + fn)\n",
    "\n",
    "    print(\"Accuracy:\", round(acc,3))\n",
    "\n",
    "y_pred = DIABETES_lr.predict(Insulin_Xtest)\n",
    "compute_performance(y_pred, ytest, DIABETES_lr.classes_)"
   ],
   "outputs": [
    {
     "output_type": "stream",
     "name": "stdout",
     "text": [
      "tp: 6 tn: 248 fp: 5 fn: 125\n",
      "Accuracy: 0.661\n"
     ]
    }
   ],
   "metadata": {}
  },
  {
   "cell_type": "markdown",
   "source": [
    "## Question 1.6 [ _ /18 marks]\n",
    "\n",
    "Now try adjusting the decision threshold to 0.35 (instead of the default, which is 0.5). Report TP, TN, FP, FN, and Accuracy."
   ],
   "metadata": {}
  },
  {
   "cell_type": "code",
   "execution_count": 221,
   "source": [
    "# Using your fit from question 1.4, adjust the decision threshold and get the updated predictions [ /6 marks]\n",
    "# ****** your code here ******\n",
    "ytest_prob = DIABETES_lr.predict_proba(Insulin_Xtest)\n",
    "yhat = DIABETES_lr.classes_[(ytest_prob[:,1]>0.35).astype(int)]\n",
    "\n",
    "# Calculate tp, tn, fp, fn, and test accuracy [ /12 marks]\n",
    "# ****** your code here ******\n",
    "print(f\"Intercepts: {DIABETES_lr.intercept_} \\nCoefficients: {DIABETES_lr.coef_}\")\n",
    "compute_performance(yhat, ytest, DIABETES_lr.classes_)"
   ],
   "outputs": [
    {
     "output_type": "stream",
     "name": "stdout",
     "text": [
      "Intercepts: [-0.79113624] \n",
      "Coefficients: [[0.00220983]]\n",
      "tp: 58 tn: 174 fp: 79 fn: 73\n",
      "Accuracy: 0.604\n"
     ]
    }
   ],
   "metadata": {}
  },
  {
   "cell_type": "markdown",
   "source": [
    "## Question 1.7 [ _ /6 marks]\n",
    "\n",
    "What happens when the threshold is lowered from question 1.5 to question 1.6? Could one model be more useful than the other? Answer in a few sentences."
   ],
   "metadata": {}
  },
  {
   "cell_type": "markdown",
   "source": [
    "Your answer: \n",
    "1. Both False negative and true negative decrease a lot. \n",
    "2. In the meantime, both true positive and false positive increase. \n",
    "3. The accuarcy of the model decrease from 66.1% to 60.4%\n"
   ],
   "metadata": {}
  },
  {
   "cell_type": "markdown",
   "source": [
    "## Question 1.8 [ _ /18 marks]\n",
    "\n",
    "Create another `LogisticRegression` object with `penalty=none`. Train and test this classifier, this time using all input features. Calculate TP, FP, TN, FN, and Accuracy."
   ],
   "metadata": {}
  },
  {
   "cell_type": "code",
   "execution_count": 222,
   "source": [
    "# Create a LogisticRegression object without regularization [ /2 marks]\n",
    "# ****** your code here ******\n",
    "DIABETES_lr = LogisticRegression(penalty='none', max_iter=10000)\n",
    "\n",
    "# Fit to your training data using Logistic Regression [ /2 marks]\n",
    "# ****** your code here ******\n",
    "DIABETES_lr.fit(Xtrain, ytrain)\n",
    "\n",
    "# Compute your test predictions, given the test inputs [ /2 marks]\n",
    "# ****** your code here ******\n",
    "y_pred = DIABETES_lr.predict(Xtest)\n",
    "ytest_prob_all_feature = DIABETES_lr.predict_proba(Xtest)\n",
    "\n",
    "# Calculate tp, tn, fp, fn, and test accuracy [ /12 marks]\n",
    "# ****** your code here ******\n",
    "print(f\"Intercepts: {DIABETES_lr.intercept_} \\nCoefficients: {DIABETES_lr.coef_}\")\n",
    "compute_performance(y_pred, ytest, DIABETES_lr.classes_)\n",
    "\n"
   ],
   "outputs": [
    {
     "output_type": "stream",
     "name": "stdout",
     "text": [
      "Intercepts: [-8.22808061] \n",
      "Coefficients: [[ 0.09843235  0.03212665 -0.00774445  0.0049681  -0.00134287  0.08026025\n",
      "   1.09708343  0.01828765]]\n",
      "tp: 75 tn: 228 fp: 25 fn: 56\n",
      "Accuracy: 0.789\n"
     ]
    }
   ],
   "metadata": {}
  },
  {
   "cell_type": "markdown",
   "source": [
    "## Question 1.9 [ _ /20 marks]\n",
    "\n",
    "Create a final `LogisticRegression` object with `penalty=l2`, `C=0.01`. Train and test this classifier using all input features. Calculate TP, FP, TN, FN, and Accuracy. Did regularization help in this case? "
   ],
   "metadata": {}
  },
  {
   "cell_type": "code",
   "execution_count": 223,
   "source": [
    "# Create a LogisticRegression object with l2 regularization [ /2 marks]\n",
    "# ****** your code here ******\n",
    "DIABETES_lr = LogisticRegression(penalty=\"l2\", max_iter=10000, C = 0.01)\n",
    "\n",
    "# Fit to your training data using Logistic Regression [ /2 marks]\n",
    "# ****** your code here ******\n",
    "DIABETES_lr.fit(Xtrain, ytrain)\n",
    "\n",
    "# Compute your test predictions, given the test inputs [ /2 marks]\n",
    "# ****** your code here ******\n",
    "y_pred = DIABETES_lr.predict(Xtest)\n",
    "ytest_prob_l2 = DIABETES_lr.predict_proba(Xtest)\n",
    "\n",
    "# Calculate tp, tn, fp, fn, and test accuracy [ /12 marks]\n",
    "# ****** your code here ******\n",
    "print(f\"Intercepts: {DIABETES_lr.intercept_} \\nCoefficients: {DIABETES_lr.coef_}\")\n",
    "compute_performance(y_pred, ytest, DIABETES_lr.classes_)\n"
   ],
   "outputs": [
    {
     "output_type": "stream",
     "name": "stdout",
     "text": [
      "Intercepts: [-7.81053127] \n",
      "Coefficients: [[ 0.07435733  0.03187674 -0.00739895  0.00682382 -0.00105458  0.08025312\n",
      "   0.0635731   0.02136748]]\n",
      "tp: 74 tn: 228 fp: 25 fn: 57\n",
      "Accuracy: 0.786\n"
     ]
    }
   ],
   "metadata": {}
  },
  {
   "cell_type": "markdown",
   "source": [
    "Your answer: The L2 regularization does not help in this case.\n"
   ],
   "metadata": {}
  },
  {
   "cell_type": "markdown",
   "source": [
    "## Question 2.1 [ _ /14 marks]\n",
    "\n",
    "Plot ROC Curves for the classifiers you used in questions 1.4, 1.8, and 1.9. Use AUC to determine which classifier is the best. State the best classifier."
   ],
   "metadata": {}
  },
  {
   "cell_type": "code",
   "execution_count": 224,
   "source": [
    "# Use roc_curve to get FPR and TPR for each of the 3 classifiers [ /6 marks]\n",
    "# ****** your code here ******\n",
    "fpr1, tpr1, _ = roc_curve(Insulin_ytest, ytest_prob_one_feature[:,1], pos_label=\"Pos\")\n",
    "fpr2, tpr2, _ = roc_curve(ytest, ytest_prob_all_feature[:,1], pos_label=\"Pos\")\n",
    "fpr3, tpr3, _ = roc_curve(ytest, ytest_prob_l2[:,1], pos_label=\"Pos\")\n",
    "\n",
    "# Plot all of the ROC curves [ /3 marks]\n",
    "# ****** your code here ******\n",
    "ax = sns.lineplot(fpr1,tpr1)\n",
    "ax = sns.lineplot(fpr2,tpr2)\n",
    "ax = sns.lineplot(fpr3,tpr3)\n",
    "ax.legend(['One feature', 'All feature', 'All feature with l2'])\n",
    "# Determine AUC for each of the ROC curves [ /3 marks]\n",
    "# ****** your code here ******\n",
    "\n",
    "AUC_one_feature = auc(fpr1,tpr1)\n",
    "AUC_all_feature = auc(fpr2,tpr2)\n",
    "AUC_l2 = auc(fpr3,tpr3)\n",
    "\n",
    "print(\"1.4 classifier (one feature): \"+ str(AUC_one_feature))\n",
    "print(\"1.8 classifier (all feature): \"+ str(AUC_all_feature))\n",
    "print(\"1.9 classifier (all feature with l2): \"+ str(AUC_l2))\n"
   ],
   "outputs": [
    {
     "output_type": "stream",
     "name": "stderr",
     "text": [
      "/Users/dongbochen/opt/anaconda3/lib/python3.8/site-packages/seaborn/_decorators.py:36: FutureWarning: Pass the following variables as keyword args: x, y. From version 0.12, the only valid positional argument will be `data`, and passing other arguments without an explicit keyword will result in an error or misinterpretation.\n",
      "  warnings.warn(\n",
      "/Users/dongbochen/opt/anaconda3/lib/python3.8/site-packages/seaborn/_decorators.py:36: FutureWarning: Pass the following variables as keyword args: x, y. From version 0.12, the only valid positional argument will be `data`, and passing other arguments without an explicit keyword will result in an error or misinterpretation.\n",
      "  warnings.warn(\n",
      "/Users/dongbochen/opt/anaconda3/lib/python3.8/site-packages/seaborn/_decorators.py:36: FutureWarning: Pass the following variables as keyword args: x, y. From version 0.12, the only valid positional argument will be `data`, and passing other arguments without an explicit keyword will result in an error or misinterpretation.\n",
      "  warnings.warn(\n"
     ]
    },
    {
     "output_type": "stream",
     "name": "stdout",
     "text": [
      "1.4 classifier (one feature): 0.5322994297438373\n",
      "1.8 classifier (all feature): 0.8480523790845729\n",
      "1.9 classifier (all feature with l2): 0.8391817276649669\n"
     ]
    },
    {
     "output_type": "display_data",
     "data": {
      "image/png": "[encoded data removed]",
      "text/plain": [
       "<Figure size 432x288 with 1 Axes>"
      ]
     },
     "metadata": {
      "needs_background": "light"
     }
    }
   ],
   "metadata": {}
  },
  {
   "cell_type": "markdown",
   "source": [
    "Your answer: The classifier in 1.8 is the best classifier. It has the highest AUC and the largest area below it in ROC curve."
   ],
   "metadata": {}
  }
 ],
 "metadata": {
  "kernelspec": {
   "name": "python3",
   "display_name": "Python 3.8.8 64-bit ('base': conda)"
  },
  "language_info": {
   "codemirror_mode": {
    "name": "ipython",
    "version": 3
   },
   "file_extension": ".py",
   "mimetype": "text/x-python",
   "name": "python",
   "nbconvert_exporter": "python",
   "pygments_lexer": "ipython3",
   "version": "3.8.8"
  },
  "interpreter": {
   "hash": "3e3cdb513d8b009e359d4b3e7f574fce1612b688225bda942a317dab79b260d0"
  }
 },
 "nbformat": 4,
 "nbformat_minor": 4
}