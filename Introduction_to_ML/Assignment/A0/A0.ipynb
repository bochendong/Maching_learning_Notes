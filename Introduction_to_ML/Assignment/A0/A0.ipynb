{
 "cells": [
  {
   "cell_type": "markdown",
   "metadata": {},
   "source": [
    "# Assignment 0: Self-Assessment\n",
    "\n",
    "### The goal for this week: \n",
    "* familiarize yourself with some pre-requisite topics (some Python, Linear Algebra, and Statistics)\n",
    "\n",
    "### Before we start...\n",
    "Please note that you're not necessarily expected to know all of these; it's moreso meant to be a quick refresher. If you get stuck, start with Google. If you get stuck again, check the solution (once posted). If you get the gist of it, are willing to learn more, and have a computer, you've got all you need to get started!\n",
    "\n",
    "This assessment is also meant to showcase a **jupyter notebook**. It's what you'll be using to hand in your assignments, your midterm, and your final exam. "
   ]
  },
  {
   "cell_type": "markdown",
   "metadata": {},
   "source": [
    "### Part 1: Some Python"
   ]
  },
  {
   "cell_type": "markdown",
   "metadata": {},
   "source": [
    "<img src=\"http://www.brianhensley.net/wp-content/uploads/2012/02/python-snake.png\" width=\"350\" height=\"450\">"
   ]
  },
  {
   "cell_type": "markdown",
   "metadata": {},
   "source": [
    "### Q1.1\n",
    "\n",
    "The Leibniz formula for $\\pi$ states that $1 - \\frac{1}{3} + \\frac{1}{5} - \\frac{1}{7} + \\frac{1}{9} - ... = \\frac{\\pi}{4}$. Write a Python function called *piApprox()* which uses this formula to compute $\\pi$ such that the error between your approximated value and $\\pi$ is $1E-5$.  \n",
    "    "
   ]
  },
  {
   "cell_type": "code",
   "execution_count": 1,
   "metadata": {},
   "outputs": [],
   "source": [
    "import numpy as np\n",
    "import math\n",
    "\n",
    "#your code below\n",
    "\n",
    "\n",
    "\n",
    "\n",
    "\n"
   ]
  },
  {
   "cell_type": "markdown",
   "metadata": {},
   "source": [
    "### Q1.2\n",
    "An object travels some distance ($d(t_n)$) at some corresponding time ($t_n$). The average speed of that object between any two time steps $t_a$ and $t_b$ is defined as $\\dfrac{\\Delta d}{\\Delta t}$, where $\\Delta d = d(t_b) - d(t_a)$. Given arrays for object distances (d_arr) and times (t_arr), use a *for* loop to compute the average speed between each timestep (i.e. $\\dfrac{d(t_1)-d(t_0)}{t_1-t_0}$, $\\dfrac{d(t_2)-d(t_1)}{t_2-t_1}$, ...); store these values in an array called \"v_avg\". Repeat this process using array slicing."
   ]
  },
  {
   "cell_type": "code",
   "execution_count": 2,
   "metadata": {},
   "outputs": [],
   "source": [
    "import numpy as np\n",
    "\n",
    "d_arr = np.array([0, 35.4, 80.22, 118.16, 400.6, 580.5, 590.1, 700.3, 850.12, 1012])\n",
    "t_arr = np.array([0, 0.2, 0.5, 0.9, 1.1, 1.3, 1.8, 2.9, 3.2, 4.1])\n",
    "\n",
    "#your code below\n",
    "\n",
    "\n",
    "\n",
    "\n",
    "\n"
   ]
  },
  {
   "cell_type": "markdown",
   "metadata": {},
   "source": [
    "### Q1.3\n",
    "\n",
    "After nearly a decade, you've decided to continue work on your space invaders spin-off game (\"Dragon Ball Z: Invaders from Space\"). It'd be great if you could store tuples containing each sprite's (x,y) coordinates, direction ($^\\circ$), and step size ($\\Delta x, \\Delta y$) as dictionary **values** (each sprite name is the **key**).\n"
   ]
  },
  {
   "cell_type": "code",
   "execution_count": 3,
   "metadata": {},
   "outputs": [],
   "source": [
    "list_of_sprite_names = [\"Frieza\", \"Goku\", \"Piccolo\"]\n",
    "list_of_sprite_coordinates = [(2,3.5), (4.5, 6.2), (-.2, 1.6)]\n",
    "list_of_sprite_directions_in_degrees = [45, 98, 270]\n",
    "list_of_sprite_step_sizes = [1,2,5]\n",
    "\n",
    "#your code below\n",
    "\n",
    "\n",
    "\n",
    "\n",
    "\n"
   ]
  },
  {
   "cell_type": "markdown",
   "metadata": {},
   "source": [
    "### Q1.4\n",
    "\n",
    "Use pandas to determine the mean petal width of Virginica flowers. Which type of flower has the lowest sepal width in the dataframe? "
   ]
  },
  {
   "cell_type": "code",
   "execution_count": 4,
   "metadata": {},
   "outputs": [],
   "source": [
    "import pandas as pd\n",
    "\n",
    "df = pd.read_csv(\"https://gist.githubusercontent.com/netj/8836201/raw/6f9306ad21398ea43cba4f7d537619d0e07d5ae3/iris.csv\").rename(columns={\"sepal.length\":\"sepal_length\", \"sepal.width\":\"sepal_width\", \"petal.length\":\"petal_length\", \"petal.width\":\"petal_width\"})\n",
    "\n",
    "#your code below\n",
    "\n",
    "\n",
    "\n",
    "\n",
    "\n"
   ]
  },
  {
   "cell_type": "markdown",
   "metadata": {},
   "source": [
    "Some other Python topics to look into:\n",
    "* operators, data types, lists, dictionaries, loops, conditional statements, functions \n",
    "* plotting with matplotlib and seaborn (https://matplotlib.org/)\n",
    "* scipy: probability functions (scipy.stats), optimization (optim)\n",
    "* **a good resource -->** http://openbookproject.net/thinkcs/python/english3e/index.html"
   ]
  },
  {
   "cell_type": "markdown",
   "metadata": {},
   "source": [
    "### Part 2: Some Linear Algebra\n",
    "\n"
   ]
  },
  {
   "cell_type": "markdown",
   "metadata": {},
   "source": [
    "<img src=\"https://dave4math.b-cdn.net/wp-content/uploads/2019/01/Linear-Algebra-Math-matrix-form-on-a-red-background-scaled-1-768x497.jpeg\" width=\"350\" height=\"450\">"
   ]
  },
  {
   "cell_type": "markdown",
   "metadata": {},
   "source": [
    "### Q2.1\n",
    "\n",
    "If matrix $A$ ($n \\times n$) has full rank, is it invertible?"
   ]
  },
  {
   "cell_type": "markdown",
   "metadata": {},
   "source": [
    "Your answer:\n",
    "\n",
    "\n",
    "\n",
    "\n",
    "\n"
   ]
  },
  {
   "cell_type": "markdown",
   "metadata": {},
   "source": [
    "### Q2.2\n",
    "\n",
    "Given a matrix $A$ and vectors $\\mathbf{x},\\mathbf{y}$,  if $A\\mathbf{x} = [3,5,-5]^T$ and $A\\mathbf{y} = [1,-1,2]^T$ what is $A(3\\mathbf{x} - 2\\mathbf{y})$?"
   ]
  },
  {
   "cell_type": "markdown",
   "metadata": {},
   "source": [
    "Your answer:"
   ]
  },
  {
   "cell_type": "markdown",
   "metadata": {},
   "source": [
    "### Q2.3\n",
    "\n",
    "Given a vector $\\mathbf{w} = [5,-3,20,2]$, what is its $L1$ norm (i.e. $|\\mathbf{w}|_1$)? Note: for some vector $\\mathbf{x}$, its $L1$ norm is defined as $|\\mathbf{x}|_1$=$\\sum_{r=1}^{n}|x_n|$"
   ]
  },
  {
   "cell_type": "markdown",
   "metadata": {},
   "source": [
    "Your answer:"
   ]
  },
  {
   "cell_type": "markdown",
   "metadata": {},
   "source": [
    "Some other topics to look into:\n",
    "* eigenvectors, eigenvalues, matrix inversion\n",
    "* **a good resource -->** http://math.mit.edu/~gs/linearalgebra/"
   ]
  },
  {
   "cell_type": "markdown",
   "metadata": {},
   "source": [
    "### Part 3: Some Statistics"
   ]
  },
  {
   "cell_type": "markdown",
   "metadata": {},
   "source": [
    "<img src=\"https://upload.wikimedia.org/wikipedia/commons/thumb/4/40/Fisher_iris_versicolor_sepalwidth.svg/1280px-Fisher_iris_versicolor_sepalwidth.svg.png\" width=\"350\" height=\"450\">"
   ]
  },
  {
   "cell_type": "markdown",
   "metadata": {},
   "source": [
    "### Q3.1\n",
    "\n",
    "A certain covid-19 test has a 95% chance of correctly identifying a positive case; however, it also has a 50% chance of identifying **any** individual as positive (regardless of whether they are positive or negative). For this question you can assume that 3$\\%$ of the population is positive for covid-19. \n",
    "\n",
    "What is the **joint probability** of both being positive for covid-19 and having a positive test result? Hint (Joint probability): $p(A,B) = p(A)p(B|A)$"
   ]
  },
  {
   "cell_type": "markdown",
   "metadata": {},
   "source": [
    "Your answer: "
   ]
  },
  {
   "cell_type": "markdown",
   "metadata": {},
   "source": [
    "### Q3.2\n",
    "\n",
    "Let $X$ be a continuous random variable with probability density function $f(x) = \\frac{1}{10}(3x^2+1)$, 0 < x < 2. What is $P(\\frac{1}{4} < X < 1)$?"
   ]
  },
  {
   "cell_type": "markdown",
   "metadata": {},
   "source": [
    "Your answer:"
   ]
  },
  {
   "cell_type": "markdown",
   "metadata": {},
   "source": [
    "Some other topics to look into:\n",
    "* Discrete and continuous random variables\n",
    "* Probability mass, probability density, and cumulative distribution functions\n",
    "* Maximum likelihood estimation\n",
    "* Bayes' Theorem\n",
    "* **a good resource -->** https://onlinestatbook.com/2/index.html"
   ]
  }
 ],
 "metadata": {
  "kernelspec": {
   "display_name": "Python 3",
   "language": "python",
   "name": "python3"
  },
  "language_info": {
   "codemirror_mode": {
    "name": "ipython",
    "version": 3
   },
   "file_extension": ".py",
   "mimetype": "text/x-python",
   "name": "python",
   "nbconvert_exporter": "python",
   "pygments_lexer": "ipython3",
   "version": "3.8.8"
  }
 },
 "nbformat": 4,
 "nbformat_minor": 4
}
