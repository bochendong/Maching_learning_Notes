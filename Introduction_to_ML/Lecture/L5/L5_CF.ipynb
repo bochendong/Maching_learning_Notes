{
 "cells": [
  {
   "cell_type": "code",
   "execution_count": 1,
   "metadata": {},
   "outputs": [],
   "source": [
    "import pandas as pd\n",
    "import numpy as np\n",
    "import matplotlib.pyplot as plt\n",
    "import seaborn as sns\n",
    "from sklearn.model_selection import train_test_split, cross_val_score, KFold, LeaveOneOut\n",
    "from sklearn.linear_model import LinearRegression\n",
    "from sklearn.pipeline import Pipeline\n",
    "from sklearn.base import BaseEstimator, TransformerMixin\n",
    "from sklearn.decomposition import PCA\n",
    "from sklearn.preprocessing import StandardScaler, PolynomialFeatures\n",
    "from sklearn.metrics import mean_squared_error, mean_absolute_error, make_scorer\n",
    "pd.set_option('display.max_columns', 500)\n",
    "%matplotlib inline"
   ]
  },
  {
   "cell_type": "markdown",
   "metadata": {},
   "source": [
    "# Part 1: Test Error, CV"
   ]
  },
  {
   "cell_type": "markdown",
   "metadata": {},
   "source": [
    "# 1. Getting the data"
   ]
  },
  {
   "cell_type": "code",
   "execution_count": 2,
   "metadata": {},
   "outputs": [
    {
     "data": {
      "text/html": [
       "<div>\n",
       "<style scoped>\n",
       "    .dataframe tbody tr th:only-of-type {\n",
       "        vertical-align: middle;\n",
       "    }\n",
       "\n",
       "    .dataframe tbody tr th {\n",
       "        vertical-align: top;\n",
       "    }\n",
       "\n",
       "    .dataframe thead th {\n",
       "        text-align: right;\n",
       "    }\n",
       "</style>\n",
       "<table border=\"1\" class=\"dataframe\">\n",
       "  <thead>\n",
       "    <tr style=\"text-align: right;\">\n",
       "      <th></th>\n",
       "      <th>age</th>\n",
       "      <th>height_cm</th>\n",
       "      <th>weight_kg</th>\n",
       "      <th>work_rate_att</th>\n",
       "      <th>overall</th>\n",
       "    </tr>\n",
       "  </thead>\n",
       "  <tbody>\n",
       "    <tr>\n",
       "      <th>0</th>\n",
       "      <td>20</td>\n",
       "      <td>175</td>\n",
       "      <td>70</td>\n",
       "      <td>Medium</td>\n",
       "      <td>58</td>\n",
       "    </tr>\n",
       "    <tr>\n",
       "      <th>1</th>\n",
       "      <td>29</td>\n",
       "      <td>183</td>\n",
       "      <td>80</td>\n",
       "      <td>High</td>\n",
       "      <td>65</td>\n",
       "    </tr>\n",
       "    <tr>\n",
       "      <th>2</th>\n",
       "      <td>35</td>\n",
       "      <td>183</td>\n",
       "      <td>78</td>\n",
       "      <td>High</td>\n",
       "      <td>67</td>\n",
       "    </tr>\n",
       "    <tr>\n",
       "      <th>3</th>\n",
       "      <td>24</td>\n",
       "      <td>178</td>\n",
       "      <td>72</td>\n",
       "      <td>Medium</td>\n",
       "      <td>69</td>\n",
       "    </tr>\n",
       "    <tr>\n",
       "      <th>4</th>\n",
       "      <td>23</td>\n",
       "      <td>173</td>\n",
       "      <td>73</td>\n",
       "      <td>Medium</td>\n",
       "      <td>70</td>\n",
       "    </tr>\n",
       "  </tbody>\n",
       "</table>\n",
       "</div>"
      ],
      "text/plain": [
       "   age  height_cm  weight_kg work_rate_att  overall\n",
       "0   20        175         70        Medium       58\n",
       "1   29        183         80          High       65\n",
       "2   35        183         78          High       67\n",
       "3   24        178         72        Medium       69\n",
       "4   23        173         73        Medium       70"
      ]
     },
     "metadata": {},
     "output_type": "display_data"
    }
   ],
   "source": [
    "# read csv \"fbr\" into df. \"fbr\" stands for \"footballer ratings\"\n",
    "df = pd.read_csv('fbr.csv')\n",
    "display(df.head())"
   ]
  },
  {
   "cell_type": "code",
   "execution_count": 3,
   "metadata": {
    "scrolled": true
   },
   "outputs": [
    {
     "data": {
      "text/html": [
       "<div>\n",
       "<style scoped>\n",
       "    .dataframe tbody tr th:only-of-type {\n",
       "        vertical-align: middle;\n",
       "    }\n",
       "\n",
       "    .dataframe tbody tr th {\n",
       "        vertical-align: top;\n",
       "    }\n",
       "\n",
       "    .dataframe thead th {\n",
       "        text-align: right;\n",
       "    }\n",
       "</style>\n",
       "<table border=\"1\" class=\"dataframe\">\n",
       "  <thead>\n",
       "    <tr style=\"text-align: right;\">\n",
       "      <th></th>\n",
       "      <th>age</th>\n",
       "      <th>height_cm</th>\n",
       "      <th>weight_kg</th>\n",
       "      <th>overall</th>\n",
       "      <th>work_rate_att_Low</th>\n",
       "      <th>work_rate_att_Medium</th>\n",
       "    </tr>\n",
       "  </thead>\n",
       "  <tbody>\n",
       "    <tr>\n",
       "      <th>0</th>\n",
       "      <td>20</td>\n",
       "      <td>175</td>\n",
       "      <td>70</td>\n",
       "      <td>58</td>\n",
       "      <td>0</td>\n",
       "      <td>1</td>\n",
       "    </tr>\n",
       "    <tr>\n",
       "      <th>1</th>\n",
       "      <td>29</td>\n",
       "      <td>183</td>\n",
       "      <td>80</td>\n",
       "      <td>65</td>\n",
       "      <td>0</td>\n",
       "      <td>0</td>\n",
       "    </tr>\n",
       "    <tr>\n",
       "      <th>2</th>\n",
       "      <td>35</td>\n",
       "      <td>183</td>\n",
       "      <td>78</td>\n",
       "      <td>67</td>\n",
       "      <td>0</td>\n",
       "      <td>0</td>\n",
       "    </tr>\n",
       "    <tr>\n",
       "      <th>3</th>\n",
       "      <td>24</td>\n",
       "      <td>178</td>\n",
       "      <td>72</td>\n",
       "      <td>69</td>\n",
       "      <td>0</td>\n",
       "      <td>1</td>\n",
       "    </tr>\n",
       "    <tr>\n",
       "      <th>4</th>\n",
       "      <td>23</td>\n",
       "      <td>173</td>\n",
       "      <td>73</td>\n",
       "      <td>70</td>\n",
       "      <td>0</td>\n",
       "      <td>1</td>\n",
       "    </tr>\n",
       "  </tbody>\n",
       "</table>\n",
       "</div>"
      ],
      "text/plain": [
       "   age  height_cm  weight_kg  overall  work_rate_att_Low  work_rate_att_Medium\n",
       "0   20        175         70       58                  0                     1\n",
       "1   29        183         80       65                  0                     0\n",
       "2   35        183         78       67                  0                     0\n",
       "3   24        178         72       69                  0                     1\n",
       "4   23        173         73       70                  0                     1"
      ]
     },
     "metadata": {},
     "output_type": "display_data"
    }
   ],
   "source": [
    "# For sklearn CV we need numerical data only --> use getdummies\n",
    "# To reduce redundancy/co-linearity (i.e. same intercept), set drop_first=True\n",
    "#df = pd.get_dummies(df, drop_first=False)\n",
    "df = pd.get_dummies(df, drop_first=True)\n",
    "display(df.head())"
   ]
  },
  {
   "cell_type": "code",
   "execution_count": 4,
   "metadata": {
    "scrolled": true
   },
   "outputs": [
    {
     "name": "stderr",
     "output_type": "stream",
     "text": [
      "C:\\Users\\jacob\\miniconda3\\lib\\site-packages\\seaborn\\distributions.py:2619: FutureWarning: `distplot` is a deprecated function and will be removed in a future version. Please adapt your code to use either `displot` (a figure-level function with similar flexibility) or `histplot` (an axes-level function for histograms).\n",
      "  warnings.warn(msg, FutureWarning)\n"
     ]
    },
    {
     "data": {
      "text/plain": [
       "<AxesSubplot:xlabel='overall', ylabel='Density'>"
      ]
     },
     "execution_count": 4,
     "metadata": {},
     "output_type": "execute_result"
    },
    {
     "data": {
      "image/png": "[encoded data removed]",
      "text/plain": [
       "<Figure size 432x288 with 1 Axes>"
      ]
     },
     "metadata": {
      "needs_background": "light"
     },
     "output_type": "display_data"
    }
   ],
   "source": [
    "# How is our output (\"overall\") distributed?\n",
    "sns.distplot(df.overall)"
   ]
  },
  {
   "cell_type": "code",
   "execution_count": 5,
   "metadata": {},
   "outputs": [],
   "source": [
    "# Let's split our X and y data\n",
    "X = df.iloc[:,[0,1,2,4,5]] #tedious\n",
    "X = df.drop('overall', axis = 'columns')\n",
    "y = df.overall\n",
    "\n",
    "# Let's split into train/test data, test_size=0.2\n",
    "# (random state=0 allows consistency across models)\n",
    "Xtrain, Xtest, ytrain, ytest = train_test_split(X, y, test_size=0.2, random_state=0) "
   ]
  },
  {
   "cell_type": "markdown",
   "metadata": {},
   "source": [
    "## 2. Define loss, check test loss"
   ]
  },
  {
   "cell_type": "code",
   "execution_count": 6,
   "metadata": {},
   "outputs": [],
   "source": [
    "# Define the train/test loss metric (MSE)\n",
    "def mse(y,ypr):\n",
    "    return np.mean((y-ypr)**2)"
   ]
  },
  {
   "cell_type": "code",
   "execution_count": 7,
   "metadata": {},
   "outputs": [
    {
     "name": "stdout",
     "output_type": "stream",
     "text": [
      "Training loss: 33.23037858247384, Test loss: 40.952245375550405\n"
     ]
    }
   ],
   "source": [
    "# Create a LinearRegression object, compute loss\n",
    "lmodel = LinearRegression().fit(Xtrain,ytrain)\n",
    "trloss = mse(ytrain,lmodel.predict(Xtrain))\n",
    "teloss = mse(ytest,lmodel.predict(Xtest))\n",
    "print(f\"Training loss: {trloss}, Test loss: {teloss}\")"
   ]
  },
  {
   "cell_type": "markdown",
   "metadata": {},
   "source": [
    "## 3. Run 5-fold Cross-validation"
   ]
  },
  {
   "cell_type": "code",
   "execution_count": 8,
   "metadata": {},
   "outputs": [
    {
     "name": "stdout",
     "output_type": "stream",
     "text": [
      "5-fold CV\n",
      "[ 4  5  6  7  8  9 10 11 12 13 14 15 16 17 18 19]  [0 1 2 3]\n",
      "[ 0  1  2  3  8  9 10 11 12 13 14 15 16 17 18 19]  [4 5 6 7]\n",
      "[ 0  1  2  3  4  5  6  7 12 13 14 15 16 17 18 19]  [ 8  9 10 11]\n",
      "[ 0  1  2  3  4  5  6  7  8  9 10 11 16 17 18 19]  [12 13 14 15]\n",
      "[ 0  1  2  3  4  5  6  7  8  9 10 11 12 13 14 15]  [16 17 18 19]\n",
      "---------------------------------------------------------------\n",
      "5-fold CV (shuffled)\n",
      "[ 0  2  3  5  6  7  9 10 11 12 14 15 16 17 18 19]  [ 1  4  8 13]\n",
      "[ 1  2  3  4  5  8  9 10 11 12 13 14 16 17 18 19]  [ 0  6  7 15]\n",
      "[ 0  1  3  4  6  7  8 10 11 12 13 15 16 17 18 19]  [ 2  5  9 14]\n",
      "[ 0  1  2  3  4  5  6  7  8  9 12 13 14 15 16 18]  [10 11 17 19]\n",
      "[ 0  1  2  4  5  6  7  8  9 10 11 13 14 15 17 19]  [ 3 12 16 18]\n",
      "---------------------------------------------------------------\n",
      "n-fold CV\n",
      "[ 1  2  3  4  5  6  7  8  9 10 11 12 13 14 15 16 17 18 19]  [0]\n",
      "[ 0  2  3  4  5  6  7  8  9 10 11 12 13 14 15 16 17 18 19]  [1]\n",
      "[ 0  1  3  4  5  6  7  8  9 10 11 12 13 14 15 16 17 18 19]  [2]\n",
      "[ 0  1  2  4  5  6  7  8  9 10 11 12 13 14 15 16 17 18 19]  [3]\n",
      "[ 0  1  2  3  5  6  7  8  9 10 11 12 13 14 15 16 17 18 19]  [4]\n",
      "[ 0  1  2  3  4  6  7  8  9 10 11 12 13 14 15 16 17 18 19]  [5]\n",
      "[ 0  1  2  3  4  5  7  8  9 10 11 12 13 14 15 16 17 18 19]  [6]\n",
      "[ 0  1  2  3  4  5  6  8  9 10 11 12 13 14 15 16 17 18 19]  [7]\n",
      "[ 0  1  2  3  4  5  6  7  9 10 11 12 13 14 15 16 17 18 19]  [8]\n",
      "[ 0  1  2  3  4  5  6  7  8 10 11 12 13 14 15 16 17 18 19]  [9]\n",
      "[ 0  1  2  3  4  5  6  7  8  9 11 12 13 14 15 16 17 18 19]  [10]\n",
      "[ 0  1  2  3  4  5  6  7  8  9 10 12 13 14 15 16 17 18 19]  [11]\n",
      "[ 0  1  2  3  4  5  6  7  8  9 10 11 13 14 15 16 17 18 19]  [12]\n",
      "[ 0  1  2  3  4  5  6  7  8  9 10 11 12 14 15 16 17 18 19]  [13]\n",
      "[ 0  1  2  3  4  5  6  7  8  9 10 11 12 13 15 16 17 18 19]  [14]\n",
      "[ 0  1  2  3  4  5  6  7  8  9 10 11 12 13 14 16 17 18 19]  [15]\n",
      "[ 0  1  2  3  4  5  6  7  8  9 10 11 12 13 14 15 17 18 19]  [16]\n",
      "[ 0  1  2  3  4  5  6  7  8  9 10 11 12 13 14 15 16 18 19]  [17]\n",
      "[ 0  1  2  3  4  5  6  7  8  9 10 11 12 13 14 15 16 17 19]  [18]\n",
      "[ 0  1  2  3  4  5  6  7  8  9 10 11 12 13 14 15 16 17 18]  [19]\n"
     ]
    }
   ],
   "source": [
    "# sklearn CV: https://scikit-learn.org/stable/modules/cross_validation.html#cross-validation\n",
    "\n",
    "# Before we apply it to our dataset, let's experiment with some CV examples\n",
    "\n",
    "# Example 1: a 5-fold CV on a dataset\n",
    "x=np.arange(20)\n",
    "kf = KFold(n_splits=5)\n",
    "print(\"5-fold CV\")\n",
    "for train,test in kf.split(x):\n",
    "    print(f\"{train}  {test}\")\n",
    "\n",
    "print(\"-\"*63)\n",
    "\n",
    "print(\"5-fold CV (shuffled)\")\n",
    "# Example 2: What if data not shuffled? \n",
    "kf2 = KFold(n_splits=5, shuffle=True)\n",
    "for train,test in kf2.split(x):\n",
    "    print(f\"{train}  {test}\")\n",
    "\n",
    "print(\"-\"*63)\n",
    "\n",
    "# Example 3: n-fold Cross-Validation \n",
    "print(\"n-fold CV\")\n",
    "for train, test in LeaveOneOut().split(x):\n",
    "    print(f\"{train}  {test}\")"
   ]
  },
  {
   "cell_type": "code",
   "execution_count": 9,
   "metadata": {},
   "outputs": [
    {
     "name": "stdout",
     "output_type": "stream",
     "text": [
      "CV scores: [24.02742989 35.5978666  35.92285439 46.5077554  36.25261759] | CV loss: 35.66170477264685\n"
     ]
    }
   ],
   "source": [
    "# Ok, let's run CV on our dataset (use cross_val_score)\n",
    "kf = KFold(n_splits=5, shuffle=False) #data already shuffled\n",
    "sc = make_scorer(mse) #tell CV scorer how we want to eval test data\n",
    "cvsc = cross_val_score(LinearRegression(), X, y, cv=kf, scoring=sc)\n",
    "\n",
    "print(f\"CV scores: {cvsc} | CV loss: {cvsc.mean()}\")"
   ]
  },
  {
   "cell_type": "markdown",
   "metadata": {},
   "source": [
    "# Part 2: CV, Pipelines"
   ]
  },
  {
   "cell_type": "markdown",
   "metadata": {},
   "source": [
    "## 4. Select the best model"
   ]
  },
  {
   "cell_type": "code",
   "execution_count": 10,
   "metadata": {},
   "outputs": [
    {
     "name": "stdout",
     "output_type": "stream",
     "text": [
      "Training loss: 33.23037858247384 | CV loss: 34.73847863572037\n"
     ]
    }
   ],
   "source": [
    " # Let's now use CV to pick from a few different models\n",
    "\n",
    "# MODEL 1: LINEAR\n",
    "M1 = LinearRegression().fit(Xtrain, ytrain)\n",
    "M1trloss = mse(ytrain, M1.predict(Xtrain))\n",
    "cvsc1 = cross_val_score(M1, Xtrain, ytrain, cv=kf, scoring=sc)\n",
    "\n",
    "print(f\"Training loss: {M1trloss} | CV loss: {cvsc1.mean()}\")"
   ]
  },
  {
   "cell_type": "code",
   "execution_count": 11,
   "metadata": {},
   "outputs": [
    {
     "data": {
      "text/html": [
       "<div>\n",
       "<style scoped>\n",
       "    .dataframe tbody tr th:only-of-type {\n",
       "        vertical-align: middle;\n",
       "    }\n",
       "\n",
       "    .dataframe tbody tr th {\n",
       "        vertical-align: top;\n",
       "    }\n",
       "\n",
       "    .dataframe thead th {\n",
       "        text-align: right;\n",
       "    }\n",
       "</style>\n",
       "<table border=\"1\" class=\"dataframe\">\n",
       "  <thead>\n",
       "    <tr style=\"text-align: right;\">\n",
       "      <th></th>\n",
       "      <th>age</th>\n",
       "      <th>height_cm</th>\n",
       "      <th>weight_kg</th>\n",
       "      <th>work_rate_att_Low</th>\n",
       "      <th>work_rate_att_Medium</th>\n",
       "      <th>age2</th>\n",
       "    </tr>\n",
       "  </thead>\n",
       "  <tbody>\n",
       "    <tr>\n",
       "      <th>250</th>\n",
       "      <td>24</td>\n",
       "      <td>188</td>\n",
       "      <td>79</td>\n",
       "      <td>0</td>\n",
       "      <td>1</td>\n",
       "      <td>576</td>\n",
       "    </tr>\n",
       "    <tr>\n",
       "      <th>312</th>\n",
       "      <td>28</td>\n",
       "      <td>175</td>\n",
       "      <td>76</td>\n",
       "      <td>0</td>\n",
       "      <td>0</td>\n",
       "      <td>784</td>\n",
       "    </tr>\n",
       "    <tr>\n",
       "      <th>341</th>\n",
       "      <td>27</td>\n",
       "      <td>186</td>\n",
       "      <td>73</td>\n",
       "      <td>0</td>\n",
       "      <td>0</td>\n",
       "      <td>729</td>\n",
       "    </tr>\n",
       "    <tr>\n",
       "      <th>284</th>\n",
       "      <td>19</td>\n",
       "      <td>181</td>\n",
       "      <td>75</td>\n",
       "      <td>1</td>\n",
       "      <td>0</td>\n",
       "      <td>361</td>\n",
       "    </tr>\n",
       "    <tr>\n",
       "      <th>21</th>\n",
       "      <td>18</td>\n",
       "      <td>172</td>\n",
       "      <td>70</td>\n",
       "      <td>0</td>\n",
       "      <td>1</td>\n",
       "      <td>324</td>\n",
       "    </tr>\n",
       "    <tr>\n",
       "      <th>...</th>\n",
       "      <td>...</td>\n",
       "      <td>...</td>\n",
       "      <td>...</td>\n",
       "      <td>...</td>\n",
       "      <td>...</td>\n",
       "      <td>...</td>\n",
       "    </tr>\n",
       "    <tr>\n",
       "      <th>323</th>\n",
       "      <td>26</td>\n",
       "      <td>188</td>\n",
       "      <td>85</td>\n",
       "      <td>0</td>\n",
       "      <td>0</td>\n",
       "      <td>676</td>\n",
       "    </tr>\n",
       "    <tr>\n",
       "      <th>192</th>\n",
       "      <td>19</td>\n",
       "      <td>175</td>\n",
       "      <td>68</td>\n",
       "      <td>0</td>\n",
       "      <td>1</td>\n",
       "      <td>361</td>\n",
       "    </tr>\n",
       "    <tr>\n",
       "      <th>117</th>\n",
       "      <td>20</td>\n",
       "      <td>185</td>\n",
       "      <td>72</td>\n",
       "      <td>0</td>\n",
       "      <td>1</td>\n",
       "      <td>400</td>\n",
       "    </tr>\n",
       "    <tr>\n",
       "      <th>47</th>\n",
       "      <td>22</td>\n",
       "      <td>181</td>\n",
       "      <td>72</td>\n",
       "      <td>0</td>\n",
       "      <td>1</td>\n",
       "      <td>484</td>\n",
       "    </tr>\n",
       "    <tr>\n",
       "      <th>172</th>\n",
       "      <td>25</td>\n",
       "      <td>174</td>\n",
       "      <td>71</td>\n",
       "      <td>0</td>\n",
       "      <td>1</td>\n",
       "      <td>625</td>\n",
       "    </tr>\n",
       "  </tbody>\n",
       "</table>\n",
       "<p>288 rows Ã— 6 columns</p>\n",
       "</div>"
      ],
      "text/plain": [
       "     age  height_cm  weight_kg  work_rate_att_Low  work_rate_att_Medium  age2\n",
       "250   24        188         79                  0                     1   576\n",
       "312   28        175         76                  0                     0   784\n",
       "341   27        186         73                  0                     0   729\n",
       "284   19        181         75                  1                     0   361\n",
       "21    18        172         70                  0                     1   324\n",
       "..   ...        ...        ...                ...                   ...   ...\n",
       "323   26        188         85                  0                     0   676\n",
       "192   19        175         68                  0                     1   361\n",
       "117   20        185         72                  0                     1   400\n",
       "47    22        181         72                  0                     1   484\n",
       "172   25        174         71                  0                     1   625\n",
       "\n",
       "[288 rows x 6 columns]"
      ]
     },
     "metadata": {},
     "output_type": "display_data"
    },
    {
     "name": "stdout",
     "output_type": "stream",
     "text": [
      "Training loss: 30.500420414653426 | CV loss: 32.06606385474363\n"
     ]
    }
   ],
   "source": [
    "# MODEL 2: QUADRATIC (age only)\n",
    "\n",
    "# we need to create age^2 column, then allocate training data\n",
    "Xtrain2 = Xtrain.assign(age2 = Xtrain.age**2)\n",
    "#Xtrain2 = Xtrain.assign(age2 = lambda x: x.age**2) #(alternative)\n",
    "display(Xtrain2)\n",
    "\n",
    "M2 = LinearRegression().fit(Xtrain2, ytrain)\n",
    "M2trloss = mse(ytrain, M2.predict(Xtrain2))\n",
    "cvsc2 = cross_val_score(M2, Xtrain2, ytrain, cv=kf, scoring=sc)\n",
    "\n",
    "print(f\"Training loss: {M2trloss} | CV loss: {cvsc2.mean()}\")"
   ]
  },
  {
   "cell_type": "code",
   "execution_count": 12,
   "metadata": {},
   "outputs": [
    {
     "name": "stdout",
     "output_type": "stream",
     "text": [
      "Training loss: 29.35422283753904 | CV loss: 33.53150201012079\n"
     ]
    }
   ],
   "source": [
    "# MODEL 3: QUADRATIC (all features)\n",
    "\n",
    "# instead of manually creating all squared columns, use PolynomialFeatures\n",
    "Xtrain3 = PolynomialFeatures(degree=2, include_bias=False).fit_transform(Xtrain)\n",
    "#print(Xtrain3.shape)\n",
    "\n",
    "M3 = LinearRegression().fit(Xtrain3, ytrain)\n",
    "M3trloss = mse(ytrain, M3.predict(Xtrain3))\n",
    "cvsc3 = cross_val_score(M3, Xtrain3, ytrain, cv=kf, scoring=sc)\n",
    "\n",
    "print(f\"Training loss: {M3trloss} | CV loss: {cvsc3.mean()}\")"
   ]
  },
  {
   "cell_type": "markdown",
   "metadata": {},
   "source": [
    "## 5. Less code needed (Pipelines)"
   ]
  },
  {
   "cell_type": "code",
   "execution_count": 13,
   "metadata": {},
   "outputs": [],
   "source": [
    "# sklearn Pipelines (encapsulation of all modelling steps): https://scikit-learn.org/stable/modules/generated/sklearn.pipeline.Pipeline.html\n",
    "\n",
    "# define pipelines for each model\n",
    "M1 = Pipeline([\n",
    "    ('lr1', LinearRegression())\n",
    "])\n",
    "\n",
    "M3 = Pipeline([\n",
    "    ('poly', PolynomialFeatures(degree=2, include_bias=False)),\n",
    "    ('lr3', LinearRegression())\n",
    "])"
   ]
  },
  {
   "cell_type": "code",
   "execution_count": 14,
   "metadata": {},
   "outputs": [],
   "source": [
    "# What about M2? We'd need a custom transformer here. All custom transformers inherit from BaseEstimator and TransformerMixin\n",
    "\n",
    "class Age2(BaseEstimator, TransformerMixin):\n",
    "    def fit(self, X, y=None):\n",
    "        return self\n",
    "\n",
    "    def transform(self, X, y=None):\n",
    "        X = X.assign(age2= X.age**2)\n",
    "        return X\n",
    "\n",
    "M2 = Pipeline([\n",
    "    ('age_sqr', Age2()),\n",
    "    ('lr2', LinearRegression())\n",
    "])"
   ]
  },
  {
   "cell_type": "code",
   "execution_count": 15,
   "metadata": {},
   "outputs": [
    {
     "name": "stdout",
     "output_type": "stream",
     "text": [
      "CV loss (M1): 34.73847863572037\n",
      "CV loss (M2): 32.06606385474363\n",
      "CV loss (M3): 33.53150201012079\n"
     ]
    }
   ],
   "source": [
    "# Let's check that our pipeline models are working\n",
    "\n",
    "print(f\"CV loss (M1): {cross_val_score(M1, Xtrain, ytrain, cv=kf, scoring=sc).mean()}\")\n",
    "print(f\"CV loss (M2): {cross_val_score(M2, Xtrain, ytrain, cv=kf, scoring=sc).mean()}\")\n",
    "print(f\"CV loss (M3): {cross_val_score(M3, Xtrain, ytrain, cv=kf, scoring=sc).mean()}\")"
   ]
  },
  {
   "cell_type": "code",
   "execution_count": 16,
   "metadata": {},
   "outputs": [
    {
     "name": "stdout",
     "output_type": "stream",
     "text": [
      "Test loss (M2): 36.76170780965778\n"
     ]
    }
   ],
   "source": [
    "# Finally, let's get the test loss on the selected model (don't peek.. we could be underestimating if we looked at others)\n",
    "telossFinal = mse(ytest, M2.fit(Xtrain, ytrain).predict(Xtest))\n",
    "print(f\"Test loss (M2): {telossFinal}\")"
   ]
  }
 ],
 "metadata": {
  "kernelspec": {
   "display_name": "Python 3 (ipykernel)",
   "language": "python",
   "name": "python3"
  },
  "language_info": {
   "codemirror_mode": {
    "name": "ipython",
    "version": 3
   },
   "file_extension": ".py",
   "mimetype": "text/x-python",
   "name": "python",
   "nbconvert_exporter": "python",
   "pygments_lexer": "ipython3",
   "version": "3.7.6"
  }
 },
 "nbformat": 4,
 "nbformat_minor": 2
}
