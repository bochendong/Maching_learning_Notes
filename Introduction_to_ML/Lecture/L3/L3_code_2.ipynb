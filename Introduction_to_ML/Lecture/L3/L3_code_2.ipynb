{
 "cells": [
  {
   "cell_type": "markdown",
   "source": [
    "## L3 Code: Logistic Regression Implementation"
   ],
   "metadata": {}
  },
  {
   "cell_type": "code",
   "execution_count": 2,
   "source": [
    "import pandas as pd\n",
    "import numpy as np\n",
    "from sklearn.model_selection import train_test_split\n",
    "from sklearn.linear_model import LogisticRegression\n",
    "from sklearn.metrics import recall_score, confusion_matrix, roc_curve, auc\n",
    "import seaborn as sns\n",
    "import matplotlib.pyplot as plt\n",
    "%matplotlib inline"
   ],
   "outputs": [],
   "metadata": {}
  },
  {
   "cell_type": "markdown",
   "source": [
    "## Logistic Regression Using Sklearn"
   ],
   "metadata": {}
  },
  {
   "cell_type": "code",
   "execution_count": 3,
   "source": [
    "# This dataset describes grains of rice as on 7 input features, with 2 class outputs (Cammeo or Osmancik)\n",
    "rice = pd.read_csv(\"Rice_Osmancik_Cammeo_Dataset.csv\")\n",
    "rice.head()"
   ],
   "outputs": [
    {
     "output_type": "execute_result",
     "data": {
      "text/html": [
       "<div>\n",
       "<style scoped>\n",
       "    .dataframe tbody tr th:only-of-type {\n",
       "        vertical-align: middle;\n",
       "    }\n",
       "\n",
       "    .dataframe tbody tr th {\n",
       "        vertical-align: top;\n",
       "    }\n",
       "\n",
       "    .dataframe thead th {\n",
       "        text-align: right;\n",
       "    }\n",
       "</style>\n",
       "<table border=\"1\" class=\"dataframe\">\n",
       "  <thead>\n",
       "    <tr style=\"text-align: right;\">\n",
       "      <th></th>\n",
       "      <th>AREA</th>\n",
       "      <th>PERIMETER</th>\n",
       "      <th>MAJORAXIS</th>\n",
       "      <th>MINORAXIS</th>\n",
       "      <th>ECCENTRICITY</th>\n",
       "      <th>CONVEX_AREA</th>\n",
       "      <th>EXTENT</th>\n",
       "      <th>CLASS</th>\n",
       "    </tr>\n",
       "  </thead>\n",
       "  <tbody>\n",
       "    <tr>\n",
       "      <th>0</th>\n",
       "      <td>15231</td>\n",
       "      <td>525.578979</td>\n",
       "      <td>229.749878</td>\n",
       "      <td>85.093788</td>\n",
       "      <td>0.928882</td>\n",
       "      <td>15617</td>\n",
       "      <td>0.572896</td>\n",
       "      <td>Cammeo</td>\n",
       "    </tr>\n",
       "    <tr>\n",
       "      <th>1</th>\n",
       "      <td>14656</td>\n",
       "      <td>494.311005</td>\n",
       "      <td>206.020065</td>\n",
       "      <td>91.730972</td>\n",
       "      <td>0.895405</td>\n",
       "      <td>15072</td>\n",
       "      <td>0.615436</td>\n",
       "      <td>Cammeo</td>\n",
       "    </tr>\n",
       "    <tr>\n",
       "      <th>2</th>\n",
       "      <td>14634</td>\n",
       "      <td>501.122009</td>\n",
       "      <td>214.106781</td>\n",
       "      <td>87.768288</td>\n",
       "      <td>0.912118</td>\n",
       "      <td>14954</td>\n",
       "      <td>0.693259</td>\n",
       "      <td>Cammeo</td>\n",
       "    </tr>\n",
       "    <tr>\n",
       "      <th>3</th>\n",
       "      <td>13176</td>\n",
       "      <td>458.342987</td>\n",
       "      <td>193.337387</td>\n",
       "      <td>87.448395</td>\n",
       "      <td>0.891861</td>\n",
       "      <td>13368</td>\n",
       "      <td>0.640669</td>\n",
       "      <td>Cammeo</td>\n",
       "    </tr>\n",
       "    <tr>\n",
       "      <th>4</th>\n",
       "      <td>14688</td>\n",
       "      <td>507.166992</td>\n",
       "      <td>211.743378</td>\n",
       "      <td>89.312454</td>\n",
       "      <td>0.906691</td>\n",
       "      <td>15262</td>\n",
       "      <td>0.646024</td>\n",
       "      <td>Cammeo</td>\n",
       "    </tr>\n",
       "  </tbody>\n",
       "</table>\n",
       "</div>"
      ],
      "text/plain": [
       "    AREA   PERIMETER   MAJORAXIS  MINORAXIS  ECCENTRICITY  CONVEX_AREA  \\\n",
       "0  15231  525.578979  229.749878  85.093788      0.928882        15617   \n",
       "1  14656  494.311005  206.020065  91.730972      0.895405        15072   \n",
       "2  14634  501.122009  214.106781  87.768288      0.912118        14954   \n",
       "3  13176  458.342987  193.337387  87.448395      0.891861        13368   \n",
       "4  14688  507.166992  211.743378  89.312454      0.906691        15262   \n",
       "\n",
       "     EXTENT   CLASS  \n",
       "0  0.572896  Cammeo  \n",
       "1  0.615436  Cammeo  \n",
       "2  0.693259  Cammeo  \n",
       "3  0.640669  Cammeo  \n",
       "4  0.646024  Cammeo  "
      ]
     },
     "metadata": {},
     "execution_count": 3
    }
   ],
   "metadata": {
    "scrolled": true
   }
  },
  {
   "cell_type": "code",
   "execution_count": 4,
   "source": [
    "# Is it class-balanced or unbalanced?\n",
    "rice.CLASS.value_counts()"
   ],
   "outputs": [
    {
     "output_type": "execute_result",
     "data": {
      "text/plain": [
       "Osmancik    2180\n",
       "Cammeo      1630\n",
       "Name: CLASS, dtype: int64"
      ]
     },
     "metadata": {},
     "execution_count": 4
    }
   ],
   "metadata": {}
  },
  {
   "cell_type": "code",
   "execution_count": 5,
   "source": [
    "# Split data, train logistic regression\n",
    "X = rice.iloc[:,0:7].values\n",
    "y = rice.CLASS.values\n",
    "\n",
    "Xtrain, Xtest, ytrain, ytest = train_test_split(X, y, test_size=0.5, random_state=0)"
   ],
   "outputs": [],
   "metadata": {}
  },
  {
   "cell_type": "code",
   "execution_count": 6,
   "source": [
    "# Fit model, print coefficients\n",
    "ricelr = LogisticRegression(penalty='none').fit(Xtrain,ytrain)\n",
    "\n",
    "print(f\"Intercept {ricelr.intercept_} \\nCoefficients: {ricelr.coef_}\")"
   ],
   "outputs": [
    {
     "output_type": "stream",
     "name": "stdout",
     "text": [
      "Intercept [0.00318845] \n",
      "Coefficients: [[ 0.00608732  0.14475211 -0.24051264  0.39193589  0.00145249 -0.01007885\n",
      "   0.003195  ]]\n"
     ]
    }
   ],
   "metadata": {}
  },
  {
   "cell_type": "code",
   "execution_count": 7,
   "source": [
    "# Predict manually\n",
    "sigmoid = lambda x: 1 / (1 + np.exp(-x))\n",
    "y_pred_manual = sigmoid(np.dot(Xtest,ricelr.coef_.T) + ricelr.intercept_)\n",
    "print(y_pred_manual)"
   ],
   "outputs": [
    {
     "output_type": "stream",
     "name": "stdout",
     "text": [
      "[[9.65850686e-01]\n",
      " [3.10777332e-05]\n",
      " [4.75278589e-01]\n",
      " ...\n",
      " [1.79521950e-02]\n",
      " [8.47432156e-01]\n",
      " [1.86643411e-04]]\n"
     ]
    }
   ],
   "metadata": {}
  },
  {
   "cell_type": "code",
   "execution_count": 8,
   "source": [
    "# Predict with sklearn. Note: probabilities of class 0 (first col), class 1 (2nd col)\n",
    "ricelr.predict_proba(Xtest)"
   ],
   "outputs": [
    {
     "output_type": "execute_result",
     "data": {
      "text/plain": [
       "array([[3.41493136e-02, 9.65850686e-01],\n",
       "       [9.99968922e-01, 3.10777332e-05],\n",
       "       [5.24721411e-01, 4.75278589e-01],\n",
       "       ...,\n",
       "       [9.82047805e-01, 1.79521950e-02],\n",
       "       [1.52567844e-01, 8.47432156e-01],\n",
       "       [9.99813357e-01, 1.86643411e-04]])"
      ]
     },
     "metadata": {},
     "execution_count": 8
    }
   ],
   "metadata": {}
  },
  {
   "cell_type": "code",
   "execution_count": 9,
   "source": [
    "# Get label predictions\n",
    "y_pred = ricelr.predict(Xtest)\n",
    "print(y_pred)"
   ],
   "outputs": [
    {
     "output_type": "stream",
     "name": "stdout",
     "text": [
      "['Osmancik' 'Cammeo' 'Cammeo' ... 'Cammeo' 'Osmancik' 'Cammeo']\n"
     ]
    }
   ],
   "metadata": {}
  },
  {
   "cell_type": "markdown",
   "source": [
    "## Evaluation of Classifiers"
   ],
   "metadata": {}
  },
  {
   "cell_type": "code",
   "execution_count": 10,
   "source": [
    "def compute_performance(yhat, y, classes):\n",
    "    tp = sum(np.logical_and(yhat == classes[1], y == classes[1]))\n",
    "    tn = sum(np.logical_and(yhat == classes[0], y == classes[0]))\n",
    "    fp = sum(np.logical_and(yhat == classes[1], y == classes[0]))\n",
    "    fn = sum(np.logical_and(yhat == classes[0], y == classes[1]))\n",
    "\n",
    "    print(f\"tp: {tp} tn: {tn} fp: {fp} fn: {fn}\")\n",
    "    \n",
    "    # Accuracy\n",
    "    acc = (tp + tn) / (tp + tn + fp + fn)\n",
    "    \n",
    "    # Precision\n",
    "    # \"Of the ones I labeled +, how many are actually +?\"\n",
    "    precision = tp / (tp + fp)\n",
    "    \n",
    "    # Recall\n",
    "    # \"Of all the + in the data, how many do I correctly label?\"\n",
    "    recall = tp / (tp + fn)    \n",
    "    \n",
    "    # Sensitivity\n",
    "    sensitivity = recall\n",
    "    \n",
    "    # Specificity\n",
    "    # \"Of all the - in the data, how many do I correctly label?\"\n",
    "    specificity = tn / (fp + tn)\n",
    "        \n",
    "    print(\"Accuracy:\",round(acc,3),\"Recall:\",round(recall,3),\"Precision:\",round(precision,3),\n",
    "          \"Sensitivity:\",round(sensitivity,3),\"Specificity:\",round(specificity,3))\n",
    "\n",
    "compute_performance(y_pred, ytest, ricelr.classes_)"
   ],
   "outputs": [
    {
     "output_type": "stream",
     "name": "stdout",
     "text": [
      "tp: 1001 tn: 773 fp: 81 fn: 50\n",
      "Accuracy: 0.931 Recall: 0.952 Precision: 0.925 Sensitivity: 0.952 Specificity: 0.905\n"
     ]
    }
   ],
   "metadata": {}
  },
  {
   "cell_type": "code",
   "execution_count": 11,
   "source": [
    "# Now let's experiment by adjusting the decision threshold\n",
    "ytest_prob = ricelr.predict_proba(Xtest)\n",
    "\n",
    "yhat = ricelr.classes_[(ytest_prob[:,1]>0.1).astype(int)]\n",
    "\n",
    "compute_performance(yhat, ytest, ricelr.classes_)"
   ],
   "outputs": [
    {
     "output_type": "stream",
     "name": "stdout",
     "text": [
      "tp: 1040 tn: 613 fp: 241 fn: 11\n",
      "Accuracy: 0.868 Recall: 0.99 Precision: 0.812 Sensitivity: 0.99 Specificity: 0.718\n"
     ]
    }
   ],
   "metadata": {}
  },
  {
   "cell_type": "code",
   "execution_count": 12,
   "source": [
    "# ROC using sklearns ROC curve. \n",
    "fpr, tpr, _ = roc_curve(ytest, ytest_prob[:,1], pos_label=\"Osmancik\")\n",
    "ax=sns.lineplot(fpr,tpr)\n",
    "\n",
    "print(ytest)\n",
    "print(ytest_prob[:,1])"
   ],
   "outputs": [
    {
     "output_type": "stream",
     "name": "stderr",
     "text": [
      "/Users/dongbochen/opt/anaconda3/lib/python3.8/site-packages/seaborn/_decorators.py:36: FutureWarning: Pass the following variables as keyword args: x, y. From version 0.12, the only valid positional argument will be `data`, and passing other arguments without an explicit keyword will result in an error or misinterpretation.\n",
      "  warnings.warn(\n"
     ]
    },
    {
     "output_type": "stream",
     "name": "stdout",
     "text": [
      "['Osmancik' 'Cammeo' 'Osmancik' ... 'Cammeo' 'Osmancik' 'Cammeo']\n",
      "[9.65850686e-01 3.10777332e-05 4.75278589e-01 ... 1.79521950e-02\n",
      " 8.47432156e-01 1.86643411e-04]\n"
     ]
    },
    {
     "output_type": "display_data",
     "data": {
      "image/png": "[encoded data removed]",
      "text/plain": [
       "<Figure size 432x288 with 1 Axes>"
      ]
     },
     "metadata": {
      "needs_background": "light"
     }
    }
   ],
   "metadata": {}
  },
  {
   "cell_type": "code",
   "execution_count": 13,
   "source": [
    "# AUROC\n",
    "auc(fpr,tpr)"
   ],
   "outputs": [
    {
     "output_type": "execute_result",
     "data": {
      "text/plain": [
       "0.9801115030404856"
      ]
     },
     "metadata": {},
     "execution_count": 13
    }
   ],
   "metadata": {}
  },
  {
   "cell_type": "markdown",
   "source": [
    "## Multiclass Logistic Regression"
   ],
   "metadata": {}
  },
  {
   "cell_type": "code",
   "execution_count": 14,
   "source": [
    "# Read data\n",
    "iris = pd.read_csv(\"iris.csv\")\n",
    "iris.head()"
   ],
   "outputs": [
    {
     "output_type": "execute_result",
     "data": {
      "text/html": [
       "<div>\n",
       "<style scoped>\n",
       "    .dataframe tbody tr th:only-of-type {\n",
       "        vertical-align: middle;\n",
       "    }\n",
       "\n",
       "    .dataframe tbody tr th {\n",
       "        vertical-align: top;\n",
       "    }\n",
       "\n",
       "    .dataframe thead th {\n",
       "        text-align: right;\n",
       "    }\n",
       "</style>\n",
       "<table border=\"1\" class=\"dataframe\">\n",
       "  <thead>\n",
       "    <tr style=\"text-align: right;\">\n",
       "      <th></th>\n",
       "      <th>Sepal-length</th>\n",
       "      <th>Sepal-width</th>\n",
       "      <th>Petal-length</th>\n",
       "      <th>Petal-width</th>\n",
       "      <th>Species</th>\n",
       "    </tr>\n",
       "  </thead>\n",
       "  <tbody>\n",
       "    <tr>\n",
       "      <th>0</th>\n",
       "      <td>5.1</td>\n",
       "      <td>3.5</td>\n",
       "      <td>1.4</td>\n",
       "      <td>0.2</td>\n",
       "      <td>Iris-setosa</td>\n",
       "    </tr>\n",
       "    <tr>\n",
       "      <th>1</th>\n",
       "      <td>4.9</td>\n",
       "      <td>3.0</td>\n",
       "      <td>1.4</td>\n",
       "      <td>0.2</td>\n",
       "      <td>Iris-setosa</td>\n",
       "    </tr>\n",
       "    <tr>\n",
       "      <th>2</th>\n",
       "      <td>4.7</td>\n",
       "      <td>3.2</td>\n",
       "      <td>1.3</td>\n",
       "      <td>0.2</td>\n",
       "      <td>Iris-setosa</td>\n",
       "    </tr>\n",
       "    <tr>\n",
       "      <th>3</th>\n",
       "      <td>4.6</td>\n",
       "      <td>3.1</td>\n",
       "      <td>1.5</td>\n",
       "      <td>0.2</td>\n",
       "      <td>Iris-setosa</td>\n",
       "    </tr>\n",
       "    <tr>\n",
       "      <th>4</th>\n",
       "      <td>5.0</td>\n",
       "      <td>3.6</td>\n",
       "      <td>1.4</td>\n",
       "      <td>0.2</td>\n",
       "      <td>Iris-setosa</td>\n",
       "    </tr>\n",
       "  </tbody>\n",
       "</table>\n",
       "</div>"
      ],
      "text/plain": [
       "   Sepal-length  Sepal-width  Petal-length  Petal-width      Species\n",
       "0           5.1          3.5           1.4          0.2  Iris-setosa\n",
       "1           4.9          3.0           1.4          0.2  Iris-setosa\n",
       "2           4.7          3.2           1.3          0.2  Iris-setosa\n",
       "3           4.6          3.1           1.5          0.2  Iris-setosa\n",
       "4           5.0          3.6           1.4          0.2  Iris-setosa"
      ]
     },
     "metadata": {},
     "execution_count": 14
    }
   ],
   "metadata": {}
  },
  {
   "cell_type": "code",
   "execution_count": 15,
   "source": [
    "# Check out class distribution\n",
    "iris.Species.value_counts()"
   ],
   "outputs": [
    {
     "output_type": "execute_result",
     "data": {
      "text/plain": [
       "Iris-versicolor    50\n",
       "Iris-virginica     50\n",
       "Iris-setosa        50\n",
       "Name: Species, dtype: int64"
      ]
     },
     "metadata": {},
     "execution_count": 15
    }
   ],
   "metadata": {}
  },
  {
   "cell_type": "code",
   "execution_count": 16,
   "source": [
    "# Create y and X. Not going to split these data for this demonstration.\n",
    "y = iris.Species.values\n",
    "X = iris.drop(\"Species\", axis=\"columns\")"
   ],
   "outputs": [],
   "metadata": {}
  },
  {
   "cell_type": "code",
   "execution_count": 17,
   "source": [
    "# Fit the data using Sklearn's Logistic Regression\n",
    "IRISLR = LogisticRegression(penalty='none',solver='newton-cg',C=0.01)\n",
    "irislr = IRISLR.fit(X,y)\n",
    "print(f\"Intercepts: {irislr.intercept_} \\nCoefficients: {irislr.coef_}\")\n",
    "\n",
    "#IRISLR = LogisticRegression(penalty='l2',solver='newton-cg',C=0.01)\n",
    "#irislr = IRISLR.fit(X,y)\n",
    "#print(f\"Intercepts: {irislr.intercept_} \\nCoefficients: {irislr.coef_}\")"
   ],
   "outputs": [
    {
     "output_type": "stream",
     "name": "stdout",
     "text": [
      "Intercepts: [  2.40206528  20.11790045 -22.51996573] \n",
      "Coefficients: [[  5.0138507    7.98482269 -13.25066708  -6.85014369]\n",
      " [ -1.27431571  -0.65196623   1.91063625  -5.71800243]\n",
      " [ -3.739535    -7.33285646  11.34003082  12.56814612]]\n"
     ]
    },
    {
     "output_type": "stream",
     "name": "stderr",
     "text": [
      "/Users/dongbochen/opt/anaconda3/lib/python3.8/site-packages/sklearn/linear_model/_logistic.py:1322: UserWarning: Setting penalty='none' will ignore the C and l1_ratio parameters\n",
      "  warnings.warn(\n"
     ]
    }
   ],
   "metadata": {}
  },
  {
   "cell_type": "code",
   "execution_count": 18,
   "source": [
    "# Get the predictions\n",
    "yhat = irislr.predict(X)\n",
    "yhat_probs = irislr.predict_proba(X)\n",
    "yhat_probs"
   ],
   "outputs": [
    {
     "output_type": "execute_result",
     "data": {
      "text/plain": [
       "array([[1.00000000e+00, 9.00801004e-11, 1.39111881e-37],\n",
       "       [9.99999976e-01, 2.37830161e-08, 1.69771741e-33],\n",
       "       [9.99999997e-01, 3.26453360e-09, 3.90604899e-35],\n",
       "       [9.99999699e-01, 3.01229613e-07, 5.92995641e-32],\n",
       "       [1.00000000e+00, 7.12245120e-11, 7.21573511e-38],\n",
       "       [1.00000000e+00, 5.11290608e-11, 1.70796601e-36],\n",
       "       [9.99999994e-01, 5.55067876e-09, 3.57027559e-34],\n",
       "       [9.99999998e-01, 1.82498153e-09, 1.80599993e-35],\n",
       "       [9.99998691e-01, 1.30862537e-06, 6.24995300e-31],\n",
       "       [9.99999959e-01, 4.07807035e-08, 6.15547923e-34],\n",
       "       [1.00000000e+00, 1.10565378e-11, 5.50026768e-39],\n",
       "       [9.99999971e-01, 2.92340303e-08, 1.21615122e-33],\n",
       "       [9.99999960e-01, 3.98281607e-08, 5.84378857e-34],\n",
       "       [9.99999990e-01, 9.77928581e-09, 2.90794870e-35],\n",
       "       [1.00000000e+00, 7.08987732e-16, 1.04753514e-45],\n",
       "       [1.00000000e+00, 4.97787588e-15, 4.26483706e-43],\n",
       "       [1.00000000e+00, 1.18817296e-13, 9.13350480e-41],\n",
       "       [1.00000000e+00, 1.00878155e-10, 9.69817096e-37],\n",
       "       [1.00000000e+00, 1.64178290e-11, 8.20215236e-38],\n",
       "       [1.00000000e+00, 3.44327127e-11, 1.14534208e-37],\n",
       "       [9.99999997e-01, 3.06045612e-09, 7.44765868e-35],\n",
       "       [1.00000000e+00, 9.14598503e-11, 3.69401948e-36],\n",
       "       [1.00000000e+00, 2.04742368e-12, 1.27955118e-40],\n",
       "       [9.99999933e-01, 6.72444908e-08, 1.61324028e-30],\n",
       "       [9.99997238e-01, 2.76203145e-06, 1.94476761e-30],\n",
       "       [9.99999737e-01, 2.63068776e-07, 9.67456548e-32],\n",
       "       [9.99999990e-01, 1.04241835e-08, 1.02643012e-32],\n",
       "       [1.00000000e+00, 2.18768255e-10, 6.77906743e-37],\n",
       "       [1.00000000e+00, 1.13927414e-10, 2.68193265e-37],\n",
       "       [9.99999692e-01, 3.08433913e-07, 6.24624298e-32],\n",
       "       [9.99999610e-01, 3.90086991e-07, 1.20421070e-31],\n",
       "       [1.00000000e+00, 1.85024238e-10, 2.64697664e-35],\n",
       "       [1.00000000e+00, 1.09716052e-12, 9.91777434e-42],\n",
       "       [1.00000000e+00, 1.72435084e-14, 9.24861940e-44],\n",
       "       [9.99999954e-01, 4.56691556e-08, 4.29128620e-33],\n",
       "       [1.00000000e+00, 1.08667410e-10, 2.41720294e-37],\n",
       "       [1.00000000e+00, 1.59887840e-12, 3.58744243e-40],\n",
       "       [1.00000000e+00, 1.19275929e-10, 2.48376030e-38],\n",
       "       [9.99999879e-01, 1.21137286e-07, 1.15525664e-32],\n",
       "       [9.99999999e-01, 9.73121069e-10, 7.52597927e-36],\n",
       "       [1.00000000e+00, 4.15376279e-11, 1.99014219e-37],\n",
       "       [9.99969452e-01, 3.05476731e-05, 1.52231537e-27],\n",
       "       [9.99999978e-01, 2.15325730e-08, 5.39761383e-34],\n",
       "       [9.99999994e-01, 5.51172591e-09, 1.07830659e-31],\n",
       "       [9.99999983e-01, 1.65931046e-08, 1.49314706e-32],\n",
       "       [9.99999950e-01, 4.99489988e-08, 2.84017901e-32],\n",
       "       [1.00000000e+00, 1.40039324e-10, 1.92118880e-37],\n",
       "       [9.99999972e-01, 2.78843014e-08, 1.09610668e-33],\n",
       "       [1.00000000e+00, 2.07353204e-11, 1.31989243e-38],\n",
       "       [9.99999999e-01, 9.50391214e-10, 7.14489155e-36],\n",
       "       [6.16683017e-09, 9.99988277e-01, 1.17166550e-05],\n",
       "       [2.62556157e-09, 9.99951435e-01, 4.85620325e-05],\n",
       "       [5.96075528e-11, 9.98801377e-01, 1.19862271e-03],\n",
       "       [9.46571732e-12, 9.99957800e-01, 4.21999883e-05],\n",
       "       [3.41123652e-11, 9.98591536e-01, 1.40846359e-03],\n",
       "       [1.27505968e-12, 9.99898143e-01, 1.01856870e-04],\n",
       "       [1.42762089e-10, 9.98694279e-01, 1.30572101e-03],\n",
       "       [2.94677726e-08, 9.99999970e-01, 5.35175353e-10],\n",
       "       [1.90562189e-10, 9.99985418e-01, 1.45823070e-05],\n",
       "       [1.84728247e-10, 9.99985189e-01, 1.48104413e-05],\n",
       "       [8.41745728e-11, 9.99999960e-01, 3.99070199e-08],\n",
       "       [1.90076405e-09, 9.99962555e-01, 3.74430998e-05],\n",
       "       [1.30030022e-10, 9.99999900e-01, 9.94696067e-08],\n",
       "       [1.60924694e-12, 9.99201138e-01, 7.98862070e-04],\n",
       "       [1.36018152e-06, 9.99998626e-01, 1.37825342e-08],\n",
       "       [3.72427017e-08, 9.99997134e-01, 2.82881141e-06],\n",
       "       [3.04615720e-12, 9.98674007e-01, 1.32599337e-03],\n",
       "       [6.09352118e-10, 9.99999985e-01, 1.48113002e-08],\n",
       "       [1.24584465e-13, 9.40402026e-01, 5.95979738e-02],\n",
       "       [5.70464928e-10, 9.99999912e-01, 8.71253766e-08],\n",
       "       [5.07662071e-13, 5.95162183e-01, 4.04837817e-01],\n",
       "       [3.09154923e-08, 9.99999629e-01, 3.40576701e-07],\n",
       "       [5.97202540e-15, 7.75166387e-01, 2.24833613e-01],\n",
       "       [8.51525896e-13, 9.99959762e-01, 4.02377882e-05],\n",
       "       [5.11917963e-09, 9.99998584e-01, 1.41064578e-06],\n",
       "       [8.37253128e-09, 9.99992931e-01, 7.06012938e-06],\n",
       "       [1.21552371e-11, 9.99287593e-01, 7.12407303e-04],\n",
       "       [9.06704641e-13, 7.23938091e-01, 2.76061909e-01],\n",
       "       [1.58922218e-11, 9.99034854e-01, 9.65146344e-04],\n",
       "       [1.22283385e-06, 9.99998777e-01, 1.29039518e-10],\n",
       "       [5.84108349e-10, 9.99999915e-01, 8.46918766e-08],\n",
       "       [2.97926239e-09, 9.99999992e-01, 5.29872091e-09],\n",
       "       [1.00791944e-08, 9.99999903e-01, 8.70725024e-08],\n",
       "       [3.74421738e-17, 1.32369987e-01, 8.67630013e-01],\n",
       "       [8.65370874e-13, 9.97830794e-01, 2.16920570e-03],\n",
       "       [1.06610035e-09, 9.99787018e-01, 2.12980814e-04],\n",
       "       [3.51887317e-10, 9.99702029e-01, 2.97970564e-04],\n",
       "       [3.36515963e-12, 9.99744866e-01, 2.55134122e-04],\n",
       "       [1.64608749e-09, 9.99999210e-01, 7.88404273e-07],\n",
       "       [5.32536028e-11, 9.99988907e-01, 1.10925421e-05],\n",
       "       [3.28706028e-13, 9.99960302e-01, 3.96979023e-05],\n",
       "       [1.73955618e-11, 9.99840379e-01, 1.59620539e-04],\n",
       "       [9.33012929e-10, 9.99999563e-01, 4.36055388e-07],\n",
       "       [2.32995715e-08, 9.99999976e-01, 8.15793742e-10],\n",
       "       [2.70848706e-11, 9.99984979e-01, 1.50209818e-05],\n",
       "       [7.59042295e-10, 9.99999745e-01, 2.54121933e-07],\n",
       "       [2.85762673e-10, 9.99996914e-01, 3.08564272e-06],\n",
       "       [1.45551534e-09, 9.99997689e-01, 2.30963744e-06],\n",
       "       [2.07388815e-05, 9.99979261e-01, 6.16354597e-11],\n",
       "       [5.48734015e-10, 9.99997655e-01, 2.34412050e-06],\n",
       "       [3.67575260e-29, 2.58518638e-10, 1.00000000e+00],\n",
       "       [2.21091743e-20, 3.86090396e-04, 9.99613910e-01],\n",
       "       [1.12753846e-23, 9.65377082e-07, 9.99999035e-01],\n",
       "       [1.20058188e-21, 2.81148153e-04, 9.99718852e-01],\n",
       "       [9.90463123e-26, 9.07140896e-08, 9.99999909e-01],\n",
       "       [3.00042140e-29, 4.50214157e-09, 9.99999995e-01],\n",
       "       [4.33581789e-17, 1.09188041e-01, 8.90811959e-01],\n",
       "       [2.54293918e-25, 4.49875883e-06, 9.99995501e-01],\n",
       "       [6.35704110e-25, 7.90114558e-06, 9.99992099e-01],\n",
       "       [8.21283857e-25, 6.87050408e-09, 9.99999993e-01],\n",
       "       [3.05096998e-15, 9.74151746e-03, 9.90258483e-01],\n",
       "       [3.08770603e-20, 2.57096942e-04, 9.99742903e-01],\n",
       "       [1.52581092e-20, 2.00240988e-05, 9.99979976e-01],\n",
       "       [7.22319654e-22, 3.27220642e-05, 9.99967278e-01],\n",
       "       [6.21370302e-24, 8.05781594e-08, 9.99999919e-01],\n",
       "       [2.77098923e-20, 4.83408185e-06, 9.99995166e-01],\n",
       "       [3.73268912e-19, 2.30061562e-03, 9.97699384e-01],\n",
       "       [1.85335114e-25, 7.55075706e-08, 9.99999924e-01],\n",
       "       [2.02232527e-36, 6.06789233e-13, 1.00000000e+00],\n",
       "       [1.52806191e-18, 7.95076645e-02, 9.20492335e-01],\n",
       "       [1.17914866e-22, 3.81573221e-07, 9.99999618e-01],\n",
       "       [3.48379729e-19, 4.87007630e-04, 9.99512992e-01],\n",
       "       [2.00551276e-30, 3.67139783e-09, 9.99999996e-01],\n",
       "       [1.59135615e-15, 5.15660103e-02, 9.48433990e-01],\n",
       "       [4.60406274e-21, 1.76159567e-05, 9.99982384e-01],\n",
       "       [1.67721162e-20, 4.41389660e-04, 9.99558610e-01],\n",
       "       [3.11902065e-14, 1.75455900e-01, 8.24544100e-01],\n",
       "       [2.31474005e-14, 1.97700894e-01, 8.02299106e-01],\n",
       "       [1.83845537e-24, 7.64716982e-07, 9.99999235e-01],\n",
       "       [5.06039404e-18, 2.87985066e-02, 9.71201493e-01],\n",
       "       [2.58730839e-24, 3.12520500e-06, 9.99996875e-01],\n",
       "       [8.29400880e-20, 8.10842367e-05, 9.99918916e-01],\n",
       "       [2.63710705e-25, 1.22841093e-07, 9.99999877e-01],\n",
       "       [3.94041084e-15, 7.95125965e-01, 2.04874035e-01],\n",
       "       [4.80785031e-21, 3.35952157e-02, 9.66404784e-01],\n",
       "       [3.23957426e-25, 1.65857299e-08, 9.99999983e-01],\n",
       "       [2.21692979e-23, 1.36411231e-07, 9.99999864e-01],\n",
       "       [7.18756656e-19, 3.50271452e-03, 9.96497285e-01],\n",
       "       [9.40784558e-14, 3.30857625e-01, 6.69142375e-01],\n",
       "       [1.98064753e-18, 1.28300942e-04, 9.99871699e-01],\n",
       "       [7.42430425e-24, 4.92788417e-08, 9.99999951e-01],\n",
       "       [6.51731452e-17, 5.60385329e-05, 9.99943961e-01],\n",
       "       [2.21091743e-20, 3.86090396e-04, 9.99613910e-01],\n",
       "       [3.59329702e-25, 4.52364082e-08, 9.99999955e-01],\n",
       "       [1.94915525e-24, 1.17296355e-08, 9.99999988e-01],\n",
       "       [2.09209709e-19, 6.83472619e-06, 9.99993165e-01],\n",
       "       [9.60747773e-19, 8.93311224e-04, 9.99106689e-01],\n",
       "       [1.22974499e-17, 1.00608050e-03, 9.98993920e-01],\n",
       "       [8.80728157e-21, 4.37491200e-06, 9.99995625e-01],\n",
       "       [3.58205177e-17, 2.23210970e-02, 9.77678903e-01]])"
      ]
     },
     "metadata": {},
     "execution_count": 18
    }
   ],
   "metadata": {}
  },
  {
   "cell_type": "code",
   "execution_count": 19,
   "source": [
    "conf = confusion_matrix(yhat,y)\n"
   ],
   "outputs": [],
   "metadata": {}
  },
  {
   "cell_type": "code",
   "execution_count": 20,
   "source": [
    "from sklearn.metrics import confusion_matrix, ConfusionMatrixDisplay\n",
    "\n",
    "ConfusionMatrixDisplay(conf).plot()\n",
    "plt.show()"
   ],
   "outputs": [
    {
     "output_type": "display_data",
     "data": {
      "image/png": "[encoded data removed]",
      "text/plain": [
       "<Figure size 432x288 with 2 Axes>"
      ]
     },
     "metadata": {
      "needs_background": "light"
     }
    }
   ],
   "metadata": {}
  }
 ],
 "metadata": {
  "kernelspec": {
   "name": "python3",
   "display_name": "Python 3.8.8 64-bit ('base': conda)"
  },
  "language_info": {
   "codemirror_mode": {
    "name": "ipython",
    "version": 3
   },
   "file_extension": ".py",
   "mimetype": "text/x-python",
   "name": "python",
   "nbconvert_exporter": "python",
   "pygments_lexer": "ipython3",
   "version": "3.8.8"
  },
  "interpreter": {
   "hash": "3e3cdb513d8b009e359d4b3e7f574fce1612b688225bda942a317dab79b260d0"
  }
 },
 "nbformat": 4,
 "nbformat_minor": 4
}