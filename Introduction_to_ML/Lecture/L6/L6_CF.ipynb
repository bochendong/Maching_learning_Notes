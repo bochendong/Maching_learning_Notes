{
 "cells": [
  {
   "cell_type": "markdown",
   "source": [
    "# Feature Construction, Regularization\n",
    "\n",
    "<img src=\"https://miro.medium.com/max/761/1*nrWncnoJ4V_BkzEf1pd4MA.png\" width=500>\n"
   ],
   "metadata": {}
  },
  {
   "cell_type": "code",
   "execution_count": 1,
   "source": [
    "import matplotlib.pyplot as plt \n",
    "import seaborn as sns\n",
    "import numpy as np\n",
    "import pandas as pd\n",
    "import sklearn as sk\n",
    "from sklearn.preprocessing import PolynomialFeatures, StandardScaler\n",
    "from sklearn.model_selection import train_test_split, cross_val_score, KFold, LeaveOneOut\n",
    "from sklearn.linear_model import LinearRegression, Ridge, Lasso\n",
    "from sklearn.pipeline import Pipeline\n",
    "from sklearn.base import BaseEstimator, TransformerMixin\n",
    "from sklearn.decomposition import PCA\n",
    "from sklearn.preprocessing import StandardScaler, PolynomialFeatures\n",
    "from sklearn.metrics import mean_squared_error, mean_absolute_error, make_scorer\n",
    "pd.set_option('display.max_columns', 500)\n",
    "%matplotlib inline"
   ],
   "outputs": [],
   "metadata": {}
  },
  {
   "cell_type": "markdown",
   "source": [
    "## Part 1: Construct features, Ridge"
   ],
   "metadata": {}
  },
  {
   "cell_type": "code",
   "execution_count": 2,
   "source": [
    "# First, read the csv into a df\n",
    "\n",
    "df = pd.read_csv(\"L6.csv\")\n",
    "#display(df)\n",
    "\n",
    "plt.scatter(df.x,df.y)"
   ],
   "outputs": [
    {
     "output_type": "execute_result",
     "data": {
      "text/plain": [
       "<matplotlib.collections.PathCollection at 0x13e36b5ac08>"
      ]
     },
     "metadata": {},
     "execution_count": 2
    },
    {
     "output_type": "display_data",
     "data": {
      "image/png": "[encoded data removed]",
      "text/plain": [
       "<Figure size 432x288 with 1 Axes>"
      ]
     },
     "metadata": {
      "needs_background": "light"
     }
    }
   ],
   "metadata": {}
  },
  {
   "cell_type": "code",
   "execution_count": 3,
   "source": [
    "# Build linear regression model with Pipeline, fit and predict\n",
    "M1 = Pipeline([\n",
    "    ('poly1', PolynomialFeatures(degree=6, include_bias=False)),\n",
    "    ('lin1', LinearRegression(fit_intercept=True))\n",
    "])"
   ],
   "outputs": [],
   "metadata": {}
  },
  {
   "cell_type": "code",
   "execution_count": 4,
   "source": [
    "# Define the x values and x_new values here\n",
    "x = df.x.values.reshape(-1,1)\n",
    "x_new = np.linspace(-1,1,len(x)).reshape(-1,1)\n",
    "\n",
    "# Plot the points, also plot prediction\n",
    "plt.scatter(x, df.y)\n",
    "ypred = M1.fit(x,df.y).predict(x_new)\n",
    "plt.plot(x_new, ypred)"
   ],
   "outputs": [
    {
     "output_type": "execute_result",
     "data": {
      "text/plain": [
       "[<matplotlib.lines.Line2D at 0x13e36cae648>]"
      ]
     },
     "metadata": {},
     "execution_count": 4
    },
    {
     "output_type": "display_data",
     "data": {
      "image/png": "[encoded data removed]",
      "text/plain": [
       "<Figure size 432x288 with 1 Axes>"
      ]
     },
     "metadata": {
      "needs_background": "light"
     }
    }
   ],
   "metadata": {}
  },
  {
   "cell_type": "code",
   "execution_count": 5,
   "source": [
    "# This seems wiggly. What if we use Ridge regression? \n",
    "# Side note: In practice, we don't shrink the bias term\n",
    "# <https://stats.stackexchange.com/questions/86991/reason-for-not-shrinking-the-bias-intercept-term-in-regression>\n",
    "M2 = Pipeline([\n",
    "    ('poly2', PolynomialFeatures(degree=6,include_bias=False)),\n",
    "    ('scal2', StandardScaler()),\n",
    "    ('ridge2', Ridge(alpha=5.0, fit_intercept=True))\n",
    "])\n",
    "\n",
    "plt.scatter(x, df.y)\n",
    "ypred = M2.fit(x,df.y).predict(x_new)\n",
    "plt.plot(x_new, ypred)"
   ],
   "outputs": [
    {
     "output_type": "execute_result",
     "data": {
      "text/plain": [
       "[<matplotlib.lines.Line2D at 0x13e36d20d88>]"
      ]
     },
     "metadata": {},
     "execution_count": 5
    },
    {
     "output_type": "display_data",
     "data": {
      "image/png": "[encoded data removed]",
      "text/plain": [
       "<Figure size 432x288 with 1 Axes>"
      ]
     },
     "metadata": {
      "needs_background": "light"
     }
    }
   ],
   "metadata": {}
  },
  {
   "cell_type": "code",
   "execution_count": 6,
   "source": [
    "# Aside: what features did we construct (PolynomialFeatures)?\n",
    "Xc = M1.named_steps['poly1'].fit_transform(df.x.values.reshape(-1,1))\n",
    "display(pd.DataFrame(Xc).head())\n",
    "\n",
    "# We standardized our features for effective regularization\n",
    "#print((Xc[1,2]-np.mean(Xc[:,2]))/np.std(Xc[:,2])) #check formula\n",
    "Xc = StandardScaler().fit_transform(Xc)\n",
    "display(pd.DataFrame(Xc).head())"
   ],
   "outputs": [
    {
     "output_type": "display_data",
     "data": {
      "text/html": [
       "<div>\n",
       "<style scoped>\n",
       "    .dataframe tbody tr th:only-of-type {\n",
       "        vertical-align: middle;\n",
       "    }\n",
       "\n",
       "    .dataframe tbody tr th {\n",
       "        vertical-align: top;\n",
       "    }\n",
       "\n",
       "    .dataframe thead th {\n",
       "        text-align: right;\n",
       "    }\n",
       "</style>\n",
       "<table border=\"1\" class=\"dataframe\">\n",
       "  <thead>\n",
       "    <tr style=\"text-align: right;\">\n",
       "      <th></th>\n",
       "      <th>0</th>\n",
       "      <th>1</th>\n",
       "      <th>2</th>\n",
       "      <th>3</th>\n",
       "      <th>4</th>\n",
       "      <th>5</th>\n",
       "    </tr>\n",
       "  </thead>\n",
       "  <tbody>\n",
       "    <tr>\n",
       "      <th>0</th>\n",
       "      <td>-1.000000</td>\n",
       "      <td>1.000000</td>\n",
       "      <td>-1.000000</td>\n",
       "      <td>1.000000</td>\n",
       "      <td>-1.000000</td>\n",
       "      <td>1.000000</td>\n",
       "    </tr>\n",
       "    <tr>\n",
       "      <th>1</th>\n",
       "      <td>-0.894737</td>\n",
       "      <td>0.800554</td>\n",
       "      <td>-0.716285</td>\n",
       "      <td>0.640887</td>\n",
       "      <td>-0.573425</td>\n",
       "      <td>0.513064</td>\n",
       "    </tr>\n",
       "    <tr>\n",
       "      <th>2</th>\n",
       "      <td>-0.789474</td>\n",
       "      <td>0.623269</td>\n",
       "      <td>-0.492054</td>\n",
       "      <td>0.388464</td>\n",
       "      <td>-0.306682</td>\n",
       "      <td>0.242117</td>\n",
       "    </tr>\n",
       "    <tr>\n",
       "      <th>3</th>\n",
       "      <td>-0.684211</td>\n",
       "      <td>0.468144</td>\n",
       "      <td>-0.320309</td>\n",
       "      <td>0.219159</td>\n",
       "      <td>-0.149951</td>\n",
       "      <td>0.102598</td>\n",
       "    </tr>\n",
       "    <tr>\n",
       "      <th>4</th>\n",
       "      <td>-0.578947</td>\n",
       "      <td>0.335180</td>\n",
       "      <td>-0.194052</td>\n",
       "      <td>0.112346</td>\n",
       "      <td>-0.065042</td>\n",
       "      <td>0.037656</td>\n",
       "    </tr>\n",
       "  </tbody>\n",
       "</table>\n",
       "</div>"
      ],
      "text/plain": [
       "          0         1         2         3         4         5\n",
       "0 -1.000000  1.000000 -1.000000  1.000000 -1.000000  1.000000\n",
       "1 -0.894737  0.800554 -0.716285  0.640887 -0.573425  0.513064\n",
       "2 -0.789474  0.623269 -0.492054  0.388464 -0.306682  0.242117\n",
       "3 -0.684211  0.468144 -0.320309  0.219159 -0.149951  0.102598\n",
       "4 -0.578947  0.335180 -0.194052  0.112346 -0.065042  0.037656"
      ]
     },
     "metadata": {}
    },
    {
     "output_type": "display_data",
     "data": {
      "text/html": [
       "<div>\n",
       "<style scoped>\n",
       "    .dataframe tbody tr th:only-of-type {\n",
       "        vertical-align: middle;\n",
       "    }\n",
       "\n",
       "    .dataframe tbody tr th {\n",
       "        vertical-align: top;\n",
       "    }\n",
       "\n",
       "    .dataframe thead th {\n",
       "        text-align: right;\n",
       "    }\n",
       "</style>\n",
       "<table border=\"1\" class=\"dataframe\">\n",
       "  <thead>\n",
       "    <tr style=\"text-align: right;\">\n",
       "      <th></th>\n",
       "      <th>0</th>\n",
       "      <th>1</th>\n",
       "      <th>2</th>\n",
       "      <th>3</th>\n",
       "      <th>4</th>\n",
       "      <th>5</th>\n",
       "    </tr>\n",
       "  </thead>\n",
       "  <tbody>\n",
       "    <tr>\n",
       "      <th>0</th>\n",
       "      <td>-1.647509</td>\n",
       "      <td>1.923876</td>\n",
       "      <td>-2.288395</td>\n",
       "      <td>2.354589</td>\n",
       "      <td>-2.625946</td>\n",
       "      <td>2.598636</td>\n",
       "    </tr>\n",
       "    <tr>\n",
       "      <th>1</th>\n",
       "      <td>-1.474087</td>\n",
       "      <td>1.316336</td>\n",
       "      <td>-1.639144</td>\n",
       "      <td>1.236850</td>\n",
       "      <td>-1.505783</td>\n",
       "      <td>1.034603</td>\n",
       "    </tr>\n",
       "    <tr>\n",
       "      <th>2</th>\n",
       "      <td>-1.300665</td>\n",
       "      <td>0.776301</td>\n",
       "      <td>-1.126015</td>\n",
       "      <td>0.451184</td>\n",
       "      <td>-0.805330</td>\n",
       "      <td>0.164323</td>\n",
       "    </tr>\n",
       "    <tr>\n",
       "      <th>3</th>\n",
       "      <td>-1.127243</td>\n",
       "      <td>0.303770</td>\n",
       "      <td>-0.732994</td>\n",
       "      <td>-0.075777</td>\n",
       "      <td>-0.393763</td>\n",
       "      <td>-0.283812</td>\n",
       "    </tr>\n",
       "    <tr>\n",
       "      <th>4</th>\n",
       "      <td>-0.953821</td>\n",
       "      <td>-0.101257</td>\n",
       "      <td>-0.444067</td>\n",
       "      <td>-0.408233</td>\n",
       "      <td>-0.170797</td>\n",
       "      <td>-0.492405</td>\n",
       "    </tr>\n",
       "  </tbody>\n",
       "</table>\n",
       "</div>"
      ],
      "text/plain": [
       "          0         1         2         3         4         5\n",
       "0 -1.647509  1.923876 -2.288395  2.354589 -2.625946  2.598636\n",
       "1 -1.474087  1.316336 -1.639144  1.236850 -1.505783  1.034603\n",
       "2 -1.300665  0.776301 -1.126015  0.451184 -0.805330  0.164323\n",
       "3 -1.127243  0.303770 -0.732994 -0.075777 -0.393763 -0.283812\n",
       "4 -0.953821 -0.101257 -0.444067 -0.408233 -0.170797 -0.492405"
      ]
     },
     "metadata": {}
    }
   ],
   "metadata": {}
  },
  {
   "cell_type": "code",
   "execution_count": 7,
   "source": [
    "# How do the coefficients look?\n",
    "\n",
    "print(f\"M1 coefficients: {M1.named_steps['lin1'].coef_} | intercept: {M1.named_steps['lin1'].intercept_}\")\n",
    "print(f\"M2 coefficients: {M2.named_steps['ridge2'].coef_} | intercept: {M2.named_steps['ridge2'].intercept_}\")"
   ],
   "outputs": [
    {
     "output_type": "stream",
     "name": "stdout",
     "text": [
      "M1 coefficients: [ 0.86649497 -3.7238559  -0.33985167  9.27759149  0.33285497 -5.95498747] | intercept: 10.286410833194555\n",
      "M2 coefficients: [ 0.26264477 -0.03604224  0.12595432  0.01336734  0.06098453 -0.0009332 ] | intercept: 10.03645005795\n"
     ]
    }
   ],
   "metadata": {}
  },
  {
   "cell_type": "markdown",
   "source": [
    "## Part 2: Finding a better $\\lambda$ (Hyperparam tuning)"
   ],
   "metadata": {}
  },
  {
   "cell_type": "code",
   "execution_count": 8,
   "source": [
    "# Ok, let's compare models with various hyperparameters using 5-fold CV\n",
    "# We'll consider some range of lambda values and get our cv scores\n",
    "# (\"lambda\" [regularization coefficient] is called \"alpha\" in sklearn.Ridge)\n",
    "\n",
    "lam = np.exp(np.linspace(-4,4,100))\n",
    "mses = np.zeros(len(lam))\n",
    "for i in range(len(lam)):\n",
    "    M3 = Pipeline([\n",
    "        ('poly3', PolynomialFeatures(degree=6,include_bias=False)),\n",
    "        ('scal3', StandardScaler()),\n",
    "        ('ridge3', Ridge(alpha=lam[i], fit_intercept=True))\n",
    "    ])\n",
    "    #M3.set_params(**{'ridge3':Ridge(alpha=lam[i],fit_intercept=True)})\n",
    "    cvsc = cross_val_score(M3, x, df.y,cv=5,scoring = 'neg_mean_squared_error')\n",
    "    mses[i] = -cvsc.mean()\n",
    "    print(f\"lam: {lam[i]} | MSE: {mses[i]}\")\n",
    "\n",
    "plt.plot(np.log(lam),mses)"
   ],
   "outputs": [
    {
     "output_type": "stream",
     "name": "stdout",
     "text": [
      "lam: 0.01831563888873418 | MSE: 0.8095927451701815\n",
      "lam: 0.0198571344320536 | MSE: 0.7103012820909573\n",
      "lam: 0.021528366564116053 | MSE: 0.6230984069747512\n",
      "lam: 0.023340254280134736 | MSE: 0.5468734519574396\n",
      "lam: 0.02530463554858724 | MSE: 0.48062784476867976\n",
      "lam: 0.02743434465458312 | MSE: 0.42345612464203175\n",
      "lam: 0.029743296052666266 | MSE: 0.3745291490355087\n",
      "lam: 0.03224657527690433 | MSE: 0.33307982649304996\n",
      "lam: 0.03496053750222628 | MSE: 0.2983915269759314\n",
      "lam: 0.03790291440095852 | MSE: 0.2697891579977192\n",
      "lam: 0.04109292999270688 | MSE: 0.24663275852708905\n",
      "lam: 0.04455142624448969 | MSE: 0.2283133564068077\n",
      "lam: 0.04830099924173013 | MSE: 0.2142507603305089\n",
      "lam: 0.05236614681978153 | MSE: 0.20389291348818422\n",
      "lam: 0.05677342862053571 | MSE: 0.19671642029073577\n",
      "lam: 0.06155163961984455 | MSE: 0.1922278661762185\n",
      "lam: 0.0667319982594962 | MSE: 0.1899655785480307\n",
      "lam: 0.07234835041290566 | MSE: 0.18950151915858973\n",
      "lam: 0.07843739051713067 | MSE: 0.19044304957471242\n",
      "lam: 0.08503890131597773 | MSE: 0.19243436702950867\n",
      "lam: 0.09219601378056068 | MSE: 0.19515746398850928\n",
      "lam: 0.09995548890550252 | MSE: 0.19833251799430193\n",
      "lam: 0.10836802322189586 | MSE: 0.20171766655619341\n",
      "lam: 0.11748858002309155 | MSE: 0.20510816359358403\n",
      "lam: 0.1273767484673777 | MSE: 0.20833494850538997\n",
      "lam: 0.13809713290374892 | MSE: 0.21126268615575347\n",
      "lam: 0.14971977496442293 | MSE: 0.2137873561662876\n",
      "lam: 0.1623206111818482 | MSE: 0.2158334833700135\n",
      "lam: 0.17598196912004221 | MSE: 0.2173511087363018\n",
      "lam: 0.1907931052617347 | MSE: 0.21831260221297882\n",
      "lam: 0.20685078816560218 | MSE: 0.21870941646485803\n",
      "lam: 0.22425993070365 | MSE: 0.2185488741382024\n",
      "lam: 0.2431342755094669 | MSE: 0.21785107176975296\n",
      "lam: 0.2635971381157268 | MSE: 0.21664597151919743\n",
      "lam: 0.28578221263622744 | MSE: 0.214970738273856\n",
      "lam: 0.30983444525638876 | MSE: 0.21286736509821633\n",
      "lam: 0.3359109812391624 | MSE: 0.21038061520624018\n",
      "lam: 0.364182191633615 | MSE: 0.207556294308336\n",
      "lam: 0.39483278639418434 | MSE: 0.20443985394074363\n",
      "lam: 0.4280630211831761 | MSE: 0.20107531472999124\n",
      "lam: 0.4640900057411423 | MSE: 0.19750448885434585\n",
      "lam: 0.503149122373382 | MSE: 0.1937664734640105\n",
      "lam: 0.5454955638202436 | MSE: 0.18989738158692487\n",
      "lam: 0.5914060005589061 | MSE: 0.18593027400962903\n",
      "lam: 0.6411803884299547 | MSE: 0.18189525459432518\n",
      "lam: 0.695143928398879 | MSE: 0.17781969219336408\n",
      "lam: 0.7536491912565965 | MSE: 0.1737285344121667\n",
      "lam: 0.8170784211407317 | MSE: 0.169644681586189\n",
      "lam: 0.8858460329277069 | MSE: 0.16558939311662618\n",
      "lam: 0.960401319812358 | MSE: 0.1615827024201113\n",
      "lam: 1.0412313887650417 | MSE: 0.15764382090178863\n",
      "lam: 1.1288643430450513 | MSE: 0.1537915153258232\n",
      "lam: 1.2238727325632837 | MSE: 0.15004444655920282\n",
      "lam: 1.3268772946371126 | MSE: 0.1464214607896813\n",
      "lam: 1.4385510095776786 | MSE: 0.14294182690946206\n",
      "lam: 1.559623497606781 | MSE: 0.13962541580700072\n",
      "lam: 1.690885785830638 | MSE: 0.13649281886005002\n",
      "lam: 1.8331954764155134 | MSE: 0.1335654040528711\n",
      "lam: 1.987482349731518 | MSE: 0.13086530895970583\n",
      "lam: 2.1547544390726996 | MSE: 0.1284153704778756\n",
      "lam: 2.3361046166426087 | MSE: 0.12623899180127868\n",
      "lam: 2.532717733834908 | MSE: 0.12435994784119\n",
      "lam: 2.7458783624599885 | MSE: 0.12280213125249873\n",
      "lam: 2.9769791874949734 | MSE: 0.12158924250453393\n",
      "lam: 3.227530106191061 | MSE: 0.1207444290944519\n",
      "lam: 3.499168092987305 | MSE: 0.12028988102696259\n",
      "lam: 3.79366789468318 | MSE: 0.1202463919996681\n",
      "lam: 4.11295362574687 | MSE: 0.12063289819435745\n",
      "lam: 4.4591113395172615 | MSE: 0.12146600897797291\n",
      "lam: 4.834402657433497 | MSE: 0.12275954591703227\n",
      "lam: 5.241279545338791 | MSE: 0.12452410804280611\n",
      "lam: 5.682400333399344 | MSE: 0.12676668202121846\n",
      "lam: 6.160647084304641 | MSE: 0.12949031557679033\n",
      "lam: 6.679144423224154 | MSE: 0.13269387106614375\n",
      "lam: 7.24127995254602 | MSE: 0.13637187346647112\n",
      "lam: 7.850726384777436 | MSE: 0.14051446332473005\n",
      "lam: 8.51146553821195 | MSE: 0.1451074606045316\n",
      "lam: 9.227814352139525 | MSE: 0.1501325401687838\n",
      "lam: 10.004453091569555 | MSE: 0.15556751421689125\n",
      "lam: 10.846455925742509 | MSE: 0.16138671175835678\n",
      "lam: 11.759324080214963 | MSE: 0.16756144054317298\n",
      "lam: 12.749021779116953 | MSE: 0.17406051312587614\n",
      "lam: 13.822015212410687 | MSE: 0.18085081617172677\n",
      "lam: 14.985314782742885 | MSE: 0.18789790086857047\n",
      "lam: 16.246520907910877 | MSE: 0.1951665724164552\n",
      "lam: 17.61387367819261 | MSE: 0.20262145794469538\n",
      "lam: 19.096306692976814 | MSE: 0.21022753467083827\n",
      "lam: 20.70350542843513 | MSE: 0.21795060341402522\n",
      "lam: 22.44597051758101 | MSE: 0.22575769641130378\n",
      "lam: 24.335086356156147 | MSE: 0.2336174124541593\n",
      "lam: 26.383195482580412 | MSE: 0.241500176376333\n",
      "lam: 28.603679217927372 | MSE: 0.24937842363545393\n",
      "lam: 31.011045092786073 | MSE: 0.25722671394745006\n",
      "lam: 33.621021632212745 | MSE: 0.26502178052362335\n",
      "lam: 36.450661118050185 | MSE: 0.27274252335724836\n",
      "lam: 39.51845100001175 | MSE: 0.28036995619821836\n",
      "lam: 42.84443468343513 | MSE: 0.2878871173769108\n",
      "lam: 46.450342482871996 | MSE: 0.29527895456477465\n",
      "lam: 50.359733597098966 | MSE: 0.3025321929865525\n",
      "lam: 54.598150033144236 | MSE: 0.3096351956381905\n"
     ]
    },
    {
     "output_type": "execute_result",
     "data": {
      "text/plain": [
       "[<matplotlib.lines.Line2D at 0x13e37245048>]"
      ]
     },
     "metadata": {},
     "execution_count": 8
    },
    {
     "output_type": "display_data",
     "data": {
      "image/png": "[encoded data removed]",
      "text/plain": [
       "<Figure size 432x288 with 1 Axes>"
      ]
     },
     "metadata": {
      "needs_background": "light"
     }
    }
   ],
   "metadata": {}
  },
  {
   "cell_type": "code",
   "execution_count": 9,
   "source": [
    "# So low let's look at the crossvalidation error for the best setting of lambda \n",
    "M3 = Pipeline([\n",
    "        ('poly3', PolynomialFeatures(degree=6,include_bias=False)),\n",
    "        ('scal3', StandardScaler()),\n",
    "        ('ridge3', Ridge(alpha=np.exp(1.5), fit_intercept=True))\n",
    "    ])\n",
    "\n",
    "print(-cross_val_score(M2, x, df.y,cv=5,scoring = 'neg_mean_squared_error').mean())"
   ],
   "outputs": [
    {
     "output_type": "stream",
     "name": "stdout",
     "text": [
      "0.12343727045629886\n"
     ]
    }
   ],
   "metadata": {}
  },
  {
   "cell_type": "markdown",
   "source": [
    "## Part 3: Lasso Regularization"
   ],
   "metadata": {}
  },
  {
   "cell_type": "code",
   "execution_count": 14,
   "source": [
    "# Finally, let's consider the same dataset and perform Lasso Regularization\n",
    "M4 = Pipeline([\n",
    "    ('poly4',PolynomialFeatures(degree=6,include_bias=False)),\n",
    "    ('scal4', StandardScaler()),\n",
    "    ('lasso4', Lasso(alpha=0.005, fit_intercept=True))\n",
    "])\n",
    "\n",
    "ypred4 = M4.fit(x,df.y).predict(x_new)\n",
    "plt.scatter(x,df.y)\n",
    "plt.plot(x,ypred,'r-',x,ypred4,'b-')"
   ],
   "outputs": [
    {
     "output_type": "execute_result",
     "data": {
      "text/plain": [
       "[<matplotlib.lines.Line2D at 0x13e37395ec8>,\n",
       " <matplotlib.lines.Line2D at 0x13e373b45c8>]"
      ]
     },
     "metadata": {},
     "execution_count": 14
    },
    {
     "output_type": "display_data",
     "data": {
      "image/png": "[encoded data removed]",
      "text/plain": [
       "<Figure size 432x288 with 1 Axes>"
      ]
     },
     "metadata": {
      "needs_background": "light"
     }
    }
   ],
   "metadata": {}
  },
  {
   "cell_type": "code",
   "execution_count": 15,
   "source": [
    "# Let's check the coefficients. What do you notice compared to the ridge? \n",
    "(M2.named_steps['ridge2'].coef_, M4.named_steps['lasso4'].coef_)"
   ],
   "outputs": [
    {
     "output_type": "execute_result",
     "data": {
      "text/plain": [
       "(array([ 0.26264477, -0.03604224,  0.12595432,  0.01336734,  0.06098453,\n",
       "        -0.0009332 ]),\n",
       " array([ 0.47117248, -0.06577208,  0.        ,  0.0393283 ,  0.02196659,\n",
       "         0.        ]))"
      ]
     },
     "metadata": {},
     "execution_count": 15
    }
   ],
   "metadata": {}
  }
 ],
 "metadata": {
  "kernelspec": {
   "display_name": "Python 3 (ipykernel)",
   "language": "python",
   "name": "python3"
  },
  "language_info": {
   "codemirror_mode": {
    "name": "ipython",
    "version": 3
   },
   "file_extension": ".py",
   "mimetype": "text/x-python",
   "name": "python",
   "nbconvert_exporter": "python",
   "pygments_lexer": "ipython3",
   "version": "3.7.6"
  }
 },
 "nbformat": 4,
 "nbformat_minor": 4
}