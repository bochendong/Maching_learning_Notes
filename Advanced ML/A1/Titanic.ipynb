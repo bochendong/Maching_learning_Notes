{
 "cells": [
  {
   "cell_type": "code",
<<<<<<< HEAD
   "execution_count": 2,
=======
   "execution_count": 1,
>>>>>>> 5c21b1f823b88fff53120b81be8a47cb47d9a719
   "source": [
    "import numpy as np\n",
    "import pandas as pd\n",
    "\n",
    "#visualization libraries\n",
    "import seaborn as sns\n",
    "\n",
    "import sklearn \n",
    "from sklearn.preprocessing import OneHotEncoder, LabelEncoder\n",
    "from sklearn.model_selection import train_test_split\n",
    "\n",
    "import matplotlib.pyplot as plt\n",
    "%matplotlib inline"
   ],
   "outputs": [],
   "metadata": {}
  },
  {
   "cell_type": "markdown",
   "source": [
    "# 1. Gather the data"
   ],
   "metadata": {}
  },
  {
   "cell_type": "code",
<<<<<<< HEAD
   "execution_count": 3,
=======
   "execution_count": 2,
>>>>>>> 5c21b1f823b88fff53120b81be8a47cb47d9a719
   "source": [
    "# Read in training and testing data using\n",
    "train = pd.read_csv(\"train.csv\")\n",
    "test = pd.read_csv(\"test.csv\")\n",
    "\n",
    "# See a sample of the dataset\n",
    "train.sample(5)"
   ],
   "outputs": [
    {
     "output_type": "execute_result",
     "data": {
      "text/html": [
       "<div>\n",
       "<style scoped>\n",
       "    .dataframe tbody tr th:only-of-type {\n",
       "        vertical-align: middle;\n",
       "    }\n",
       "\n",
       "    .dataframe tbody tr th {\n",
       "        vertical-align: top;\n",
       "    }\n",
       "\n",
       "    .dataframe thead th {\n",
       "        text-align: right;\n",
       "    }\n",
       "</style>\n",
       "<table border=\"1\" class=\"dataframe\">\n",
       "  <thead>\n",
       "    <tr style=\"text-align: right;\">\n",
       "      <th></th>\n",
       "      <th>PassengerId</th>\n",
       "      <th>Survived</th>\n",
       "      <th>Pclass</th>\n",
       "      <th>Name</th>\n",
       "      <th>Sex</th>\n",
       "      <th>Age</th>\n",
       "      <th>SibSp</th>\n",
       "      <th>Parch</th>\n",
       "      <th>Ticket</th>\n",
       "      <th>Fare</th>\n",
       "      <th>Cabin</th>\n",
       "      <th>Embarked</th>\n",
       "    </tr>\n",
       "  </thead>\n",
       "  <tbody>\n",
       "    <tr>\n",
<<<<<<< HEAD
       "      <th>715</th>\n",
       "      <td>716</td>\n",
       "      <td>0</td>\n",
       "      <td>3</td>\n",
       "      <td>Soholt, Mr. Peter Andreas Lauritz Andersen</td>\n",
       "      <td>male</td>\n",
       "      <td>19.0</td>\n",
       "      <td>0</td>\n",
       "      <td>0</td>\n",
       "      <td>348124</td>\n",
       "      <td>7.6500</td>\n",
       "      <td>F G73</td>\n",
       "      <td>S</td>\n",
       "    </tr>\n",
       "    <tr>\n",
       "      <th>555</th>\n",
       "      <td>556</td>\n",
       "      <td>0</td>\n",
       "      <td>1</td>\n",
       "      <td>Wright, Mr. George</td>\n",
=======
       "      <th>590</th>\n",
       "      <td>591</td>\n",
       "      <td>0</td>\n",
       "      <td>3</td>\n",
       "      <td>Rintamaki, Mr. Matti</td>\n",
       "      <td>male</td>\n",
       "      <td>35.0</td>\n",
       "      <td>0</td>\n",
       "      <td>0</td>\n",
       "      <td>STON/O 2. 3101273</td>\n",
       "      <td>7.1250</td>\n",
       "      <td>NaN</td>\n",
       "      <td>S</td>\n",
       "    </tr>\n",
       "    <tr>\n",
       "      <th>640</th>\n",
       "      <td>641</td>\n",
       "      <td>0</td>\n",
       "      <td>3</td>\n",
       "      <td>Jensen, Mr. Hans Peder</td>\n",
>>>>>>> 5c21b1f823b88fff53120b81be8a47cb47d9a719
       "      <td>male</td>\n",
       "      <td>20.0</td>\n",
       "      <td>0</td>\n",
       "      <td>0</td>\n",
<<<<<<< HEAD
       "      <td>113807</td>\n",
       "      <td>26.5500</td>\n",
=======
       "      <td>350050</td>\n",
       "      <td>7.8542</td>\n",
>>>>>>> 5c21b1f823b88fff53120b81be8a47cb47d9a719
       "      <td>NaN</td>\n",
       "      <td>S</td>\n",
       "    </tr>\n",
       "    <tr>\n",
<<<<<<< HEAD
       "      <th>50</th>\n",
       "      <td>51</td>\n",
       "      <td>0</td>\n",
       "      <td>3</td>\n",
       "      <td>Panula, Master. Juha Niilo</td>\n",
       "      <td>male</td>\n",
       "      <td>7.0</td>\n",
       "      <td>4</td>\n",
       "      <td>1</td>\n",
       "      <td>3101295</td>\n",
       "      <td>39.6875</td>\n",
=======
       "      <th>816</th>\n",
       "      <td>817</td>\n",
       "      <td>0</td>\n",
       "      <td>3</td>\n",
       "      <td>Heininen, Miss. Wendla Maria</td>\n",
       "      <td>female</td>\n",
       "      <td>23.0</td>\n",
       "      <td>0</td>\n",
       "      <td>0</td>\n",
       "      <td>STON/O2. 3101290</td>\n",
       "      <td>7.9250</td>\n",
>>>>>>> 5c21b1f823b88fff53120b81be8a47cb47d9a719
       "      <td>NaN</td>\n",
       "      <td>S</td>\n",
       "    </tr>\n",
       "    <tr>\n",
<<<<<<< HEAD
       "      <th>519</th>\n",
       "      <td>520</td>\n",
       "      <td>0</td>\n",
       "      <td>3</td>\n",
       "      <td>Pavlovic, Mr. Stefo</td>\n",
       "      <td>male</td>\n",
       "      <td>32.0</td>\n",
       "      <td>0</td>\n",
       "      <td>0</td>\n",
       "      <td>349242</td>\n",
       "      <td>7.8958</td>\n",
=======
       "      <th>437</th>\n",
       "      <td>438</td>\n",
       "      <td>1</td>\n",
       "      <td>2</td>\n",
       "      <td>Richards, Mrs. Sidney (Emily Hocking)</td>\n",
       "      <td>female</td>\n",
       "      <td>24.0</td>\n",
       "      <td>2</td>\n",
       "      <td>3</td>\n",
       "      <td>29106</td>\n",
       "      <td>18.7500</td>\n",
>>>>>>> 5c21b1f823b88fff53120b81be8a47cb47d9a719
       "      <td>NaN</td>\n",
       "      <td>S</td>\n",
       "    </tr>\n",
       "    <tr>\n",
<<<<<<< HEAD
       "      <th>230</th>\n",
       "      <td>231</td>\n",
       "      <td>1</td>\n",
       "      <td>1</td>\n",
       "      <td>Harris, Mrs. Henry Birkhardt (Irene Wallach)</td>\n",
       "      <td>female</td>\n",
       "      <td>35.0</td>\n",
=======
       "      <th>602</th>\n",
       "      <td>603</td>\n",
       "      <td>0</td>\n",
>>>>>>> 5c21b1f823b88fff53120b81be8a47cb47d9a719
       "      <td>1</td>\n",
       "      <td>Harrington, Mr. Charles H</td>\n",
       "      <td>male</td>\n",
       "      <td>NaN</td>\n",
       "      <td>0</td>\n",
<<<<<<< HEAD
       "      <td>36973</td>\n",
       "      <td>83.4750</td>\n",
       "      <td>C83</td>\n",
=======
       "      <td>0</td>\n",
       "      <td>113796</td>\n",
       "      <td>42.4000</td>\n",
       "      <td>NaN</td>\n",
>>>>>>> 5c21b1f823b88fff53120b81be8a47cb47d9a719
       "      <td>S</td>\n",
       "    </tr>\n",
       "  </tbody>\n",
       "</table>\n",
       "</div>"
      ],
      "text/plain": [
<<<<<<< HEAD
       "     PassengerId  Survived  Pclass  \\\n",
       "715          716         0       3   \n",
       "555          556         0       1   \n",
       "50            51         0       3   \n",
       "519          520         0       3   \n",
       "230          231         1       1   \n",
       "\n",
       "                                             Name     Sex   Age  SibSp  Parch  \\\n",
       "715    Soholt, Mr. Peter Andreas Lauritz Andersen    male  19.0      0      0   \n",
       "555                            Wright, Mr. George    male  62.0      0      0   \n",
       "50                     Panula, Master. Juha Niilo    male   7.0      4      1   \n",
       "519                           Pavlovic, Mr. Stefo    male  32.0      0      0   \n",
       "230  Harris, Mrs. Henry Birkhardt (Irene Wallach)  female  35.0      1      0   \n",
       "\n",
       "      Ticket     Fare  Cabin Embarked  \n",
       "715   348124   7.6500  F G73        S  \n",
       "555   113807  26.5500    NaN        S  \n",
       "50   3101295  39.6875    NaN        S  \n",
       "519   349242   7.8958    NaN        S  \n",
       "230    36973  83.4750    C83        S  "
      ]
     },
     "metadata": {},
     "execution_count": 3
=======
       "     PassengerId  Survived  Pclass                                   Name  \\\n",
       "590          591         0       3                   Rintamaki, Mr. Matti   \n",
       "640          641         0       3                 Jensen, Mr. Hans Peder   \n",
       "816          817         0       3           Heininen, Miss. Wendla Maria   \n",
       "437          438         1       2  Richards, Mrs. Sidney (Emily Hocking)   \n",
       "602          603         0       1              Harrington, Mr. Charles H   \n",
       "\n",
       "        Sex   Age  SibSp  Parch             Ticket     Fare Cabin Embarked  \n",
       "590    male  35.0      0      0  STON/O 2. 3101273   7.1250   NaN        S  \n",
       "640    male  20.0      0      0             350050   7.8542   NaN        S  \n",
       "816  female  23.0      0      0   STON/O2. 3101290   7.9250   NaN        S  \n",
       "437  female  24.0      2      3              29106  18.7500   NaN        S  \n",
       "602    male   NaN      0      0             113796  42.4000   NaN        S  "
      ]
     },
     "metadata": {},
     "execution_count": 2
>>>>>>> 5c21b1f823b88fff53120b81be8a47cb47d9a719
    }
   ],
   "metadata": {}
  },
  {
   "cell_type": "markdown",
   "source": [
    "# 2. Explore the Data"
   ],
   "metadata": {}
  },
  {
   "cell_type": "code",
<<<<<<< HEAD
   "execution_count": 4,
=======
   "execution_count": 3,
>>>>>>> 5c21b1f823b88fff53120b81be8a47cb47d9a719
   "source": [
    "# See a summary of the training dataset\n",
    "train.describe(include = \"all\")"
   ],
   "outputs": [
    {
     "output_type": "execute_result",
     "data": {
      "text/html": [
       "<div>\n",
       "<style scoped>\n",
       "    .dataframe tbody tr th:only-of-type {\n",
       "        vertical-align: middle;\n",
       "    }\n",
       "\n",
       "    .dataframe tbody tr th {\n",
       "        vertical-align: top;\n",
       "    }\n",
       "\n",
       "    .dataframe thead th {\n",
       "        text-align: right;\n",
       "    }\n",
       "</style>\n",
       "<table border=\"1\" class=\"dataframe\">\n",
       "  <thead>\n",
       "    <tr style=\"text-align: right;\">\n",
       "      <th></th>\n",
       "      <th>PassengerId</th>\n",
       "      <th>Survived</th>\n",
       "      <th>Pclass</th>\n",
       "      <th>Name</th>\n",
       "      <th>Sex</th>\n",
       "      <th>Age</th>\n",
       "      <th>SibSp</th>\n",
       "      <th>Parch</th>\n",
       "      <th>Ticket</th>\n",
       "      <th>Fare</th>\n",
       "      <th>Cabin</th>\n",
       "      <th>Embarked</th>\n",
       "    </tr>\n",
       "  </thead>\n",
       "  <tbody>\n",
       "    <tr>\n",
       "      <th>count</th>\n",
       "      <td>891.000000</td>\n",
       "      <td>891.000000</td>\n",
       "      <td>891.000000</td>\n",
       "      <td>891</td>\n",
       "      <td>891</td>\n",
       "      <td>714.000000</td>\n",
       "      <td>891.000000</td>\n",
       "      <td>891.000000</td>\n",
       "      <td>891</td>\n",
       "      <td>891.000000</td>\n",
       "      <td>204</td>\n",
       "      <td>889</td>\n",
       "    </tr>\n",
       "    <tr>\n",
       "      <th>unique</th>\n",
       "      <td>NaN</td>\n",
       "      <td>NaN</td>\n",
       "      <td>NaN</td>\n",
       "      <td>891</td>\n",
       "      <td>2</td>\n",
       "      <td>NaN</td>\n",
       "      <td>NaN</td>\n",
       "      <td>NaN</td>\n",
       "      <td>681</td>\n",
       "      <td>NaN</td>\n",
       "      <td>147</td>\n",
       "      <td>3</td>\n",
       "    </tr>\n",
       "    <tr>\n",
       "      <th>top</th>\n",
       "      <td>NaN</td>\n",
       "      <td>NaN</td>\n",
       "      <td>NaN</td>\n",
<<<<<<< HEAD
       "      <td>Futrelle, Mr. Jacques Heath</td>\n",
=======
       "      <td>Smiljanic, Mr. Mile</td>\n",
>>>>>>> 5c21b1f823b88fff53120b81be8a47cb47d9a719
       "      <td>male</td>\n",
       "      <td>NaN</td>\n",
       "      <td>NaN</td>\n",
       "      <td>NaN</td>\n",
<<<<<<< HEAD
       "      <td>CA. 2343</td>\n",
=======
       "      <td>1601</td>\n",
>>>>>>> 5c21b1f823b88fff53120b81be8a47cb47d9a719
       "      <td>NaN</td>\n",
       "      <td>C23 C25 C27</td>\n",
       "      <td>S</td>\n",
       "    </tr>\n",
       "    <tr>\n",
       "      <th>freq</th>\n",
       "      <td>NaN</td>\n",
       "      <td>NaN</td>\n",
       "      <td>NaN</td>\n",
       "      <td>1</td>\n",
       "      <td>577</td>\n",
       "      <td>NaN</td>\n",
       "      <td>NaN</td>\n",
       "      <td>NaN</td>\n",
       "      <td>7</td>\n",
       "      <td>NaN</td>\n",
       "      <td>4</td>\n",
       "      <td>644</td>\n",
       "    </tr>\n",
       "    <tr>\n",
       "      <th>mean</th>\n",
       "      <td>446.000000</td>\n",
       "      <td>0.383838</td>\n",
       "      <td>2.308642</td>\n",
       "      <td>NaN</td>\n",
       "      <td>NaN</td>\n",
       "      <td>29.699118</td>\n",
       "      <td>0.523008</td>\n",
       "      <td>0.381594</td>\n",
       "      <td>NaN</td>\n",
       "      <td>32.204208</td>\n",
       "      <td>NaN</td>\n",
       "      <td>NaN</td>\n",
       "    </tr>\n",
       "    <tr>\n",
       "      <th>std</th>\n",
       "      <td>257.353842</td>\n",
       "      <td>0.486592</td>\n",
       "      <td>0.836071</td>\n",
       "      <td>NaN</td>\n",
       "      <td>NaN</td>\n",
       "      <td>14.526497</td>\n",
       "      <td>1.102743</td>\n",
       "      <td>0.806057</td>\n",
       "      <td>NaN</td>\n",
       "      <td>49.693429</td>\n",
       "      <td>NaN</td>\n",
       "      <td>NaN</td>\n",
       "    </tr>\n",
       "    <tr>\n",
       "      <th>min</th>\n",
       "      <td>1.000000</td>\n",
       "      <td>0.000000</td>\n",
       "      <td>1.000000</td>\n",
       "      <td>NaN</td>\n",
       "      <td>NaN</td>\n",
       "      <td>0.420000</td>\n",
       "      <td>0.000000</td>\n",
       "      <td>0.000000</td>\n",
       "      <td>NaN</td>\n",
       "      <td>0.000000</td>\n",
       "      <td>NaN</td>\n",
       "      <td>NaN</td>\n",
       "    </tr>\n",
       "    <tr>\n",
       "      <th>25%</th>\n",
       "      <td>223.500000</td>\n",
       "      <td>0.000000</td>\n",
       "      <td>2.000000</td>\n",
       "      <td>NaN</td>\n",
       "      <td>NaN</td>\n",
       "      <td>20.125000</td>\n",
       "      <td>0.000000</td>\n",
       "      <td>0.000000</td>\n",
       "      <td>NaN</td>\n",
       "      <td>7.910400</td>\n",
       "      <td>NaN</td>\n",
       "      <td>NaN</td>\n",
       "    </tr>\n",
       "    <tr>\n",
       "      <th>50%</th>\n",
       "      <td>446.000000</td>\n",
       "      <td>0.000000</td>\n",
       "      <td>3.000000</td>\n",
       "      <td>NaN</td>\n",
       "      <td>NaN</td>\n",
       "      <td>28.000000</td>\n",
       "      <td>0.000000</td>\n",
       "      <td>0.000000</td>\n",
       "      <td>NaN</td>\n",
       "      <td>14.454200</td>\n",
       "      <td>NaN</td>\n",
       "      <td>NaN</td>\n",
       "    </tr>\n",
       "    <tr>\n",
       "      <th>75%</th>\n",
       "      <td>668.500000</td>\n",
       "      <td>1.000000</td>\n",
       "      <td>3.000000</td>\n",
       "      <td>NaN</td>\n",
       "      <td>NaN</td>\n",
       "      <td>38.000000</td>\n",
       "      <td>1.000000</td>\n",
       "      <td>0.000000</td>\n",
       "      <td>NaN</td>\n",
       "      <td>31.000000</td>\n",
       "      <td>NaN</td>\n",
       "      <td>NaN</td>\n",
       "    </tr>\n",
       "    <tr>\n",
       "      <th>max</th>\n",
       "      <td>891.000000</td>\n",
       "      <td>1.000000</td>\n",
       "      <td>3.000000</td>\n",
       "      <td>NaN</td>\n",
       "      <td>NaN</td>\n",
       "      <td>80.000000</td>\n",
       "      <td>8.000000</td>\n",
       "      <td>6.000000</td>\n",
       "      <td>NaN</td>\n",
       "      <td>512.329200</td>\n",
       "      <td>NaN</td>\n",
       "      <td>NaN</td>\n",
       "    </tr>\n",
       "  </tbody>\n",
       "</table>\n",
       "</div>"
      ],
      "text/plain": [
<<<<<<< HEAD
       "        PassengerId    Survived      Pclass                         Name  \\\n",
       "count    891.000000  891.000000  891.000000                          891   \n",
       "unique          NaN         NaN         NaN                          891   \n",
       "top             NaN         NaN         NaN  Futrelle, Mr. Jacques Heath   \n",
       "freq            NaN         NaN         NaN                            1   \n",
       "mean     446.000000    0.383838    2.308642                          NaN   \n",
       "std      257.353842    0.486592    0.836071                          NaN   \n",
       "min        1.000000    0.000000    1.000000                          NaN   \n",
       "25%      223.500000    0.000000    2.000000                          NaN   \n",
       "50%      446.000000    0.000000    3.000000                          NaN   \n",
       "75%      668.500000    1.000000    3.000000                          NaN   \n",
       "max      891.000000    1.000000    3.000000                          NaN   \n",
       "\n",
       "         Sex         Age       SibSp       Parch    Ticket        Fare  \\\n",
       "count    891  714.000000  891.000000  891.000000       891  891.000000   \n",
       "unique     2         NaN         NaN         NaN       681         NaN   \n",
       "top     male         NaN         NaN         NaN  CA. 2343         NaN   \n",
       "freq     577         NaN         NaN         NaN         7         NaN   \n",
       "mean     NaN   29.699118    0.523008    0.381594       NaN   32.204208   \n",
       "std      NaN   14.526497    1.102743    0.806057       NaN   49.693429   \n",
       "min      NaN    0.420000    0.000000    0.000000       NaN    0.000000   \n",
       "25%      NaN   20.125000    0.000000    0.000000       NaN    7.910400   \n",
       "50%      NaN   28.000000    0.000000    0.000000       NaN   14.454200   \n",
       "75%      NaN   38.000000    1.000000    0.000000       NaN   31.000000   \n",
       "max      NaN   80.000000    8.000000    6.000000       NaN  512.329200   \n",
=======
       "        PassengerId    Survived      Pclass                 Name   Sex  \\\n",
       "count    891.000000  891.000000  891.000000                  891   891   \n",
       "unique          NaN         NaN         NaN                  891     2   \n",
       "top             NaN         NaN         NaN  Smiljanic, Mr. Mile  male   \n",
       "freq            NaN         NaN         NaN                    1   577   \n",
       "mean     446.000000    0.383838    2.308642                  NaN   NaN   \n",
       "std      257.353842    0.486592    0.836071                  NaN   NaN   \n",
       "min        1.000000    0.000000    1.000000                  NaN   NaN   \n",
       "25%      223.500000    0.000000    2.000000                  NaN   NaN   \n",
       "50%      446.000000    0.000000    3.000000                  NaN   NaN   \n",
       "75%      668.500000    1.000000    3.000000                  NaN   NaN   \n",
       "max      891.000000    1.000000    3.000000                  NaN   NaN   \n",
       "\n",
       "               Age       SibSp       Parch Ticket        Fare        Cabin  \\\n",
       "count   714.000000  891.000000  891.000000    891  891.000000          204   \n",
       "unique         NaN         NaN         NaN    681         NaN          147   \n",
       "top            NaN         NaN         NaN   1601         NaN  C23 C25 C27   \n",
       "freq           NaN         NaN         NaN      7         NaN            4   \n",
       "mean     29.699118    0.523008    0.381594    NaN   32.204208          NaN   \n",
       "std      14.526497    1.102743    0.806057    NaN   49.693429          NaN   \n",
       "min       0.420000    0.000000    0.000000    NaN    0.000000          NaN   \n",
       "25%      20.125000    0.000000    0.000000    NaN    7.910400          NaN   \n",
       "50%      28.000000    0.000000    0.000000    NaN   14.454200          NaN   \n",
       "75%      38.000000    1.000000    0.000000    NaN   31.000000          NaN   \n",
       "max      80.000000    8.000000    6.000000    NaN  512.329200          NaN   \n",
>>>>>>> 5c21b1f823b88fff53120b81be8a47cb47d9a719
       "\n",
       "          Cabin Embarked  \n",
       "count       204      889  \n",
       "unique      147        3  \n",
       "top     B96 B98        S  \n",
       "freq          4      644  \n",
       "mean        NaN      NaN  \n",
       "std         NaN      NaN  \n",
       "min         NaN      NaN  \n",
       "25%         NaN      NaN  \n",
       "50%         NaN      NaN  \n",
       "75%         NaN      NaN  \n",
       "max         NaN      NaN  "
      ]
     },
     "metadata": {},
<<<<<<< HEAD
     "execution_count": 4
=======
     "execution_count": 3
>>>>>>> 5c21b1f823b88fff53120b81be8a47cb47d9a719
    }
   ],
   "metadata": {}
  },
  {
   "cell_type": "markdown",
   "source": [
    "### Feature type summary:\n",
    "\n",
    "\n",
    "| Feature Type |   |   |   |   |\n",
    "|  ----  | ----  | ----  | ----  | ----  |\n",
    "| Continuous Features| Age (Continuous) | Fare (Continuous)| SibSp (Discrete)| Parch (Discrete)|\n",
    "| Categorical Features| Survived | Sex | Embarked | Pclass |\n",
    "| Alphanumeric Features| Ticket| Cabin| | |\n",
    "\n",
    "\n"
   ],
   "metadata": {}
  },
  {
   "cell_type": "markdown",
   "source": [
    "\n",
    "# 3. Data Cleaning and Data Visualization\n",
    "\n",
    "There are 4 stage to do data cleaning:\n",
    "\n",
    "- Correcting: Reviewing the data, there does not appear to be any aberrant or non-acceptable data inputs.\n",
    "- Completing: There are null values or missing data in the age, cabin, and embarked field.\n",
    "- Creating: we might need to use existing features to create new features to determine if they provide new signals to predict our outcome.\n",
    "- Converting: we will convert object datatypes to categorical dummy variables."
   ],
   "metadata": {}
  },
  {
   "cell_type": "code",
<<<<<<< HEAD
   "execution_count": 5,
=======
   "execution_count": 4,
>>>>>>> 5c21b1f823b88fff53120b81be8a47cb47d9a719
   "source": [
    "print('Features with null values:\\n', train.isnull().sum())"
   ],
   "outputs": [
    {
     "output_type": "stream",
     "name": "stdout",
     "text": [
      "Features with null values:\n",
      " PassengerId      0\n",
      "Survived         0\n",
      "Pclass           0\n",
      "Name             0\n",
      "Sex              0\n",
      "Age            177\n",
      "SibSp            0\n",
      "Parch            0\n",
      "Ticket           0\n",
      "Fare             0\n",
      "Cabin          687\n",
      "Embarked         2\n",
      "dtype: int64\n"
     ]
    }
   ],
   "metadata": {}
  },
  {
   "cell_type": "markdown",
   "source": [
    "## Data completing:\n",
    "\n",
    "### Missing feature summary:\n",
    "The Age, Cabin and Embarked feature is not complete\n",
    "- Age: missing 177 features, 19.87% are missing. Since the age feature is relatively important, so we will complete them using the mean of age.\n",
    "\n",
    "- Cabin: missing 687 features, 77.10% are missing, we will drop this column.\n",
    "\n",
    "- Embarked: missing 2 features, 0.22% are missing, which should be relatively harmless."
   ],
   "metadata": {}
  },
  {
   "cell_type": "code",
<<<<<<< HEAD
   "execution_count": 6,
=======
   "execution_count": 5,
>>>>>>> 5c21b1f823b88fff53120b81be8a47cb47d9a719
   "source": [
    "train['Age'].fillna(train['Age'].median(), inplace = True)\n",
    "\n",
    "train['Embarked'].fillna(train['Embarked'].mode()[0], inplace = True)\n",
    "\n",
    "\n",
    "CabinFeature = train.iloc[:,[1, 10]]\n",
    "TicketFeature = train.iloc[:,[1, 8]]\n",
    "PassengerIdFeature = train.iloc[:,[1, 0]]\n",
    "\n",
    "drop_column = ['Cabin', 'Ticket', 'PassengerId']\n",
    "train.drop(drop_column, axis=1, inplace = True)\n",
    "\n",
    "\n",
    "# print('Features with null values:\\n', train.isnull().sum())\n",
    "\n",
    "train.sample(5)"
   ],
   "outputs": [
    {
     "output_type": "execute_result",
     "data": {
      "text/html": [
       "<div>\n",
       "<style scoped>\n",
       "    .dataframe tbody tr th:only-of-type {\n",
       "        vertical-align: middle;\n",
       "    }\n",
       "\n",
       "    .dataframe tbody tr th {\n",
       "        vertical-align: top;\n",
       "    }\n",
       "\n",
       "    .dataframe thead th {\n",
       "        text-align: right;\n",
       "    }\n",
       "</style>\n",
       "<table border=\"1\" class=\"dataframe\">\n",
       "  <thead>\n",
       "    <tr style=\"text-align: right;\">\n",
       "      <th></th>\n",
       "      <th>Survived</th>\n",
       "      <th>Pclass</th>\n",
       "      <th>Name</th>\n",
       "      <th>Sex</th>\n",
       "      <th>Age</th>\n",
       "      <th>SibSp</th>\n",
       "      <th>Parch</th>\n",
       "      <th>Fare</th>\n",
       "      <th>Embarked</th>\n",
       "    </tr>\n",
       "  </thead>\n",
       "  <tbody>\n",
       "    <tr>\n",
<<<<<<< HEAD
       "      <th>778</th>\n",
       "      <td>0</td>\n",
       "      <td>3</td>\n",
       "      <td>Kilgannon, Mr. Thomas J</td>\n",
       "      <td>male</td>\n",
       "      <td>28.0</td>\n",
       "      <td>0</td>\n",
       "      <td>0</td>\n",
       "      <td>7.7375</td>\n",
       "      <td>Q</td>\n",
       "    </tr>\n",
       "    <tr>\n",
       "      <th>638</th>\n",
       "      <td>0</td>\n",
       "      <td>3</td>\n",
       "      <td>Panula, Mrs. Juha (Maria Emilia Ojala)</td>\n",
       "      <td>female</td>\n",
       "      <td>41.0</td>\n",
       "      <td>0</td>\n",
       "      <td>5</td>\n",
       "      <td>39.6875</td>\n",
       "      <td>S</td>\n",
       "    </tr>\n",
       "    <tr>\n",
       "      <th>550</th>\n",
       "      <td>1</td>\n",
       "      <td>1</td>\n",
       "      <td>Thayer, Mr. John Borland Jr</td>\n",
       "      <td>male</td>\n",
       "      <td>17.0</td>\n",
       "      <td>0</td>\n",
       "      <td>2</td>\n",
       "      <td>110.8833</td>\n",
       "      <td>C</td>\n",
       "    </tr>\n",
       "    <tr>\n",
       "      <th>191</th>\n",
       "      <td>0</td>\n",
       "      <td>2</td>\n",
       "      <td>Carbines, Mr. William</td>\n",
       "      <td>male</td>\n",
       "      <td>19.0</td>\n",
       "      <td>0</td>\n",
       "      <td>0</td>\n",
       "      <td>13.0000</td>\n",
       "      <td>S</td>\n",
       "    </tr>\n",
       "    <tr>\n",
       "      <th>57</th>\n",
       "      <td>0</td>\n",
       "      <td>3</td>\n",
       "      <td>Novel, Mr. Mansouer</td>\n",
       "      <td>male</td>\n",
       "      <td>28.5</td>\n",
       "      <td>0</td>\n",
       "      <td>0</td>\n",
       "      <td>7.2292</td>\n",
       "      <td>C</td>\n",
       "    </tr>\n",
=======
       "      <th>549</th>\n",
       "      <td>1</td>\n",
       "      <td>2</td>\n",
       "      <td>Davies, Master. John Morgan Jr</td>\n",
       "      <td>male</td>\n",
       "      <td>8.0</td>\n",
       "      <td>1</td>\n",
       "      <td>1</td>\n",
       "      <td>36.75</td>\n",
       "      <td>S</td>\n",
       "    </tr>\n",
       "    <tr>\n",
       "      <th>383</th>\n",
       "      <td>1</td>\n",
       "      <td>1</td>\n",
       "      <td>Holverson, Mrs. Alexander Oskar (Mary Aline To...</td>\n",
       "      <td>female</td>\n",
       "      <td>35.0</td>\n",
       "      <td>1</td>\n",
       "      <td>0</td>\n",
       "      <td>52.00</td>\n",
       "      <td>S</td>\n",
       "    </tr>\n",
       "    <tr>\n",
       "      <th>280</th>\n",
       "      <td>0</td>\n",
       "      <td>3</td>\n",
       "      <td>Duane, Mr. Frank</td>\n",
       "      <td>male</td>\n",
       "      <td>65.0</td>\n",
       "      <td>0</td>\n",
       "      <td>0</td>\n",
       "      <td>7.75</td>\n",
       "      <td>Q</td>\n",
       "    </tr>\n",
       "    <tr>\n",
       "      <th>614</th>\n",
       "      <td>0</td>\n",
       "      <td>3</td>\n",
       "      <td>Brocklebank, Mr. William Alfred</td>\n",
       "      <td>male</td>\n",
       "      <td>35.0</td>\n",
       "      <td>0</td>\n",
       "      <td>0</td>\n",
       "      <td>8.05</td>\n",
       "      <td>S</td>\n",
       "    </tr>\n",
       "    <tr>\n",
       "      <th>556</th>\n",
       "      <td>1</td>\n",
       "      <td>1</td>\n",
       "      <td>Duff Gordon, Lady. (Lucille Christiana Sutherl...</td>\n",
       "      <td>female</td>\n",
       "      <td>48.0</td>\n",
       "      <td>1</td>\n",
       "      <td>0</td>\n",
       "      <td>39.60</td>\n",
       "      <td>C</td>\n",
       "    </tr>\n",
>>>>>>> 5c21b1f823b88fff53120b81be8a47cb47d9a719
       "  </tbody>\n",
       "</table>\n",
       "</div>"
      ],
      "text/plain": [
<<<<<<< HEAD
       "     Survived  Pclass                                    Name     Sex   Age  \\\n",
       "778         0       3                 Kilgannon, Mr. Thomas J    male  28.0   \n",
       "638         0       3  Panula, Mrs. Juha (Maria Emilia Ojala)  female  41.0   \n",
       "550         1       1             Thayer, Mr. John Borland Jr    male  17.0   \n",
       "191         0       2                   Carbines, Mr. William    male  19.0   \n",
       "57          0       3                     Novel, Mr. Mansouer    male  28.5   \n",
       "\n",
       "     SibSp  Parch      Fare Embarked  \n",
       "778      0      0    7.7375        Q  \n",
       "638      0      5   39.6875        S  \n",
       "550      0      2  110.8833        C  \n",
       "191      0      0   13.0000        S  \n",
       "57       0      0    7.2292        C  "
      ]
     },
     "metadata": {},
     "execution_count": 6
=======
       "     Survived  Pclass                                               Name  \\\n",
       "549         1       2                     Davies, Master. John Morgan Jr   \n",
       "383         1       1  Holverson, Mrs. Alexander Oskar (Mary Aline To...   \n",
       "280         0       3                                   Duane, Mr. Frank   \n",
       "614         0       3                    Brocklebank, Mr. William Alfred   \n",
       "556         1       1  Duff Gordon, Lady. (Lucille Christiana Sutherl...   \n",
       "\n",
       "        Sex   Age  SibSp  Parch   Fare Embarked  \n",
       "549    male   8.0      1      1  36.75        S  \n",
       "383  female  35.0      1      0  52.00        S  \n",
       "280    male  65.0      0      0   7.75        Q  \n",
       "614    male  35.0      0      0   8.05        S  \n",
       "556  female  48.0      1      0  39.60        C  "
      ]
     },
     "metadata": {},
     "execution_count": 5
>>>>>>> 5c21b1f823b88fff53120b81be8a47cb47d9a719
    }
   ],
   "metadata": {}
  },
  {
   "cell_type": "markdown",
   "source": [
    "## Data correcting:\n",
    "\n",
    "- We care about whether there exit some unacceptable data inputs. For example, a person has age greater than 120.\n",
    "- In the meantime, we want to check whether there is some outlier (but reasonable values), and we will wait until after we complete our analysis to determine if we should include them to our dataset."
   ],
   "metadata": {}
  },
  {
   "cell_type": "code",
<<<<<<< HEAD
   "execution_count": 7,
=======
   "execution_count": 6,
>>>>>>> 5c21b1f823b88fff53120b81be8a47cb47d9a719
   "source": [
    "plt.figure(figsize=[12, 6])\n",
    "plt.subplot(121)\n",
    "plt.boxplot(x=train['Fare'])\n",
    "plt.title('Fare Boxplot')\n",
    "plt.ylabel('Fare ($)')\n",
    "\n",
    "plt.subplot(122)\n",
    "plt.boxplot(train['Age'])\n",
    "plt.title('Age Boxplot')\n",
    "plt.ylabel('Age (Years)')\n",
    "plt.show()\n"
   ],
   "outputs": [
    {
     "output_type": "display_data",
     "data": {
      "image/png": "iVBORw0KGgoAAAANSUhEUgAAAtQAAAF1CAYAAADIhX0mAAAAOXRFWHRTb2Z0d2FyZQBNYXRwbG90bGliIHZlcnNpb24zLjMuNCwgaHR0cHM6Ly9tYXRwbG90bGliLm9yZy8QVMy6AAAACXBIWXMAAAsTAAALEwEAmpwYAAAyeklEQVR4nO3dfZiV9X3v+/eXEWd4UAQZDUYF60OKEGLLaJNId4JWidkNeJptI7tJSOXSgmaaxOyzfaBXk+xdODHn2jn1TBUqJQ2nTYg2bQo7O1EJEi0mNUHNVpEYaSKKKKCADxiGB7/nj7WgwzjMjCzW3LNmvV/XdV/rvn/rvtf6oOH2m9/63b9fZCaSJEmSjsygogNIkiRJtcyCWpIkSaqABbUkSZJUAQtqSZIkqQIW1JIkSVIFLKglSZKkClhQSwWIiGci4veKziFJ6pn3bPXEglr9RvmG9euIeL3DdkqVv/OHEbG7/F2vRMQDEfHuan7n2xERH4yITUXnkKSelO+nOyKiscrf4T1b/Y4Ftfqbj2Tm8A7b5t5eGCVH8r/pT2fmcOBE4IfA3x3BZ0hS3YqIccDvAglMr/LXec9Wv2NBrX4tIkZGxHcjYlu55+O7EXFqh/d/GBHzI+JB4A3gNyLiNyNiZURsj4inIuIPe/NdmbkP+BZwbofPb4yIv4yIzeXtL8ttx0bEzyKitXxeQ0Q8GBF/Xj7+YkR8OyLujIjXIuKRiHjPYf6Mh/uOYcD3gVP6qsdeko7QJ4F/Bb4OzOr4RkScGBH/MyJejYifRsRfRMSaDu97z1bNs6BWfzcI+FtgLHA68Gvgrzqd8wngGuA4YBuwEvgmcBIwE7g9Iib09EURcSzwR5T+o3DAPOC9wHnAe4ALgD/LzD3Ax4H/FhHjgRuBBmB+h2tnAP8AjCrn+eeIGNzFVx/uO3YBlwGbj6THXpL60CeBb5S3aRFxcof3bgN2Ae+gVGwfLLjLRaj3bNW+zHRz6xcb8AzwOrCzvP1zF+ecB+zocPxD4L91OP4Y8C+drvlr4AuH+c4fUurZ3gnsAV4BLu7w/r8BH+5wPA14psPx54GfAzuAszu0fxH41w7Hg4AXgN/t8Gf9vZ6+A/ggsKnofzdubm5uh9uAKcBeYHT5+OfA58r7DeX33tXh/L8A1pT3vWe7DYjNHmr1N5dn5gnl7fKIGBoRfx0RGyPiVeAB4ISIaOhwzXMd9scCvxMROw9slHow3tHNd/5pZp4ANAG/D3w7IiaV3zsF2Njh3I3ltgOWAuOA72Xm050+92CuzHwT2NTp2gN6+g5J6s9mAfdm5kvl42/y773QzcAxHHqf9p6tAceCWv3d54F3Ab+TmccD/6HcHh3OyQ77zwH3dyjKT8jSz25ze/qizHwzM/8F2ABcWm7eTOmGf8Dp5bYDbge+S+knzimdPvK0AzvlhyVP7XTtAd19R771dEnqHyJiCPCHwAci4sWIeBH4HPCe8hjkbcA+Sve/A07rsO89WwOCBbX6u+MojZveGRGjgC/0cP53gXMi4hMRMbi8nV8eM9ejiHgfpQdc1pWblgF/FhHNETEa+HPg78vnfgKYDHwK+FNgaUQM7/BxkyPiDyLiGOCzQDuHjvU74LDfAWwBToyIEb3JL0l97HJgP6X75nnlbTzwL8AnM3M/8E/AF8u/OP4mpfHWB3jP1oBgQa3+7i+BIcBLlG5sd3d3cma+Rqmn4kpKPQYvArcA3c2L+lcHnsimNP3Sn2Xm98vv/QWwFngMeBx4BPiLiDi9nO2Tmfl6Zn6zfN7/0+Fzl1MaH7iD0oOTf5CZe7v4/i6/o/zn+Tmlm/cvyz+H+rOipP5kFvC3mflsZr54YKP08PgflYvTTwMjKN2P/47SPa0dvGdr4IhMf52QjraI+CJwVmZ+vOgsktSfRMQtwDsyc1aPJ/cR79mqlD3UkiSpasrzTE+KkguA2cB3is4lHU3HFB1AkiQNaMdRGgZxCrAV+B+UhldIA4ZDPiRJkqQKOORDkiRJqoAFtSRJklSBmh5DPXr06Bw3blzRMSTpiDz88MMvZWZz0Tn6kvdtSbWqu3t2TRfU48aNY+3atUXHkKQjEhEbez5rYPG+LalWdXfPdsiHJEmSVAELakmSJKkCFtSSJElSBSyoJUmSpApYUEuSJEkVsKCWJEmSKmBBLUmSJFXAglqSJEmqgAW1JEmSVAELaqkL06ZNY9CgQUQEgwYNYtq0aUVHkgoTEZ+LiHUR8URELIuIpogYFRErI+Lp8uvIonOqfi1btoyJEyfS0NDAxIkTWbZsWdGRVGcsqKVOpk2bxr333sucOXPYuXMnc+bM4d5777WoVl2KiHcCfwq0ZOZEoAG4ErgRWJWZZwOrysdSn1u2bBnz5s2jra2N3bt309bWxrx58yyq1acsqKVOVq5cydy5c7n99tsZMWIEt99+O3PnzmXlypVFR5OKcgwwJCKOAYYCm4EZwNLy+0uBy4uJpno3f/58lixZwtSpUxk8eDBTp05lyZIlzJ8/v+hoqiORmUVnOGItLS25du3aomNogIkIdu7cyYgRIw62vfLKK5xwwgnU8t8X9T8R8XBmthSdoycR8RlgPvBr4N7M/KOI2JmZJ3Q4Z0dmdjnsIyKuAa4BOP300ydv3LixD1KrXjQ0NLB7924GDx58sG3v3r00NTWxf//+ApNpoOnunm0PtdRJRHDTTTcd0nbTTTcREQUlkopTHhs9AzgDOAUYFhEffzufkZl3ZGZLZrY0NzdXI6bq2Pjx41mzZs0hbWvWrGH8+PEFJVI9sqCWOrnkkktYuHAh1157La+88grXXnstCxcu5JJLLik6mlSE3wN+lZnbMnMv8E/A+4EtETEGoPy6tcCMqmPz5s1j9uzZrF69mr1797J69Wpmz57NvHnzio6mOnJM0QGk/uaee+5h2rRpLFq0iIULFxIRXHrppdxzzz1FR5OK8Czw3ogYSmnIx8XAWmAXMAv4cvl1eWEJVddmzpwJQGtrK+vXr2f8+PHMnz//YLvUF6paUEfEM8BrwH5gX2a2RMQo4E5gHPAM8IeZuaN8/k3A7PL5f5qZVjAqhMWzVJKZD0XEt4FHgH3Ao8AdwHDgroiYTanovqK4lKp3M2fOtIBWofqih3pqZr7U4fjAVEtfjogby8c3RMS5lKZimkBpnN4PIuKczPSJAkkqUGZ+AfhCp+Z2Sr3VklT3ihhDfbiplmYA38rM9sz8FbABuKDv40mSJEm9V+2COoF7I+Lh8rRJACdn5gsA5deTyu3vBJ7rcO2mcpskSZLUb1V7yMeFmbk5Ik4CVkbEz7s5t6s5yd4y6W+n+UyPTkpJkiTpCFW1hzozN5dftwLfoTSE43BTLW0CTutw+amUVuPq/JnOZypJkqR+o2oFdUQMi4jjDuwDlwJPACsoTbEEh061tAK4MiIaI+IM4GzgJ9XKJ0mSJB0N1RzycTLwnfLqcscA38zMuyPip3Qx1VJmrouIu4AnKU3NdJ0zfEiSJKm/q1pBnZm/BN7TRfvLHGaqpcycD8yvViZJkiTpaHPpcUmSJKkCFtSSJElSBSyoJUmSpApYUEuSJEkVsKCWJEmSKmBBLUmSJFXAglqSJEmqgAW1JEmqacuWLWPixIk0NDQwceJEli1bVnQk1ZlqrpQoSZJUVcuWLWPevHksWbKEKVOmsGbNGmbPng3AzJkzC06nemEPtSRJqlnz589nyZIlTJ06lcGDBzN16lSWLFnC/PkuvKy+Y0EtSZJq1vr165kyZcohbVOmTGH9+vUFJVI9sqCWJEk1a/z48axZs+aQtjVr1jB+/PiCEqkeWVBLkqSaNW/ePGbPns3q1avZu3cvq1evZvbs2cybN6/oaKojPpQoSZJq1oEHD1tbW1m/fj3jx49n/vz5PpCoPmVBLUmSatrMmTMtoFUoh3xIkiRJFbCgliRJkipgQS1JkiRVwIJakiTVtNbWVpqamogImpqaaG1tLTqS6owFtSRJqlmtra0sWrSIBQsWsGvXLhYsWMCiRYssqtWnLKglSVLNWrx4MR/72Mf42te+xnHHHcfXvvY1Pvaxj7F48eKio6mOWFBLkroVEe+KiJ912F6NiM9GxKiIWBkRT5dfRxadVfWnvb2dBx98kLa2Nnbv3k1bWxsPPvgg7e3tRUdTHbGgliR1KzOfyszzMvM8YDLwBvAd4EZgVWaeDawqH0t9KiIYPnw4l112GcceeyyXXXYZw4cPJyKKjqY6YkEtSXo7Lgb+LTM3AjOApeX2pcDlRYVS/cpMnnjiCaZNm8a2bduYNm0aTzzxBJlZdDTVEVdKlCS9HVcCy8r7J2fmCwCZ+UJEnFRcLNWriODcc8/lnnvuobm5mcbGRiZMmMCTTz5ZdDTVEXuoJUm9EhHHAtOBf3ib110TEWsjYu22bduqE051KzN5/fXX+f73v8+ePXv4/ve/z+uvv24PtfqUBbUkqbcuAx7JzC3l4y0RMQag/Lq1q4sy847MbMnMlubm5j6KqnrR2NjIlClTDs5F3draypQpU2hsbCw6muqIBbUkqbdm8u/DPQBWALPK+7OA5X2eSHXv6quv5s477+Sqq67itdde46qrruLOO+/k6quvLjqa6ohjqCVJPYqIocAlwJ90aP4ycFdEzAaeBa4oIpvqW1tbGwA333wzn//852lsbGTOnDkH26W+YEEtSepRZr4BnNip7WVKs35IhWpra7OAVqEc8iFJkiRVwIJakiRJqoAFtSRJklQBC2pJkiSpAhbUkiRJUgUsqCVJkqQKWFBLkiRJFbCgliRJNW3ZsmVMnDiRhoYGJk6cyLJly3q+SDqKXNhFkiTVrGXLljFv3jyWLFnClClTWLNmDbNnzwZg5syZBadTvbCHWpIk1az58+ezZMkSpk6dyuDBg5k6dSpLlixh/vz5RUdTHbGgliRJNWv9+vUsWLCAQYMGEREMGjSIBQsWsH79+qKjqY5YUEuSpJo1ZMgQfvCDHzBnzhx27tzJnDlz+MEPfsCQIUOKjqY6YkEtSZJq1q5duxg+fDhXXHEFQ4cO5YorrmD48OHs2rWr6GiqIxbUkiSppn31q1+ltbWVpqYmWltb+epXv1p0JNUZC2pJklSzIoJbb72VDRs28Oabb7JhwwZuvfVWIqLoaKojFtSSJKlmnXrqqaxbt47JkyezefNmJk+ezLp16zj11FOLjqY64jzUkiSpZm3dupVzzjmHH//4x5xyyilEBOeccw4bN24sOprqiAW1JEmqWe3t7Tz66KMMHTr0YNsbb7zBsGHDCkyleuOQD0mSVLMaGxu59NJLaWpqIiJoamri0ksvpbGxsehoqiNVL6gjoiEiHo2I75aPR0XEyoh4uvw6ssO5N0XEhoh4KiKmVTubJEmqbeeccw4PPvgg06ZNY9u2bUybNo0HH3yQc845p+hoqiN90UP9GaDjckU3Aqsy82xgVfmYiDgXuBKYAHwIuD0iGvognyRJqlG/+MUvuPDCC7nnnntobm7mnnvu4cILL+QXv/hF0dFUR6paUEfEqcB/BP6mQ/MMYGl5fylweYf2b2Vme2b+CtgAXFDNfJIkqba1t7dz7733snv3bjKT3bt3c++999Le3l50NNWRavdQ/yXwX4E3O7SdnJkvAJRfTyq3vxN4rsN5m8pth4iIayJibUSs3bZtW1VCS5Kk2tDY2MiZZ55JRBzczjzzTMdQq09VraCOiN8Htmbmw729pIu2fEtD5h2Z2ZKZLc3NzRVllCRJtW3YsGG8+OKLTJgwgY0bNzJhwgRefPFFZ/lQn6rmtHkXAtMj4sNAE3B8RPw9sCUixmTmCxExBthaPn8TcFqH608FNlcxnyRJqnHbt29n3LhxbNiwgbFjx9LY2Mi4ceN45plnio6mOlK1HurMvCkzT83McZQeNrwvMz8OrABmlU+bBSwv768AroyIxog4Azgb+Em18kmSpIFh7Nix7NmzB4A9e/YwduzYghOp3hQxD/WXgUsi4mngkvIxmbkOuAt4ErgbuC4z9xeQT5Ik1ZD777+fOXPmsHPnTubMmcP9999fdCTVmT5ZKTEzfwj8sLz/MnDxYc6bD8zvi0ySJGngeP7559m7dy/PP/980VFUh1x6XJIk1bTx48ezYsUKDkxWMH78eNavX9/DVdLR49LjkqQeRcQJEfHtiPh5RKyPiPd1t/Kt1Fcigi1bthzStmXLFiK6mjxMqg4LaklSb9wK3J2Zvwm8h9IKuF2ufCv1paFDhx4y08e4cePYvn07Q4cOLTqa6ohDPiRJ3YqI44H/AHwKIDP3AHsiYgbwwfJpSyk9K3ND3ydUPdu1axejR49m48aNnHXWWUQEo0eP5qWXXio6muqIPdSSpJ78BrAN+NuIeDQi/iYihnH4lW8P4Qq3qrb169fz5ptvkpm8+eabjp9Wn7OgliT15Bjgt4GFmflbwC7exvAOV7hVtZ1//vk0NTURETQ1NXH++ecXHUl1xoJaktSTTcCmzHyofPxtSgX2lvKKt3Ra+VbqM6NGjeKZZ57hrLPOOjjs45lnnmHUqFFFR1MdsaCWJHUrM18EnouId5WbLqa0CNfhVr6V+syuXbt4xzvewbp16xg7dizr1q3jHe94B7t27So6muqIDyVKknqjFfhGRBwL/BL4Y0qdMndFxGzgWeCKAvOpTrW3t9PQ0HBIW0NDA+3t7QUlUj2yh1qS1KPM/Fl5HPSkzLw8M3dk5suZeXFmnl1+3V50TtWn559/nve///1s3ryZ97///a6WqD5nQS1JkmreRz/6UUaMGMFHP/rRoqOoDllQS5KkmvapT32Km2++mWHDhnHzzTfzqU99quhIqjMW1JIkqabdfffd3R5L1WZBLUmSatawYcN48cUXGTNmDBs2bGDMmDG8+OKLDBs2rOhoqiPO8iFJkmrWvn37GDFixMG5qAFGjBjB7t27C06memJBLUmSalZ7ezvbt29n6NChB9veeOMNe6jVpxzyIUmSalZjYyNnnnkmEXFwO/PMM2lsbCw6muqIBbUkSapZB8ZQT5gwgY0bNzJhwgTHUKvPOeRDkiTVrO3btzN69GiefPJJxo4dS0QwevRoXnrppaKjqY7YQy1JkmrakCFDWLVqFXv27GHVqlUMGTKk6EiqM/ZQS5KkmrZnzx4uu+wy2tvbaWxs5IQTTig6kuqMPdSSJKmmbdmyhbPOOouNGzdy1llnsWXLlqIjqc7YQy1JkmpWRDBy5EjWrVvH2LFjARg1ahQ7duwoOJnqiT3UkiSpZmUmxx9/PPfddx979uzhvvvu4/jjjyczi46mOmIPtSRJqlmNjY1ceOGFtLa2sn79esaPH8+FF17ICy+8UHQ01RF7qCVJUs26+uqrufPOO7nqqqt47bXXuOqqq7jzzju5+uqri46mOhK1/JNIS0tLrl27tugYknREIuLhzGwpOkdf8r6ttyMiqvr5tVwDqe91d892yIckSeqX3m7BGxEWySqEQz4kSZKkClhQS5IkSRWwoJYkSZIqYEEtSZIkVcCCWpIkSaqABbUkSZJUAQtqSZIkqQIW1JIkSVIFLKglSZKkClhQS5IkSRVw6XFJUo8i4hngNWA/sC8zWyJiFHAnMA54BvjDzNxRVEZJKoo91JKk3pqamedlZkv5+EZgVWaeDawqH0tS3bGgliQdqRnA0vL+UuDy4qJIUnEsqCVJvZHAvRHxcERcU247OTNfACi/ntTVhRFxTUSsjYi127Zt66O4ktR3HEMtSeqNCzNzc0ScBKyMiJ/39sLMvAO4A6ClpSWrFVCSimIPtSSpR5m5ufy6FfgOcAGwJSLGAJRftxaXUJKKY0EtSepWRAyLiOMO7AOXAk8AK4BZ5dNmAcuLSShJxXLIhySpJycD34kIKP1345uZeXdE/BS4KyJmA88CVxSYUZIKY0EtSepWZv4SeE8X7S8DF/d9IknqXxzyIUmSJFXAglqSJEmqQNUK6ohoioifRMT/joh1EfGlcvuoiFgZEU+XX0d2uOamiNgQEU9FxLRqZZMkSZKOlmr2ULcDF2Xme4DzgA9FxHs5zFK1EXEucCUwAfgQcHtENFQxnyRJklSxqhXUWfJ6+XBweUsOv1TtDOBbmdmemb8CNlCa51SSJEnqt6o6y0e5h/lh4Czgtsx8KCIOWaq2vOoWwDuBf+1w+aZyW+fPvAa4BuD000+vZnxJGjAiogn4feB3gVOAX1OaS/p/Zea6IrNJUq2r6kOJmbk/M88DTgUuiIiJ3ZweXX1EF595R2a2ZGZLc3PzUUoqSQNXRHwReBB4H/AQ8NfAXcA+4Mvl51kmFZdQkmpbn8xDnZk7I+KHlMZGb4mIMeXe6Y5L1W4CTutw2anA5r7IJ0kD3E8z84uHee+r5V8K/clPko5QNWf5aI6IE8r7Q4DfA37O4ZeqXQFcGRGNEXEGcDbwk2rlk6R6kZn/q3NbRAyKiOPL72/NzLV9n0ySBoZqDvkYA6yOiMeAnwIrM/O7wJeBSyLiaeCS8jHlMXx3AU8CdwPXZeb+KuaTpLoSEd+MiOMjYhile+1TEfF/Fp1Lkmpd1YZ8ZOZjwG910X7YpWozcz4wv1qZJKnOnZuZr0bEHwHfA26g9OD4/11sLEmqba6UKEn1Y3BEDKY0XenyzNxLFw9/S5LeHgtqSaofi4BngGHAAxExFni10ESSNAD0ashHRLTw1rlLf5CZ26uYTZJ0lETEIGBLZr6zQ9uzwNTiUknSwNBtD3VEfCoiHgFuAoYAT1Ga5m4KsDIilkaEUy1JUj+XmW8Cn+7Ulpm5r6BIkjRg9NRDPQy4MDN/3dWbEXEepentnj3KuSRJR9/KiPgvwJ3ArgON/tooSZXptqDOzNt6eP9nRzWNJKmariq/XtehLYHfKCCLJA0YPY6hLq+gtSszd5UXaLkeOA64NTNfqHZASdLRkZlnFJ1Bkgai3jyU+C3gU5R+HvwS0ExpxcNv4sMsklRTImIicC7QdKAtM/+/4hJJUu3rtqCOiFnAmcAHIyKAjwFfAV4HxkbEJ4GflRdxkST1YxHxBeCDlArq7wGXAWsAC2pJqkBP81D/kNI0eeuB54EtwP8st79cft1YtXSSpKPpP1FaqfbFzPxj4D1AY7GRJKn29fRQ4saIuBX4LjAY+GRmPlueKu+lzHR2D0mqHb/OzDcjYl9EHE9pGlQfSJSkCvU4hjozF0bE3wFvZuYb5eaXgZlVTSZJOtrWRsQJwGLgYUrD935SaCJJGgB6GkM9PDNfz8zXO7Zn5q7O51QroCTp6MjMa8u7iyLibuB4n4GRpMr1NIZ6eUT8j4j4DxEx7EBjRPxGRMyOiHuAD1U3otT3TjzxRCLi4HbiiScWHUmqWJR8PCL+PDOfAXZGxAVF55KkWtdtQZ2ZFwOrgD8B1kXEKxHxMvD3wDuAWZn57erHlPrOiSeeyPbt25kwYQIbN25kwoQJbN++3aJaA8HtwPv49yF7rwHdLuAlSepZb8ZQf4/S9EpSXThQTD/xxBMAPPHEE0ycOJF169YVnEyq2O9k5m9HxKMAmbkjIo4tOpQk1bqehnxIdel73/tet8dSjdobEQ2UlhsnIpqBN4uNJEm1z4Ja6sKHP/zhbo+lWhIRY8u7/y/wHeCkiJhPaVGXBb38jIaIeDQivls+HhURKyPi6fLryKqEl6QaYEEtdTJq1CjWrVvHxIkTefbZZw8O9xg1alTR0aQjtSoibgTuBP4r8H8BLwCXZ+Y/9PIzPkNpka8DbgRWZebZlJ61ufEo5pWkmtLrgjoipkTEH5f3myPijOrFkorz8ssvHyyqx44de7CYfvnll4uOJh2p3wJOpjT39EmZeVtm/lVmru/hOgAi4lTgPwJ/06F5BrC0vL8UuPzoxZWk2tLjQ4kAEfEFoAV4F/C3lFZN/HvgwupFk4pj8ayBJDNfAz4XEZMp9VZvojR2Okpv56QePuIvKfVsH9eh7eTMfKH8+S9ExElHP7kk1YZeFdTA/0Gph+MRgMzcHBHHdX+JJKm/iIiLgFsp9TLfRi8fRoyI3we2ZubDEfHBI/zua4BrAE4//fQj+QhJ6td6O+RjT2Ym//5k+LAezpdqWmtrK01NTUQETU1NtLa2Fh1JOmIR8S3gS8B/zsz/kpm/ysyNB7YeLr8QmB4RzwDfAi6KiL8HtkTEmPLnjwG2Hu4DMvOOzGzJzJbm5uaj8meSpP6ktwX1XRHx18AJEXE18ANgcfViScVpbW1l0aJFLFiwgF27drFgwQIWLVpkUa1atiozfzczH3+7F2bmTZl5amaOA64E7svMjwMrgFnl02YBy49aWkmqMT0O+YiIoPRk+G8Cr1IaR/3nmbmyytmkQixevJhbbrmF66+/HuDg680330xbW1uR0aQj9euIiPIvjW8REWcCYzJzzdv4zC9T6myZDTwLXHEUckpSTYrD3F8PPSni4cyc3Ad53paWlpZcu3Zt0TE0wEQEu3btYujQoQfb3njjDYYNG0Zv/r5IvVW+t7b0wfd8BriK0iwfDwPbgCbgLOADwEvAjZn5dLWzeN9WNUWE92lVTXf37N4O+fjXiDj/KGaS+q3GxkYWLVp0SNuiRYtobGwsKJFUmcy8FfhtYBnQDFxcPn4e+ERmfrQvimlJGqh6O8vHVOBPImIjsIveT7Uk1Zyrr76aG264AYA5c+awaNEibrjhBubMmVNwMunIZeZ+YGV5kyQdRb0tqC+ragqpHzkwTvrmm2/m85//PI2NjcyZM8fx05IkqUu9KqgPTKtUnri/qaqJpH6gra3NAlqSJPVKr8ZQR8T0iHga+BVwP/AM8P0q5pIkSZJqQm8fSvzvwHuBX2TmGZQeaHmwaqkkSUddRJwcEUsi4vvl43PL095JkirQ24J6b2a+DAyKiEGZuRo4r3qxJElV8HXgHuCU8vEvgM8WFUaSBoreFtQ7I2I48ADwjYi4FdhXvVhSsSZNmkREHNwmTXJCGw0IozPzLuBNgMzcB+wvNpIk1b5uC+qIOL28OwN4A/gccDfwb8BHqhtNKsakSZN4/PHHmT59Otu2bWP69Ok8/vjjFtUaCHZFxIlAAkTEe4FXio0kSbWvp1k+/hn47czcFRH/mJkfBZZWP5ZUnAPF9PLlywFYvnw5M2bMYMWKFQUnkyp2PbACODMiHqS0yMt/KjaSJNW+ngrq6LD/G9UMIvUnS5Ysectxc3NzQWmkoyMzH4mIDwDvonR/fyoz9xYcS5JqXk8FdR5mXxrQLr30Uvbs2cP69esZP348xx57bNGRpIpFxB90ajonIl4BHs/MrUVkkqSBoKeHEt8TEa9GxGvApPL+qxHxWkS82hcBpb522mmn8eijjzJixAg2bdrEiBEjePTRRznttNOKjiZVajbwN8AflbfFlIaBPBgRnygymCTVsm57qDOzoa+CSP3F8ccfzxlnnMGPfvQjTjmlNLvYGWecwdChQwtOJlXsTWB8Zm6B0rzUwELgdyjN4vR3BWZTnRg1ahQ7duyo2udHRM8nHYGRI0eyffv2qny2al+vlh6X6sn69evZvXs3gwcPPti2d+9empqaCkwlHRXjDhTTZVuBczJze0Q4llp9YseOHWTW3ijSahXqGhh6Ow+1VDfGjx/PmjVrDmlbs2YN48ePLyiRdNT8S0R8NyJmRcQsSjN+/EtEDAN2FhtNkmqXBbXUybx585g9ezarV69m7969rF69mtmzZzNv3ryio0mVug74W0or3f4WsDQz52bmrsycWmgySaphFtRSJzNnzmTfvn1cdNFFHHvssVx00UXs27ePmTNnFh1NqkiW/GNmfi4zPwu8GBG3FZ1LkmqdBbXUyaRJk3juuecOWSnxueeec6VEDQgRcV5E3BIRzwD/Hfh5wZEkqeb5UKLUiSslaqCJiHOAK4GZwMvAnUA4zEOSjg57qKUudLVSolTDfg5cDHwkM6dkZhuwv+BMkjRgWFBLXZg9e3a3x1KN+SjwIrA6IhZHxMWUlh6XJB0FFtRSJ+9+97tZsWIFM2bM4KWXXjo43OPd73530dGkI5KZ38nMjwG/CfwQ+BxwckQsjIhLCw0nSQNA1QrqiDgtIlZHxPqIWBcRnym3j4qIlRHxdPl1ZIdrboqIDRHxVERMq1Y2qTuPPfbYwaK6ubn5YDH92GOPFR1Nqkh5erxvZObvA6cCPwNuLDaVJNW+avZQ7wM+n5njgfcC10XEuZRu3qsy82xgVfmY8ntXAhOADwG3R4RLn6sQjz32GJl5cLOY1kCTmdsz868z86Kis0hSrataQZ2ZL2TmI+X914D1wDuBGcDS8mlLgcvL+zOAb2Vme2b+CtgAXFCtfJIkSdLR0CdjqCNiHKVVuR4CTs7MF6BUdAMnlU97J/Bch8s2lds6f9Y1EbE2ItZu27atqrklSZKknlS9oI6I4cA/Ap/NzFe7O7WLtnxLQ+YdmdmSmS3Nzc1HK6YkSZJ0RKpaUEfEYErF9Dcy85/KzVsiYkz5/THA1nL7JuC0DpefCmyuZj5JUs8ioikifhIR/7v8kPmXyu2HfchckupJNWf5CGAJsD4zv9rhrRXArPL+LGB5h/YrI6IxIs4AzgZ+Uq18kqReawcuysz3AOcBH4qI93KYh8wlqd5Uc+nxC4FPAI9HxM/KbTcDXwbuiojZwLPAFQCZuS4i7gKepDRDyHWZ6UpeklSwzEzg9fLh4PKWlB4m/2C5fSmlOa5v6ON4klS4qhXUmbmGw6/EdfFhrpkPzK9WJknSkSlPY/owcBZwW2Y+FBGHPGQeESd1+yGSNEC5UqIkqUeZuT8zz6P0fMsFETGxt9c6O5Okgc6CWpLUa5m5k9LQjg9x+IfMO1/j7EySBjQLaklStyKiOSJOKO8PAX4P+DmHf8hckupKNR9KlCQNDGOApeVx1IOAuzLzuxHxY7p4yFyS6o0FtSSpW5n5GKXVbju3v8xhHjKXpHrikA9JkiSpAhbUkiRJUgUc8iFJkvpMfuF4+OKIomO8bfmF44uOoH7MglqSJPWZ+NKrlBbfrC0RQX6x6BTqrxzyIUmSJFXAglqSJEmqgAW1JEmSVAELaqkLra2tNDU1ERE0NTXR2tpadCRJktRPWVBLnbS2trJo0SIWLFjArl27WLBgAYsWLbKoliRJXbKgljpZvHgxt9xyC9dffz1Dhw7l+uuv55ZbbmHx4sVFR5MkSf2QBbXUSXt7O3PmzDmkbc6cObS3txeUSJIk9WcW1FInjY2NLFq06JC2RYsW0djYWFAiSZLUn7mwi9TJ1VdfzQ033ACUeqYXLVrEDTfc8JZea0mSJICoxdWKDmhpacm1a9cWHUMD0Omnn85zzz138Pi0007j2WefLTCRBqKIeDgzW4rO0Ze8bysianelxBrMraOnu3u2Qz6kTqZNm3ZIMQ3w3HPPMW3atIISSZKk/syCWurk3nvvBWD69Ols27aN6dOnH9IuSZLUkQW11IXLLruM5cuXM3r0aJYvX85ll11WdCRJktRPWVBLXfjlL395yEqJv/zlL4uOJEmS+ikLaqkLTz31FJMnT2bz5s1MnjyZp556quhIkiSpn3LaPOkwfvSjH3HKKacUHUOSJPVz9lBLXZgwYUK3x5IkSQdYUEudNDY2ctVVV5GZB7errrrKlRIlSVKXHPIhdeJKiZIk6e1wpUSpC66UqL7gSomqR7W64mCt5tbR40qJ0ttwYKXEQYNKfz0GDRrkSomSJOmwHPIhdXJgRcSIOOTVlRIl6eg4cF+tJSNHjiw6gvoxe6ilLgwaNIivfOUr7Nq1i6985SsHe6slSZXp+MD30d6q+fnbt28v+J+c+jOrBKkL559/Ptdffz1Dhw7l+uuv5/zzzy86kiRJ6qcsqKUuPPTQQ1x77bW88sorXHvttTz00ENFR5IkSf2UBbXUSUNDAwALFy7khBNOYOHChYe0S/UmIk6LiNURsT4i1kXEZ8rtoyJiZUQ8XX51kKmkumRBLXUyd+5cIuJgAd3Q0EBEMHfu3IKTSYXZB3w+M8cD7wWui4hzgRuBVZl5NrCqfCxJdceCWuqkra2N6667jmOOKU2Cc8wxx3DdddfR1tZWcDKpGJn5QmY+Ut5/DVgPvBOYASwtn7YUuLyQgJJUMKfNk7rQ1tZmAS11ISLGAb8FPAScnJkvQKnojoiTDnPNNcA1UFo0SZIGGnuopS5MmjSJiDi4TZo0qehIUuEiYjjwj8BnM/PV3l6XmXdkZktmtjQ3N1cvoCQVxIJa6mTSpEk8/vjjTJ8+nW3btjF9+nQef/xxi2rVtYgYTKmY/kZm/lO5eUtEjCm/PwbYWlQ+SSqSBbXUyYFievny5YwePZrly5cfLKqlehSlZe2WAOsz86sd3loBzCrvzwKW93U2SeoPLKilLuzcuZNBgwYREQwaNIidO3cWHUkq0oXAJ4CLIuJn5e3DwJeBSyLiaeCS8rEk1R0LaqkLDzzwAHPmzGHnzp3MmTOHBx54oOhIUmEyc01mRmZOyszzytv3MvPlzLw4M88uv7o2s6S65Cwf0mEsXLjw4KIukiRJh2MPtSRJklQBC2rpMDou7CJJknQ4FtTSYVxwwQVs3ryZCy64oOgokiSpH7PrTerC0KFD+fGPf8wpp5xCRDB06FDeeOONomNJkqR+yB5qqQtvvPEGH/nIR9i2bRsf+chHLKYlSdJhVa2gjoivRcTWiHiiQ9uoiFgZEU+XX0d2eO+miNgQEU9FxLRq5ZJ60tDQAMCKFStobm5mxYoVh7RLkiR1VM0e6q8DH+rUdiOwKjPPBlaVj4mIc4ErgQnla26PCKsXFWLu3LlExMECuqGhgYhg7ty5BSeTJEn9UdUK6sx8AOg8yf8MYGl5fylweYf2b2Vme2b+CtgA+CSYCtHW1sZ11113yCwf1113HW1tbQUnkyRJ/VFfP5R4cma+AJCZL0TESeX2dwL/2uG8TeW2t4iIa4BrAE4//fQqRlU9a2trs4CWJEm90l8eSowu2rKrEzPzjsxsycyW5ubmKsdSvWptbaWpqYmIoKmpidbW1qIjSZKkfqqvC+otETEGoPy6tdy+CTitw3mnApv7OJsElIrp2267jX379gGwb98+brvtNotqSZLUpb4uqFcAs8r7s4DlHdqvjIjGiDgDOBv4SR9nkwBYuHAhmcn+/fsB2L9/P5nJwoULC04mSZL6o2pOm7cM+DHwrojYFBGzgS8Dl0TE08Al5WMycx1wF/AkcDdwXWbur1Y2qTsHCukJEyawceNGJkyYcEi7JElSR1V7KDEzZx7mrYsPc/58YH618khvx+DBg3nyyScZO3YsEcHgwYPZu3dv0bEkSVI/1F8eSpT6lb179/K+972PzZs38773vc9iWpIkHVZfT5sn1Ywf/ehHnHLKKUXHkCRJ/Zw91JIkSVIFLKglSZKkClhQS5IkSRWwoJYkSZIqYEEtSZIkVcCCWpIkSaqABbUkSZJUAQtqSZIkqQIW1JIkSVIFLKglSZKkClhQS12IiG6PJUmSDrCglrqQmcydO5edO3cyd+5cMrPoSFJhIuJrEbE1Ip7o0DYqIlZGxNPl15FFZpSkIllQq65ERI/bAQsXLuSEE05g4cKFvb5eGqC+DnyoU9uNwKrMPBtYVT6WpLpkQa26kpk9bp/+9Ke7vPbTn/50j9dKA1FmPgBs79Q8A1ha3l8KXN6XmSSpPzmm6ABSf9PW1gbA4sWLaW9vp7GxkauvvvpguyQATs7MFwAy84WIOOlwJ0bENcA1AKeffnofxZOkvmMPtdSFtrY2du/eDcDu3bstpqUKZOYdmdmSmS3Nzc1Fx5Gko86CWpJ0JLZExBiA8uvWgvNIUmEsqCVJR2IFMKu8PwtYXmAWSSqUBbUkqVsRsQz4MfCuiNgUEbOBLwOXRMTTwCXlY0mqSz6UKEnqVmbOPMxbF/dpEEnqp+yhliRJkipgQS1JkiRVwIJakiRJqoAFtSRJklQBC2pJkiSpAhbUkiRJUgUsqCVJkqQKWFBLkiRJFbCgliRJkipgQS1JkiRVwIJakiRJqoAFtSRJklSBY4oOIFVq1KhR7Nixo2qfHxFH/TNHjhzJ9u3bj/rnSpKkvmdBrZq3Y8cOMrPoGG9LNYp0SZJUDId8SJIkSRWwoJYkSZIqYEEtSZIkVcCCWpIkSaqABbUkSZJUAQtqSZIkqQJOmydJkvqlI5li9O1cU2tTrqr/sqCWJEn9Um8L3oaGBt58882Dx4MGDWL//v3ViiW9hQW1al5+4Xj44oiiY7wt+YXji44gSQPCgWJ6+PDh3H///XzgAx/g9ddfp6GhwaJafcaCWjUvvvRqzf1sFxHkF4tOIUm170Ax/dprrwHw2muvcdxxx/H6668XnEz1xIcSJUlSTbv//vu7PZaqzR5qDQhH8uBKkUaOHFl0BEkaMCZPnlx0BNU5C2rVvGoO94iImhtOIkmS+la/G/IRER+KiKciYkNE3Fh0HkmSJKk7/aqgjogG4DbgMuBcYGZEnFtsKknS4dgJov5gyJAh3HfffezZs4f77ruPIUOGFB1JdaZfFdTABcCGzPxlZu4BvgXMKDiTJKkLdoKov8hMpk6dyuDBg5k6dapD9dTn+ltB/U7guQ7Hm8ptB0XENRGxNiLWbtu2rU/DqfZFxNva3u41Up2xE0T9wu7duznuuON45JFHOO6449i9e3fRkVRn+ltB3VVFcsj/zczMOzKzJTNbmpub+yiWBorMrOom1ZkeO0Gkahs2bBgAr7/+OpMnTz44//SBdqkv9LeCehNwWofjU4HNBWWRJHWvx04Q8JdFVdfixYvfMmZ6yJAhLF68uKBEqkf9raD+KXB2RJwREccCVwIrCs4kSeparzpB/GVR1TRz5kyWLFnChAkTGDRoEBMmTGDJkiXMnDmz6GiqI/1qHurM3BcRnwbuARqAr2XmuoJjSZK6drATBHieUifIfy42kurRzJkzLaBVqH5VUANk5veA7xWdQ5LUPTtBJKmk3xXUkqTaYSeIJPW/MdSSJElSTbGgliRJkipgQS1JkiRVwIJakiRJqoAFtSRJklQBC2pJkiSpAhbUkiRJUgUsqCVJkqQKRGYWneGIRcQ2YGPROTSgjQZeKjqEBqyxmdlcdIi+5H1bVeY9W9V02Ht2TRfUUrVFxNrMbCk6hySpZ96zVRSHfEiSJEkVsKCWJEmSKmBBLXXvjqIDSJJ6zXu2CuEYakmSJKkC9lBLkiRJFbCgljqJiK9FxNaIeKLoLJKknnnfVtEsqKW3+jrwoaJDSJJ67et431aBLKilTjLzAWB70TkkSb3jfVtFs6CWJEmSKmBBLUmSJFXAglqSJEmqgAW1JEmSVAELaqmTiFgG/Bh4V0RsiojZRWeSJB2e920VzZUSJUmSpArYQy1JkiRVwIJakiRJqoAFtSRJklQBC2pJkiSpAhbUkiRJUgUsqCVJkqQKWFBLkiRJFbCgliRJkirw/wP4CmaFuZ9hXAAAAABJRU5ErkJggg==",
      "text/plain": [
       "<Figure size 864x432 with 2 Axes>"
      ]
     },
     "metadata": {
      "needs_background": "light"
     }
    }
   ],
   "metadata": {}
  },
  {
   "cell_type": "markdown",
   "source": [
    "From above boxplot we can see that:\n",
    "- The age feature is welled distributed and all acceptable.\n",
    "- The fare feature is all acceptable but has one outlier has value 500.\n"
   ],
   "metadata": {}
  },
  {
   "cell_type": "markdown",
   "source": [
    "## Data Creating:"
   ],
   "metadata": {}
  },
  {
   "cell_type": "markdown",
   "source": [
    "First, we will explore our data with graphical statistics to describe and summarize our variables. After we got the graphical statistics, we can determining their correlation with the target variable and each other."
   ],
   "metadata": {}
  },
  {
   "cell_type": "code",
<<<<<<< HEAD
   "execution_count": 8,
=======
   "execution_count": 7,
>>>>>>> 5c21b1f823b88fff53120b81be8a47cb47d9a719
   "source": [
    "train['Title'] = train['Name'].str.split(\", \", expand=True)[1].str.split(\".\", expand=True)[0]\n",
    "\n",
    "\n",
    "train['Title'] = train['Title'].apply(lambda x: 'Other' if x not in ['Mr', 'Miss', 'Mrs', 'Master'] else x)\n",
    "\n",
    "train.sample(10)"
   ],
   "outputs": [
    {
     "output_type": "execute_result",
     "data": {
      "text/html": [
       "<div>\n",
       "<style scoped>\n",
       "    .dataframe tbody tr th:only-of-type {\n",
       "        vertical-align: middle;\n",
       "    }\n",
       "\n",
       "    .dataframe tbody tr th {\n",
       "        vertical-align: top;\n",
       "    }\n",
       "\n",
       "    .dataframe thead th {\n",
       "        text-align: right;\n",
       "    }\n",
       "</style>\n",
       "<table border=\"1\" class=\"dataframe\">\n",
       "  <thead>\n",
       "    <tr style=\"text-align: right;\">\n",
       "      <th></th>\n",
       "      <th>Survived</th>\n",
       "      <th>Pclass</th>\n",
       "      <th>Name</th>\n",
       "      <th>Sex</th>\n",
       "      <th>Age</th>\n",
       "      <th>SibSp</th>\n",
       "      <th>Parch</th>\n",
       "      <th>Fare</th>\n",
       "      <th>Embarked</th>\n",
       "      <th>Title</th>\n",
       "    </tr>\n",
       "  </thead>\n",
       "  <tbody>\n",
       "    <tr>\n",
<<<<<<< HEAD
       "      <th>65</th>\n",
       "      <td>1</td>\n",
       "      <td>3</td>\n",
       "      <td>Moubarek, Master. Gerios</td>\n",
       "      <td>male</td>\n",
       "      <td>28.0</td>\n",
       "      <td>1</td>\n",
       "      <td>1</td>\n",
       "      <td>15.2458</td>\n",
       "      <td>C</td>\n",
       "      <td>Master</td>\n",
       "    </tr>\n",
       "    <tr>\n",
       "      <th>602</th>\n",
       "      <td>0</td>\n",
       "      <td>1</td>\n",
       "      <td>Harrington, Mr. Charles H</td>\n",
       "      <td>male</td>\n",
       "      <td>28.0</td>\n",
       "      <td>0</td>\n",
       "      <td>0</td>\n",
       "      <td>42.4000</td>\n",
       "      <td>S</td>\n",
       "      <td>Mr</td>\n",
       "    </tr>\n",
       "    <tr>\n",
       "      <th>264</th>\n",
       "      <td>0</td>\n",
       "      <td>3</td>\n",
       "      <td>Henry, Miss. Delia</td>\n",
       "      <td>female</td>\n",
       "      <td>28.0</td>\n",
       "      <td>0</td>\n",
       "      <td>0</td>\n",
       "      <td>7.7500</td>\n",
       "      <td>Q</td>\n",
       "      <td>Miss</td>\n",
       "    </tr>\n",
       "    <tr>\n",
       "      <th>454</th>\n",
       "      <td>0</td>\n",
       "      <td>3</td>\n",
       "      <td>Peduzzi, Mr. Joseph</td>\n",
       "      <td>male</td>\n",
       "      <td>28.0</td>\n",
       "      <td>0</td>\n",
       "      <td>0</td>\n",
       "      <td>8.0500</td>\n",
=======
       "      <th>525</th>\n",
       "      <td>0</td>\n",
       "      <td>3</td>\n",
       "      <td>Farrell, Mr. James</td>\n",
       "      <td>male</td>\n",
       "      <td>40.5</td>\n",
       "      <td>0</td>\n",
       "      <td>0</td>\n",
       "      <td>7.7500</td>\n",
       "      <td>Q</td>\n",
       "      <td>Mr</td>\n",
       "    </tr>\n",
       "    <tr>\n",
       "      <th>412</th>\n",
       "      <td>1</td>\n",
       "      <td>1</td>\n",
       "      <td>Minahan, Miss. Daisy E</td>\n",
       "      <td>female</td>\n",
       "      <td>33.0</td>\n",
       "      <td>1</td>\n",
       "      <td>0</td>\n",
       "      <td>90.0000</td>\n",
       "      <td>Q</td>\n",
       "      <td>Miss</td>\n",
       "    </tr>\n",
       "    <tr>\n",
       "      <th>301</th>\n",
       "      <td>1</td>\n",
       "      <td>3</td>\n",
       "      <td>McCoy, Mr. Bernard</td>\n",
       "      <td>male</td>\n",
       "      <td>28.0</td>\n",
       "      <td>2</td>\n",
       "      <td>0</td>\n",
       "      <td>23.2500</td>\n",
       "      <td>Q</td>\n",
       "      <td>Mr</td>\n",
       "    </tr>\n",
       "    <tr>\n",
       "      <th>664</th>\n",
       "      <td>1</td>\n",
       "      <td>3</td>\n",
       "      <td>Lindqvist, Mr. Eino William</td>\n",
       "      <td>male</td>\n",
       "      <td>20.0</td>\n",
       "      <td>1</td>\n",
       "      <td>0</td>\n",
       "      <td>7.9250</td>\n",
>>>>>>> 5c21b1f823b88fff53120b81be8a47cb47d9a719
       "      <td>S</td>\n",
       "      <td>Mr</td>\n",
       "    </tr>\n",
       "    <tr>\n",
<<<<<<< HEAD
       "      <th>829</th>\n",
       "      <td>1</td>\n",
       "      <td>1</td>\n",
       "      <td>Stone, Mrs. George Nelson (Martha Evelyn)</td>\n",
       "      <td>female</td>\n",
       "      <td>62.0</td>\n",
       "      <td>0</td>\n",
       "      <td>0</td>\n",
       "      <td>80.0000</td>\n",
=======
       "      <th>855</th>\n",
       "      <td>1</td>\n",
       "      <td>3</td>\n",
       "      <td>Aks, Mrs. Sam (Leah Rosen)</td>\n",
       "      <td>female</td>\n",
       "      <td>18.0</td>\n",
       "      <td>0</td>\n",
       "      <td>1</td>\n",
       "      <td>9.3500</td>\n",
>>>>>>> 5c21b1f823b88fff53120b81be8a47cb47d9a719
       "      <td>S</td>\n",
       "      <td>Mrs</td>\n",
       "    </tr>\n",
       "    <tr>\n",
<<<<<<< HEAD
       "      <th>516</th>\n",
       "      <td>1</td>\n",
       "      <td>2</td>\n",
       "      <td>Lemore, Mrs. (Amelia Milley)</td>\n",
       "      <td>female</td>\n",
       "      <td>34.0</td>\n",
       "      <td>0</td>\n",
=======
       "      <th>875</th>\n",
       "      <td>1</td>\n",
       "      <td>3</td>\n",
       "      <td>Najib, Miss. Adele Kiamie \"Jane\"</td>\n",
       "      <td>female</td>\n",
       "      <td>15.0</td>\n",
>>>>>>> 5c21b1f823b88fff53120b81be8a47cb47d9a719
       "      <td>0</td>\n",
       "      <td>10.5000</td>\n",
       "      <td>S</td>\n",
       "      <td>Mrs</td>\n",
       "    </tr>\n",
       "    <tr>\n",
       "      <th>275</th>\n",
       "      <td>1</td>\n",
       "      <td>1</td>\n",
       "      <td>Andrews, Miss. Kornelia Theodosia</td>\n",
       "      <td>female</td>\n",
       "      <td>63.0</td>\n",
       "      <td>1</td>\n",
       "      <td>0</td>\n",
<<<<<<< HEAD
       "      <td>77.9583</td>\n",
       "      <td>S</td>\n",
       "      <td>Miss</td>\n",
       "    </tr>\n",
       "    <tr>\n",
       "      <th>137</th>\n",
       "      <td>0</td>\n",
       "      <td>1</td>\n",
       "      <td>Futrelle, Mr. Jacques Heath</td>\n",
       "      <td>male</td>\n",
       "      <td>37.0</td>\n",
       "      <td>1</td>\n",
       "      <td>0</td>\n",
       "      <td>53.1000</td>\n",
=======
       "      <td>7.2250</td>\n",
       "      <td>C</td>\n",
       "      <td>Miss</td>\n",
       "    </tr>\n",
       "    <tr>\n",
       "      <th>437</th>\n",
       "      <td>1</td>\n",
       "      <td>2</td>\n",
       "      <td>Richards, Mrs. Sidney (Emily Hocking)</td>\n",
       "      <td>female</td>\n",
       "      <td>24.0</td>\n",
       "      <td>2</td>\n",
       "      <td>3</td>\n",
       "      <td>18.7500</td>\n",
       "      <td>S</td>\n",
       "      <td>Mrs</td>\n",
       "    </tr>\n",
       "    <tr>\n",
       "      <th>827</th>\n",
       "      <td>1</td>\n",
       "      <td>2</td>\n",
       "      <td>Mallet, Master. Andre</td>\n",
       "      <td>male</td>\n",
       "      <td>1.0</td>\n",
       "      <td>0</td>\n",
       "      <td>2</td>\n",
       "      <td>37.0042</td>\n",
       "      <td>C</td>\n",
       "      <td>Master</td>\n",
       "    </tr>\n",
       "    <tr>\n",
       "      <th>413</th>\n",
       "      <td>0</td>\n",
       "      <td>2</td>\n",
       "      <td>Cunningham, Mr. Alfred Fleming</td>\n",
       "      <td>male</td>\n",
       "      <td>28.0</td>\n",
       "      <td>0</td>\n",
       "      <td>0</td>\n",
       "      <td>0.0000</td>\n",
>>>>>>> 5c21b1f823b88fff53120b81be8a47cb47d9a719
       "      <td>S</td>\n",
       "      <td>Mr</td>\n",
       "    </tr>\n",
       "    <tr>\n",
<<<<<<< HEAD
       "      <th>160</th>\n",
       "      <td>0</td>\n",
       "      <td>3</td>\n",
       "      <td>Cribb, Mr. John Hatfield</td>\n",
       "      <td>male</td>\n",
       "      <td>44.0</td>\n",
       "      <td>0</td>\n",
       "      <td>1</td>\n",
       "      <td>16.1000</td>\n",
       "      <td>S</td>\n",
       "      <td>Mr</td>\n",
       "    </tr>\n",
       "    <tr>\n",
       "      <th>282</th>\n",
       "      <td>0</td>\n",
       "      <td>3</td>\n",
       "      <td>de Pelsmaeker, Mr. Alfons</td>\n",
       "      <td>male</td>\n",
       "      <td>16.0</td>\n",
       "      <td>0</td>\n",
       "      <td>0</td>\n",
       "      <td>9.5000</td>\n",
=======
       "      <th>630</th>\n",
       "      <td>1</td>\n",
       "      <td>1</td>\n",
       "      <td>Barkworth, Mr. Algernon Henry Wilson</td>\n",
       "      <td>male</td>\n",
       "      <td>80.0</td>\n",
       "      <td>0</td>\n",
       "      <td>0</td>\n",
       "      <td>30.0000</td>\n",
>>>>>>> 5c21b1f823b88fff53120b81be8a47cb47d9a719
       "      <td>S</td>\n",
       "      <td>Mr</td>\n",
       "    </tr>\n",
       "  </tbody>\n",
       "</table>\n",
       "</div>"
      ],
      "text/plain": [
<<<<<<< HEAD
       "     Survived  Pclass                                       Name     Sex  \\\n",
       "65          1       3                   Moubarek, Master. Gerios    male   \n",
       "602         0       1                  Harrington, Mr. Charles H    male   \n",
       "264         0       3                         Henry, Miss. Delia  female   \n",
       "454         0       3                        Peduzzi, Mr. Joseph    male   \n",
       "829         1       1  Stone, Mrs. George Nelson (Martha Evelyn)  female   \n",
       "516         1       2               Lemore, Mrs. (Amelia Milley)  female   \n",
       "275         1       1          Andrews, Miss. Kornelia Theodosia  female   \n",
       "137         0       1                Futrelle, Mr. Jacques Heath    male   \n",
       "160         0       3                   Cribb, Mr. John Hatfield    male   \n",
       "282         0       3                  de Pelsmaeker, Mr. Alfons    male   \n",
       "\n",
       "      Age  SibSp  Parch     Fare Embarked   Title  \n",
       "65   28.0      1      1  15.2458        C  Master  \n",
       "602  28.0      0      0  42.4000        S      Mr  \n",
       "264  28.0      0      0   7.7500        Q    Miss  \n",
       "454  28.0      0      0   8.0500        S      Mr  \n",
       "829  62.0      0      0  80.0000        S     Mrs  \n",
       "516  34.0      0      0  10.5000        S     Mrs  \n",
       "275  63.0      1      0  77.9583        S    Miss  \n",
       "137  37.0      1      0  53.1000        S      Mr  \n",
       "160  44.0      0      1  16.1000        S      Mr  \n",
       "282  16.0      0      0   9.5000        S      Mr  "
      ]
     },
     "metadata": {},
     "execution_count": 8
=======
       "     Survived  Pclass                                   Name     Sex   Age  \\\n",
       "525         0       3                     Farrell, Mr. James    male  40.5   \n",
       "412         1       1                 Minahan, Miss. Daisy E  female  33.0   \n",
       "301         1       3                     McCoy, Mr. Bernard    male  28.0   \n",
       "664         1       3            Lindqvist, Mr. Eino William    male  20.0   \n",
       "855         1       3             Aks, Mrs. Sam (Leah Rosen)  female  18.0   \n",
       "875         1       3       Najib, Miss. Adele Kiamie \"Jane\"  female  15.0   \n",
       "437         1       2  Richards, Mrs. Sidney (Emily Hocking)  female  24.0   \n",
       "827         1       2                  Mallet, Master. Andre    male   1.0   \n",
       "413         0       2         Cunningham, Mr. Alfred Fleming    male  28.0   \n",
       "630         1       1   Barkworth, Mr. Algernon Henry Wilson    male  80.0   \n",
       "\n",
       "     SibSp  Parch     Fare Embarked   Title  \n",
       "525      0      0   7.7500        Q      Mr  \n",
       "412      1      0  90.0000        Q    Miss  \n",
       "301      2      0  23.2500        Q      Mr  \n",
       "664      1      0   7.9250        S      Mr  \n",
       "855      0      1   9.3500        S     Mrs  \n",
       "875      0      0   7.2250        C    Miss  \n",
       "437      2      3  18.7500        S     Mrs  \n",
       "827      0      2  37.0042        C  Master  \n",
       "413      0      0   0.0000        S      Mr  \n",
       "630      0      0  30.0000        S      Mr  "
      ]
     },
     "metadata": {},
     "execution_count": 7
>>>>>>> 5c21b1f823b88fff53120b81be8a47cb47d9a719
    }
   ],
   "metadata": {}
  },
  {
   "cell_type": "code",
<<<<<<< HEAD
   "execution_count": 9,
=======
   "execution_count": 8,
>>>>>>> 5c21b1f823b88fff53120b81be8a47cb47d9a719
   "source": [
    "plt.figure(figsize=[12, 6])\n",
    "\n",
    "plt.subplot(121)\n",
    "plt.hist(x = [train[train['Survived']==1]['Fare'], train[train['Survived']==0]['Fare']], \n",
    "         stacked=True, color = ['g','r'],label = ['Survived','Dead'])\n",
    "plt.title('Fare Histogram by Survival')\n",
    "plt.xlabel('Fare ($)')\n",
    "plt.ylabel('# of Passengers')\n",
    "plt.legend()\n",
    "\n",
    "plt.subplot(122)\n",
    "plt.hist(x = [train[train['Survived']==1]['Age'], train[train['Survived']==0]['Age']], \n",
    "         stacked=True, color = ['g','r'],label = ['Survived','Dead'])\n",
    "plt.title('Age Histogram by Survival')\n",
    "plt.xlabel('Age (Years)')\n",
    "plt.ylabel('# of Passengers')\n",
    "plt.legend()\n",
    "plt.show()\n",
    "\n",
    "a = sns.FacetGrid( train, hue = 'Survived', aspect=4 )\n",
    "a.map(sns.kdeplot, 'Age', shade= True )\n",
    "a.set(xlim=(0 , train['Age'].max()))\n",
    "a.add_legend()"
   ],
   "outputs": [
    {
     "output_type": "display_data",
     "data": {
      "image/png": "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",
      "text/plain": [
       "<Figure size 864x432 with 2 Axes>"
      ]
     },
     "metadata": {
      "needs_background": "light"
     }
    },
    {
     "output_type": "execute_result",
     "data": {
      "text/plain": [
<<<<<<< HEAD
       "<seaborn.axisgrid.FacetGrid at 0x7fa3437667f0>"
      ]
     },
     "metadata": {},
     "execution_count": 9
=======
       "<seaborn.axisgrid.FacetGrid at 0x7fc73fc35520>"
      ]
     },
     "metadata": {},
     "execution_count": 8
>>>>>>> 5c21b1f823b88fff53120b81be8a47cb47d9a719
    },
    {
     "output_type": "display_data",
     "data": {
      "image/png": "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",
      "text/plain": [
       "<Figure size 915.875x216 with 1 Axes>"
      ]
     },
     "metadata": {
      "needs_background": "light"
     }
    }
   ],
   "metadata": {}
  },
  {
   "cell_type": "code",
<<<<<<< HEAD
   "execution_count": 10,
=======
   "execution_count": 9,
>>>>>>> 5c21b1f823b88fff53120b81be8a47cb47d9a719
   "source": [
    "fig, saxis = plt.subplots(2, 3,figsize=(16,12))\n",
    "\n",
    "sns.barplot(x=\"Sex\", y=\"Survived\", data=train, ax = saxis[0,0])\n",
    "sns.barplot(x = 'Pclass', y = 'Survived', order=[1,2,3], data=train, ax = saxis[0,1])\n",
    "sns.barplot(x=\"SibSp\", y=\"Survived\", data=train, ax = saxis[1,0])\n",
    "\n",
    "sns.barplot(x = 'Embarked', y = 'Survived', data=train, ax = saxis[0,2])\n",
    "sns.barplot(x=\"Parch\", y=\"Survived\", data=train, ax = saxis[1,1])\n",
    "\n",
    "sns.barplot(x=\"Title\", y=\"Survived\", data=train, ax = saxis[1,2])"
   ],
   "outputs": [
    {
     "output_type": "execute_result",
     "data": {
      "text/plain": [
       "<AxesSubplot:xlabel='Title', ylabel='Survived'>"
      ]
     },
     "metadata": {},
<<<<<<< HEAD
     "execution_count": 10
=======
     "execution_count": 9
>>>>>>> 5c21b1f823b88fff53120b81be8a47cb47d9a719
    },
    {
     "output_type": "display_data",
     "data": {
<<<<<<< HEAD
      "image/png": "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",
=======
      "image/png": "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",
>>>>>>> 5c21b1f823b88fff53120b81be8a47cb47d9a719
      "text/plain": [
       "<Figure size 1152x864 with 6 Axes>"
      ]
     },
     "metadata": {
      "needs_background": "light"
     }
    }
   ],
   "metadata": {}
  },
  {
   "cell_type": "markdown",
   "source": [
    "From plot above, there may be some relation between SibSp and Parch, therefore we construct a new feature called family size."
   ],
   "metadata": {}
  },
  {
   "cell_type": "code",
<<<<<<< HEAD
   "execution_count": 11,
=======
   "execution_count": 10,
>>>>>>> 5c21b1f823b88fff53120b81be8a47cb47d9a719
   "source": [
    "train['FamilySize'] = train ['SibSp'] + train['Parch'] + 1\n",
    "\n",
    "fig, (axis1) = plt.subplots(1,1,figsize=(14,8))\n",
    "sns.barplot(x = 'FamilySize', y = 'Survived', data=train, ax = axis1)"
   ],
   "outputs": [
    {
     "output_type": "execute_result",
     "data": {
      "text/plain": [
       "<AxesSubplot:xlabel='FamilySize', ylabel='Survived'>"
      ]
     },
     "metadata": {},
<<<<<<< HEAD
     "execution_count": 11
=======
     "execution_count": 10
>>>>>>> 5c21b1f823b88fff53120b81be8a47cb47d9a719
    },
    {
     "output_type": "display_data",
     "data": {
<<<<<<< HEAD
      "image/png": "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",
=======
      "image/png": "iVBORw0KGgoAAAANSUhEUgAAA0AAAAHgCAYAAACM4A2FAAAAOXRFWHRTb2Z0d2FyZQBNYXRwbG90bGliIHZlcnNpb24zLjMuNCwgaHR0cHM6Ly9tYXRwbG90bGliLm9yZy8QVMy6AAAACXBIWXMAAAsTAAALEwEAmpwYAAAcWklEQVR4nO3df5Rnd13f8dc7u6YhEEDN1oWEmBQjkioEWSIa5beYUEvqDzSAUjhy0pxDUFtxidVa0YMe1x9Vy490i0hVSo4FbKOmhBYUKkpNgiE/CKGRkGQ3jCGmQKCpYZN3/5jv0mEYsoPM3Ts7n8fjnDnzvd979zvv3JOTnWfu53u/1d0BAAAYwVFzDwAAAHC4CCAAAGAYAggAABiGAAIAAIYhgAAAgGEIIAAAYBjb5x7gi3X88cf3ySefPPcYAADAJnXllVfe0d071tp3xAXQySefnCuuuGLuMQAAgE2qqm7+QvssgQMAAIYhgAAAgGEIIAAAYBgCCAAAGIYAAgAAhiGAAACAYQggAABgGAIIAAAYhgACAACGIYAAAIBhCCAAAGAYAggAABiGAAIAAIYhgAAAgGEIIAAAYBgCCAAAGIYAAgAAhiGAAACAYWyfewCAEezevTtLS0vZuXNn9uzZM/c4ADAsAQRwGCwtLWX//v1zjwEAw7MEDgAAGIYAAgAAhiGAAACAYQggAABgGAIIAAAYhgACAACGIYAAAIBhCCAAAGAYAggAABiGAAIAAIYhgAAAgGEIIAAAYBgCCAAAGIYAAgAAhiGAAACAYQggAABgGAIIAAAYhgACAACGIYAAAIBhCCAAAGAYAggAABiGAAIAAIYhgAAAgGEIIAAAYBgCCAAAGIYAAgAAhiGAAACAYQggAABgGAIIAAAYhgACAACGIYAAAIBhCCAAAGAYAggAABiGAAIAAIYhgAAAgGEIIAAAYBgCCAAAGIYAAgAAhiGAAACAYQggAABgGJMGUFWdVVU3VNWNVXXhGvsfUlV/UFXvr6rrqupFU84DAACMbbIAqqptSV6d5OwkpyV5blWdtuqwlyT5QHc/NslTkvxKVR091UwAAMDYprwCdEaSG7v7w919T5KLk5yz6phOclxVVZIHJbkzyYEJZwIAAAY2ZQCdkOTWFdv7Fs+t9Kokj05yW5JrkvxId9+3+oWq6ryquqKqrvjYxz421bwAAMAWN2UA1RrP9art70hyVZKHJzk9yauq6sGf94e693b3ru7etWPHjo2eEwAAGMSUAbQvySNWbJ+Y5Ss9K70oyVt72Y1JbkrydRPOBAAADGzKALo8yalVdcrixgbnJrlk1TG3JHl6klTVVyV5VJIPTzgTAAAwsO1TvXB3H6iqC5JclmRbktd393VVdf5i/0VJfi7JG6rqmiwvmXt5d98x1UwAAMDYJgugJOnuS5Ncuuq5i1Y8vi3JM6ecAQAA4KBJPwgVAABgMxFAAADAMAQQAAAwDAEEAAAMQwABAADDEEAAAMAwBBAAADAMAQQAAAxDAAEAAMMQQAAAwDAEEAAAMAwBBAAADEMAAQAAwxBAAADAMAQQAAAwDAEEAAAMQwABAADDEEAAAMAwBBAAADAMAQQAAAxDAAEAAMMQQAAAwDAEEAAAMAwBBAAADEMAAQAAwxBAAADAMAQQAAAwDAEEAAAMQwABAADD2D73AABTeteTnjz3CEmSu7dvS6py9759m2KmJ7/7XXOPAACzcAUIAAAYhgACAACGIYAAAIBhCCAAAGAYAggAABiGAAIAAIYhgAAAgGEIIAAAYBgCCAAAGIYAAgAAhiGAAACAYQggAABgGAIIAAAYhgACAACGIYAAAIBhCCAAAGAYAggAABiGAAIAAIYhgAAAgGEIIAAAYBjb5x4A2Dx2796dpaWl7Ny5M3v27Jl7HACADSeAgM9aWlrK/v375x4DAGAylsABAADDEEAAAMAwBBAAADAMAQQAAAxDAAEAAMMQQAAAwDAEEAAAMAwBBAAADEMAAQAAwxBAAADAMAQQAAAwDAEEAAAMQwABAADDEEAAAMAwBBAAADAMAQQAAAxDAAEAAMMQQAAAwDAEEAAAMAwBBAAADEMAAQAAw9g+9wDwxdq9e3eWlpayc+fO7NmzZ+5xAAA4ggggjjhLS0vZv3//3GMAAHAEsgQOAAAYhgACAACGIYAAAIBhCCAAAGAYAggAABiGAAIAAIYhgAAAgGEIIAAAYBiTBlBVnVVVN1TVjVV14Rc45ilVdVVVXVdV75pyHgAAYGzbp3rhqtqW5NVJvj3JviSXV9Ul3f2BFcc8NMlrkpzV3bdU1d+fah4AAIAprwCdkeTG7v5wd9+T5OIk56w65nlJ3trdtyRJd98+4TwAAMDgpgygE5LcumJ73+K5lb42yZdX1Z9U1ZVV9YIJ5wEAAAY32RK4JLXGc73Gz398kqcneUCSP6+q93b3hz7nharOS3Jekpx00kkTjAoAAIxgyitA+5I8YsX2iUluW+OYt3X3p7v7jiTvTvLY1S/U3Xu7e1d379qxY8dkAwMAAFvblAF0eZJTq+qUqjo6yblJLll1zH9J8m1Vtb2qjk3yTUmun3AmAABgYJMtgevuA1V1QZLLkmxL8vruvq6qzl/sv6i7r6+qtyW5Osl9SV7X3ddONRMAADC2Kd8DlO6+NMmlq567aNX2LyX5pSnnAAAASCb+IFQAAIDNZNIrQAAAfK7du3dnaWkpO3fuzJ49e+YeB4YjgAAADqOlpaXs379/7jFgWJbAAQAAwxBAAADAMCyBg03gzH975twjJEmO/vjROSpH5daP37opZnrPS98z9wgAwBbjChAAADAMAQQAAAxDAAEAAMMQQAAAwDAEEAAAMAwBBAAADEMAAQAAwxBAAADAMAQQAAAwDAEEAAAMY/vcA3BkueVnv2HuEXLgzq9Isj0H7rx5U8xz0k9fM/cIAACskytAAADAMFwBAjgMHtr9Od8BgHkIIIDD4AfuvW/uEQCAWAIHAAAMRAABAADDEEAAAMAwBBAAADAMAQQAAAxDAAEAAMMQQAAAwDAEEAAAMAwBBAAADEMAAQAAwxBAAADAMAQQAAAwDAEEAAAMQwABAADDEEAAAMAwBBAAADCM7fe3s6ruStJfaH93P3jDJwIAAJjI/QZQdx+XJFX1s0mWkvxOkkry/CTHTT4dAADABlrvErjv6O7XdPdd3f3J7n5tku+ZcjAAAICNtt4Aureqnl9V26rqqKp6fpJ7pxwMAABgo603gJ6X5PuS/PXi6zmL5wAAAI4Y9/seoIO6+yNJzpl2FAAAgGmt6wpQVX1tVb2jqq5dbD+mqn5q2tEAAAA21nqXwP37JD+R5DNJ0t1XJzl3qqEAAACmsN4AOra7/2LVcwc2ehgAAIAprTeA7qiqR2bxoahV9b1JPjrZVAAAABNY100Qkrwkyd4kX1dV+5PclOUPQwUAADhirDeAbu7uZ1TVA5Mc1d13TTkUAADAFNa7BO6mqtqb5IlJPjXhPAAAAJNZbwA9Ksl/z/JSuJuq6lVV9a3TjQUAALDx1hVA3X13d/9ed393kscleXCSd006GQAAwAZb7xWgVNWTq+o1Sd6X5Jgk3zfZVMAs+tjOfQ+8L31szz0KAMAk1nUThKq6KclVSX4vyY9396enHAruz/HH3JfkwOI7G+kzZ35m7hEAACa13rvAPba7PznpJLBOL3vMx+ceAQCAI9T9BlBV7e7uPUleWVWftyamu394sskAAAA22KGuAF2/+H7F1IMAAABM7X4DqLv/YPHw6u7+y8MwDwAAwGTWexe4X62qD1bVz1XVP5x0IgAAgIms93OAnprkKUk+lmRvVV1TVT815WAAAAAbbd2fA9TdS939G0nOz/ItsX96qqEAAACmsK4AqqpHV9XPVNW1SV6V5M+SnDjpZAAAABtsvZ8D9FtJ3pTkmd1924TzAAAATOaQAVRV25L8VXf/+mGYBwAAYDKHXALX3fcm+cqqOvowzAMAADCZ9S6BuznJe6rqkiSfPvhkd//qJFMBAABMYL0BdNvi66gkx003DgAAwHTWFUDd/YqpBwEAAJjaugKoqv44Sa9+vruftuETAQAATGS9S+BetuLxMUm+J8mBjR8HAABgOutdAnflqqfeU1XvmmAeAACAyax3CdxXrNg8KsmuJDsnmQgAAGAi610Cd2X+/3uADiT5SJIfmmIgAACAqdxvAFXVE5Lc2t2nLLb/aZbf//ORJB+YfDoAAIANdNQh9v+7JPckSVU9KckvJPkPST6RZO+0owEAAGysQy2B29bddy4ef3+Svd39liRvqaqrJp0MAABggx3qCtC2qjoYSU9P8s4V+9b7/iEAAIBN4VAR86Yk76qqO5LcneR/JElVfU2Wl8EBAAAcMe43gLr7lVX1jiQPS/L27j54J7ijkrx06uEAAAA20iGXsXX3e9d47kPTjAMAADCdQ70HCAAAYMsQQAAAwDAEEAAAMAwBBAAADGPSAKqqs6rqhqq6saouvJ/jnlBV91bV9045DwAAMLbJAqiqtiV5dZKzk5yW5LlVddoXOO4Xk1w21SwAAADJtFeAzkhyY3d/uLvvSXJxknPWOO6lSd6S5PYJZwEAADj05wB9CU5IcuuK7X1JvmnlAVV1QpLvSvK0JE+YcBYAtqjdu3dnaWkpO3fuzJ49e+YeB4BNbsoAqjWe61Xbv5bk5d19b9Vahy9eqOq8JOclyUknnbRR8wGwBSwtLWX//v1zjwHAEWLKANqX5BErtk9MctuqY3YluXgRP8cneVZVHeju/7zyoO7em2RvkuzatWt1RAEAAKzLlAF0eZJTq+qUJPuTnJvkeSsP6O5TDj6uqjck+cPV8QMAALBRJgug7j5QVRdk+e5u25K8vruvq6rzF/svmupnAwAArGXKK0Dp7kuTXLrquTXDp7tfOOUsAAAAk34QKgAAwGYigAAAgGEIIAAAYBgCCAAAGIYAAgAAhiGAAACAYQggAABgGAIIAAAYhgACAACGIYAAAIBhCCAAAGAYAggAABiGAAIAAIYhgAAAgGEIIAAAYBgCCAAAGIYAAgAAhiGAAACAYQggAABgGAIIAAAYhgACAACGsX3uAbay3bt3Z2lpKTt37syePXvmHgcAAIYngCa0tLSU/fv3zz0GAACwYAkcAAAwDAEEAAAMQwABAADD8B4gAGAY17/ynXOPkHvuvPuz3zfDPI/+yafNPQIcVq4AAQAAwxBAAADAMAQQAAAwDAEEAAAMQwABAADDEEAAAMAwBBAAADAMAQQAAAxDAAEAAMMQQAAAwDAEEAAAMAwBBAAADEMAAQAAw9g+9wBTePyP//bcIyRJjrvjrmxLcssdd80+05W/9IJZfz4AAGwGrgABAADDEEAAAMAwBBAAADAMAQQAAAxDAAEAAMMQQAAAwDAEEAAAMAwBBAAADEMAAQAAwxBAAADAMAQQAAAwDAEEAAAMY/vcAwAAm9Pu3buztLSUnTt3Zs+ePXOPA7AhBBAAsKalpaXs379/7jEANpQlcAAAwDAEEAAAMAxL4CZ039EP/JzvAADAvATQhD596jPnHgEAAFjBEjgAAGAYAggAABiGAAIAAIYhgAAAgGEIIAAAYBgCCAAAGIYAAgAAhiGAAACAYQggAABgGAIIAAAYhgACAACGIYAAAIBhCCAAAGAYAggAABiGAAIAAIYhgAAAgGEIIAAAYBgCCAAAGIYAAgAAhiGAAACAYQggAABgGAIIAAAYhgACAACGIYAAAIBhCCAAAGAYkwZQVZ1VVTdU1Y1VdeEa+59fVVcvvv6sqh475TwAAMDYJgugqtqW5NVJzk5yWpLnVtVpqw67KcmTu/sxSX4uyd6p5gEAAJjyCtAZSW7s7g939z1JLk5yzsoDuvvPuvt/Lzbfm+TECecBAAAGt33C1z4hya0rtvcl+ab7Of6HkvzXtXZU1XlJzkuSk046aaPmA+BL8Kof+4O5R0iSfPyOT3/2+2aY6YJf+cdzjwDA/ZjyClCt8VyveWDVU7McQC9fa3937+3uXd29a8eOHRs4IgAAMJIprwDtS/KIFdsnJrlt9UFV9Zgkr0tydnf/zYTzAAAAg5vyCtDlSU6tqlOq6ugk5ya5ZOUBVXVSkrcm+cHu/tCEswAAAEx3Bai7D1TVBUkuS7Ityeu7+7qqOn+x/6IkP53kK5O8pqqS5EB375pqJgAAYGxTLoFLd1+a5NJVz1204vGLk7x4yhkAAAAOmvSDUAEAADYTAQQAAAxDAAEAAMMQQAAAwDAEEAAAMAwBBAAADEMAAQAAwxBAAADAMAQQAAAwDAEEAAAMQwABAADDEEAAAMAwBBAAADAMAQQAAAxDAAEAAMMQQAAAwDAEEAAAMAwBBAAADEMAAQAAwxBAAADAMAQQAAAwDAEEAAAMQwABAADDEEAAAMAwts89AADwuV75A9879whJkjtv/8Ty96WPzj7TT/7um2f9+cDW4QoQAAAwDAEEAAAMQwABAADDEEAAAMAwBBAAADAMAQQAAAxDAAEAAMMQQAAAwDAEEAAAMAwBBAAADEMAAQAAwxBAAADAMAQQAAAwDAEEAAAMQwABAADDEEAAAMAwBBAAADAMAQQAAAxDAAEAAMMQQAAAwDAEEAAAMAwBBAAADEMAAQAAwxBAAADAMLbPPQAAwEi+8piHfM534PASQAAAh9EFj3ve3CPA0CyBAwAAhiGAAACAYQggAABgGAIIAAAYhgACAACGIYAAAIBhCCAAAGAYAggAABiGAAIAAIYhgAAAgGEIIAAAYBgCCAAAGIYAAgAAhiGAAACAYQggAABgGAIIAAAYhgACAACGIYAAAIBhCCAAAGAYAggAABiGAAIAAIYhgAAAgGEIIAAAYBgCCAAAGIYAAgAAhiGAAACAYQggAABgGAIIAAAYhgACAACGIYAAAIBhCCAAAGAYAggAABjGpAFUVWdV1Q1VdWNVXbjG/qqq31jsv7qqvnHKeQAAgLFNFkBVtS3Jq5OcneS0JM+tqtNWHXZ2klMXX+clee1U8wAAAEx5BeiMJDd294e7+54kFyc5Z9Ux5yT57V723iQPraqHTTgTAAAwsCkD6IQkt67Y3rd47os9BgAAYENUd0/zwlXPSfId3f3ixfYPJjmju1+64pg/SvIL3f2ni+13JNnd3Veueq3zsrxELkkeleSGSYaexvFJ7ph7iC3IeZ2Oczsd53Y6zu10nNtpOK/TcW6ncySd26/u7h1r7dg+4Q/dl+QRK7ZPTHLb3+GYdPfeJHs3esDDoaqu6O5dc8+x1Tiv03Fup+PcTse5nY5zOw3ndTrO7XS2yrmdcgnc5UlOrapTquroJOcmuWTVMZckecHibnBPTPKJ7v7ohDMBAAADm+wKUHcfqKoLklyWZFuS13f3dVV1/mL/RUkuTfKsJDcm+T9JXjTVPAAAAFMugUt3X5rlyFn53EUrHneSl0w5wyZwRC7dOwI4r9Nxbqfj3E7HuZ2OczsN53U6zu10tsS5newmCAAAAJvNlO8BAgAA2FQE0ESq6vVVdXtVXTv3LFtJVT2iqv64qq6vquuq6kfmnmmrqKpjquovqur9i3P7irln2kqqaltV/WVV/eHcs2wlVfWRqrqmqq6qqivmnmcrqaqHVtWbq+qDi//mfvPcM20FVfWoxb+vB78+WVU/OvdcW0VV/fPF32HXVtWbquqYuWc6Uq31u2xVPWdxfu+rqiP2bnACaDpvSHLW3ENsQQeS/Fh3PzrJE5O8pKpOm3mmreJvkzytux+b5PQkZy3uzsjG+JEk1889xBb11O4+fSvcmnWT+fUkb+vur0vy2Pj3d0N09w2Lf19PT/L4LN8E6vfnnWprqKoTkvxwkl3d/fVZvgnXufNOdUR7Qz7/d9lrk3x3kncf9mk2kACaSHe/O8mdc8+x1XT3R7v7fYvHd2X5L+QT5p1qa+hln1psftniy5sEN0BVnZjkHyV53dyzwHpU1YOTPCnJbyZJd9/T3R+fdait6elJ/qq7b557kC1ke5IHVNX2JMdmjc+XZH3W+l22u6/v7htmGmnDCCCOWFV1cpLHJfmfM4+yZSyWaV2V5PYk/627nduN8WtJdie5b+Y5tqJO8vaqurKqzpt7mC3kHyT5WJLfWizdfF1VPXDuobagc5O8ae4htoru3p/kl5PckuSjWf58ybfPOxWbkQDiiFRVD0ryliQ/2t2fnHueraK7710syzgxyRlV9fUzj3TEq6rvTHJ7d1859yxb1Jnd/Y1Jzs7yktgnzT3QFrE9yTcmeW13Py7Jp5NcOO9IW8viQ+KfneQ/zT3LVlFVX57knCSnJHl4kgdW1Q/MOxWbkQDiiFNVX5bl+Hljd7917nm2osVSlz+J97FthDOTPLuqPpLk4iRPq6rfnXekraO7b1t8vz3L76M4Y96Jtox9SfatuAr85iwHERvn7CTv6+6/nnuQLeQZSW7q7o9192eSvDXJt8w8E5uQAOKIUlWV5TXp13f3r849z1ZSVTuq6qGLxw/I8l8kH5x1qC2gu3+iu0/s7pOzvNzlnd3t/0hugKp6YFUdd/Bxkmdm+Q26fIm6eynJrVX1qMVTT0/ygRlH2oqeG8vfNtotSZ5YVccufl94ety8gzUIoIlU1ZuS/HmSR1XVvqr6obln2iLOTPKDWf6/6AdvIfqsuYfaIh6W5I+r6uokl2f5PUBu2cxm9lVJ/rSq3p/kL5L8UXe/beaZtpKXJnnj4r8Jpyf5+XnH2Tqq6tgk357lKxRskMUVyzcneV+Sa7L8e+7eWYc6gq31u2xVfVdV7UvyzUn+qKoum3fKv5vqdpMnAABgDK4AAQAAwxBAAADAMAQQAAAwDAEEAAAMQwABAADDEEAATKaq7l1xy/qrqurkL/H1nl1VFy4e/0xVvewQx39nVf1lVb2/qj5QVf9s8fz5VfWCL2UWAI5MboMNwGSq6lPd/aCJXvtnknyqu3/5C+z/siQ3Jzmju/dV1d9LcnJ33zDFPAAcGVwBAuCwqaoHVdU7qup9VXVNVZ2zeP7kqvpgVb2uqq6tqjdW1TOq6j1V9b+q6ozFcS+sqletes1HVtX7VmyfWlVXJjkuyfYkf5Mk3f23B+Pn4NWjqnr4qitU91bVV1fVjqp6S1Vdvvg68zCdIgAmtn3uAQDY0h5QVVctHt+U5DlJvqu7P1lVxyd5b1Vdstj/NYv95yW5PMnzknxrkmcn+ZdJ/slaP6C7/6qqPlFVp3f3VUlelOQN3X3n4rVvrqp3JPnDJG/q7vtW/NnbkpyeJFX1kiRP7u6bq+o/Jvk33f2nVXVSksuSPHpDzggAsxJAAEzp7u4+/eDGYlnaz1fVk5Lcl+SEJF+12H1Td1+zOO66JO/o7q6qa5KcfIif87okL6qqf5Hk+5OckSTd/eKq+oYkz0jysiTfnuSFq//w4grPi5N82+KpZyQ5raoOHvLgqjquu+9a/z86AJuRAALgcHp+kh1JHt/dn6mqjyQ5ZrHvb1ccd9+K7fty6L+v3pLkXyd5Z5Iru/tvDu5YRNU1VfU7Wb4K9cKVf7CqHpbkN5M8u7s/tXj6qCTf3N13f1H/dABset4DBMDh9JAkty/i56lJvnojXrS7/2+Wl6m9NslvJZ99v9FTVhx2epZvivBZiytSv5fk5d39oRW73p7kghXHnb4RcwIwPwEEwOH0xiS7quqKLF8N+uAGv3ZnOV6SpJLsrqobFu9DekU+f/nbtyR5QpJXrLgRwsOT/PBizqur6gNJzt/AOQGYkdtgA7AlLD4T6CHd/a/mngWAzct7gAA44lXV7yd5ZJKnzT0LAJubK0AAAMAwvAcIAAAYhgACAACGIYAAAIBhCCAAAGAYAggAABiGAAIAAIbx/wBQN63oolxRQQAAAABJRU5ErkJggg==",
>>>>>>> 5c21b1f823b88fff53120b81be8a47cb47d9a719
      "text/plain": [
       "<Figure size 1008x576 with 1 Axes>"
      ]
     },
     "metadata": {
      "needs_background": "light"
     }
    }
   ],
   "metadata": {}
  },
  {
   "cell_type": "markdown",
   "source": [
    "graph distribution of qualitative data: Sex\n",
    "\n",
    "we know sex mattered in survival, now let's compare sex and a 2nd feature"
   ],
   "metadata": {}
  },
  {
   "cell_type": "code",
   "execution_count": 11,
   "source": [
    "fig, qaxis = plt.subplots(1,2,figsize=(14,12))\n",
    "\n",
    "sns.barplot(x = 'Sex', y = 'Survived', hue = 'Embarked', data=train, ax = qaxis[0])\n",
    "axis1.set_title('Sex vs Embarked Survival Comparison')\n",
    "\n",
    "sns.barplot(x = 'Sex', y = 'Survived', hue = 'Pclass', data=train, ax  = qaxis[1])\n",
    "axis1.set_title('Sex vs Pclass Survival Comparison')"
   ],
   "outputs": [
    {
     "output_type": "execute_result",
     "data": {
      "text/plain": [
       "Text(0.5, 1.0, 'Sex vs Pclass Survival Comparison')"
      ]
     },
     "metadata": {},
     "execution_count": 11
    },
    {
     "output_type": "display_data",
     "data": {
      "image/png": "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",
      "text/plain": [
       "<Figure size 1008x864 with 2 Axes>"
      ]
     },
     "metadata": {
      "needs_background": "light"
     }
    }
   ],
   "metadata": {}
  },
  {
   "cell_type": "markdown",
   "source": [
    "how does embark port factor with class, sex, and survival compare"
   ],
   "metadata": {}
  },
  {
   "cell_type": "code",
   "execution_count": 45,
   "source": [
    "e = sns.FacetGrid(train, col = 'Embarked')\n",
    "e.map(sns.pointplot, 'Pclass', 'Survived', 'Sex', ci=95.0, palette = 'deep')\n",
    "e.add_legend()"
   ],
   "outputs": [
    {
     "output_type": "stream",
     "name": "stderr",
     "text": [
      "/Users/dongbochen/opt/anaconda3/lib/python3.8/site-packages/seaborn/axisgrid.py:643: UserWarning: Using the pointplot function without specifying `order` is likely to produce an incorrect plot.\n",
      "  warnings.warn(warning)\n",
      "/Users/dongbochen/opt/anaconda3/lib/python3.8/site-packages/seaborn/axisgrid.py:648: UserWarning: Using the pointplot function without specifying `hue_order` is likely to produce an incorrect plot.\n",
      "  warnings.warn(warning)\n"
     ]
    },
    {
     "output_type": "execute_result",
     "data": {
      "text/plain": [
       "<seaborn.axisgrid.FacetGrid at 0x7fc728d10130>"
      ]
     },
     "metadata": {},
     "execution_count": 45
    },
    {
     "output_type": "display_data",
     "data": {
      "image/png": "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",
      "text/plain": [
       "<Figure size 718.5x216 with 3 Axes>"
      ]
     },
     "metadata": {
      "needs_background": "light"
     }
    }
   ],
   "metadata": {}
  },
  {
   "cell_type": "markdown",
   "source": [
    "histogram comparison of sex, class, and age by survival"
   ],
   "metadata": {}
  },
  {
   "cell_type": "code",
   "execution_count": 47,
   "source": [
    "h = sns.FacetGrid(train, row = 'Sex', col = 'Pclass', hue = 'Survived')\n",
    "h.map(plt.hist, 'Age', alpha = .75)\n",
    "h.add_legend()"
   ],
   "outputs": [
    {
     "output_type": "execute_result",
     "data": {
      "text/plain": [
       "<seaborn.axisgrid.FacetGrid at 0x7fc729b22f40>"
      ]
     },
     "metadata": {},
     "execution_count": 47
    },
    {
     "output_type": "display_data",
     "data": {
      "image/png": "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",
      "text/plain": [
       "<Figure size 699.875x432 with 6 Axes>"
      ]
     },
     "metadata": {
      "needs_background": "light"
     }
    }
   ],
   "metadata": {}
  },
  {
   "cell_type": "markdown",
   "source": [
    "## Data Converting\n",
    "We will convert object datatypes to categorical dummy variables. The categorical features we have are sex, enbarked and title."
   ],
   "metadata": {}
  },
  {
   "cell_type": "code",
   "execution_count": 12,
   "source": [
    "label = LabelEncoder()\n",
    "\n",
    "train['Sex_Code'] = label.fit_transform(train['Sex'])\n",
    "train['Embarked_Code'] = label.fit_transform(train['Embarked'])\n",
    "train['Title_Code'] = label.fit_transform(train['Title'])"
   ],
   "outputs": [],
   "metadata": {}
  },
  {
   "cell_type": "code",
   "execution_count": 13,
   "source": [
    "train.sample(10)\n"
   ],
   "outputs": [
    {
     "output_type": "execute_result",
     "data": {
      "text/html": [
       "<div>\n",
       "<style scoped>\n",
       "    .dataframe tbody tr th:only-of-type {\n",
       "        vertical-align: middle;\n",
       "    }\n",
       "\n",
       "    .dataframe tbody tr th {\n",
       "        vertical-align: top;\n",
       "    }\n",
       "\n",
       "    .dataframe thead th {\n",
       "        text-align: right;\n",
       "    }\n",
       "</style>\n",
       "<table border=\"1\" class=\"dataframe\">\n",
       "  <thead>\n",
       "    <tr style=\"text-align: right;\">\n",
       "      <th></th>\n",
       "      <th>Survived</th>\n",
       "      <th>Pclass</th>\n",
       "      <th>Name</th>\n",
       "      <th>Sex</th>\n",
       "      <th>Age</th>\n",
       "      <th>SibSp</th>\n",
       "      <th>Parch</th>\n",
       "      <th>Fare</th>\n",
       "      <th>Embarked</th>\n",
       "      <th>Title</th>\n",
       "      <th>FamilySize</th>\n",
       "      <th>Sex_Code</th>\n",
       "      <th>Embarked_Code</th>\n",
       "      <th>Title_Code</th>\n",
       "    </tr>\n",
       "  </thead>\n",
       "  <tbody>\n",
       "    <tr>\n",
<<<<<<< HEAD
       "      <th>393</th>\n",
       "      <td>1</td>\n",
       "      <td>1</td>\n",
       "      <td>Newell, Miss. Marjorie</td>\n",
       "      <td>female</td>\n",
       "      <td>23.0</td>\n",
       "      <td>1</td>\n",
       "      <td>0</td>\n",
       "      <td>113.2750</td>\n",
       "      <td>C</td>\n",
       "      <td>Miss</td>\n",
       "      <td>2</td>\n",
       "      <td>0</td>\n",
       "      <td>0</td>\n",
       "      <td>1</td>\n",
       "    </tr>\n",
       "    <tr>\n",
       "      <th>75</th>\n",
       "      <td>0</td>\n",
       "      <td>3</td>\n",
       "      <td>Moen, Mr. Sigurd Hansen</td>\n",
       "      <td>male</td>\n",
       "      <td>25.0</td>\n",
       "      <td>0</td>\n",
       "      <td>0</td>\n",
       "      <td>7.6500</td>\n",
=======
       "      <th>508</th>\n",
       "      <td>0</td>\n",
       "      <td>3</td>\n",
       "      <td>Olsen, Mr. Henry Margido</td>\n",
       "      <td>male</td>\n",
       "      <td>28.0</td>\n",
       "      <td>0</td>\n",
       "      <td>0</td>\n",
       "      <td>22.5250</td>\n",
>>>>>>> 5c21b1f823b88fff53120b81be8a47cb47d9a719
       "      <td>S</td>\n",
       "      <td>Mr</td>\n",
       "      <td>1</td>\n",
       "      <td>1</td>\n",
       "      <td>2</td>\n",
       "      <td>2</td>\n",
       "    </tr>\n",
       "    <tr>\n",
<<<<<<< HEAD
       "      <th>495</th>\n",
       "      <td>0</td>\n",
       "      <td>3</td>\n",
       "      <td>Yousseff, Mr. Gerious</td>\n",
       "      <td>male</td>\n",
       "      <td>28.0</td>\n",
       "      <td>0</td>\n",
       "      <td>0</td>\n",
       "      <td>14.4583</td>\n",
       "      <td>C</td>\n",
       "      <td>Mr</td>\n",
       "      <td>1</td>\n",
       "      <td>1</td>\n",
       "      <td>0</td>\n",
       "      <td>2</td>\n",
       "    </tr>\n",
       "    <tr>\n",
       "      <th>603</th>\n",
       "      <td>0</td>\n",
       "      <td>3</td>\n",
       "      <td>Torber, Mr. Ernst William</td>\n",
       "      <td>male</td>\n",
       "      <td>44.0</td>\n",
       "      <td>0</td>\n",
       "      <td>0</td>\n",
       "      <td>8.0500</td>\n",
=======
       "      <th>35</th>\n",
       "      <td>0</td>\n",
       "      <td>1</td>\n",
       "      <td>Holverson, Mr. Alexander Oskar</td>\n",
       "      <td>male</td>\n",
       "      <td>42.0</td>\n",
       "      <td>1</td>\n",
       "      <td>0</td>\n",
       "      <td>52.0000</td>\n",
>>>>>>> 5c21b1f823b88fff53120b81be8a47cb47d9a719
       "      <td>S</td>\n",
       "      <td>Mr</td>\n",
       "      <td>1</td>\n",
       "      <td>1</td>\n",
       "      <td>2</td>\n",
       "      <td>2</td>\n",
       "    </tr>\n",
       "    <tr>\n",
<<<<<<< HEAD
       "      <th>25</th>\n",
       "      <td>1</td>\n",
       "      <td>3</td>\n",
       "      <td>Asplund, Mrs. Carl Oscar (Selma Augusta Emilia...</td>\n",
       "      <td>female</td>\n",
       "      <td>38.0</td>\n",
       "      <td>1</td>\n",
       "      <td>5</td>\n",
       "      <td>31.3875</td>\n",
       "      <td>S</td>\n",
       "      <td>Mrs</td>\n",
       "      <td>7</td>\n",
       "      <td>0</td>\n",
       "      <td>2</td>\n",
       "      <td>3</td>\n",
       "    </tr>\n",
       "    <tr>\n",
       "      <th>478</th>\n",
       "      <td>0</td>\n",
       "      <td>3</td>\n",
       "      <td>Karlsson, Mr. Nils August</td>\n",
       "      <td>male</td>\n",
       "      <td>22.0</td>\n",
       "      <td>0</td>\n",
       "      <td>0</td>\n",
       "      <td>7.5208</td>\n",
=======
       "      <th>862</th>\n",
       "      <td>1</td>\n",
       "      <td>1</td>\n",
       "      <td>Swift, Mrs. Frederick Joel (Margaret Welles Ba...</td>\n",
       "      <td>female</td>\n",
       "      <td>48.0</td>\n",
       "      <td>0</td>\n",
       "      <td>0</td>\n",
       "      <td>25.9292</td>\n",
       "      <td>S</td>\n",
       "      <td>Mrs</td>\n",
       "      <td>1</td>\n",
       "      <td>0</td>\n",
       "      <td>2</td>\n",
       "      <td>3</td>\n",
       "    </tr>\n",
       "    <tr>\n",
       "      <th>530</th>\n",
       "      <td>1</td>\n",
       "      <td>2</td>\n",
       "      <td>Quick, Miss. Phyllis May</td>\n",
       "      <td>female</td>\n",
       "      <td>2.0</td>\n",
       "      <td>1</td>\n",
       "      <td>1</td>\n",
       "      <td>26.0000</td>\n",
       "      <td>S</td>\n",
       "      <td>Miss</td>\n",
       "      <td>3</td>\n",
       "      <td>0</td>\n",
       "      <td>2</td>\n",
       "      <td>1</td>\n",
       "    </tr>\n",
       "    <tr>\n",
       "      <th>515</th>\n",
       "      <td>0</td>\n",
       "      <td>1</td>\n",
       "      <td>Walker, Mr. William Anderson</td>\n",
       "      <td>male</td>\n",
       "      <td>47.0</td>\n",
       "      <td>0</td>\n",
       "      <td>0</td>\n",
       "      <td>34.0208</td>\n",
>>>>>>> 5c21b1f823b88fff53120b81be8a47cb47d9a719
       "      <td>S</td>\n",
       "      <td>Mr</td>\n",
       "      <td>1</td>\n",
       "      <td>1</td>\n",
       "      <td>2</td>\n",
       "      <td>2</td>\n",
       "    </tr>\n",
       "    <tr>\n",
<<<<<<< HEAD
       "      <th>689</th>\n",
       "      <td>1</td>\n",
=======
       "      <th>451</th>\n",
       "      <td>0</td>\n",
       "      <td>3</td>\n",
       "      <td>Hagland, Mr. Ingvald Olai Olsen</td>\n",
       "      <td>male</td>\n",
       "      <td>28.0</td>\n",
>>>>>>> 5c21b1f823b88fff53120b81be8a47cb47d9a719
       "      <td>1</td>\n",
       "      <td>Madill, Miss. Georgette Alexandra</td>\n",
       "      <td>female</td>\n",
       "      <td>15.0</td>\n",
       "      <td>0</td>\n",
<<<<<<< HEAD
       "      <td>1</td>\n",
       "      <td>211.3375</td>\n",
       "      <td>S</td>\n",
       "      <td>Miss</td>\n",
       "      <td>2</td>\n",
       "      <td>0</td>\n",
=======
       "      <td>19.9667</td>\n",
       "      <td>S</td>\n",
       "      <td>Mr</td>\n",
       "      <td>2</td>\n",
       "      <td>1</td>\n",
       "      <td>2</td>\n",
>>>>>>> 5c21b1f823b88fff53120b81be8a47cb47d9a719
       "      <td>2</td>\n",
       "      <td>1</td>\n",
       "    </tr>\n",
       "    <tr>\n",
<<<<<<< HEAD
       "      <th>470</th>\n",
       "      <td>0</td>\n",
       "      <td>3</td>\n",
       "      <td>Keefe, Mr. Arthur</td>\n",
=======
       "      <th>592</th>\n",
       "      <td>0</td>\n",
       "      <td>3</td>\n",
       "      <td>Elsbury, Mr. William James</td>\n",
>>>>>>> 5c21b1f823b88fff53120b81be8a47cb47d9a719
       "      <td>male</td>\n",
       "      <td>28.0</td>\n",
       "      <td>0</td>\n",
       "      <td>0</td>\n",
       "      <td>7.2500</td>\n",
       "      <td>S</td>\n",
       "      <td>Mr</td>\n",
       "      <td>1</td>\n",
       "      <td>1</td>\n",
       "      <td>2</td>\n",
       "      <td>2</td>\n",
       "    </tr>\n",
       "    <tr>\n",
<<<<<<< HEAD
       "      <th>713</th>\n",
=======
       "      <th>85</th>\n",
       "      <td>1</td>\n",
       "      <td>3</td>\n",
       "      <td>Backstrom, Mrs. Karl Alfred (Maria Mathilda Gu...</td>\n",
       "      <td>female</td>\n",
       "      <td>33.0</td>\n",
       "      <td>3</td>\n",
       "      <td>0</td>\n",
       "      <td>15.8500</td>\n",
       "      <td>S</td>\n",
       "      <td>Mrs</td>\n",
       "      <td>4</td>\n",
>>>>>>> 5c21b1f823b88fff53120b81be8a47cb47d9a719
       "      <td>0</td>\n",
       "      <td>2</td>\n",
       "      <td>3</td>\n",
<<<<<<< HEAD
       "      <td>Larsson, Mr. August Viktor</td>\n",
       "      <td>male</td>\n",
       "      <td>29.0</td>\n",
       "      <td>0</td>\n",
       "      <td>0</td>\n",
       "      <td>9.4833</td>\n",
=======
       "    </tr>\n",
       "    <tr>\n",
       "      <th>226</th>\n",
       "      <td>1</td>\n",
       "      <td>2</td>\n",
       "      <td>Mellors, Mr. William John</td>\n",
       "      <td>male</td>\n",
       "      <td>19.0</td>\n",
       "      <td>0</td>\n",
       "      <td>0</td>\n",
       "      <td>10.5000</td>\n",
>>>>>>> 5c21b1f823b88fff53120b81be8a47cb47d9a719
       "      <td>S</td>\n",
       "      <td>Mr</td>\n",
       "      <td>1</td>\n",
       "      <td>1</td>\n",
       "      <td>2</td>\n",
       "      <td>2</td>\n",
       "    </tr>\n",
       "    <tr>\n",
<<<<<<< HEAD
       "      <th>536</th>\n",
       "      <td>0</td>\n",
       "      <td>1</td>\n",
       "      <td>Butt, Major. Archibald Willingham</td>\n",
       "      <td>male</td>\n",
       "      <td>45.0</td>\n",
       "      <td>0</td>\n",
       "      <td>0</td>\n",
       "      <td>26.5500</td>\n",
       "      <td>S</td>\n",
       "      <td>Other</td>\n",
       "      <td>1</td>\n",
       "      <td>1</td>\n",
       "      <td>2</td>\n",
       "      <td>4</td>\n",
=======
       "      <th>825</th>\n",
       "      <td>0</td>\n",
       "      <td>3</td>\n",
       "      <td>Flynn, Mr. John</td>\n",
       "      <td>male</td>\n",
       "      <td>28.0</td>\n",
       "      <td>0</td>\n",
       "      <td>0</td>\n",
       "      <td>6.9500</td>\n",
       "      <td>Q</td>\n",
       "      <td>Mr</td>\n",
       "      <td>1</td>\n",
       "      <td>1</td>\n",
       "      <td>1</td>\n",
       "      <td>2</td>\n",
>>>>>>> 5c21b1f823b88fff53120b81be8a47cb47d9a719
       "    </tr>\n",
       "  </tbody>\n",
       "</table>\n",
       "</div>"
      ],
      "text/plain": [
       "     Survived  Pclass                                               Name  \\\n",
<<<<<<< HEAD
       "393         1       1                             Newell, Miss. Marjorie   \n",
       "75          0       3                            Moen, Mr. Sigurd Hansen   \n",
       "495         0       3                              Yousseff, Mr. Gerious   \n",
       "603         0       3                          Torber, Mr. Ernst William   \n",
       "25          1       3  Asplund, Mrs. Carl Oscar (Selma Augusta Emilia...   \n",
       "478         0       3                          Karlsson, Mr. Nils August   \n",
       "689         1       1                  Madill, Miss. Georgette Alexandra   \n",
       "470         0       3                                  Keefe, Mr. Arthur   \n",
       "713         0       3                         Larsson, Mr. August Viktor   \n",
       "536         0       1                  Butt, Major. Archibald Willingham   \n",
       "\n",
       "        Sex   Age  SibSp  Parch      Fare Embarked  Title  FamilySize  \\\n",
       "393  female  23.0      1      0  113.2750        C   Miss           2   \n",
       "75     male  25.0      0      0    7.6500        S     Mr           1   \n",
       "495    male  28.0      0      0   14.4583        C     Mr           1   \n",
       "603    male  44.0      0      0    8.0500        S     Mr           1   \n",
       "25   female  38.0      1      5   31.3875        S    Mrs           7   \n",
       "478    male  22.0      0      0    7.5208        S     Mr           1   \n",
       "689  female  15.0      0      1  211.3375        S   Miss           2   \n",
       "470    male  28.0      0      0    7.2500        S     Mr           1   \n",
       "713    male  29.0      0      0    9.4833        S     Mr           1   \n",
       "536    male  45.0      0      0   26.5500        S  Other           1   \n",
       "\n",
       "     Sex_Code  Embarked_Code  Title_Code  \n",
       "393         0              0           1  \n",
       "75          1              2           2  \n",
       "495         1              0           2  \n",
       "603         1              2           2  \n",
       "25          0              2           3  \n",
       "478         1              2           2  \n",
       "689         0              2           1  \n",
       "470         1              2           2  \n",
       "713         1              2           2  \n",
       "536         1              2           4  "
=======
       "508         0       3                           Olsen, Mr. Henry Margido   \n",
       "35          0       1                     Holverson, Mr. Alexander Oskar   \n",
       "862         1       1  Swift, Mrs. Frederick Joel (Margaret Welles Ba...   \n",
       "530         1       2                           Quick, Miss. Phyllis May   \n",
       "515         0       1                       Walker, Mr. William Anderson   \n",
       "451         0       3                    Hagland, Mr. Ingvald Olai Olsen   \n",
       "592         0       3                         Elsbury, Mr. William James   \n",
       "85          1       3  Backstrom, Mrs. Karl Alfred (Maria Mathilda Gu...   \n",
       "226         1       2                          Mellors, Mr. William John   \n",
       "825         0       3                                    Flynn, Mr. John   \n",
       "\n",
       "        Sex   Age  SibSp  Parch     Fare Embarked Title  FamilySize  Sex_Code  \\\n",
       "508    male  28.0      0      0  22.5250        S    Mr           1         1   \n",
       "35     male  42.0      1      0  52.0000        S    Mr           2         1   \n",
       "862  female  48.0      0      0  25.9292        S   Mrs           1         0   \n",
       "530  female   2.0      1      1  26.0000        S  Miss           3         0   \n",
       "515    male  47.0      0      0  34.0208        S    Mr           1         1   \n",
       "451    male  28.0      1      0  19.9667        S    Mr           2         1   \n",
       "592    male  47.0      0      0   7.2500        S    Mr           1         1   \n",
       "85   female  33.0      3      0  15.8500        S   Mrs           4         0   \n",
       "226    male  19.0      0      0  10.5000        S    Mr           1         1   \n",
       "825    male  28.0      0      0   6.9500        Q    Mr           1         1   \n",
       "\n",
       "     Embarked_Code  Title_Code  \n",
       "508              2           2  \n",
       "35               2           2  \n",
       "862              2           3  \n",
       "530              2           1  \n",
       "515              2           2  \n",
       "451              2           2  \n",
       "592              2           2  \n",
       "85               2           3  \n",
       "226              2           2  \n",
       "825              1           2  "
>>>>>>> 5c21b1f823b88fff53120b81be8a47cb47d9a719
      ]
     },
     "metadata": {},
     "execution_count": 13
    }
   ],
   "metadata": {}
  },
  {
   "cell_type": "code",
   "execution_count": 14,
   "source": [
    "train.describe(include = \"all\")"
   ],
   "outputs": [
    {
     "output_type": "execute_result",
     "data": {
      "text/html": [
       "<div>\n",
       "<style scoped>\n",
       "    .dataframe tbody tr th:only-of-type {\n",
       "        vertical-align: middle;\n",
       "    }\n",
       "\n",
       "    .dataframe tbody tr th {\n",
       "        vertical-align: top;\n",
       "    }\n",
       "\n",
       "    .dataframe thead th {\n",
       "        text-align: right;\n",
       "    }\n",
       "</style>\n",
       "<table border=\"1\" class=\"dataframe\">\n",
       "  <thead>\n",
       "    <tr style=\"text-align: right;\">\n",
       "      <th></th>\n",
       "      <th>Survived</th>\n",
       "      <th>Pclass</th>\n",
       "      <th>Name</th>\n",
       "      <th>Sex</th>\n",
       "      <th>Age</th>\n",
       "      <th>SibSp</th>\n",
       "      <th>Parch</th>\n",
       "      <th>Fare</th>\n",
       "      <th>Embarked</th>\n",
       "      <th>Title</th>\n",
       "      <th>FamilySize</th>\n",
       "      <th>Sex_Code</th>\n",
       "      <th>Embarked_Code</th>\n",
       "      <th>Title_Code</th>\n",
       "    </tr>\n",
       "  </thead>\n",
       "  <tbody>\n",
       "    <tr>\n",
       "      <th>count</th>\n",
       "      <td>891.000000</td>\n",
       "      <td>891.000000</td>\n",
       "      <td>891</td>\n",
       "      <td>891</td>\n",
       "      <td>891.000000</td>\n",
       "      <td>891.000000</td>\n",
       "      <td>891.000000</td>\n",
       "      <td>891.000000</td>\n",
       "      <td>891</td>\n",
       "      <td>891</td>\n",
       "      <td>891.000000</td>\n",
       "      <td>891.000000</td>\n",
       "      <td>891.000000</td>\n",
       "      <td>891.000000</td>\n",
       "    </tr>\n",
       "    <tr>\n",
       "      <th>unique</th>\n",
       "      <td>NaN</td>\n",
       "      <td>NaN</td>\n",
       "      <td>891</td>\n",
       "      <td>2</td>\n",
       "      <td>NaN</td>\n",
       "      <td>NaN</td>\n",
       "      <td>NaN</td>\n",
       "      <td>NaN</td>\n",
       "      <td>3</td>\n",
       "      <td>5</td>\n",
       "      <td>NaN</td>\n",
       "      <td>NaN</td>\n",
       "      <td>NaN</td>\n",
       "      <td>NaN</td>\n",
       "    </tr>\n",
       "    <tr>\n",
       "      <th>top</th>\n",
       "      <td>NaN</td>\n",
       "      <td>NaN</td>\n",
<<<<<<< HEAD
       "      <td>Futrelle, Mr. Jacques Heath</td>\n",
=======
       "      <td>Smiljanic, Mr. Mile</td>\n",
>>>>>>> 5c21b1f823b88fff53120b81be8a47cb47d9a719
       "      <td>male</td>\n",
       "      <td>NaN</td>\n",
       "      <td>NaN</td>\n",
       "      <td>NaN</td>\n",
       "      <td>NaN</td>\n",
       "      <td>S</td>\n",
       "      <td>Mr</td>\n",
       "      <td>NaN</td>\n",
       "      <td>NaN</td>\n",
       "      <td>NaN</td>\n",
       "      <td>NaN</td>\n",
       "    </tr>\n",
       "    <tr>\n",
       "      <th>freq</th>\n",
       "      <td>NaN</td>\n",
       "      <td>NaN</td>\n",
       "      <td>1</td>\n",
       "      <td>577</td>\n",
       "      <td>NaN</td>\n",
       "      <td>NaN</td>\n",
       "      <td>NaN</td>\n",
       "      <td>NaN</td>\n",
       "      <td>646</td>\n",
       "      <td>517</td>\n",
       "      <td>NaN</td>\n",
       "      <td>NaN</td>\n",
       "      <td>NaN</td>\n",
       "      <td>NaN</td>\n",
       "    </tr>\n",
       "    <tr>\n",
       "      <th>mean</th>\n",
       "      <td>0.383838</td>\n",
       "      <td>2.308642</td>\n",
       "      <td>NaN</td>\n",
       "      <td>NaN</td>\n",
       "      <td>29.361582</td>\n",
       "      <td>0.523008</td>\n",
       "      <td>0.381594</td>\n",
       "      <td>32.204208</td>\n",
       "      <td>NaN</td>\n",
       "      <td>NaN</td>\n",
       "      <td>1.904602</td>\n",
       "      <td>0.647587</td>\n",
       "      <td>1.536476</td>\n",
       "      <td>1.906846</td>\n",
       "    </tr>\n",
       "    <tr>\n",
       "      <th>std</th>\n",
       "      <td>0.486592</td>\n",
       "      <td>0.836071</td>\n",
       "      <td>NaN</td>\n",
       "      <td>NaN</td>\n",
       "      <td>13.019697</td>\n",
       "      <td>1.102743</td>\n",
       "      <td>0.806057</td>\n",
       "      <td>49.693429</td>\n",
       "      <td>NaN</td>\n",
       "      <td>NaN</td>\n",
       "      <td>1.613459</td>\n",
       "      <td>0.477990</td>\n",
       "      <td>0.791503</td>\n",
       "      <td>0.798361</td>\n",
       "    </tr>\n",
       "    <tr>\n",
       "      <th>min</th>\n",
       "      <td>0.000000</td>\n",
       "      <td>1.000000</td>\n",
       "      <td>NaN</td>\n",
       "      <td>NaN</td>\n",
       "      <td>0.420000</td>\n",
       "      <td>0.000000</td>\n",
       "      <td>0.000000</td>\n",
       "      <td>0.000000</td>\n",
       "      <td>NaN</td>\n",
       "      <td>NaN</td>\n",
       "      <td>1.000000</td>\n",
       "      <td>0.000000</td>\n",
       "      <td>0.000000</td>\n",
       "      <td>0.000000</td>\n",
       "    </tr>\n",
       "    <tr>\n",
       "      <th>25%</th>\n",
       "      <td>0.000000</td>\n",
       "      <td>2.000000</td>\n",
       "      <td>NaN</td>\n",
       "      <td>NaN</td>\n",
       "      <td>22.000000</td>\n",
       "      <td>0.000000</td>\n",
       "      <td>0.000000</td>\n",
       "      <td>7.910400</td>\n",
       "      <td>NaN</td>\n",
       "      <td>NaN</td>\n",
       "      <td>1.000000</td>\n",
       "      <td>0.000000</td>\n",
       "      <td>1.000000</td>\n",
       "      <td>2.000000</td>\n",
       "    </tr>\n",
       "    <tr>\n",
       "      <th>50%</th>\n",
       "      <td>0.000000</td>\n",
       "      <td>3.000000</td>\n",
       "      <td>NaN</td>\n",
       "      <td>NaN</td>\n",
       "      <td>28.000000</td>\n",
       "      <td>0.000000</td>\n",
       "      <td>0.000000</td>\n",
       "      <td>14.454200</td>\n",
       "      <td>NaN</td>\n",
       "      <td>NaN</td>\n",
       "      <td>1.000000</td>\n",
       "      <td>1.000000</td>\n",
       "      <td>2.000000</td>\n",
       "      <td>2.000000</td>\n",
       "    </tr>\n",
       "    <tr>\n",
       "      <th>75%</th>\n",
       "      <td>1.000000</td>\n",
       "      <td>3.000000</td>\n",
       "      <td>NaN</td>\n",
       "      <td>NaN</td>\n",
       "      <td>35.000000</td>\n",
       "      <td>1.000000</td>\n",
       "      <td>0.000000</td>\n",
       "      <td>31.000000</td>\n",
       "      <td>NaN</td>\n",
       "      <td>NaN</td>\n",
       "      <td>2.000000</td>\n",
       "      <td>1.000000</td>\n",
       "      <td>2.000000</td>\n",
       "      <td>2.000000</td>\n",
       "    </tr>\n",
       "    <tr>\n",
       "      <th>max</th>\n",
       "      <td>1.000000</td>\n",
       "      <td>3.000000</td>\n",
       "      <td>NaN</td>\n",
       "      <td>NaN</td>\n",
       "      <td>80.000000</td>\n",
       "      <td>8.000000</td>\n",
       "      <td>6.000000</td>\n",
       "      <td>512.329200</td>\n",
       "      <td>NaN</td>\n",
       "      <td>NaN</td>\n",
       "      <td>11.000000</td>\n",
       "      <td>1.000000</td>\n",
       "      <td>2.000000</td>\n",
       "      <td>4.000000</td>\n",
       "    </tr>\n",
       "  </tbody>\n",
       "</table>\n",
       "</div>"
      ],
      "text/plain": [
<<<<<<< HEAD
       "          Survived      Pclass                         Name   Sex         Age  \\\n",
       "count   891.000000  891.000000                          891   891  891.000000   \n",
       "unique         NaN         NaN                          891     2         NaN   \n",
       "top            NaN         NaN  Futrelle, Mr. Jacques Heath  male         NaN   \n",
       "freq           NaN         NaN                            1   577         NaN   \n",
       "mean      0.383838    2.308642                          NaN   NaN   29.361582   \n",
       "std       0.486592    0.836071                          NaN   NaN   13.019697   \n",
       "min       0.000000    1.000000                          NaN   NaN    0.420000   \n",
       "25%       0.000000    2.000000                          NaN   NaN   22.000000   \n",
       "50%       0.000000    3.000000                          NaN   NaN   28.000000   \n",
       "75%       1.000000    3.000000                          NaN   NaN   35.000000   \n",
       "max       1.000000    3.000000                          NaN   NaN   80.000000   \n",
=======
       "          Survived      Pclass                 Name   Sex         Age  \\\n",
       "count   891.000000  891.000000                  891   891  891.000000   \n",
       "unique         NaN         NaN                  891     2         NaN   \n",
       "top            NaN         NaN  Smiljanic, Mr. Mile  male         NaN   \n",
       "freq           NaN         NaN                    1   577         NaN   \n",
       "mean      0.383838    2.308642                  NaN   NaN   29.361582   \n",
       "std       0.486592    0.836071                  NaN   NaN   13.019697   \n",
       "min       0.000000    1.000000                  NaN   NaN    0.420000   \n",
       "25%       0.000000    2.000000                  NaN   NaN   22.000000   \n",
       "50%       0.000000    3.000000                  NaN   NaN   28.000000   \n",
       "75%       1.000000    3.000000                  NaN   NaN   35.000000   \n",
       "max       1.000000    3.000000                  NaN   NaN   80.000000   \n",
>>>>>>> 5c21b1f823b88fff53120b81be8a47cb47d9a719
       "\n",
       "             SibSp       Parch        Fare Embarked Title  FamilySize  \\\n",
       "count   891.000000  891.000000  891.000000      891   891  891.000000   \n",
       "unique         NaN         NaN         NaN        3     5         NaN   \n",
       "top            NaN         NaN         NaN        S    Mr         NaN   \n",
       "freq           NaN         NaN         NaN      646   517         NaN   \n",
       "mean      0.523008    0.381594   32.204208      NaN   NaN    1.904602   \n",
       "std       1.102743    0.806057   49.693429      NaN   NaN    1.613459   \n",
       "min       0.000000    0.000000    0.000000      NaN   NaN    1.000000   \n",
       "25%       0.000000    0.000000    7.910400      NaN   NaN    1.000000   \n",
       "50%       0.000000    0.000000   14.454200      NaN   NaN    1.000000   \n",
       "75%       1.000000    0.000000   31.000000      NaN   NaN    2.000000   \n",
       "max       8.000000    6.000000  512.329200      NaN   NaN   11.000000   \n",
       "\n",
       "          Sex_Code  Embarked_Code  Title_Code  \n",
       "count   891.000000     891.000000  891.000000  \n",
       "unique         NaN            NaN         NaN  \n",
       "top            NaN            NaN         NaN  \n",
       "freq           NaN            NaN         NaN  \n",
       "mean      0.647587       1.536476    1.906846  \n",
       "std       0.477990       0.791503    0.798361  \n",
       "min       0.000000       0.000000    0.000000  \n",
       "25%       0.000000       1.000000    2.000000  \n",
       "50%       1.000000       2.000000    2.000000  \n",
       "75%       1.000000       2.000000    2.000000  \n",
       "max       1.000000       2.000000    4.000000  "
      ]
     },
     "metadata": {},
     "execution_count": 14
    }
   ],
   "metadata": {}
  },
  {
   "cell_type": "markdown",
   "source": [
    "# 4. Data Cleaning for test data\n"
   ],
   "metadata": {}
  },
  {
   "cell_type": "code",
   "execution_count": 15,
   "source": [
    "test.sample(5)"
   ],
   "outputs": [
    {
     "output_type": "execute_result",
     "data": {
      "text/html": [
       "<div>\n",
       "<style scoped>\n",
       "    .dataframe tbody tr th:only-of-type {\n",
       "        vertical-align: middle;\n",
       "    }\n",
       "\n",
       "    .dataframe tbody tr th {\n",
       "        vertical-align: top;\n",
       "    }\n",
       "\n",
       "    .dataframe thead th {\n",
       "        text-align: right;\n",
       "    }\n",
       "</style>\n",
       "<table border=\"1\" class=\"dataframe\">\n",
       "  <thead>\n",
       "    <tr style=\"text-align: right;\">\n",
       "      <th></th>\n",
       "      <th>PassengerId</th>\n",
       "      <th>Pclass</th>\n",
       "      <th>Name</th>\n",
       "      <th>Sex</th>\n",
       "      <th>Age</th>\n",
       "      <th>SibSp</th>\n",
       "      <th>Parch</th>\n",
       "      <th>Ticket</th>\n",
       "      <th>Fare</th>\n",
       "      <th>Cabin</th>\n",
       "      <th>Embarked</th>\n",
       "    </tr>\n",
       "  </thead>\n",
       "  <tbody>\n",
       "    <tr>\n",
<<<<<<< HEAD
       "      <th>29</th>\n",
       "      <td>921</td>\n",
       "      <td>3</td>\n",
       "      <td>Samaan, Mr. Elias</td>\n",
       "      <td>male</td>\n",
       "      <td>NaN</td>\n",
       "      <td>2</td>\n",
       "      <td>0</td>\n",
       "      <td>2662</td>\n",
       "      <td>21.6792</td>\n",
=======
       "      <th>224</th>\n",
       "      <td>1116</td>\n",
       "      <td>1</td>\n",
       "      <td>Candee, Mrs. Edward (Helen Churchill Hungerford)</td>\n",
       "      <td>female</td>\n",
       "      <td>53.0</td>\n",
       "      <td>0</td>\n",
       "      <td>0</td>\n",
       "      <td>PC 17606</td>\n",
       "      <td>27.4458</td>\n",
>>>>>>> 5c21b1f823b88fff53120b81be8a47cb47d9a719
       "      <td>NaN</td>\n",
       "      <td>C</td>\n",
       "    </tr>\n",
       "    <tr>\n",
<<<<<<< HEAD
       "      <th>101</th>\n",
       "      <td>993</td>\n",
       "      <td>2</td>\n",
       "      <td>Weisz, Mr. Leopold</td>\n",
       "      <td>male</td>\n",
       "      <td>27.0</td>\n",
       "      <td>1</td>\n",
       "      <td>0</td>\n",
       "      <td>228414</td>\n",
       "      <td>26.0000</td>\n",
       "      <td>NaN</td>\n",
       "      <td>S</td>\n",
       "    </tr>\n",
       "    <tr>\n",
       "      <th>374</th>\n",
       "      <td>1266</td>\n",
       "      <td>1</td>\n",
       "      <td>Dodge, Mrs. Washington (Ruth Vidaver)</td>\n",
       "      <td>female</td>\n",
       "      <td>54.0</td>\n",
       "      <td>1</td>\n",
       "      <td>1</td>\n",
       "      <td>33638</td>\n",
       "      <td>81.8583</td>\n",
       "      <td>A34</td>\n",
       "      <td>S</td>\n",
       "    </tr>\n",
       "    <tr>\n",
       "      <th>167</th>\n",
       "      <td>1059</td>\n",
       "      <td>3</td>\n",
       "      <td>Ford, Mr. Edward Watson</td>\n",
       "      <td>male</td>\n",
       "      <td>18.0</td>\n",
       "      <td>2</td>\n",
       "      <td>2</td>\n",
       "      <td>W./C. 6608</td>\n",
       "      <td>34.3750</td>\n",
       "      <td>NaN</td>\n",
       "      <td>S</td>\n",
       "    </tr>\n",
       "    <tr>\n",
       "      <th>159</th>\n",
       "      <td>1051</td>\n",
       "      <td>3</td>\n",
       "      <td>Peacock, Mrs. Benjamin (Edith Nile)</td>\n",
       "      <td>female</td>\n",
       "      <td>26.0</td>\n",
       "      <td>0</td>\n",
       "      <td>2</td>\n",
       "      <td>SOTON/O.Q. 3101315</td>\n",
       "      <td>13.7750</td>\n",
       "      <td>NaN</td>\n",
       "      <td>S</td>\n",
=======
       "      <th>54</th>\n",
       "      <td>946</td>\n",
       "      <td>2</td>\n",
       "      <td>Mangiavacchi, Mr. Serafino Emilio</td>\n",
       "      <td>male</td>\n",
       "      <td>NaN</td>\n",
       "      <td>0</td>\n",
       "      <td>0</td>\n",
       "      <td>SC/A.3 2861</td>\n",
       "      <td>15.5792</td>\n",
       "      <td>NaN</td>\n",
       "      <td>C</td>\n",
       "    </tr>\n",
       "    <tr>\n",
       "      <th>156</th>\n",
       "      <td>1048</td>\n",
       "      <td>1</td>\n",
       "      <td>Bird, Miss. Ellen</td>\n",
       "      <td>female</td>\n",
       "      <td>29.0</td>\n",
       "      <td>0</td>\n",
       "      <td>0</td>\n",
       "      <td>PC 17483</td>\n",
       "      <td>221.7792</td>\n",
       "      <td>C97</td>\n",
       "      <td>S</td>\n",
       "    </tr>\n",
       "    <tr>\n",
       "      <th>202</th>\n",
       "      <td>1094</td>\n",
       "      <td>1</td>\n",
       "      <td>Astor, Col. John Jacob</td>\n",
       "      <td>male</td>\n",
       "      <td>47.0</td>\n",
       "      <td>1</td>\n",
       "      <td>0</td>\n",
       "      <td>PC 17757</td>\n",
       "      <td>227.5250</td>\n",
       "      <td>C62 C64</td>\n",
       "      <td>C</td>\n",
       "    </tr>\n",
       "    <tr>\n",
       "      <th>252</th>\n",
       "      <td>1144</td>\n",
       "      <td>1</td>\n",
       "      <td>Clark, Mr. Walter Miller</td>\n",
       "      <td>male</td>\n",
       "      <td>27.0</td>\n",
       "      <td>1</td>\n",
       "      <td>0</td>\n",
       "      <td>13508</td>\n",
       "      <td>136.7792</td>\n",
       "      <td>C89</td>\n",
       "      <td>C</td>\n",
>>>>>>> 5c21b1f823b88fff53120b81be8a47cb47d9a719
       "    </tr>\n",
       "  </tbody>\n",
       "</table>\n",
       "</div>"
      ],
      "text/plain": [
<<<<<<< HEAD
       "     PassengerId  Pclass                                   Name     Sex   Age  \\\n",
       "29           921       3                      Samaan, Mr. Elias    male   NaN   \n",
       "101          993       2                     Weisz, Mr. Leopold    male  27.0   \n",
       "374         1266       1  Dodge, Mrs. Washington (Ruth Vidaver)  female  54.0   \n",
       "167         1059       3                Ford, Mr. Edward Watson    male  18.0   \n",
       "159         1051       3    Peacock, Mrs. Benjamin (Edith Nile)  female  26.0   \n",
       "\n",
       "     SibSp  Parch              Ticket     Fare Cabin Embarked  \n",
       "29       2      0                2662  21.6792   NaN        C  \n",
       "101      1      0              228414  26.0000   NaN        S  \n",
       "374      1      1               33638  81.8583   A34        S  \n",
       "167      2      2          W./C. 6608  34.3750   NaN        S  \n",
       "159      0      2  SOTON/O.Q. 3101315  13.7750   NaN        S  "
=======
       "     PassengerId  Pclass                                              Name  \\\n",
       "224         1116       1  Candee, Mrs. Edward (Helen Churchill Hungerford)   \n",
       "54           946       2                 Mangiavacchi, Mr. Serafino Emilio   \n",
       "156         1048       1                                 Bird, Miss. Ellen   \n",
       "202         1094       1                            Astor, Col. John Jacob   \n",
       "252         1144       1                          Clark, Mr. Walter Miller   \n",
       "\n",
       "        Sex   Age  SibSp  Parch       Ticket      Fare    Cabin Embarked  \n",
       "224  female  53.0      0      0     PC 17606   27.4458      NaN        C  \n",
       "54     male   NaN      0      0  SC/A.3 2861   15.5792      NaN        C  \n",
       "156  female  29.0      0      0     PC 17483  221.7792      C97        S  \n",
       "202    male  47.0      1      0     PC 17757  227.5250  C62 C64        C  \n",
       "252    male  27.0      1      0        13508  136.7792      C89        C  "
>>>>>>> 5c21b1f823b88fff53120b81be8a47cb47d9a719
      ]
     },
     "metadata": {},
     "execution_count": 15
    }
   ],
   "metadata": {}
  },
  {
   "cell_type": "code",
   "execution_count": 16,
   "source": [
    "print('Features with null values:\\n', test.isnull().sum())"
   ],
   "outputs": [
    {
     "output_type": "stream",
     "name": "stdout",
     "text": [
      "Features with null values:\n",
      " PassengerId      0\n",
      "Pclass           0\n",
      "Name             0\n",
      "Sex              0\n",
      "Age             86\n",
      "SibSp            0\n",
      "Parch            0\n",
      "Ticket           0\n",
      "Fare             1\n",
      "Cabin          327\n",
      "Embarked         0\n",
      "dtype: int64\n"
     ]
    }
   ],
   "metadata": {}
  },
  {
   "cell_type": "markdown",
   "source": [
    "The Age, Cabin and Embarked feature is not complete\n",
    "- Age: missing 177 features. Since the age feature is relatively important, so we will complete them using the mean of age.\n",
    "\n",
    "- Cabin: missing 687 features, we will drop this column.\n",
    "\n",
    "- Fare: missing 1 features, which should be relatively harmless."
   ],
   "metadata": {}
  },
  {
   "cell_type": "code",
   "execution_count": 17,
   "source": [
    "drop_column = ['Cabin', 'Ticket', 'PassengerId']\n",
    "test.drop(drop_column, axis=1, inplace = True)\n",
    "\n",
    "test['Age'].fillna(test['Age'].median(), inplace = True)\n",
    "test['Fare'].fillna(test['Fare'].median(), inplace = True)\n",
    "\n",
    "test.sample(5)\n"
   ],
   "outputs": [
    {
     "output_type": "execute_result",
     "data": {
      "text/html": [
       "<div>\n",
       "<style scoped>\n",
       "    .dataframe tbody tr th:only-of-type {\n",
       "        vertical-align: middle;\n",
       "    }\n",
       "\n",
       "    .dataframe tbody tr th {\n",
       "        vertical-align: top;\n",
       "    }\n",
       "\n",
       "    .dataframe thead th {\n",
       "        text-align: right;\n",
       "    }\n",
       "</style>\n",
       "<table border=\"1\" class=\"dataframe\">\n",
       "  <thead>\n",
       "    <tr style=\"text-align: right;\">\n",
       "      <th></th>\n",
       "      <th>Pclass</th>\n",
       "      <th>Name</th>\n",
       "      <th>Sex</th>\n",
       "      <th>Age</th>\n",
       "      <th>SibSp</th>\n",
       "      <th>Parch</th>\n",
       "      <th>Fare</th>\n",
       "      <th>Embarked</th>\n",
       "    </tr>\n",
       "  </thead>\n",
       "  <tbody>\n",
       "    <tr>\n",
<<<<<<< HEAD
       "      <th>353</th>\n",
       "      <td>2</td>\n",
       "      <td>Herman, Mr. Samuel</td>\n",
       "      <td>male</td>\n",
       "      <td>49.0</td>\n",
       "      <td>1</td>\n",
       "      <td>2</td>\n",
       "      <td>65.0000</td>\n",
       "      <td>S</td>\n",
       "    </tr>\n",
       "    <tr>\n",
       "      <th>15</th>\n",
       "      <td>2</td>\n",
       "      <td>del Carlo, Mrs. Sebastiano (Argenia Genovesi)</td>\n",
       "      <td>female</td>\n",
       "      <td>24.0</td>\n",
       "      <td>1</td>\n",
       "      <td>0</td>\n",
       "      <td>27.7208</td>\n",
       "      <td>C</td>\n",
       "    </tr>\n",
       "    <tr>\n",
       "      <th>174</th>\n",
       "      <td>3</td>\n",
       "      <td>Asplund, Mr. Carl Oscar Vilhelm Gustafsson</td>\n",
       "      <td>male</td>\n",
       "      <td>40.0</td>\n",
       "      <td>1</td>\n",
       "      <td>5</td>\n",
       "      <td>31.3875</td>\n",
       "      <td>S</td>\n",
       "    </tr>\n",
       "    <tr>\n",
       "      <th>262</th>\n",
       "      <td>2</td>\n",
       "      <td>Wells, Mrs. Arthur Henry (Addie\" Dart Trevaskis)\"</td>\n",
       "      <td>female</td>\n",
       "      <td>29.0</td>\n",
       "      <td>0</td>\n",
       "      <td>2</td>\n",
       "      <td>23.0000</td>\n",
       "      <td>S</td>\n",
       "    </tr>\n",
       "    <tr>\n",
       "      <th>385</th>\n",
       "      <td>2</td>\n",
       "      <td>Herman, Miss. Kate</td>\n",
       "      <td>female</td>\n",
       "      <td>24.0</td>\n",
       "      <td>1</td>\n",
       "      <td>2</td>\n",
       "      <td>65.0000</td>\n",
=======
       "      <th>411</th>\n",
       "      <td>1</td>\n",
       "      <td>Minahan, Mrs. William Edward (Lillian E Thorpe)</td>\n",
       "      <td>female</td>\n",
       "      <td>37.0</td>\n",
       "      <td>1</td>\n",
       "      <td>0</td>\n",
       "      <td>90.0000</td>\n",
       "      <td>Q</td>\n",
       "    </tr>\n",
       "    <tr>\n",
       "      <th>29</th>\n",
       "      <td>3</td>\n",
       "      <td>Samaan, Mr. Elias</td>\n",
       "      <td>male</td>\n",
       "      <td>27.0</td>\n",
       "      <td>2</td>\n",
       "      <td>0</td>\n",
       "      <td>21.6792</td>\n",
       "      <td>C</td>\n",
       "    </tr>\n",
       "    <tr>\n",
       "      <th>258</th>\n",
       "      <td>2</td>\n",
       "      <td>Bentham, Miss. Lilian W</td>\n",
       "      <td>female</td>\n",
       "      <td>19.0</td>\n",
       "      <td>0</td>\n",
       "      <td>0</td>\n",
       "      <td>13.0000</td>\n",
       "      <td>S</td>\n",
       "    </tr>\n",
       "    <tr>\n",
       "      <th>60</th>\n",
       "      <td>3</td>\n",
       "      <td>Dika, Mr. Mirko</td>\n",
       "      <td>male</td>\n",
       "      <td>17.0</td>\n",
       "      <td>0</td>\n",
       "      <td>0</td>\n",
       "      <td>7.8958</td>\n",
       "      <td>S</td>\n",
       "    </tr>\n",
       "    <tr>\n",
       "      <th>362</th>\n",
       "      <td>2</td>\n",
       "      <td>Ware, Mrs. John James (Florence Louise Long)</td>\n",
       "      <td>female</td>\n",
       "      <td>31.0</td>\n",
       "      <td>0</td>\n",
       "      <td>0</td>\n",
       "      <td>21.0000</td>\n",
>>>>>>> 5c21b1f823b88fff53120b81be8a47cb47d9a719
       "      <td>S</td>\n",
       "    </tr>\n",
       "  </tbody>\n",
       "</table>\n",
       "</div>"
      ],
      "text/plain": [
<<<<<<< HEAD
       "     Pclass                                               Name     Sex   Age  \\\n",
       "353       2                                 Herman, Mr. Samuel    male  49.0   \n",
       "15        2      del Carlo, Mrs. Sebastiano (Argenia Genovesi)  female  24.0   \n",
       "174       3         Asplund, Mr. Carl Oscar Vilhelm Gustafsson    male  40.0   \n",
       "262       2  Wells, Mrs. Arthur Henry (Addie\" Dart Trevaskis)\"  female  29.0   \n",
       "385       2                                 Herman, Miss. Kate  female  24.0   \n",
       "\n",
       "     SibSp  Parch     Fare Embarked  \n",
       "353      1      2  65.0000        S  \n",
       "15       1      0  27.7208        C  \n",
       "174      1      5  31.3875        S  \n",
       "262      0      2  23.0000        S  \n",
       "385      1      2  65.0000        S  "
=======
       "     Pclass                                             Name     Sex   Age  \\\n",
       "411       1  Minahan, Mrs. William Edward (Lillian E Thorpe)  female  37.0   \n",
       "29        3                                Samaan, Mr. Elias    male  27.0   \n",
       "258       2                          Bentham, Miss. Lilian W  female  19.0   \n",
       "60        3                                  Dika, Mr. Mirko    male  17.0   \n",
       "362       2     Ware, Mrs. John James (Florence Louise Long)  female  31.0   \n",
       "\n",
       "     SibSp  Parch     Fare Embarked  \n",
       "411      1      0  90.0000        Q  \n",
       "29       2      0  21.6792        C  \n",
       "258      0      0  13.0000        S  \n",
       "60       0      0   7.8958        S  \n",
       "362      0      0  21.0000        S  "
>>>>>>> 5c21b1f823b88fff53120b81be8a47cb47d9a719
      ]
     },
     "metadata": {},
     "execution_count": 17
    }
   ],
   "metadata": {}
  },
  {
   "cell_type": "code",
   "execution_count": 18,
   "source": [
    "print('Features with null values:\\n', test.isnull().sum())"
   ],
   "outputs": [
    {
     "output_type": "stream",
     "name": "stdout",
     "text": [
      "Features with null values:\n",
      " Pclass      0\n",
      "Name        0\n",
      "Sex         0\n",
      "Age         0\n",
      "SibSp       0\n",
      "Parch       0\n",
      "Fare        0\n",
      "Embarked    0\n",
      "dtype: int64\n"
     ]
    }
   ],
   "metadata": {}
  },
  {
   "cell_type": "code",
   "execution_count": 19,
   "source": [
    "test['Title'] = test['Name'].str.split(\", \", expand=True)[1].str.split(\".\", expand=True)[0]\n",
    "\n",
    "test['Title'] = test['Title'].apply(lambda x: 'Other' if x not in ['Mr', 'Miss', 'Mrs', 'Master'] else x)\n",
    "\n",
    "test['FamilySize'] = test ['SibSp'] + test['Parch'] + 1\n",
    "\n",
    "label = LabelEncoder()\n",
    "\n",
    "test['Sex_Code'] = label.fit_transform(test['Sex'])\n",
    "test['Embarked_Code'] = label.fit_transform(test['Embarked'])\n",
    "test['Title_Code'] = label.fit_transform(test['Title'])\n"
   ],
   "outputs": [],
   "metadata": {}
  },
  {
   "cell_type": "code",
   "execution_count": 20,
   "source": [
    "test.sample(10)"
   ],
   "outputs": [
    {
     "output_type": "execute_result",
     "data": {
      "text/html": [
       "<div>\n",
       "<style scoped>\n",
       "    .dataframe tbody tr th:only-of-type {\n",
       "        vertical-align: middle;\n",
       "    }\n",
       "\n",
       "    .dataframe tbody tr th {\n",
       "        vertical-align: top;\n",
       "    }\n",
       "\n",
       "    .dataframe thead th {\n",
       "        text-align: right;\n",
       "    }\n",
       "</style>\n",
       "<table border=\"1\" class=\"dataframe\">\n",
       "  <thead>\n",
       "    <tr style=\"text-align: right;\">\n",
       "      <th></th>\n",
       "      <th>Pclass</th>\n",
       "      <th>Name</th>\n",
       "      <th>Sex</th>\n",
       "      <th>Age</th>\n",
       "      <th>SibSp</th>\n",
       "      <th>Parch</th>\n",
       "      <th>Fare</th>\n",
       "      <th>Embarked</th>\n",
       "      <th>Title</th>\n",
       "      <th>FamilySize</th>\n",
       "      <th>Sex_Code</th>\n",
       "      <th>Embarked_Code</th>\n",
       "      <th>Title_Code</th>\n",
       "    </tr>\n",
       "  </thead>\n",
       "  <tbody>\n",
       "    <tr>\n",
<<<<<<< HEAD
       "      <th>222</th>\n",
       "      <td>2</td>\n",
       "      <td>Cook, Mrs. (Selena Rogers)</td>\n",
       "      <td>female</td>\n",
=======
       "      <th>311</th>\n",
       "      <td>3</td>\n",
       "      <td>Vartanian, Mr. David</td>\n",
       "      <td>male</td>\n",
>>>>>>> 5c21b1f823b88fff53120b81be8a47cb47d9a719
       "      <td>22.0</td>\n",
       "      <td>0</td>\n",
       "      <td>0</td>\n",
       "      <td>10.5000</td>\n",
       "      <td>S</td>\n",
       "      <td>Mrs</td>\n",
       "      <td>1</td>\n",
       "      <td>0</td>\n",
       "      <td>2</td>\n",
       "      <td>3</td>\n",
       "    </tr>\n",
       "    <tr>\n",
<<<<<<< HEAD
       "      <th>295</th>\n",
       "      <td>3</td>\n",
       "      <td>Angheloff, Mr. Minko</td>\n",
       "      <td>male</td>\n",
       "      <td>26.0</td>\n",
       "      <td>0</td>\n",
       "      <td>0</td>\n",
       "      <td>7.8958</td>\n",
       "      <td>S</td>\n",
       "      <td>Mr</td>\n",
       "      <td>1</td>\n",
       "      <td>1</td>\n",
       "      <td>2</td>\n",
       "      <td>2</td>\n",
       "    </tr>\n",
       "    <tr>\n",
       "      <th>121</th>\n",
       "      <td>3</td>\n",
       "      <td>Kiernan, Mr. John</td>\n",
       "      <td>male</td>\n",
       "      <td>27.0</td>\n",
       "      <td>1</td>\n",
       "      <td>0</td>\n",
       "      <td>7.7500</td>\n",
       "      <td>Q</td>\n",
       "      <td>Mr</td>\n",
       "      <td>2</td>\n",
       "      <td>1</td>\n",
       "      <td>1</td>\n",
       "      <td>2</td>\n",
       "    </tr>\n",
       "    <tr>\n",
       "      <th>17</th>\n",
       "      <td>3</td>\n",
       "      <td>Assaf, Mr. Gerios</td>\n",
       "      <td>male</td>\n",
       "      <td>21.0</td>\n",
       "      <td>0</td>\n",
       "      <td>0</td>\n",
       "      <td>7.2250</td>\n",
       "      <td>C</td>\n",
       "      <td>Mr</td>\n",
       "      <td>1</td>\n",
       "      <td>1</td>\n",
=======
       "      <th>166</th>\n",
       "      <td>1</td>\n",
       "      <td>Brandeis, Mr. Emil</td>\n",
       "      <td>male</td>\n",
       "      <td>48.0</td>\n",
       "      <td>0</td>\n",
       "      <td>0</td>\n",
       "      <td>50.4958</td>\n",
       "      <td>C</td>\n",
       "      <td>Mr</td>\n",
       "      <td>1</td>\n",
       "      <td>1</td>\n",
       "      <td>0</td>\n",
       "      <td>2</td>\n",
       "    </tr>\n",
       "    <tr>\n",
       "      <th>353</th>\n",
       "      <td>2</td>\n",
       "      <td>Herman, Mr. Samuel</td>\n",
       "      <td>male</td>\n",
       "      <td>49.0</td>\n",
       "      <td>1</td>\n",
       "      <td>2</td>\n",
       "      <td>65.0000</td>\n",
       "      <td>S</td>\n",
       "      <td>Mr</td>\n",
       "      <td>4</td>\n",
       "      <td>1</td>\n",
       "      <td>2</td>\n",
       "      <td>2</td>\n",
       "    </tr>\n",
       "    <tr>\n",
       "      <th>119</th>\n",
       "      <td>2</td>\n",
       "      <td>Chapman, Mrs. John Henry (Sara Elizabeth Lawry)</td>\n",
       "      <td>female</td>\n",
       "      <td>29.0</td>\n",
       "      <td>1</td>\n",
       "      <td>0</td>\n",
       "      <td>26.0000</td>\n",
       "      <td>S</td>\n",
       "      <td>Mrs</td>\n",
       "      <td>2</td>\n",
>>>>>>> 5c21b1f823b88fff53120b81be8a47cb47d9a719
       "      <td>0</td>\n",
       "      <td>2</td>\n",
       "      <td>3</td>\n",
       "    </tr>\n",
       "    <tr>\n",
<<<<<<< HEAD
       "      <th>216</th>\n",
       "      <td>3</td>\n",
       "      <td>Mahon, Miss. Bridget Delia</td>\n",
       "      <td>female</td>\n",
       "      <td>27.0</td>\n",
       "      <td>0</td>\n",
       "      <td>0</td>\n",
       "      <td>7.8792</td>\n",
       "      <td>Q</td>\n",
       "      <td>Miss</td>\n",
=======
       "      <th>224</th>\n",
       "      <td>1</td>\n",
       "      <td>Candee, Mrs. Edward (Helen Churchill Hungerford)</td>\n",
       "      <td>female</td>\n",
       "      <td>53.0</td>\n",
       "      <td>0</td>\n",
       "      <td>0</td>\n",
       "      <td>27.4458</td>\n",
       "      <td>C</td>\n",
       "      <td>Mrs</td>\n",
>>>>>>> 5c21b1f823b88fff53120b81be8a47cb47d9a719
       "      <td>1</td>\n",
       "      <td>0</td>\n",
       "      <td>1</td>\n",
       "      <td>1</td>\n",
       "    </tr>\n",
       "    <tr>\n",
<<<<<<< HEAD
       "      <th>395</th>\n",
       "      <td>1</td>\n",
       "      <td>Smith, Mrs. Lucien Philip (Mary Eloise Hughes)</td>\n",
       "      <td>female</td>\n",
       "      <td>18.0</td>\n",
       "      <td>1</td>\n",
       "      <td>0</td>\n",
       "      <td>60.0000</td>\n",
=======
       "      <th>229</th>\n",
       "      <td>2</td>\n",
       "      <td>Hocking, Mr. Samuel James Metcalfe</td>\n",
       "      <td>male</td>\n",
       "      <td>36.0</td>\n",
       "      <td>0</td>\n",
       "      <td>0</td>\n",
       "      <td>13.0000</td>\n",
>>>>>>> 5c21b1f823b88fff53120b81be8a47cb47d9a719
       "      <td>S</td>\n",
       "      <td>Mrs</td>\n",
       "      <td>2</td>\n",
       "      <td>0</td>\n",
       "      <td>2</td>\n",
       "      <td>3</td>\n",
       "    </tr>\n",
       "    <tr>\n",
<<<<<<< HEAD
       "      <th>157</th>\n",
       "      <td>3</td>\n",
       "      <td>Lundin, Miss. Olga Elida</td>\n",
       "      <td>female</td>\n",
       "      <td>23.0</td>\n",
       "      <td>0</td>\n",
       "      <td>0</td>\n",
       "      <td>7.8542</td>\n",
       "      <td>S</td>\n",
       "      <td>Miss</td>\n",
       "      <td>1</td>\n",
       "      <td>0</td>\n",
       "      <td>2</td>\n",
       "      <td>1</td>\n",
       "    </tr>\n",
       "    <tr>\n",
       "      <th>320</th>\n",
       "      <td>3</td>\n",
       "      <td>Andersson, Mr. Johan Samuel</td>\n",
       "      <td>male</td>\n",
       "      <td>26.0</td>\n",
       "      <td>0</td>\n",
=======
       "      <th>114</th>\n",
       "      <td>1</td>\n",
       "      <td>Straus, Mrs. Isidor (Rosalie Ida Blun)</td>\n",
       "      <td>female</td>\n",
       "      <td>63.0</td>\n",
       "      <td>1</td>\n",
       "      <td>0</td>\n",
       "      <td>221.7792</td>\n",
       "      <td>S</td>\n",
       "      <td>Mrs</td>\n",
       "      <td>2</td>\n",
       "      <td>0</td>\n",
       "      <td>2</td>\n",
       "      <td>3</td>\n",
       "    </tr>\n",
       "    <tr>\n",
       "      <th>346</th>\n",
       "      <td>2</td>\n",
       "      <td>Botsford, Mr. William Hull</td>\n",
       "      <td>male</td>\n",
       "      <td>26.0</td>\n",
>>>>>>> 5c21b1f823b88fff53120b81be8a47cb47d9a719
       "      <td>0</td>\n",
       "      <td>7.7750</td>\n",
       "      <td>S</td>\n",
       "      <td>Mr</td>\n",
       "      <td>1</td>\n",
       "      <td>1</td>\n",
       "      <td>2</td>\n",
       "      <td>2</td>\n",
       "    </tr>\n",
       "    <tr>\n",
       "      <th>9</th>\n",
       "      <td>3</td>\n",
       "      <td>Davies, Mr. John Samuel</td>\n",
       "      <td>male</td>\n",
       "      <td>21.0</td>\n",
       "      <td>2</td>\n",
       "      <td>0</td>\n",
<<<<<<< HEAD
       "      <td>24.1500</td>\n",
       "      <td>S</td>\n",
       "      <td>Mr</td>\n",
       "      <td>3</td>\n",
=======
       "      <td>13.0000</td>\n",
       "      <td>S</td>\n",
       "      <td>Mr</td>\n",
       "      <td>1</td>\n",
>>>>>>> 5c21b1f823b88fff53120b81be8a47cb47d9a719
       "      <td>1</td>\n",
       "      <td>2</td>\n",
       "      <td>2</td>\n",
       "    </tr>\n",
       "    <tr>\n",
<<<<<<< HEAD
       "      <th>415</th>\n",
       "      <td>3</td>\n",
       "      <td>Saether, Mr. Simon Sivertsen</td>\n",
       "      <td>male</td>\n",
       "      <td>38.5</td>\n",
       "      <td>0</td>\n",
       "      <td>0</td>\n",
       "      <td>7.2500</td>\n",
=======
       "      <th>45</th>\n",
       "      <td>3</td>\n",
       "      <td>Peltomaki, Mr. Nikolai Johannes</td>\n",
       "      <td>male</td>\n",
       "      <td>25.0</td>\n",
       "      <td>0</td>\n",
       "      <td>0</td>\n",
       "      <td>7.9250</td>\n",
       "      <td>S</td>\n",
       "      <td>Mr</td>\n",
       "      <td>1</td>\n",
       "      <td>1</td>\n",
       "      <td>2</td>\n",
       "      <td>2</td>\n",
       "    </tr>\n",
       "    <tr>\n",
       "      <th>336</th>\n",
       "      <td>2</td>\n",
       "      <td>de Brito, Mr. Jose Joaquim</td>\n",
       "      <td>male</td>\n",
       "      <td>32.0</td>\n",
       "      <td>0</td>\n",
       "      <td>0</td>\n",
       "      <td>13.0000</td>\n",
>>>>>>> 5c21b1f823b88fff53120b81be8a47cb47d9a719
       "      <td>S</td>\n",
       "      <td>Mr</td>\n",
       "      <td>1</td>\n",
       "      <td>1</td>\n",
       "      <td>2</td>\n",
       "      <td>2</td>\n",
       "    </tr>\n",
       "  </tbody>\n",
       "</table>\n",
       "</div>"
      ],
      "text/plain": [
<<<<<<< HEAD
       "     Pclass                                            Name     Sex   Age  \\\n",
       "222       2                      Cook, Mrs. (Selena Rogers)  female  22.0   \n",
       "295       3                            Angheloff, Mr. Minko    male  26.0   \n",
       "121       3                               Kiernan, Mr. John    male  27.0   \n",
       "17        3                               Assaf, Mr. Gerios    male  21.0   \n",
       "216       3                      Mahon, Miss. Bridget Delia  female  27.0   \n",
       "395       1  Smith, Mrs. Lucien Philip (Mary Eloise Hughes)  female  18.0   \n",
       "157       3                        Lundin, Miss. Olga Elida  female  23.0   \n",
       "320       3                     Andersson, Mr. Johan Samuel    male  26.0   \n",
       "9         3                         Davies, Mr. John Samuel    male  21.0   \n",
       "415       3                    Saether, Mr. Simon Sivertsen    male  38.5   \n",
       "\n",
       "     SibSp  Parch     Fare Embarked Title  FamilySize  Sex_Code  \\\n",
       "222      0      0  10.5000        S   Mrs           1         0   \n",
       "295      0      0   7.8958        S    Mr           1         1   \n",
       "121      1      0   7.7500        Q    Mr           2         1   \n",
       "17       0      0   7.2250        C    Mr           1         1   \n",
       "216      0      0   7.8792        Q  Miss           1         0   \n",
       "395      1      0  60.0000        S   Mrs           2         0   \n",
       "157      0      0   7.8542        S  Miss           1         0   \n",
       "320      0      0   7.7750        S    Mr           1         1   \n",
       "9        2      0  24.1500        S    Mr           3         1   \n",
       "415      0      0   7.2500        S    Mr           1         1   \n",
       "\n",
       "     Embarked_Code  Title_Code  \n",
       "222              2           3  \n",
       "295              2           2  \n",
       "121              1           2  \n",
       "17               0           2  \n",
       "216              1           1  \n",
       "395              2           3  \n",
       "157              2           1  \n",
       "320              2           2  \n",
       "9                2           2  \n",
       "415              2           2  "
=======
       "     Pclass                                              Name     Sex   Age  \\\n",
       "311       3                              Vartanian, Mr. David    male  22.0   \n",
       "166       1                                Brandeis, Mr. Emil    male  48.0   \n",
       "353       2                                Herman, Mr. Samuel    male  49.0   \n",
       "119       2   Chapman, Mrs. John Henry (Sara Elizabeth Lawry)  female  29.0   \n",
       "224       1  Candee, Mrs. Edward (Helen Churchill Hungerford)  female  53.0   \n",
       "229       2                Hocking, Mr. Samuel James Metcalfe    male  36.0   \n",
       "114       1            Straus, Mrs. Isidor (Rosalie Ida Blun)  female  63.0   \n",
       "346       2                        Botsford, Mr. William Hull    male  26.0   \n",
       "45        3                   Peltomaki, Mr. Nikolai Johannes    male  25.0   \n",
       "336       2                        de Brito, Mr. Jose Joaquim    male  32.0   \n",
       "\n",
       "     SibSp  Parch      Fare Embarked Title  FamilySize  Sex_Code  \\\n",
       "311      0      0    7.2250        C    Mr           1         1   \n",
       "166      0      0   50.4958        C    Mr           1         1   \n",
       "353      1      2   65.0000        S    Mr           4         1   \n",
       "119      1      0   26.0000        S   Mrs           2         0   \n",
       "224      0      0   27.4458        C   Mrs           1         0   \n",
       "229      0      0   13.0000        S    Mr           1         1   \n",
       "114      1      0  221.7792        S   Mrs           2         0   \n",
       "346      0      0   13.0000        S    Mr           1         1   \n",
       "45       0      0    7.9250        S    Mr           1         1   \n",
       "336      0      0   13.0000        S    Mr           1         1   \n",
       "\n",
       "     Embarked_Code  Title_Code  \n",
       "311              0           2  \n",
       "166              0           2  \n",
       "353              2           2  \n",
       "119              2           3  \n",
       "224              0           3  \n",
       "229              2           2  \n",
       "114              2           3  \n",
       "346              2           2  \n",
       "45               2           2  \n",
       "336              2           2  "
>>>>>>> 5c21b1f823b88fff53120b81be8a47cb47d9a719
      ]
     },
     "metadata": {},
     "execution_count": 20
    }
   ],
   "metadata": {}
  },
  {
   "cell_type": "code",
   "execution_count": 21,
   "source": [
    "train.describe(include = \"all\")"
   ],
   "outputs": [
    {
     "output_type": "execute_result",
     "data": {
      "text/html": [
       "<div>\n",
       "<style scoped>\n",
       "    .dataframe tbody tr th:only-of-type {\n",
       "        vertical-align: middle;\n",
       "    }\n",
       "\n",
       "    .dataframe tbody tr th {\n",
       "        vertical-align: top;\n",
       "    }\n",
       "\n",
       "    .dataframe thead th {\n",
       "        text-align: right;\n",
       "    }\n",
       "</style>\n",
       "<table border=\"1\" class=\"dataframe\">\n",
       "  <thead>\n",
       "    <tr style=\"text-align: right;\">\n",
       "      <th></th>\n",
       "      <th>Survived</th>\n",
       "      <th>Pclass</th>\n",
       "      <th>Name</th>\n",
       "      <th>Sex</th>\n",
       "      <th>Age</th>\n",
       "      <th>SibSp</th>\n",
       "      <th>Parch</th>\n",
       "      <th>Fare</th>\n",
       "      <th>Embarked</th>\n",
       "      <th>Title</th>\n",
       "      <th>FamilySize</th>\n",
       "      <th>Sex_Code</th>\n",
       "      <th>Embarked_Code</th>\n",
       "      <th>Title_Code</th>\n",
       "    </tr>\n",
       "  </thead>\n",
       "  <tbody>\n",
       "    <tr>\n",
       "      <th>count</th>\n",
       "      <td>891.000000</td>\n",
       "      <td>891.000000</td>\n",
       "      <td>891</td>\n",
       "      <td>891</td>\n",
       "      <td>891.000000</td>\n",
       "      <td>891.000000</td>\n",
       "      <td>891.000000</td>\n",
       "      <td>891.000000</td>\n",
       "      <td>891</td>\n",
       "      <td>891</td>\n",
       "      <td>891.000000</td>\n",
       "      <td>891.000000</td>\n",
       "      <td>891.000000</td>\n",
       "      <td>891.000000</td>\n",
       "    </tr>\n",
       "    <tr>\n",
       "      <th>unique</th>\n",
       "      <td>NaN</td>\n",
       "      <td>NaN</td>\n",
       "      <td>891</td>\n",
       "      <td>2</td>\n",
       "      <td>NaN</td>\n",
       "      <td>NaN</td>\n",
       "      <td>NaN</td>\n",
       "      <td>NaN</td>\n",
       "      <td>3</td>\n",
       "      <td>5</td>\n",
       "      <td>NaN</td>\n",
       "      <td>NaN</td>\n",
       "      <td>NaN</td>\n",
       "      <td>NaN</td>\n",
       "    </tr>\n",
       "    <tr>\n",
       "      <th>top</th>\n",
       "      <td>NaN</td>\n",
       "      <td>NaN</td>\n",
<<<<<<< HEAD
       "      <td>Futrelle, Mr. Jacques Heath</td>\n",
=======
       "      <td>Smiljanic, Mr. Mile</td>\n",
>>>>>>> 5c21b1f823b88fff53120b81be8a47cb47d9a719
       "      <td>male</td>\n",
       "      <td>NaN</td>\n",
       "      <td>NaN</td>\n",
       "      <td>NaN</td>\n",
       "      <td>NaN</td>\n",
       "      <td>S</td>\n",
       "      <td>Mr</td>\n",
       "      <td>NaN</td>\n",
       "      <td>NaN</td>\n",
       "      <td>NaN</td>\n",
       "      <td>NaN</td>\n",
       "    </tr>\n",
       "    <tr>\n",
       "      <th>freq</th>\n",
       "      <td>NaN</td>\n",
       "      <td>NaN</td>\n",
       "      <td>1</td>\n",
       "      <td>577</td>\n",
       "      <td>NaN</td>\n",
       "      <td>NaN</td>\n",
       "      <td>NaN</td>\n",
       "      <td>NaN</td>\n",
       "      <td>646</td>\n",
       "      <td>517</td>\n",
       "      <td>NaN</td>\n",
       "      <td>NaN</td>\n",
       "      <td>NaN</td>\n",
       "      <td>NaN</td>\n",
       "    </tr>\n",
       "    <tr>\n",
       "      <th>mean</th>\n",
       "      <td>0.383838</td>\n",
       "      <td>2.308642</td>\n",
       "      <td>NaN</td>\n",
       "      <td>NaN</td>\n",
       "      <td>29.361582</td>\n",
       "      <td>0.523008</td>\n",
       "      <td>0.381594</td>\n",
       "      <td>32.204208</td>\n",
       "      <td>NaN</td>\n",
       "      <td>NaN</td>\n",
       "      <td>1.904602</td>\n",
       "      <td>0.647587</td>\n",
       "      <td>1.536476</td>\n",
       "      <td>1.906846</td>\n",
       "    </tr>\n",
       "    <tr>\n",
       "      <th>std</th>\n",
       "      <td>0.486592</td>\n",
       "      <td>0.836071</td>\n",
       "      <td>NaN</td>\n",
       "      <td>NaN</td>\n",
       "      <td>13.019697</td>\n",
       "      <td>1.102743</td>\n",
       "      <td>0.806057</td>\n",
       "      <td>49.693429</td>\n",
       "      <td>NaN</td>\n",
       "      <td>NaN</td>\n",
       "      <td>1.613459</td>\n",
       "      <td>0.477990</td>\n",
       "      <td>0.791503</td>\n",
       "      <td>0.798361</td>\n",
       "    </tr>\n",
       "    <tr>\n",
       "      <th>min</th>\n",
       "      <td>0.000000</td>\n",
       "      <td>1.000000</td>\n",
       "      <td>NaN</td>\n",
       "      <td>NaN</td>\n",
       "      <td>0.420000</td>\n",
       "      <td>0.000000</td>\n",
       "      <td>0.000000</td>\n",
       "      <td>0.000000</td>\n",
       "      <td>NaN</td>\n",
       "      <td>NaN</td>\n",
       "      <td>1.000000</td>\n",
       "      <td>0.000000</td>\n",
       "      <td>0.000000</td>\n",
       "      <td>0.000000</td>\n",
       "    </tr>\n",
       "    <tr>\n",
       "      <th>25%</th>\n",
       "      <td>0.000000</td>\n",
       "      <td>2.000000</td>\n",
       "      <td>NaN</td>\n",
       "      <td>NaN</td>\n",
       "      <td>22.000000</td>\n",
       "      <td>0.000000</td>\n",
       "      <td>0.000000</td>\n",
       "      <td>7.910400</td>\n",
       "      <td>NaN</td>\n",
       "      <td>NaN</td>\n",
       "      <td>1.000000</td>\n",
       "      <td>0.000000</td>\n",
       "      <td>1.000000</td>\n",
       "      <td>2.000000</td>\n",
       "    </tr>\n",
       "    <tr>\n",
       "      <th>50%</th>\n",
       "      <td>0.000000</td>\n",
       "      <td>3.000000</td>\n",
       "      <td>NaN</td>\n",
       "      <td>NaN</td>\n",
       "      <td>28.000000</td>\n",
       "      <td>0.000000</td>\n",
       "      <td>0.000000</td>\n",
       "      <td>14.454200</td>\n",
       "      <td>NaN</td>\n",
       "      <td>NaN</td>\n",
       "      <td>1.000000</td>\n",
       "      <td>1.000000</td>\n",
       "      <td>2.000000</td>\n",
       "      <td>2.000000</td>\n",
       "    </tr>\n",
       "    <tr>\n",
       "      <th>75%</th>\n",
       "      <td>1.000000</td>\n",
       "      <td>3.000000</td>\n",
       "      <td>NaN</td>\n",
       "      <td>NaN</td>\n",
       "      <td>35.000000</td>\n",
       "      <td>1.000000</td>\n",
       "      <td>0.000000</td>\n",
       "      <td>31.000000</td>\n",
       "      <td>NaN</td>\n",
       "      <td>NaN</td>\n",
       "      <td>2.000000</td>\n",
       "      <td>1.000000</td>\n",
       "      <td>2.000000</td>\n",
       "      <td>2.000000</td>\n",
       "    </tr>\n",
       "    <tr>\n",
       "      <th>max</th>\n",
       "      <td>1.000000</td>\n",
       "      <td>3.000000</td>\n",
       "      <td>NaN</td>\n",
       "      <td>NaN</td>\n",
       "      <td>80.000000</td>\n",
       "      <td>8.000000</td>\n",
       "      <td>6.000000</td>\n",
       "      <td>512.329200</td>\n",
       "      <td>NaN</td>\n",
       "      <td>NaN</td>\n",
       "      <td>11.000000</td>\n",
       "      <td>1.000000</td>\n",
       "      <td>2.000000</td>\n",
       "      <td>4.000000</td>\n",
       "    </tr>\n",
       "  </tbody>\n",
       "</table>\n",
       "</div>"
      ],
      "text/plain": [
<<<<<<< HEAD
       "          Survived      Pclass                         Name   Sex         Age  \\\n",
       "count   891.000000  891.000000                          891   891  891.000000   \n",
       "unique         NaN         NaN                          891     2         NaN   \n",
       "top            NaN         NaN  Futrelle, Mr. Jacques Heath  male         NaN   \n",
       "freq           NaN         NaN                            1   577         NaN   \n",
       "mean      0.383838    2.308642                          NaN   NaN   29.361582   \n",
       "std       0.486592    0.836071                          NaN   NaN   13.019697   \n",
       "min       0.000000    1.000000                          NaN   NaN    0.420000   \n",
       "25%       0.000000    2.000000                          NaN   NaN   22.000000   \n",
       "50%       0.000000    3.000000                          NaN   NaN   28.000000   \n",
       "75%       1.000000    3.000000                          NaN   NaN   35.000000   \n",
       "max       1.000000    3.000000                          NaN   NaN   80.000000   \n",
=======
       "          Survived      Pclass                 Name   Sex         Age  \\\n",
       "count   891.000000  891.000000                  891   891  891.000000   \n",
       "unique         NaN         NaN                  891     2         NaN   \n",
       "top            NaN         NaN  Smiljanic, Mr. Mile  male         NaN   \n",
       "freq           NaN         NaN                    1   577         NaN   \n",
       "mean      0.383838    2.308642                  NaN   NaN   29.361582   \n",
       "std       0.486592    0.836071                  NaN   NaN   13.019697   \n",
       "min       0.000000    1.000000                  NaN   NaN    0.420000   \n",
       "25%       0.000000    2.000000                  NaN   NaN   22.000000   \n",
       "50%       0.000000    3.000000                  NaN   NaN   28.000000   \n",
       "75%       1.000000    3.000000                  NaN   NaN   35.000000   \n",
       "max       1.000000    3.000000                  NaN   NaN   80.000000   \n",
>>>>>>> 5c21b1f823b88fff53120b81be8a47cb47d9a719
       "\n",
       "             SibSp       Parch        Fare Embarked Title  FamilySize  \\\n",
       "count   891.000000  891.000000  891.000000      891   891  891.000000   \n",
       "unique         NaN         NaN         NaN        3     5         NaN   \n",
       "top            NaN         NaN         NaN        S    Mr         NaN   \n",
       "freq           NaN         NaN         NaN      646   517         NaN   \n",
       "mean      0.523008    0.381594   32.204208      NaN   NaN    1.904602   \n",
       "std       1.102743    0.806057   49.693429      NaN   NaN    1.613459   \n",
       "min       0.000000    0.000000    0.000000      NaN   NaN    1.000000   \n",
       "25%       0.000000    0.000000    7.910400      NaN   NaN    1.000000   \n",
       "50%       0.000000    0.000000   14.454200      NaN   NaN    1.000000   \n",
       "75%       1.000000    0.000000   31.000000      NaN   NaN    2.000000   \n",
       "max       8.000000    6.000000  512.329200      NaN   NaN   11.000000   \n",
       "\n",
       "          Sex_Code  Embarked_Code  Title_Code  \n",
       "count   891.000000     891.000000  891.000000  \n",
       "unique         NaN            NaN         NaN  \n",
       "top            NaN            NaN         NaN  \n",
       "freq           NaN            NaN         NaN  \n",
       "mean      0.647587       1.536476    1.906846  \n",
       "std       0.477990       0.791503    0.798361  \n",
       "min       0.000000       0.000000    0.000000  \n",
       "25%       0.000000       1.000000    2.000000  \n",
       "50%       1.000000       2.000000    2.000000  \n",
       "75%       1.000000       2.000000    2.000000  \n",
       "max       1.000000       2.000000    4.000000  "
      ]
     },
     "metadata": {},
     "execution_count": 21
    }
   ],
   "metadata": {}
  },
  {
   "cell_type": "markdown",
   "source": [
    "# 5. Model\n",
    "\n",
    "Our problem is a classification and regression problem. We want to identify relationship between output (Survived or not) with other variables or features (Gender, Age, Port...). We are also perfoming a category of machine learning which is called supervised learning as we are training our model with a given dataset. With these two criteria - Supervised Learning plus Classification and Regression, we can narrow down our choice of models to a few. These include:\n",
    "\n",
    "- Naive Bayes classifier\n",
    "- Decision Tree\n",
    "- Neural network\n",
    "- Logistic Regression\n",
    "- KNN or k-Nearest Neighbors\n",
    "- Support Vector Machines\n",
    "- Random Forest"
   ],
   "metadata": {}
  },
  {
   "cell_type": "code",
<<<<<<< HEAD
   "execution_count": 64,
=======
   "execution_count": 22,
>>>>>>> 5c21b1f823b88fff53120b81be8a47cb47d9a719
   "source": [
    "from sklearn.naive_bayes import GaussianNB\n",
    "from sklearn.naive_bayes import BernoulliNB\n",
    "from sklearn.metrics import accuracy_score\n",
    "from sklearn.linear_model import LogisticRegression\n",
    "from sklearn.svm import SVC\n",
    "from sklearn.linear_model import Perceptron\n",
    "from sklearn.tree import DecisionTreeClassifier\n",
    "from sklearn.neighbors import KNeighborsClassifier\n",
    "from sklearn.ensemble import GradientBoostingClassifier\n",
    "from sklearn.ensemble import RandomForestClassifier\n",
    "from sklearn.neural_network import MLPClassifier\n",
    "\n",
    "import tensorflow as tf\n",
    "import keras \n",
    "from keras.layers import Dense, Dropout, Input\n",
    "from keras.models import Sequential"
   ],
   "outputs": [],
   "metadata": {}
  },
  {
   "cell_type": "code",
<<<<<<< HEAD
   "execution_count": 24,
=======
   "execution_count": 23,
>>>>>>> 5c21b1f823b88fff53120b81be8a47cb47d9a719
   "source": [
    "df_feature = ['Pclass', 'Sex_Code', 'Age', 'Fare', 'Embarked_Code',  'Title_Code', 'FamilySize', 'SibSp', 'Parch']\n",
    "\n",
    "X = train[df_feature]\n",
    "y = train[\"Survived\"]\n",
    "\n",
    "x_train, x_val, y_train, y_val = train_test_split(X, y, test_size = 0.3, random_state = 0)\n",
    "\n",
    "x_train.head()\n",
    "\n",
    "modelName = []\n",
    "modelAcc= []\n",
    "\n",
    "X_test = test[df_feature]"
   ],
   "outputs": [],
   "metadata": {}
  },
  {
   "cell_type": "markdown",
   "source": [
    "# 6. Fine tune Model"
   ],
   "metadata": {}
  },
  {
   "cell_type": "code",
<<<<<<< HEAD
   "execution_count": null,
=======
   "execution_count": 24,
>>>>>>> 5c21b1f823b88fff53120b81be8a47cb47d9a719
   "source": [
    "from sklearn.metrics import confusion_matrix, ConfusionMatrixDisplay\n",
    "from sklearn.model_selection import GridSearchCV"
   ],
   "outputs": [],
   "metadata": {}
  },
  {
<<<<<<< HEAD
   "cell_type": "markdown",
=======
   "cell_type": "code",
   "execution_count": 25,
>>>>>>> 5c21b1f823b88fff53120b81be8a47cb47d9a719
   "source": [
    "## Navie Bayes: \n",
    "\n",
<<<<<<< HEAD
    "There isn't a hyper-parameter to tune for Navie Bayes, so I have nothing to grid search over."
=======
    "modelName.append(\"Neural Network\")\n",
    "modelAcc.append(round(NN_acc*100, 2))"
   ],
   "outputs": [
    {
     "output_type": "stream",
     "name": "stdout",
     "text": [
      "Epoch 1/50\n",
      "20/20 [==============================] - 1s 1ms/step - loss: 0.6887 - accuracy: 0.6100\n",
      "Epoch 2/50\n",
      "20/20 [==============================] - 0s 1ms/step - loss: 0.6402 - accuracy: 0.6404\n",
      "Epoch 3/50\n",
      "20/20 [==============================] - 0s 1ms/step - loss: 0.6113 - accuracy: 0.6565\n",
      "Epoch 4/50\n",
      "20/20 [==============================] - 0s 1ms/step - loss: 0.5966 - accuracy: 0.6533\n",
      "Epoch 5/50\n",
      "20/20 [==============================] - 0s 1ms/step - loss: 0.5870 - accuracy: 0.6677\n",
      "Epoch 6/50\n",
      "20/20 [==============================] - 0s 1ms/step - loss: 0.5882 - accuracy: 0.6886\n",
      "Epoch 7/50\n",
      "20/20 [==============================] - 0s 968us/step - loss: 0.5596 - accuracy: 0.7159\n",
      "Epoch 8/50\n",
      "20/20 [==============================] - 0s 1ms/step - loss: 0.5455 - accuracy: 0.7255\n",
      "Epoch 9/50\n",
      "20/20 [==============================] - 0s 1ms/step - loss: 0.5361 - accuracy: 0.7400\n",
      "Epoch 10/50\n",
      "20/20 [==============================] - 0s 1ms/step - loss: 0.5388 - accuracy: 0.7496\n",
      "Epoch 11/50\n",
      "20/20 [==============================] - 0s 1ms/step - loss: 0.5262 - accuracy: 0.7560\n",
      "Epoch 12/50\n",
      "20/20 [==============================] - 0s 2ms/step - loss: 0.5189 - accuracy: 0.7608\n",
      "Epoch 13/50\n",
      "20/20 [==============================] - 0s 1ms/step - loss: 0.5175 - accuracy: 0.7448\n",
      "Epoch 14/50\n",
      "20/20 [==============================] - 0s 2ms/step - loss: 0.4897 - accuracy: 0.7881\n",
      "Epoch 15/50\n",
      "20/20 [==============================] - 0s 2ms/step - loss: 0.4842 - accuracy: 0.7897\n",
      "Epoch 16/50\n",
      "20/20 [==============================] - 0s 2ms/step - loss: 0.4750 - accuracy: 0.7978\n",
      "Epoch 17/50\n",
      "20/20 [==============================] - 0s 2ms/step - loss: 0.4820 - accuracy: 0.7897\n",
      "Epoch 18/50\n",
      "20/20 [==============================] - 0s 2ms/step - loss: 0.4980 - accuracy: 0.7801\n",
      "Epoch 19/50\n",
      "20/20 [==============================] - 0s 2ms/step - loss: 0.4743 - accuracy: 0.7897\n",
      "Epoch 20/50\n",
      "20/20 [==============================] - 0s 2ms/step - loss: 0.4652 - accuracy: 0.8138\n",
      "Epoch 21/50\n",
      "20/20 [==============================] - 0s 1ms/step - loss: 0.4671 - accuracy: 0.7978\n",
      "Epoch 22/50\n",
      "20/20 [==============================] - 0s 2ms/step - loss: 0.4677 - accuracy: 0.7978\n",
      "Epoch 23/50\n",
      "20/20 [==============================] - 0s 2ms/step - loss: 0.4836 - accuracy: 0.7785\n",
      "Epoch 24/50\n",
      "20/20 [==============================] - 0s 1ms/step - loss: 0.4805 - accuracy: 0.7945\n",
      "Epoch 25/50\n",
      "20/20 [==============================] - 0s 1ms/step - loss: 0.4670 - accuracy: 0.8010\n",
      "Epoch 26/50\n",
      "20/20 [==============================] - 0s 2ms/step - loss: 0.4589 - accuracy: 0.8026\n",
      "Epoch 27/50\n",
      "20/20 [==============================] - 0s 1ms/step - loss: 0.4761 - accuracy: 0.7881\n",
      "Epoch 28/50\n",
      "20/20 [==============================] - 0s 1ms/step - loss: 0.4470 - accuracy: 0.8186\n",
      "Epoch 29/50\n",
      "20/20 [==============================] - 0s 1ms/step - loss: 0.4509 - accuracy: 0.8170\n",
      "Epoch 30/50\n",
      "20/20 [==============================] - 0s 1ms/step - loss: 0.4425 - accuracy: 0.8074\n",
      "Epoch 31/50\n",
      "20/20 [==============================] - 0s 1ms/step - loss: 0.4752 - accuracy: 0.7929\n",
      "Epoch 32/50\n",
      "20/20 [==============================] - 0s 1ms/step - loss: 0.4544 - accuracy: 0.8170\n",
      "Epoch 33/50\n",
      "20/20 [==============================] - 0s 1ms/step - loss: 0.4511 - accuracy: 0.8186\n",
      "Epoch 34/50\n",
      "20/20 [==============================] - 0s 1ms/step - loss: 0.4539 - accuracy: 0.7994\n",
      "Epoch 35/50\n",
      "20/20 [==============================] - 0s 1ms/step - loss: 0.4660 - accuracy: 0.7929\n",
      "Epoch 36/50\n",
      "20/20 [==============================] - 0s 1ms/step - loss: 0.4631 - accuracy: 0.8026\n",
      "Epoch 37/50\n",
      "20/20 [==============================] - 0s 1ms/step - loss: 0.4507 - accuracy: 0.8218\n",
      "Epoch 38/50\n",
      "20/20 [==============================] - 0s 1ms/step - loss: 0.4439 - accuracy: 0.8106\n",
      "Epoch 39/50\n",
      "20/20 [==============================] - 0s 2ms/step - loss: 0.4511 - accuracy: 0.7994\n",
      "Epoch 40/50\n",
      "20/20 [==============================] - 0s 1ms/step - loss: 0.4365 - accuracy: 0.8138\n",
      "Epoch 41/50\n",
      "20/20 [==============================] - 0s 2ms/step - loss: 0.4612 - accuracy: 0.8058\n",
      "Epoch 42/50\n",
      "20/20 [==============================] - 0s 2ms/step - loss: 0.4387 - accuracy: 0.8218\n",
      "Epoch 43/50\n",
      "20/20 [==============================] - 0s 2ms/step - loss: 0.4396 - accuracy: 0.8186\n",
      "Epoch 44/50\n",
      "20/20 [==============================] - 0s 1ms/step - loss: 0.4506 - accuracy: 0.8090\n",
      "Epoch 45/50\n",
      "20/20 [==============================] - 0s 1ms/step - loss: 0.4391 - accuracy: 0.8186\n",
      "Epoch 46/50\n",
      "20/20 [==============================] - 0s 1ms/step - loss: 0.4801 - accuracy: 0.7881\n",
      "Epoch 47/50\n",
      "20/20 [==============================] - 0s 1ms/step - loss: 0.4294 - accuracy: 0.8331\n",
      "Epoch 48/50\n",
      "20/20 [==============================] - 0s 1ms/step - loss: 0.4350 - accuracy: 0.8154\n",
      "Epoch 49/50\n",
      "20/20 [==============================] - 0s 1ms/step - loss: 0.4300 - accuracy: 0.8202\n",
      "Epoch 50/50\n",
      "20/20 [==============================] - 0s 1ms/step - loss: 0.4289 - accuracy: 0.8138\n",
      "0.7723880410194397\n"
     ]
    }
>>>>>>> 5c21b1f823b88fff53120b81be8a47cb47d9a719
   ],
   "metadata": {}
  },
  {
   "cell_type": "markdown",
   "source": [
    "### Gaussian Navie Bayes"
   ],
   "metadata": {}
  },
  {
   "cell_type": "code",
<<<<<<< HEAD
   "execution_count": 52,
=======
   "execution_count": 26,
>>>>>>> 5c21b1f823b88fff53120b81be8a47cb47d9a719
   "source": [
    "gaussian = GaussianNB()\n",
    "\n",
    "gaussian.fit(x_train, y_train)\n",
<<<<<<< HEAD
    "\n",
=======
    "Bernoulli.fit(x_train, y_train)"
   ],
   "outputs": [
    {
     "output_type": "execute_result",
     "data": {
      "text/plain": [
       "BernoulliNB()"
      ]
     },
     "metadata": {},
     "execution_count": 26
    }
   ],
   "metadata": {}
  },
  {
   "cell_type": "code",
   "execution_count": 27,
   "source": [
>>>>>>> 5c21b1f823b88fff53120b81be8a47cb47d9a719
    "y_pred = gaussian.predict(x_val)\n",
    "\n",
    "acc_gaussian = round(accuracy_score(y_pred, y_val) * 100, 2)\n",
    "print(acc_gaussian)\n",
    "\n",
    "modelName.append(\"Gaussian Naive bayes\")\n",
    "modelAcc.append(acc_gaussian)"
   ],
   "outputs": [
    {
     "output_type": "stream",
     "name": "stdout",
     "text": [
      "78.36\n"
     ]
    }
   ],
   "metadata": {}
  },
  {
   "cell_type": "code",
<<<<<<< HEAD
   "execution_count": 53,
=======
   "execution_count": 28,
>>>>>>> 5c21b1f823b88fff53120b81be8a47cb47d9a719
   "source": [
    "conf = confusion_matrix(y_pred,y_val)\n",
    "\n",
    "ConfusionMatrixDisplay(conf).plot()\n",
    "plt.title(\"Gaussian Navie Bayes\")\n",
    "plt.show()"
   ],
   "outputs": [
    {
<<<<<<< HEAD
     "output_type": "display_data",
=======
     "output_type": "stream",
     "name": "stdout",
     "text": [
      "78.73\n"
     ]
    }
   ],
   "metadata": {}
  },
  {
   "cell_type": "markdown",
   "source": [
    "## Logistic Regression"
   ],
   "metadata": {}
  },
  {
   "cell_type": "code",
   "execution_count": 29,
   "source": [
    "# Logistic Regression model.\n",
    "logreg = LogisticRegression(max_iter=100000)\n",
    "logreg.fit(x_train, y_train)"
   ],
   "outputs": [
    {
     "output_type": "execute_result",
>>>>>>> 5c21b1f823b88fff53120b81be8a47cb47d9a719
     "data": {
      "image/png": "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",
      "text/plain": [
       "<Figure size 432x288 with 2 Axes>"
      ]
     },
<<<<<<< HEAD
     "metadata": {
      "needs_background": "light"
     }
=======
     "metadata": {},
     "execution_count": 29
>>>>>>> 5c21b1f823b88fff53120b81be8a47cb47d9a719
    }
   ],
   "metadata": {}
  },
  {
   "cell_type": "markdown",
   "source": [
    "### Bernoulli Navie Bayes\n"
   ],
   "metadata": {}
  },
  {
   "cell_type": "code",
<<<<<<< HEAD
   "execution_count": 54,
=======
   "execution_count": 30,
>>>>>>> 5c21b1f823b88fff53120b81be8a47cb47d9a719
   "source": [
    "Bernoulli = BernoulliNB()\n",
    "Bernoulli.fit(x_train, y_train)\n",
    "\n",
    "y_pred = Bernoulli.predict(x_val)\n",
    "accBernoulli= round(accuracy_score(y_pred, y_val) * 100, 2)\n",
    "print(accBernoulli)\n",
    "\n",
    "\n",
    "modelName.append(\"Bernoulli Naive bayes\")\n",
    "modelAcc.append(accBernoulli)"
   ],
   "outputs": [
    {
     "output_type": "stream",
     "name": "stdout",
     "text": [
      "78.73\n"
     ]
    }
   ],
   "metadata": {}
  },
  {
   "cell_type": "code",
<<<<<<< HEAD
   "execution_count": 55,
=======
   "execution_count": 31,
>>>>>>> 5c21b1f823b88fff53120b81be8a47cb47d9a719
   "source": [
    "conf = confusion_matrix(y_pred,y_val)\n",
    "\n",
    "ConfusionMatrixDisplay(conf).plot()\n",
    "plt.title(\"Bernoulli Navie Bayes\")\n",
    "plt.show()"
   ],
   "outputs": [
    {
     "output_type": "display_data",
     "data": {
      "image/png": "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",
      "text/plain": [
       "<Figure size 432x288 with 2 Axes>"
      ]
     },
<<<<<<< HEAD
     "metadata": {
      "needs_background": "light"
     }
=======
     "metadata": {},
     "execution_count": 31
    }
   ],
   "metadata": {}
  },
  {
   "cell_type": "code",
   "execution_count": 32,
   "source": [
    "y_pred = svc.predict(x_val)\n",
    "SVMACC = round(accuracy_score(y_pred, y_val) * 100, 2)\n",
    "print(SVMACC)\n",
    "\n",
    "modelName.append(\"Support Vector Machines\")\n",
    "modelAcc.append(SVMACC)"
   ],
   "outputs": [
    {
     "output_type": "stream",
     "name": "stdout",
     "text": [
      "71.64\n"
     ]
>>>>>>> 5c21b1f823b88fff53120b81be8a47cb47d9a719
    }
   ],
   "metadata": {}
  },
  {
   "cell_type": "markdown",
   "source": [
    "## Decision Tree:"
   ],
   "metadata": {}
  },
  {
   "cell_type": "code",
<<<<<<< HEAD
   "execution_count": 58,
=======
   "execution_count": 33,
>>>>>>> 5c21b1f823b88fff53120b81be8a47cb47d9a719
   "source": [
    "from sklearn import tree\n",
    "# Decision tree model.\n",
    "\n",
    "params = {'criterion': ['gini', 'entropy'], \n",
    "        'max_depth': range(1, 10),\n",
    "        'min_samples_leaf': range(1,5)\n",
    "        }\n",
    "\n",
    "\n",
    "decisiontree = DecisionTreeClassifier()\n",
    "\n",
    "grid_search_cv =  GridSearchCV(decisiontree, params, verbose=1, cv=5)\n",
    "\n",
    "grid_search_cv.fit(x_train, y_train)\n"
   ],
   "outputs": [
    {
     "output_type": "stream",
     "name": "stdout",
     "text": [
      "Fitting 5 folds for each of 72 candidates, totalling 360 fits\n"
     ]
    },
    {
     "output_type": "execute_result",
     "data": {
      "text/plain": [
       "GridSearchCV(cv=5, estimator=DecisionTreeClassifier(),\n",
       "             param_grid={'criterion': ['gini', 'entropy'],\n",
       "                         'max_depth': range(1, 10),\n",
       "                         'min_samples_leaf': range(1, 5)},\n",
       "             verbose=1)"
      ]
     },
     "metadata": {},
     "execution_count": 58
    }
   ],
   "metadata": {}
  },
  {
   "cell_type": "code",
<<<<<<< HEAD
   "execution_count": 59,
=======
   "execution_count": 34,
>>>>>>> 5c21b1f823b88fff53120b81be8a47cb47d9a719
   "source": [
    "grid_search_cv.best_params_"
   ],
   "outputs": [
    {
     "output_type": "execute_result",
     "data": {
      "text/plain": [
       "{'criterion': 'entropy', 'max_depth': 3, 'min_samples_leaf': 1}"
      ]
     },
     "metadata": {},
     "execution_count": 59
    }
   ],
   "metadata": {}
  },
  {
   "cell_type": "code",
<<<<<<< HEAD
   "execution_count": 60,
=======
   "execution_count": 35,
>>>>>>> 5c21b1f823b88fff53120b81be8a47cb47d9a719
   "source": [
    "grid_search_cv.best_score_"
   ],
   "outputs": [
    {
     "output_type": "execute_result",
     "data": {
      "text/plain": [
       "0.8235096774193549"
      ]
     },
     "metadata": {},
<<<<<<< HEAD
     "execution_count": 60
=======
     "execution_count": 35
>>>>>>> 5c21b1f823b88fff53120b81be8a47cb47d9a719
    }
   ],
   "metadata": {}
  },
  {
   "cell_type": "code",
<<<<<<< HEAD
   "execution_count": 72,
=======
   "execution_count": 36,
>>>>>>> 5c21b1f823b88fff53120b81be8a47cb47d9a719
   "source": [
    "decisiontree = DecisionTreeClassifier(criterion = 'entropy', max_depth=3, min_samples_leaf= 1)\n",
    "decisiontree.fit(x_train, y_train)\n",
    "\n",
    "y_pred = decisiontree.predict(x_val)\n",
    "acc_decisiontree = round(accuracy_score(y_pred, y_val) * 100, 2)\n",
    "print(acc_decisiontree)\n",
    "\n",
    "\n",
    "modelName.append(\"Decision Tree\")\n",
    "modelAcc.append(acc_decisiontree)"
   ],
   "outputs": [
    {
     "output_type": "stream",
     "name": "stdout",
     "text": [
<<<<<<< HEAD
      "82.46\n"
=======
      "77.99\n"
>>>>>>> 5c21b1f823b88fff53120b81be8a47cb47d9a719
     ]
    }
   ],
   "metadata": {}
  },
  {
   "cell_type": "code",
<<<<<<< HEAD
   "execution_count": 62,
=======
   "execution_count": 37,
>>>>>>> 5c21b1f823b88fff53120b81be8a47cb47d9a719
   "source": [
    "conf = confusion_matrix(y_pred,y_val)\n",
    "\n",
    "ConfusionMatrixDisplay(conf).plot()\n",
    "plt.show()"
   ],
   "outputs": [
    {
     "output_type": "display_data",
     "data": {
      "image/png": "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",
      "text/plain": [
       "<Figure size 432x288 with 2 Axes>"
      ]
     },
<<<<<<< HEAD
     "metadata": {
      "needs_background": "light"
     }
=======
     "metadata": {},
     "execution_count": 37
>>>>>>> 5c21b1f823b88fff53120b81be8a47cb47d9a719
    }
   ],
   "metadata": {}
  },
  {
   "cell_type": "code",
<<<<<<< HEAD
   "execution_count": 63,
=======
   "execution_count": 38,
>>>>>>> 5c21b1f823b88fff53120b81be8a47cb47d9a719
   "source": [
    "tree.plot_tree(decisiontree)"
   ],
   "outputs": [
    {
     "output_type": "execute_result",
     "data": {
      "text/plain": [
       "[Text(167.4, 190.26, 'X[1] <= 0.5\\nentropy = 0.964\\nsamples = 623\\nvalue = [381, 242]'),\n",
       " Text(83.7, 135.9, 'X[0] <= 2.5\\nentropy = 0.806\\nsamples = 215\\nvalue = [53, 162]'),\n",
       " Text(41.85, 81.53999999999999, 'X[2] <= 2.5\\nentropy = 0.349\\nsamples = 122\\nvalue = [8, 114]'),\n",
       " Text(20.925, 27.180000000000007, 'entropy = 0.0\\nsamples = 1\\nvalue = [1, 0]'),\n",
       " Text(62.775000000000006, 27.180000000000007, 'entropy = 0.319\\nsamples = 121\\nvalue = [7, 114]'),\n",
       " Text(125.55000000000001, 81.53999999999999, 'X[6] <= 4.5\\nentropy = 0.999\\nsamples = 93\\nvalue = [45, 48]'),\n",
       " Text(104.625, 27.180000000000007, 'entropy = 0.957\\nsamples = 74\\nvalue = [28, 46]'),\n",
       " Text(146.475, 27.180000000000007, 'entropy = 0.485\\nsamples = 19\\nvalue = [17, 2]'),\n",
       " Text(251.10000000000002, 135.9, 'X[5] <= 1.0\\nentropy = 0.714\\nsamples = 408\\nvalue = [328, 80]'),\n",
       " Text(209.25, 81.53999999999999, 'X[6] <= 4.5\\nentropy = 0.993\\nsamples = 31\\nvalue = [14, 17]'),\n",
       " Text(188.32500000000002, 27.180000000000007, 'entropy = 0.0\\nsamples = 17\\nvalue = [0, 17]'),\n",
       " Text(230.175, 27.180000000000007, 'entropy = 0.0\\nsamples = 14\\nvalue = [14, 0]'),\n",
       " Text(292.95, 81.53999999999999, 'X[3] <= 26.269\\nentropy = 0.651\\nsamples = 377\\nvalue = [314, 63]'),\n",
       " Text(272.02500000000003, 27.180000000000007, 'entropy = 0.504\\nsamples = 278\\nvalue = [247, 31]'),\n",
       " Text(313.875, 27.180000000000007, 'entropy = 0.908\\nsamples = 99\\nvalue = [67, 32]')]"
      ]
     },
     "metadata": {},
     "execution_count": 63
    },
    {
     "output_type": "display_data",
     "data": {
      "image/png": "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",
      "text/plain": [
       "<Figure size 432x288 with 1 Axes>"
      ]
     },
     "metadata": {
      "needs_background": "light"
     }
    }
   ],
   "metadata": {}
  },
  {
   "cell_type": "markdown",
   "source": [
    "## Neural Network\n",
    "\n",
    "### Muti-layer Perceptron"
   ],
   "metadata": {}
  },
  {
   "cell_type": "code",
<<<<<<< HEAD
   "execution_count": 69,
=======
   "execution_count": 39,
>>>>>>> 5c21b1f823b88fff53120b81be8a47cb47d9a719
   "source": [
    "mlp = MLPClassifier(max_iter=1000)\n",
    "\n",
    "params = {\n",
    "    'hidden_layer_sizes': [(10,),(15,),(20,),(10,15,20), (10, 20, 30)],\n",
    "    'activation': ['tanh', 'relu', 'logistic'],\n",
    "    'solver': ['sgd', 'adam', 'lbfgs'],\n",
    "    'alpha': [0.0001, 0.001, 0.01, 0.05],\n",
    "    'learning_rate': ['constant','adaptive'],\n",
    "}\n",
    "grid_search_cv = GridSearchCV(mlp, params, n_jobs=-1, cv=5)\n",
    "grid_search_cv.fit(x_train, y_train)\n",
    "\n"
   ],
   "outputs": [
    {
     "output_type": "execute_result",
     "data": {
      "text/plain": [
       "GridSearchCV(cv=5, estimator=MLPClassifier(max_iter=1000), n_jobs=-1,\n",
       "             param_grid={'activation': ['tanh', 'relu', 'logistic'],\n",
       "                         'alpha': [0.0001, 0.001, 0.01, 0.05],\n",
       "                         'hidden_layer_sizes': [(10,), (15,), (20,),\n",
       "                                                (10, 15, 20), (10, 20, 30)],\n",
       "                         'learning_rate': ['constant', 'adaptive'],\n",
       "                         'solver': ['sgd', 'adam', 'lbfgs']})"
      ]
     },
     "metadata": {},
<<<<<<< HEAD
     "execution_count": 69
=======
     "execution_count": 39
>>>>>>> 5c21b1f823b88fff53120b81be8a47cb47d9a719
    }
   ],
   "metadata": {}
  },
  {
   "cell_type": "code",
<<<<<<< HEAD
   "execution_count": 70,
=======
   "execution_count": 40,
>>>>>>> 5c21b1f823b88fff53120b81be8a47cb47d9a719
   "source": [
    "grid_search_cv.best_params_"
   ],
   "outputs": [
    {
     "output_type": "execute_result",
     "data": {
      "text/plain": [
       "{'activation': 'logistic',\n",
       " 'alpha': 0.01,\n",
       " 'hidden_layer_sizes': (15,),\n",
       " 'learning_rate': 'adaptive',\n",
       " 'solver': 'adam'}"
      ]
     },
     "metadata": {},
     "execution_count": 70
    }
   ],
   "metadata": {}
  },
  {
   "cell_type": "code",
<<<<<<< HEAD
   "execution_count": 71,
=======
   "execution_count": 41,
>>>>>>> 5c21b1f823b88fff53120b81be8a47cb47d9a719
   "source": [
    "grid_search_cv.best_score_"
   ],
   "outputs": [
    {
     "output_type": "execute_result",
     "data": {
      "text/plain": [
       "0.8250709677419354"
      ]
     },
     "metadata": {},
<<<<<<< HEAD
     "execution_count": 71
=======
     "execution_count": 41
>>>>>>> 5c21b1f823b88fff53120b81be8a47cb47d9a719
    }
   ],
   "metadata": {}
  },
  {
   "cell_type": "code",
<<<<<<< HEAD
   "execution_count": 74,
   "source": [
    "MLP = MLPClassifier(activation= 'logistic',\n",
    "                        alpha= 0.01,\n",
    "                        hidden_layer_sizes= (15,),\n",
    "                        learning_rate= 'adaptive',\n",
    "                        solver= 'adam', max_iter=1000)\n",
    "MLP.fit(x_train, y_train)\n",
=======
   "execution_count": 42,
   "source": [
    "y_pred = randomforest.predict(x_val)\n",
    "acc_randomforest = round(accuracy_score(y_pred, y_val) * 100, 2)\n",
    "print(acc_randomforest)\n",
>>>>>>> 5c21b1f823b88fff53120b81be8a47cb47d9a719
    "\n",
    "y_pred = MLP.predict(x_val)\n",
    "acc_MLP = round(accuracy_score(y_pred, y_val) * 100, 2)\n",
    "print(acc_MLP)\n",
    "\n",
    "modelName.append(\"Muti-layer Perceptron\")\n",
    "modelAcc.append(acc_MLP)\n"
   ],
   "outputs": [
    {
     "output_type": "stream",
     "name": "stdout",
     "text": [
<<<<<<< HEAD
      "80.97\n"
=======
      "81.72\n"
>>>>>>> 5c21b1f823b88fff53120b81be8a47cb47d9a719
     ]
    }
   ],
   "metadata": {}
  },
  {
   "cell_type": "code",
<<<<<<< HEAD
   "execution_count": 75,
=======
   "execution_count": 43,
>>>>>>> 5c21b1f823b88fff53120b81be8a47cb47d9a719
   "source": [
    "conf = confusion_matrix(y_pred,y_val)\n",
    "\n",
    "ConfusionMatrixDisplay(conf).plot()\n",
    "plt.show()"
   ],
   "outputs": [
    {
     "output_type": "display_data",
     "data": {
<<<<<<< HEAD
      "image/png": "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",
      "text/plain": [
       "<Figure size 432x288 with 2 Axes>"
      ]
     },
     "metadata": {
      "needs_background": "light"
     }
=======
      "text/html": [
       "<div>\n",
       "<style scoped>\n",
       "    .dataframe tbody tr th:only-of-type {\n",
       "        vertical-align: middle;\n",
       "    }\n",
       "\n",
       "    .dataframe tbody tr th {\n",
       "        vertical-align: top;\n",
       "    }\n",
       "\n",
       "    .dataframe thead th {\n",
       "        text-align: right;\n",
       "    }\n",
       "</style>\n",
       "<table border=\"1\" class=\"dataframe\">\n",
       "  <thead>\n",
       "    <tr style=\"text-align: right;\">\n",
       "      <th></th>\n",
       "      <th>Model</th>\n",
       "      <th>Score</th>\n",
       "    </tr>\n",
       "  </thead>\n",
       "  <tbody>\n",
       "    <tr>\n",
       "      <th>8</th>\n",
       "      <td>Gradient Boosting</td>\n",
       "      <td>84.33</td>\n",
       "    </tr>\n",
       "    <tr>\n",
       "      <th>9</th>\n",
       "      <td>Random Forest</td>\n",
       "      <td>81.72</td>\n",
       "    </tr>\n",
       "    <tr>\n",
       "      <th>3</th>\n",
       "      <td>Logistic Regression</td>\n",
       "      <td>80.22</td>\n",
       "    </tr>\n",
       "    <tr>\n",
       "      <th>2</th>\n",
       "      <td>Bernoulli Naive bayes</td>\n",
       "      <td>78.73</td>\n",
       "    </tr>\n",
       "    <tr>\n",
       "      <th>1</th>\n",
       "      <td>Gaussian Naive bayes</td>\n",
       "      <td>78.36</td>\n",
       "    </tr>\n",
       "    <tr>\n",
       "      <th>6</th>\n",
       "      <td>Decision Tree</td>\n",
       "      <td>77.99</td>\n",
       "    </tr>\n",
       "    <tr>\n",
       "      <th>0</th>\n",
       "      <td>Neural Network</td>\n",
       "      <td>77.24</td>\n",
       "    </tr>\n",
       "    <tr>\n",
       "      <th>4</th>\n",
       "      <td>Support Vector Machines</td>\n",
       "      <td>71.64</td>\n",
       "    </tr>\n",
       "    <tr>\n",
       "      <th>7</th>\n",
       "      <td>KNN</td>\n",
       "      <td>71.64</td>\n",
       "    </tr>\n",
       "    <tr>\n",
       "      <th>5</th>\n",
       "      <td>Perceptron</td>\n",
       "      <td>41.42</td>\n",
       "    </tr>\n",
       "  </tbody>\n",
       "</table>\n",
       "</div>"
      ],
      "text/plain": [
       "                     Model  Score\n",
       "8        Gradient Boosting  84.33\n",
       "9            Random Forest  81.72\n",
       "3      Logistic Regression  80.22\n",
       "2    Bernoulli Naive bayes  78.73\n",
       "1     Gaussian Naive bayes  78.36\n",
       "6            Decision Tree  77.99\n",
       "0           Neural Network  77.24\n",
       "4  Support Vector Machines  71.64\n",
       "7                      KNN  71.64\n",
       "5               Perceptron  41.42"
      ]
     },
     "metadata": {},
     "execution_count": 43
>>>>>>> 5c21b1f823b88fff53120b81be8a47cb47d9a719
    }
   ],
   "metadata": {}
  },
  {
   "cell_type": "markdown",
   "source": [
    "### Deep neural Network"
   ],
   "metadata": {}
  },
  {
   "cell_type": "code",
   "execution_count": null,
   "source": [
    "# Create sturucture of the Neural Network\n",
    "model = Sequential()\n",
    "model.add(Dense(units = 32, input_shape = (9,), activation = 'relu'))\n",
    "model.add(Dense(units = 64, activation = 'relu', kernel_initializer = 'uniform', use_bias = False))\n",
    "model.add(tf.keras.layers.BatchNormalization())\n",
    "model.add(Dense(units = 128, activation = 'relu',kernel_initializer = 'uniform', use_bias = False))\n",
    "model.add(Dropout(0.1))\n",
    "model.add(Dense(units = 64, activation = 'relu',kernel_initializer = 'uniform', use_bias = False))\n",
    "model.add(Dropout(0.1))\n",
    "model.add(Dense(units = 32, activation = 'relu'))\n",
    "model.add(Dropout(0.15))\n",
    "model.add(Dense(units = 16, activation = 'relu'))\n",
    "model.add(Dense(units = 8, activation = 'relu',kernel_initializer = 'uniform', use_bias = False))\n",
    "model.add(Dense(units =1 , activation = 'sigmoid'))"
   ],
   "outputs": [],
   "metadata": {}
  },
  {
   "cell_type": "code",
   "execution_count": null,
   "source": [
    "# Train the model with Adam optimizers\n",
    "model.compile(loss = tf.keras.losses.binary_crossentropy, optimizer = tf.keras.optimizers.Adam(), metrics = ['accuracy'])\n",
    "model.fit(x_train, y_train, batch_size = 32, verbose = 1, epochs = 50)\n",
    "score = model.evaluate(x_val, y_val, verbose=0)\n",
    "NN_acc = score[1]\n",
    "print(NN_acc)\n",
    "\n",
    "modelName.append(\"Deep Neural Network\")\n",
    "modelAcc.append(round(NN_acc*100, 2))"
   ],
   "outputs": [],
   "metadata": {}
  },
  {
   "cell_type": "markdown",
   "source": [
    "## Logistic Regression"
   ],
   "metadata": {}
  },
  {
   "cell_type": "code",
   "execution_count": 76,
   "source": [
    "logreg = LogisticRegression(max_iter=100000)\n",
    "\n",
    "params = {\"C\":np.logspace(-3,3,7), \"penalty\":[\"l1\",\"l2\"]}\n",
    "\n",
    "grid_search_cv = GridSearchCV(logreg, params, n_jobs=-1, cv=5)\n",
    "\n",
    "grid_search_cv.fit(x_train, y_train)\n"
   ],
   "outputs": [
    {
     "output_type": "stream",
     "name": "stderr",
     "text": [
      "/Users/dongbochen/opt/anaconda3/lib/python3.8/site-packages/sklearn/model_selection/_search.py:918: UserWarning: One or more of the test scores are non-finite: [       nan 0.66609032        nan 0.70784516        nan 0.79781935\n",
      "        nan 0.78821935        nan 0.78660645        nan 0.78660645\n",
      "        nan 0.78660645]\n",
      "  warnings.warn(\n"
     ]
    },
    {
     "output_type": "execute_result",
     "data": {
      "text/plain": [
       "GridSearchCV(cv=5, estimator=LogisticRegression(max_iter=100000), n_jobs=-1,\n",
       "             param_grid={'C': array([1.e-03, 1.e-02, 1.e-01, 1.e+00, 1.e+01, 1.e+02, 1.e+03]),\n",
       "                         'penalty': ['l1', 'l2']})"
      ]
     },
     "metadata": {},
     "execution_count": 76
    }
   ],
   "metadata": {}
  },
  {
   "cell_type": "code",
   "execution_count": 77,
   "source": [
    "grid_search_cv.best_score_"
   ],
   "outputs": [
    {
     "output_type": "execute_result",
     "data": {
      "text/plain": [
       "0.7978193548387098"
      ]
     },
     "metadata": {},
     "execution_count": 77
    }
   ],
   "metadata": {}
  },
  {
   "cell_type": "code",
   "execution_count": 78,
   "source": [
    "grid_search_cv.best_params_"
   ],
   "outputs": [
    {
     "output_type": "execute_result",
     "data": {
      "text/plain": [
       "{'C': 0.1, 'penalty': 'l2'}"
      ]
     },
     "metadata": {},
     "execution_count": 78
    }
   ],
   "metadata": {}
  },
  {
   "cell_type": "code",
   "execution_count": 81,
   "source": [
    "logreg = LogisticRegression(max_iter=100000, C= 0.1, penalty=\"l2\")\n",
    "logreg.fit(x_train, y_train)\n",
    "\n",
    "y_pred = logreg.predict(x_val)\n",
    "\n",
    "logregacc = round(accuracy_score(y_pred, y_val) * 100, 2)\n",
    "print(logregacc)\n",
    "\n",
    "modelName.append(\"Logistic Regression\")\n",
    "modelAcc.append(logregacc)"
   ],
   "outputs": [
    {
     "output_type": "stream",
     "name": "stdout",
     "text": [
      "80.97\n"
     ]
    }
   ],
   "metadata": {}
  },
  {
   "cell_type": "code",
   "execution_count": 82,
   "source": [
    "conf = confusion_matrix(y_pred,y_val)\n",
    "\n",
    "ConfusionMatrixDisplay(conf).plot()\n",
    "plt.show()"
   ],
   "outputs": [
    {
     "output_type": "display_data",
     "data": {
      "image/png": "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",
      "text/plain": [
       "<Figure size 432x288 with 2 Axes>"
      ]
     },
     "metadata": {
      "needs_background": "light"
     }
    }
   ],
   "metadata": {}
  },
  {
   "cell_type": "code",
   "execution_count": 88,
   "source": [
    "# SVM model.\n",
    "\n",
    "svc = SVC()\n",
    "\n",
    "params = {'C': [0.1, 1, 10, 100, 1000],\n",
    "              'gamma': [1, 0.1, 0.01, 0.001, 0.0001,'scale'],\n",
    "              'kernel': ['rbf']}\n",
    "\n",
    "grid_search_cv = GridSearchCV(svc, params, n_jobs=-1, cv=5)\n",
    "\n",
    "grid_search_cv.fit(x_train, y_train)\n"
   ],
   "outputs": [
    {
     "output_type": "execute_result",
     "data": {
      "text/plain": [
       "GridSearchCV(cv=5, estimator=SVC(), n_jobs=-1,\n",
       "             param_grid={'C': [0.1, 1, 10, 100, 1000],\n",
       "                         'gamma': [1, 0.1, 0.01, 0.001, 0.0001, 'scale'],\n",
       "                         'kernel': ['rbf']})"
      ]
     },
     "metadata": {},
     "execution_count": 88
    }
   ],
   "metadata": {}
  },
  {
   "cell_type": "code",
   "execution_count": 89,
   "source": [
    "grid_search_cv.best_score_"
   ],
   "outputs": [
    {
     "output_type": "execute_result",
     "data": {
      "text/plain": [
       "0.8010193548387097"
      ]
     },
     "metadata": {},
     "execution_count": 89
    }
   ],
   "metadata": {}
  },
  {
   "cell_type": "code",
   "execution_count": 90,
   "source": [
    "grid_search_cv.best_params_"
   ],
   "outputs": [
    {
     "output_type": "execute_result",
     "data": {
      "text/plain": [
       "{'C': 1000, 'gamma': 'scale', 'kernel': 'rbf'}"
      ]
     },
     "metadata": {},
     "execution_count": 90
    }
   ],
   "metadata": {}
  },
  {
   "cell_type": "code",
   "execution_count": 91,
   "source": [
    "svc = SVC(C = 1000, gamma='scale',kernel='rbf')\n",
    "svc.fit(x_train, y_train)\n",
    "\n",
    "y_pred = svc.predict(x_val)\n",
    "SVMACC = round(accuracy_score(y_pred, y_val) * 100, 2)\n",
    "print(SVMACC)\n",
    "\n",
    "modelName.append(\"Support Vector Machines\")\n",
    "modelAcc.append(SVMACC)"
   ],
   "outputs": [
    {
     "output_type": "stream",
     "name": "stdout",
     "text": [
      "78.73\n"
     ]
    }
   ],
   "metadata": {}
  },
  {
   "cell_type": "code",
   "execution_count": 92,
   "source": [
    "conf = confusion_matrix(y_pred,y_val)\n",
    "\n",
    "ConfusionMatrixDisplay(conf).plot()\n",
    "plt.show()"
   ],
   "outputs": [
    {
     "output_type": "display_data",
     "data": {
      "image/png": "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",
      "text/plain": [
       "<Figure size 432x288 with 2 Axes>"
      ]
     },
     "metadata": {
      "needs_background": "light"
     }
    }
   ],
   "metadata": {}
  },
  {
   "cell_type": "markdown",
   "source": [
    "## KNN"
   ],
   "metadata": {}
  },
  {
   "cell_type": "code",
   "execution_count": 96,
   "source": [
    "knn = KNeighborsClassifier()\n",
    "\n",
    "params = {'n_neighbors': [3, 5, 7, 9, 11, 13],\n",
    "              'weights': ['uniform', 'distance'],\n",
    "              'metric': ['euclidean', 'manhattan']}\n",
    "\n",
    "grid_search_cv = GridSearchCV(knn, params, n_jobs=-1, cv=5)\n",
    "\n",
    "grid_search_cv.fit(x_train, y_train)"
   ],
   "outputs": [
    {
     "output_type": "execute_result",
     "data": {
      "text/plain": [
       "GridSearchCV(cv=5, estimator=KNeighborsClassifier(), n_jobs=-1,\n",
       "             param_grid={'metric': ['euclidean', 'manhattan'],\n",
       "                         'n_neighbors': [3, 5, 7, 9, 11, 13],\n",
       "                         'weights': ['uniform', 'distance']})"
      ]
     },
     "metadata": {},
     "execution_count": 96
    }
   ],
   "metadata": {}
  },
  {
   "cell_type": "code",
   "execution_count": 97,
   "source": [
    "grid_search_cv.best_score_"
   ],
   "outputs": [
    {
     "output_type": "execute_result",
     "data": {
      "text/plain": [
       "0.7352387096774193"
      ]
     },
     "metadata": {},
     "execution_count": 97
    }
   ],
   "metadata": {}
  },
  {
   "cell_type": "code",
   "execution_count": 98,
   "source": [
    "grid_search_cv.best_params_"
   ],
   "outputs": [
    {
     "output_type": "execute_result",
     "data": {
      "text/plain": [
       "{'metric': 'manhattan', 'n_neighbors': 5, 'weights': 'uniform'}"
      ]
     },
     "metadata": {},
     "execution_count": 98
    }
   ],
   "metadata": {}
  },
  {
   "cell_type": "code",
   "execution_count": 99,
   "source": [
    "knn = KNeighborsClassifier(metric= 'manhattan', n_neighbors= 5, weights='uniform')\n",
    "knn.fit(x_train, y_train)\n",
    "\n",
    "y_pred = knn.predict(x_val)\n",
    "acc_knn = round(accuracy_score(y_pred, y_val) * 100, 2)\n",
    "print(acc_knn)\n",
    "\n",
    "modelName.append(\"KNN\")\n",
    "modelAcc.append(acc_knn)"
   ],
   "outputs": [
    {
     "output_type": "stream",
     "name": "stdout",
     "text": [
      "71.64\n"
     ]
    }
   ],
   "metadata": {}
  },
  {
   "cell_type": "code",
   "execution_count": 100,
   "source": [
    "conf = confusion_matrix(y_pred,y_val)\n",
    "\n",
    "ConfusionMatrixDisplay(conf).plot()\n",
    "plt.show()"
   ],
   "outputs": [
    {
     "output_type": "display_data",
     "data": {
      "image/png": "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",
      "text/plain": [
       "<Figure size 432x288 with 2 Axes>"
      ]
     },
     "metadata": {
      "needs_background": "light"
     }
    }
   ],
   "metadata": {}
  },
  {
   "cell_type": "markdown",
   "source": [
    "## Random Forest"
   ],
   "metadata": {}
  },
  {
   "cell_type": "code",
   "execution_count": 103,
   "source": [
    "randomforest = RandomForestClassifier()\n",
    "\n",
    "params = {'bootstrap': [True, False],\n",
    "            'max_depth': [10, 20, 30, 40, 50, 60, 70, 80, 90, 100, None],\n",
    "            'max_features': ['auto', 'sqrt'],\n",
    "            'min_samples_leaf': [1, 2, 4],\n",
    "            'min_samples_split': [2, 5, 10],\n",
    "            'n_estimators': [200, 400, 600, 800, 1000, 1200, 1400, 1600, 1800, 2000]}\n",
    "\n",
    "grid_search_cv = GridSearchCV(randomforest, params, n_jobs=-1, cv=5)\n",
    "\n",
    "grid_search_cv.fit(x_train, y_train)\n",
    "\n"
   ],
   "outputs": [],
   "metadata": {}
  },
  {
   "cell_type": "code",
   "execution_count": null,
   "source": [
    "grid_search_cv.best_score_"
   ],
   "outputs": [],
   "metadata": {}
  },
  {
   "cell_type": "code",
   "execution_count": null,
   "source": [
    "grid_search_cv.best_params_"
   ],
   "outputs": [],
   "metadata": {}
  },
  {
   "cell_type": "code",
   "execution_count": null,
   "source": [
    "randomforest = RandomForestClassifier()\n",
    "randomforest.fit(x_train, y_train)\n",
    "\n",
    "y_pred = randomforest.predict(x_val)\n",
    "acc_randomforest = round(accuracy_score(y_pred, y_val) * 100, 2)\n",
    "print(acc_randomforest)\n",
    "\n",
    "modelName.append(\"Random Forest\")\n",
    "modelAcc.append(acc_randomforest)"
   ],
   "outputs": [],
   "metadata": {}
  },
  {
   "cell_type": "code",
   "execution_count": null,
   "source": [
    "conf = confusion_matrix(y_pred,y_val)\n",
    "\n",
    "ConfusionMatrixDisplay(conf).plot()\n",
    "plt.show()"
   ],
   "outputs": [],
   "metadata": {}
  },
  {
   "cell_type": "markdown",
   "source": [
    "## Gradient Boosting"
   ],
   "metadata": {}
  },
  {
   "cell_type": "code",
   "execution_count": null,
   "source": [
    "gbk = GradientBoostingClassifier()\n",
    "\n",
    "params = {\n",
    "    \"loss\":[\"deviance\"],\n",
    "    \"learning_rate\": [0.01, 0.025, 0.05, 0.075, 0.1, 0.15, 0.2],\n",
    "    \"min_samples_split\": np.linspace(0.1, 0.5, 12),\n",
    "    \"min_samples_leaf\": np.linspace(0.1, 0.5, 12),\n",
    "    \"max_depth\":[3,5,8],\n",
    "    \"max_features\":[\"log2\",\"sqrt\"],\n",
    "    \"criterion\": [\"friedman_mse\",  \"mae\"],\n",
    "    \"subsample\":[0.5, 0.618, 0.8, 0.85, 0.9, 0.95, 1.0],\n",
    "    \"n_estimators\":[10]\n",
    "    }\n",
    "\n",
    "grid_search_cv = GridSearchCV(gbk, params, n_jobs=-1, cv=5)\n",
    "\n",
    "grid_search_cv.fit(x_train, y_train)"
   ],
   "outputs": [],
   "metadata": {}
  },
  {
   "cell_type": "code",
   "execution_count": null,
   "source": [
    "grid_search_cv.best_score_"
   ],
   "outputs": [],
   "metadata": {}
  },
  {
   "cell_type": "code",
   "execution_count": null,
   "source": [
    "grid_search_cv.best_params_"
   ],
   "outputs": [],
   "metadata": {}
  },
  {
   "cell_type": "code",
   "execution_count": null,
   "source": [
    "gbk = GradientBoostingClassifier()\n",
    "gbk.fit(x_train, y_train)\n",
    "\n",
    "y_pred = gbk.predict(x_val)\n",
    "acc_gbk = round(accuracy_score(y_pred, y_val) * 100, 2)\n",
    "print(acc_gbk)\n",
    "\n",
    "modelName.append(\"Gradient Boosting\")\n",
    "modelAcc.append(acc_gbk)"
   ],
   "outputs": [],
   "metadata": {}
  },
  {
   "cell_type": "code",
   "execution_count": null,
   "source": [
    "models = pd.DataFrame({\n",
    "    'Model': modelName,\n",
    "    'Score': modelAcc})\n",
    "models.sort_values(by='Score', ascending=False)"
   ],
   "outputs": [],
   "metadata": {}
  }
 ],
 "metadata": {
  "orig_nbformat": 4,
  "language_info": {
   "name": "python",
   "version": "3.8.8",
   "mimetype": "text/x-python",
   "codemirror_mode": {
    "name": "ipython",
    "version": 3
   },
   "pygments_lexer": "ipython3",
   "nbconvert_exporter": "python",
   "file_extension": ".py"
  },
  "kernelspec": {
   "name": "python3",
   "display_name": "Python 3.8.8 64-bit ('base': conda)"
  },
  "interpreter": {
   "hash": "3e3cdb513d8b009e359d4b3e7f574fce1612b688225bda942a317dab79b260d0"
  }
 },
 "nbformat": 4,
 "nbformat_minor": 2
}